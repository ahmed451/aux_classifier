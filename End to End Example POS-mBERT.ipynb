{
 "cells": [
  {
   "cell_type": "markdown",
   "metadata": {},
   "source": [
    "# Imports"
   ]
  },
  {
   "cell_type": "code",
   "execution_count": 1,
   "metadata": {},
   "outputs": [],
   "source": [
    "import numpy as np\n",
    "\n",
    "# import sys\n",
    "# sys.path.append(\"/path/to/aux_classifier\")\n",
    "import aux_classifier.extraction as extraction\n",
    "import aux_classifier.data_loader as data_loader\n",
    "import aux_classifier.utils as utils\n",
    "\n",
    "\n",
    "import matplotlib.pyplot as plt\n",
    "\n",
    "def plot_neurons_per_layer(toplayers, title, numberlayers=13, layersize = 768):\n",
    "    nlayers = np.floor_divide(toplayers,layersize)\n",
    "    (unique, counts) = np.unique(nlayers, return_counts=True)\n",
    "    layersLabels = np.arange(numberlayers)\n",
    "    layersCounts = np.zeros(numberlayers)\n",
    "    for i in range(len(unique)):\n",
    "        layersCounts[unique[i]]=counts[i]\n",
    "    plt.bar(layersLabels, layersCounts, align='center', alpha=0.5)\n",
    "    plt.xticks(layersLabels)\n",
    "    plt.ylabel('Counts')\n",
    "    plt.title(title)\n",
    "\n",
    "    plt.show()"
   ]
  },
  {
   "cell_type": "markdown",
   "metadata": {},
   "source": [
    "# Data"
   ]
  },
  {
   "cell_type": "code",
   "execution_count": null,
   "metadata": {},
   "outputs": [],
   "source": [
    "!cat examples/test.ar"
   ]
  },
  {
   "cell_type": "code",
   "execution_count": null,
   "metadata": {},
   "outputs": [],
   "source": [
    "!cat examples/test.ar.label"
   ]
  },
  {
   "cell_type": "markdown",
   "metadata": {},
   "source": [
    "# Extract Representations"
   ]
  },
  {
   "cell_type": "markdown",
   "metadata": {},
   "source": [
    "Models to upload:\n",
    "* [QARiB](https://huggingface.co/qarib/bert-base-qarib) ```'qarib/bert-base-qarib'```\n",
    "* [AraBERT](https://huggingface.co/aubmindlab/bert-base-arabert) ```'aubmindlab/bert-base-arabert'```\n",
    "* [ArabicBERT](https://huggingface.co/asafaya/bert-base-arabic) ```'asafaya/bert-base-arabic'```\n",
    "* [mBERT](https://huggingface.co/bert-base-multilingual-cased) ```'bert-base-multilingual-cased'```"
   ]
  },
  {
   "cell_type": "markdown",
   "metadata": {},
   "source": [
    "1.  QARiB"
   ]
  },
  {
   "cell_type": "code",
   "execution_count": null,
   "metadata": {},
   "outputs": [],
   "source": [
    "\n",
    "extraction.extract_representations('qarib/bert-base-qarib',\n",
    "                                   '/QCRI/Dev/ArabicNLP/NeuroX/data/POS/msa/WikiNewsTruth.txt',\n",
    "                                   '/QCRI/Dev/ArabicNLP/NeuroX/data/POS/msa/WikiNewsTruth.txt.qarib_activations.json',\n",
    "                                   aggregation=\"average\"\n",
    "                                  )"
   ]
  },
  {
   "cell_type": "markdown",
   "metadata": {},
   "source": [
    "2. AraBERT"
   ]
  },
  {
   "cell_type": "code",
   "execution_count": null,
   "metadata": {},
   "outputs": [],
   "source": [
    "extraction.extract_representations('aubmindlab/bert-base-arabert',\n",
    "                                   '/QCRI/Dev/ArabicNLP/NeuroX/data/POS/msa/WikiNewsTruth.txt',\n",
    "                                   '/QCRI/Dev/ArabicNLP/NeuroX/data/POS/msa/WikiNewsTruth.txt.arabert_activations.json',\n",
    "                                   aggregation=\"average\"\n",
    "                                  )"
   ]
  },
  {
   "cell_type": "markdown",
   "metadata": {},
   "source": [
    "3. ArabicBERT"
   ]
  },
  {
   "cell_type": "code",
   "execution_count": null,
   "metadata": {},
   "outputs": [],
   "source": [
    "\n",
    "extraction.extract_representations('asafaya/bert-base-arabic',\n",
    "                                   '/QCRI/Dev/ArabicNLP/NeuroX/data/POS/msa/WikiNewsTruth.txt',\n",
    "                                   '/QCRI/Dev/ArabicNLP/NeuroX/data/POS/msa/WikiNewsTruth.txt.arabicbert_activations.json',\n",
    "                                   aggregation=\"average\"\n",
    "                                  )"
   ]
  },
  {
   "cell_type": "markdown",
   "metadata": {},
   "source": [
    "4. mBERT"
   ]
  },
  {
   "cell_type": "code",
   "execution_count": null,
   "metadata": {},
   "outputs": [],
   "source": [
    "extraction.extract_representations('bert-base-multilingual-cased',\n",
    "                                   '/QCRI/Dev/ArabicNLP/NeuroX/data/POS/msa/WikiNewsTruth.txt',\n",
    "                                   '/QCRI/Dev/ArabicNLP/NeuroX/data/POS/msa/WikiNewsTruth.txt.mbert_activations.json',\n",
    "                                   aggregation=\"average\"\n",
    "                                  )"
   ]
  },
  {
   "cell_type": "code",
   "execution_count": null,
   "metadata": {},
   "outputs": [],
   "source": [
    "!cut -c1-100 < examples/activations.json"
   ]
  },
  {
   "cell_type": "markdown",
   "metadata": {},
   "source": [
    "# Prepare Data"
   ]
  },
  {
   "cell_type": "code",
   "execution_count": null,
   "metadata": {},
   "outputs": [],
   "source": [
    "# Loading QARiB\n",
    "activations_path='/QCRI/Dev/ArabicNLP/NeuroX/data/POS/msa/WikiNewsTruth.txt.qarib_activations.json'\n",
    "activations, num_layers = data_loader.load_activations(activations_path, 768, 512)"
   ]
  },
  {
   "cell_type": "code",
   "execution_count": null,
   "metadata": {},
   "outputs": [],
   "source": [
    "# Loading araBERT\n",
    "activations_path='/QCRI/Dev/ArabicNLP/NeuroX/data/POS/msa/WikiNewsTruth.txt.arabert_activations.json'\n",
    "activations, num_layers = data_loader.load_activations(activations_path, 768, 512)"
   ]
  },
  {
   "cell_type": "code",
   "execution_count": null,
   "metadata": {},
   "outputs": [],
   "source": [
    "# Loading arabicBERT\n",
    "activations_path='/QCRI/Dev/ArabicNLP/NeuroX/data/POS/msa/WikiNewsTruth.txt.arabicbert_activations.json'\n",
    "activations, num_layers = data_loader.load_activations(activations_path, 768, 512)"
   ]
  },
  {
   "cell_type": "code",
   "execution_count": 2,
   "metadata": {},
   "outputs": [
    {
     "name": "stdout",
     "output_type": "stream",
     "text": [
      "Loading json activations from /QCRI/Dev/ArabicNLP/NeuroX/data/POS/msa/WikiNewsTruth.txt.mbert_activations.json...\n",
      "399 13.0\n"
     ]
    }
   ],
   "source": [
    "# Loading mBERT\n",
    "activations_path='/QCRI/Dev/ArabicNLP/NeuroX/data/POS/msa/WikiNewsTruth.txt.mbert_activations.json'\n",
    "activations, num_layers = data_loader.load_activations(activations_path, 768, 512)"
   ]
  },
  {
   "cell_type": "code",
   "execution_count": null,
   "metadata": {},
   "outputs": [],
   "source": [
    "#activations"
   ]
  },
  {
   "cell_type": "code",
   "execution_count": null,
   "metadata": {},
   "outputs": [],
   "source": [
    "activations[1].shape"
   ]
  },
  {
   "cell_type": "code",
   "execution_count": 3,
   "metadata": {},
   "outputs": [
    {
     "name": "stdout",
     "output_type": "stream",
     "text": [
      "Ignored one line 338 line: ['بعد', 'شهر', 'على', 'رحيل', 'المغني', 'الأميركي', 'مايكل', 'جاكسون', 'لا', 'تزال', 'الإشاعات', 'والتكهنات', 'تتناول', 'أسباب', 'وفاته', 'ومصير', 'جثمانه', 'اللذين', 'يبقيان', 'لغزا', '،', 'بالإضافة', 'إلى', 'مستقبل', 'أملاكه', 'ومصير', 'أولاده', '،', 'فيما', 'تتزايد', 'نظريات', 'المؤامرة', '.', 'والتحقيق', 'في', 'وفاة', 'ملك', 'البوب', 'عن', 'خمسين', 'عاما', 'في', '25', 'يونيو', 'في', 'منزله', '،', 'الذي', 'كان', 'يستأجره', 'في', 'لوس', 'أنجلوس', '،', 'تقدم', 'بعض', 'الشيء', 'مع', 'ظهور', 'كلمة', '\"', 'جريمة', 'قتل', '\"', 'للمرة', 'الأولى', 'الأربعاء', '،', 'من', 'قبل', 'شخص', 'ضالع', 'مباشرة', 'في', 'القضية', '،', 'رغم', 'أن', 'العديد', 'من', 'المصادر', 'غير', 'الرسمية', 'أكدت', 'أن', 'شرطة', 'لوس', 'أنجلوس', 'قررت', 'معالجة', 'التحقيقات', 'باعتبار', 'القضية', '\"', 'إجرامية', '\"', '.', 'وزادت', 'الشبهات', 'حول', 'طبيبه', 'كونراد', 'موراي', 'الذي', 'كان', 'متواجدا', 'مع', 'مايكل', 'جاكسون', 'عند', 'وفاته', 'والذي', 'داهمت', 'الشرطة', 'أحد', 'مكاتبه', '.', 'وأكد', 'محامي', 'موراي', 'طبيب', 'القلب', '(', '51', 'عاما', ')', '،', 'الذي', 'كان', 'يتولى', 'منذ', 'مايو', 'متابعة', 'مايكل', 'جاكسون', 'صحيا', 'للتحضير', 'لعودته', 'الكبيرة', 'إلى', 'الساحة', 'الغنائية', 'في', 'لندن', 'في', 'يوليو', '،', 'أن', 'موكله', 'غير', 'مذنب', 'بأي', 'جرم', '.', 'لكن', 'المقربين', 'من', 'المغني', 'يتهمون', 'الأطباء', 'بأنهم', 'تسببوا', 'بوفاته', 'عبر', 'وصف', 'أدوية', 'له', '،', 'فيما', 'قال', 'والده', 'جو', 'إن', 'ابنه', 'كان', '\"', 'ضحية', 'جريمة', 'قتل', '\"', '.', 'وأشارت', 'عدة', 'إفادات', 'إلى', 'إدمان', '\"', 'ملك', 'البوب', '\"', 'على', 'المهدئات', 'والأدوية', 'المسكنة', '.', 'ويركز', 'المحققون', 'في', 'عملهم', 'على', 'الدور', 'الذي', 'قد', 'يكون', 'لعبه', 'مخدر', 'قوي', 'هو', 'ديبريفان', 'الذي', 'عثر', 'عليه', 'في', 'منزل', 'جاكسون', '.', 'والديبريفان', '(', 'الاسم', 'التجاري', 'للبروبفول', ')', 'مخدر', 'قوي', 'للغاية', 'مخصص', 'للاستخدام', 'الطبي', 'ويفترض', 'ألا', 'يكون', 'في', 'منزل', 'مريض', 'ما', '.', 'ولا', 'يزال', 'من', 'غير', 'المعروف', 'ما', 'إذا', 'تم', 'رصد', 'هذا', 'الدواء', 'المخدر', 'خلال', 'تشريح', 'جثة', 'مايكل', 'جاكسون', '.', 'وجثمان', 'المغني', 'الأميركي', '،', 'الذي', 'لم', 'يعرف', 'مكان', 'مثواه', 'الأخير', '،', 'لا', 'يزال', 'مصيره', 'مجهولا', '،', 'وقد', 'خضع', 'لعمليتي', 'تشريح', 'ينتظر', 'أن', 'تظهر', 'نتائجهما', 'في', 'الأيام', 'المقبلة', '.', 'وكل', 'هذه', 'العناصر', 'الغامضة', 'زادت', 'من', 'الإشاعات', '.', 'وعبرت', 'شقيقة', 'جاكسون', 'لاتويا', 'في', 'حديث', 'مع', 'صحيفة', 'بريطانية', 'عن', 'شكوكها', 'وقالت', '\"', 'أعتقد', 'أن', 'مايكل', 'تعرض', 'للقتل', '.', 'لقد', 'ساورتني', 'هذه', 'المشاعر', 'منذ', 'البداية', '\"', '.', 'وأضافت', '\"', 'عدة', 'أشخاص', 'متورطين', 'في', 'هذه', 'المؤامرة', 'وليس', 'شخصا', 'واحدا', '.', 'كان', 'محاطا', 'بأفراد', 'يضمرون', 'له', 'الشر', '.', 'كان', 'مايكل', 'شخصا', 'طيبا', 'ومحبا', 'واستغل', 'أفراد', 'هذا', 'الجانب', 'من', 'شخصيته', '\"', '.', 'وقالت', '\"', 'كانت', 'ثروة', 'مايكل', 'تزيد', 'على', 'مليار', 'دولار', '.', 'عندما', 'يساوي', 'شخص', 'هذا', 'المبلغ', 'الكبير', 'من', 'المال', 'من', 'الطبيعي', 'أن', 'يحوم', 'حوله', 'أشخاص', 'لا', 'يضمرون', 'له', 'الخير', '\"', '.', 'وينتظر', 'المعجبون', 'أيضا', 'أن', 'يعرفوا', 'مكان', 'المثوى', 'الأخير', 'لملك', 'البوب', '،', 'بعدما', 'لم', 'يتمكن', 'أحد', 'من', 'اقتفاء', 'أثر', 'النعش', 'بعد', 'انتهاء', 'حفل', 'تكريم', 'المغني', 'في', '7', 'يوليو', 'في', 'ستايبلس', 'سنتر', 'في', 'لوس', 'أنجلوس', '.', 'ويقول', 'البعض', 'إنه', 'دفن', 'في', 'مزرعته', 'نيفرلاند', 'في', 'كاليفورنيا', '.', 'وفي', 'هذا', 'الوقت', 'تتولى', 'مجموعة', 'كبرى', 'من', 'المحامين', 'محاولة', 'حل', 'المشاكل', 'القانونية', 'التي', 'ظهرت', 'بعد', 'وفاته', '.', 'فقد', 'أوكلت', 'الإدارة', 'المؤقتة', 'لممتلكاته', 'إلى', 'شخصين', 'اختارهما', 'المغني', 'الراحل', 'في', 'وصيته', '.', 'وتعقد', 'جلسة', 'في', '3', 'أغسطس', 'في', 'هذا', 'الصدد', '،', 'فيما', 'ترغب', 'والدته', 'كاثرين', 'في', 'أن', 'تكون', 'بين', 'الورثة', 'الرئيسيين', '.', 'أما', 'أولاد', 'ملك', 'البوب', '،', 'برنس', 'مايكل', '(', '12', 'عاما', ')', 'وباريس', '(', '11', 'عاما', ')', 'وبرنس', 'مايكل', '2', '(', '7', 'أعوام', ')', 'فقد', 'أوكل', 'حق', 'حضانتهم', 'إلى', 'جدتهم', 'كاثرين', 'كما', 'كان', 'يرغب', 'المغني', '.', 'لكن', 'ديبي', 'رو', '،', 'والدة', 'برنس', 'مايكل', 'وباريس', '،', 'لم', 'تقرر', 'بعد', 'ما', 'إذا', 'كانت', 'ستطلب', 'حق', 'حضانة', 'الولدين', '.', 'وسيلتقي', 'محامو', 'المرأتين', 'في', '3', 'أغسطس', 'أمام', 'القضاء', 'بعد', 'إرجاء', 'ثلاث', 'جلسات', 'سابقة', '.']  Max: 512\n",
      "Source tokens: 399\n",
      "Ignored one label 399 line: ['NOUN', 'NOUN', 'PREP', 'NOUN', 'DET+NOUN', 'DET+ADJ', 'NOUN', 'NOUN', 'PART', 'V', 'DET+NOUN+NSUFF', 'CONJ+DET+NOUN+NSUFF', 'V', 'NOUN', 'NOUN+NSUFF+PRON', 'CONJ+NOUN', 'NOUN+PRON', 'PART', 'V+PRON', 'NOUN+CASE', 'PUNC', 'PREP+DET+NOUN+NSUFF', 'PREP', 'NOUN', 'NOUN+PRON', 'CONJ+NOUN', 'NOUN+PRON', 'PUNC', 'PART/PREP+PART', 'V', 'NOUN+NSUFF', 'DET+NOUN+NSUFF', 'PUNC', 'CONJ+DET+NOUN', 'PREP', 'NOUN+NSUFF', 'NOUN', 'DET+NOUN', 'PREP', 'NUM+NSUFF', 'NOUN+CASE', 'PREP', 'NUM', 'NOUN', 'PREP', 'NOUN+PRON', 'PUNC', 'PART', 'V', 'V+PRON', 'PREP', 'NOUN', 'NOUN', 'PUNC', 'V', 'NOUN', 'DET+NOUN', 'NOUN', 'NOUN', 'NOUN+NSUFF', 'PUNC', 'NOUN+NSUFF', 'NOUN', 'PUNC', 'PREP+DET+NOUN+NSUFF', 'DET+ADJ', 'DET+NOUN', 'PUNC', 'PREP', 'NOUN', 'NOUN', 'ADJ', 'NOUN+NSUFF', 'PREP', 'DET+NOUN+NSUFF', 'PUNC', 'NOUN', 'PART', 'DET+ADJ', 'PREP', 'DET+NOUN', 'PART/NOUN', 'DET+ADJ+NSUFF', 'V+PRON', 'PART', 'NOUN+NSUFF', 'NOUN', 'NOUN', 'V+PRON', 'NOUN+NSUFF', 'DET+NOUN+NSUFF', 'PREP+NOUN', 'DET+NOUN+NSUFF', 'PUNC', 'ADJ+NSUFF', 'PUNC', 'PUNC', 'CONJ+V+PRON', 'DET+NOUN+NSUFF', 'NOUN', 'NOUN+PRON', 'NOUN', 'NOUN', 'PART', 'V', 'ADJ+CASE', 'NOUN', 'NOUN', 'NOUN', 'NOUN', 'NOUN+NSUFF+PRON', 'CONJ+PART', 'V+PRON', 'DET+NOUN+NSUFF', 'NOUN', 'NOUN+PRON', 'PUNC', 'CONJ+V', 'NOUN', 'NOUN', 'NOUN', 'DET+NOUN', 'PUNC', 'NUM', 'NOUN+CASE', 'PUNC', 'PUNC', 'PART', 'V', 'V', 'PREP', 'NOUN', 'NOUN+NSUFF', 'NOUN', 'NOUN', 'ADJ+CASE', 'PREP+DET+NOUN', 'PREP+NOUN+NSUFF+PRON', 'DET+ADJ+NSUFF', 'PREP', 'DET+NOUN+NSUFF', 'DET+ADJ+NSUFF', 'PREP', 'NOUN', 'PREP', 'NOUN', 'PUNC', 'PART', 'NOUN+PRON', 'PART/NOUN', 'ADJ', 'PREP+NOUN', 'NOUN', 'PUNC', 'PART', 'DET+NOUN+NSUFF', 'PREP', 'DET+NOUN', 'V+PRON', 'DET+NOUN', 'PREP+PART+PRON', 'V+PRON', 'PREP+NOUN+NSUFF+PRON', 'NOUN', 'NOUN', 'NOUN+NSUFF', 'PREP+PRON', 'PUNC', 'PART/PREP+PART', 'V', 'NOUN+PRON', 'NOUN', 'PART', 'NOUN+PRON', 'V', 'PUNC', 'NOUN+NSUFF', 'NOUN+NSUFF', 'NOUN', 'PUNC', 'PUNC', 'CONJ+V+PRON', 'NOUN+NSUFF/ADJ+NSUFF', 'NOUN+NSUFF', 'PREP', 'NOUN', 'PUNC', 'NOUN', 'DET+NOUN', 'PUNC', 'PREP', 'DET+NOUN+NSUFF', 'CONJ+DET+NOUN+NSUFF', 'DET+ADJ+NSUFF', 'PUNC', 'CONJ+V', 'DET+NOUN+NSUFF', 'PREP', 'NOUN+PRON', 'PREP', 'DET+NOUN', 'PART', 'PART', 'V', 'V+PRON', 'NOUN', 'ADJ', 'PRON', 'NOUN', 'PART', 'V', 'PREP+PRON', 'PREP', 'NOUN', 'NOUN', 'PUNC', 'CONJ+DET+NOUN', 'PUNC', 'DET+NOUN', 'DET+ADJ', 'PREP+DET+NOUN', 'PUNC', 'NOUN', 'ADJ', 'PREP+DET+NOUN+NSUFF', 'ADJ', 'PREP+DET+NOUN', 'DET+ADJ', 'CONJ+V', 'PART+PART/PART', 'V', 'PREP', 'NOUN', 'NOUN', 'PART', 'PUNC', 'CONJ+PART', 'V', 'PREP', 'NOUN', 'DET+ADJ', 'PART', 'PART', 'V', 'NOUN', 'PRON', 'DET+NOUN', 'DET+ADJ', 'NOUN', 'NOUN', 'NOUN+NSUFF', 'NOUN', 'NOUN', 'PUNC', 'CONJ+NOUN', 'DET+NOUN', 'DET+ADJ', 'PUNC', 'PART', 'PART', 'V', 'NOUN', 'NOUN+PRON', 'DET+ADJ', 'PUNC', 'PART', 'V', 'NOUN+PRON', 'ADJ+CASE', 'PUNC', 'CONJ+PART', 'V', 'PREP+NOUN+NSUFF+NSUFF', 'NOUN', 'V', 'PART', 'V', 'NOUN+PRON', 'PREP', 'DET+NOUN', 'DET+ADJ+NSUFF', 'PUNC', 'CONJ+NOUN', 'PRON', 'DET+NOUN', 'DET+ADJ+NSUFF', 'V+PRON', 'PREP', 'DET+NOUN+NSUFF', 'PUNC', 'CONJ+V+PRON', 'NOUN+NSUFF', 'NOUN', 'NOUN', 'PREP', 'NOUN', 'NOUN', 'NOUN+NSUFF', 'ADJ+NSUFF', 'PREP', 'NOUN+PRON', 'CONJ+V+PRON', 'PUNC', 'V', 'PART', 'NOUN', 'V', 'PREP+DET+NOUN', 'PUNC', 'PART', 'V+PRON+PRON', 'PRON', 'DET+NOUN', 'PREP', 'DET+NOUN+NSUFF', 'PUNC', 'PUNC', 'CONJ+V+PRON', 'PUNC', 'NOUN+NSUFF/ADJ+NSUFF', 'NOUN', 'ADJ+NSUFF', 'PREP', 'PRON', 'DET+NOUN+NSUFF', 'CONJ+V', 'NOUN+CASE', 'ADJ+CASE', 'PUNC', 'V', 'ADJ+CASE', 'PREP+NOUN', 'V+PRON', 'PREP+PRON', 'DET+NOUN', 'PUNC', 'V', 'NOUN', 'NOUN+CASE', 'ADJ+CASE', 'CONJ+ADJ+CASE', 'CONJ+V', 'NOUN', 'PRON', 'DET+NOUN', 'PREP', 'NOUN+NSUFF+PRON', 'PUNC', 'PUNC', 'CONJ+V+PRON', 'PUNC', 'V+PRON', 'NOUN+NSUFF', 'NOUN', 'V', 'PREP', 'NUM', 'NOUN', 'PUNC', 'PART/NOUN+PART', 'V', 'NOUN', 'PRON', 'DET+NOUN', 'DET+ADJ', 'PREP', 'DET+NOUN', 'PREP', 'DET+ADJ', 'PART', 'V', 'NOUN+PRON', 'NOUN', 'PART', 'V+PRON', 'PREP+PRON', 'DET+NOUN', 'PUNC', 'PUNC', 'CONJ+V', 'DET+ADJ+NSUFF', 'ADV+CASE', 'PART', 'V+PRON', 'NOUN', 'DET+NOUN', 'DET+ADJ', 'PREP+NOUN', 'DET+NOUN', 'PUNC', 'PART', 'PART', 'V', 'NOUN', 'PREP', 'NOUN', 'NOUN', 'DET+NOUN', 'NOUN', 'NOUN', 'NOUN', 'NOUN', 'DET+NOUN', 'PREP', 'NUM', 'NOUN', 'PREP', 'NOUN', 'NOUN', 'PREP', 'NOUN', 'NOUN', 'PUNC', 'CONJ+V', 'DET+NOUN', 'PART+PRON', 'V', 'PREP', 'NOUN+NSUFF+PRON', 'NOUN', 'PREP', 'NOUN', 'PUNC', 'CONJ+PREP', 'PRON', 'DET+NOUN', 'V', 'NOUN+NSUFF', 'ADJ', 'PREP', 'DET+NOUN+NSUFF', 'NOUN+NSUFF', 'NOUN', 'DET+NOUN', 'DET+ADJ+NSUFF', 'PART', 'V+PRON', 'NOUN', 'NOUN+NSUFF+PRON', 'PUNC', 'CONJ+PART', 'V+PRON', 'DET+NOUN+NSUFF', 'DET+ADJ+NSUFF', 'PREP+NOUN+NSUFF+PRON', 'PREP', 'NOUN+NSUFF', 'V+PRON', 'DET+NOUN', 'DET+ADJ', 'PREP', 'CONJ+NOUN+PRON', 'PUNC', 'CONJ+V', 'NOUN+NSUFF', 'PREP', 'NUM', 'NOUN', 'PREP', 'PRON', 'DET+NOUN', 'PUNC', 'PART/PREP+PART', 'V', 'NOUN+NSUFF+PRON', 'NOUN', 'PREP', 'PART', 'V', 'NOUN', 'DET+NOUN+NSUFF', 'DET+ADJ+NSUFF', 'PUNC', 'PART', 'NOUN', 'NOUN', 'DET+NOUN', 'PUNC', 'NOUN', 'NOUN', 'PUNC', 'NUM', 'NOUN+CASE', 'PUNC', 'CONJ+NOUN', 'PUNC', 'NUM', 'NOUN+CASE', 'PUNC', 'CONJ+NOUN', 'NOUN', 'NUM', 'PUNC', 'NUM', 'NOUN', 'PUNC', 'CONJ+PART', 'V', 'NOUN', 'NOUN+NSUFF+PRON', 'PREP', 'NOUN+NSUFF+PRON', 'NOUN', 'PREP+PART/CONJ', 'V', 'V', 'DET+NOUN', 'PUNC', 'PART', 'NOUN', 'NOUN', 'PUNC', 'NOUN+NSUFF', 'NOUN', 'NOUN', 'CONJ+NOUN', 'PUNC', 'PART', 'V', 'NOUN', 'PART', 'PART', 'V+PRON', 'FUT_PART+V', 'NOUN', 'NOUN+NSUFF', 'DET+NOUN+NSUFF', 'PUNC', 'CONJ+FUT_PART+V', 'NOUN+NSUFF', 'DET+NOUN+NSUFF+NSUFF', 'PREP', 'NUM', 'NOUN', 'NOUN', 'DET+NOUN', 'NOUN', 'NOUN', 'NUM', 'NOUN+NSUFF', 'ADJ+NSUFF', 'PUNC']  Max: 512\n",
      "Target tokens: 399\n"
     ]
    }
   ],
   "source": [
    "tokens = data_loader.load_data('/QCRI/Dev/ArabicNLP/NeuroX/data/POS/msa/WikiNewsTruth.txt',\n",
    "                               '/QCRI/Dev/ArabicNLP/NeuroX/data/POS/msa/WikiNewsTruth.txt.POS',\n",
    "                               activations,\n",
    "                               512\n",
    "                              )"
   ]
  },
  {
   "cell_type": "code",
   "execution_count": 4,
   "metadata": {},
   "outputs": [
    {
     "data": {
      "text/plain": [
       "[['#', 'ثقافة'],\n",
       " ['فيلم',\n",
       "  'جاذبية',\n",
       "  'يتصدر',\n",
       "  'ترشيحات',\n",
       "  'جوائز',\n",
       "  'الأكاديمية',\n",
       "  'البريطانية',\n",
       "  'لفنون',\n",
       "  'الفيلم',\n",
       "  'والتلفزيون']]"
      ]
     },
     "execution_count": 4,
     "metadata": {},
     "output_type": "execute_result"
    }
   ],
   "source": [
    "tokens['source'][:2]"
   ]
  },
  {
   "cell_type": "code",
   "execution_count": 5,
   "metadata": {},
   "outputs": [
    {
     "name": "stdout",
     "output_type": "stream",
     "text": [
      "Number of tokens:  17758\n",
      "length of source dictionary:  6655\n",
      "length of target dictionary:  110\n",
      "17758\n",
      "Total instances: 17758\n",
      "['وأغسطس', 'بحضور', 'الإلكترونية', 'للعمل', 'كمثل', 'رأيها', 'man', 'والمشاكل', 'وعمله', 'وحذرت', 'نعرف', 'جديد', 'مقتل', 'والبريد', 'أمير', 'أسماء', 'وتحليلها', 'التمهيدية', 'يترنح', 'يعادل']\n"
     ]
    }
   ],
   "source": [
    "X, y, mapping = utils.create_tensors(tokens, activations, 'LABEL1')\n",
    "label2idx, idx2label, src2idx, idx2src = mapping"
   ]
  },
  {
   "cell_type": "markdown",
   "metadata": {},
   "source": [
    "# Train Probing Classifier"
   ]
  },
  {
   "cell_type": "code",
   "execution_count": 6,
   "metadata": {},
   "outputs": [
    {
     "name": "stdout",
     "output_type": "stream",
     "text": [
      "Training classification model\n",
      "Creating model...\n",
      "Number of training instances: 17758\n",
      "Number of classes: 110\n"
     ]
    },
    {
     "data": {
      "application/vnd.jupyter.widget-view+json": {
       "model_id": "2847aec0866d4cbbbaf75fed19954cce",
       "version_major": 2,
       "version_minor": 0
      },
      "text/plain": [
       "HBox(children=(HTML(value='epoch [1/10]'), FloatProgress(value=1.0, bar_style='info', layout=Layout(width='20p…"
      ]
     },
     "metadata": {},
     "output_type": "display_data"
    },
    {
     "name": "stdout",
     "output_type": "stream",
     "text": [
      "\n",
      "Epoch: [1/10], Loss: 0.1012\n"
     ]
    },
    {
     "data": {
      "application/vnd.jupyter.widget-view+json": {
       "model_id": "7e5b25623cb640a5bbed67273e3184bb",
       "version_major": 2,
       "version_minor": 0
      },
      "text/plain": [
       "HBox(children=(HTML(value='epoch [2/10]'), FloatProgress(value=1.0, bar_style='info', layout=Layout(width='20p…"
      ]
     },
     "metadata": {},
     "output_type": "display_data"
    },
    {
     "name": "stdout",
     "output_type": "stream",
     "text": [
      "\n",
      "Epoch: [2/10], Loss: 0.0922\n"
     ]
    },
    {
     "data": {
      "application/vnd.jupyter.widget-view+json": {
       "model_id": "884c9e5b416944bfa2f3d06d857bfb32",
       "version_major": 2,
       "version_minor": 0
      },
      "text/plain": [
       "HBox(children=(HTML(value='epoch [3/10]'), FloatProgress(value=1.0, bar_style='info', layout=Layout(width='20p…"
      ]
     },
     "metadata": {},
     "output_type": "display_data"
    },
    {
     "name": "stdout",
     "output_type": "stream",
     "text": [
      "\n",
      "Epoch: [3/10], Loss: 0.0905\n"
     ]
    },
    {
     "data": {
      "application/vnd.jupyter.widget-view+json": {
       "model_id": "52c7122fc7ce41d3b132702799229b8b",
       "version_major": 2,
       "version_minor": 0
      },
      "text/plain": [
       "HBox(children=(HTML(value='epoch [4/10]'), FloatProgress(value=1.0, bar_style='info', layout=Layout(width='20p…"
      ]
     },
     "metadata": {},
     "output_type": "display_data"
    },
    {
     "name": "stdout",
     "output_type": "stream",
     "text": [
      "\n",
      "Epoch: [4/10], Loss: 0.0902\n"
     ]
    },
    {
     "data": {
      "application/vnd.jupyter.widget-view+json": {
       "model_id": "50fbd27876ef40cf83b91bbdf697fefb",
       "version_major": 2,
       "version_minor": 0
      },
      "text/plain": [
       "HBox(children=(HTML(value='epoch [5/10]'), FloatProgress(value=1.0, bar_style='info', layout=Layout(width='20p…"
      ]
     },
     "metadata": {},
     "output_type": "display_data"
    },
    {
     "name": "stdout",
     "output_type": "stream",
     "text": [
      "\n",
      "Epoch: [5/10], Loss: 0.0901\n"
     ]
    },
    {
     "data": {
      "application/vnd.jupyter.widget-view+json": {
       "model_id": "6bac702bbc394d509789b1a2155a261c",
       "version_major": 2,
       "version_minor": 0
      },
      "text/plain": [
       "HBox(children=(HTML(value='epoch [6/10]'), FloatProgress(value=1.0, bar_style='info', layout=Layout(width='20p…"
      ]
     },
     "metadata": {},
     "output_type": "display_data"
    },
    {
     "name": "stdout",
     "output_type": "stream",
     "text": [
      "\n",
      "Epoch: [6/10], Loss: 0.0900\n"
     ]
    },
    {
     "data": {
      "application/vnd.jupyter.widget-view+json": {
       "model_id": "29a672141f4f4fbc88a540161760546a",
       "version_major": 2,
       "version_minor": 0
      },
      "text/plain": [
       "HBox(children=(HTML(value='epoch [7/10]'), FloatProgress(value=1.0, bar_style='info', layout=Layout(width='20p…"
      ]
     },
     "metadata": {},
     "output_type": "display_data"
    },
    {
     "name": "stdout",
     "output_type": "stream",
     "text": [
      "\n",
      "Epoch: [7/10], Loss: 0.0899\n"
     ]
    },
    {
     "data": {
      "application/vnd.jupyter.widget-view+json": {
       "model_id": "376197f8cd85424fb6f13b84c7945ec8",
       "version_major": 2,
       "version_minor": 0
      },
      "text/plain": [
       "HBox(children=(HTML(value='epoch [8/10]'), FloatProgress(value=1.0, bar_style='info', layout=Layout(width='20p…"
      ]
     },
     "metadata": {},
     "output_type": "display_data"
    },
    {
     "name": "stdout",
     "output_type": "stream",
     "text": [
      "\n",
      "Epoch: [8/10], Loss: 0.0897\n"
     ]
    },
    {
     "data": {
      "application/vnd.jupyter.widget-view+json": {
       "model_id": "d60c2c38df9a48628e5bf6c780c73242",
       "version_major": 2,
       "version_minor": 0
      },
      "text/plain": [
       "HBox(children=(HTML(value='epoch [9/10]'), FloatProgress(value=1.0, bar_style='info', layout=Layout(width='20p…"
      ]
     },
     "metadata": {},
     "output_type": "display_data"
    },
    {
     "name": "stdout",
     "output_type": "stream",
     "text": [
      "\n",
      "Epoch: [9/10], Loss: 0.0896\n"
     ]
    },
    {
     "data": {
      "application/vnd.jupyter.widget-view+json": {
       "model_id": "4067b2dc157a4f638675fb3fe256e903",
       "version_major": 2,
       "version_minor": 0
      },
      "text/plain": [
       "HBox(children=(HTML(value='epoch [10/10]'), FloatProgress(value=1.0, bar_style='info', layout=Layout(width='20…"
      ]
     },
     "metadata": {},
     "output_type": "display_data"
    },
    {
     "name": "stdout",
     "output_type": "stream",
     "text": [
      "\n",
      "Epoch: [10/10], Loss: 0.0894\n"
     ]
    }
   ],
   "source": [
    "model = utils.train_logreg_model(X, y, lambda_l1=0.001, lambda_l2=0.001)"
   ]
  },
  {
   "cell_type": "markdown",
   "metadata": {},
   "source": [
    "# Evaluate Model"
   ]
  },
  {
   "cell_type": "code",
   "execution_count": 7,
   "metadata": {},
   "outputs": [
    {
     "data": {
      "application/vnd.jupyter.widget-view+json": {
       "model_id": "5bdd65ccf87d4b70a5ce3bfde9489089",
       "version_major": 2,
       "version_minor": 0
      },
      "text/plain": [
       "HBox(children=(HTML(value='Evaluating'), FloatProgress(value=1.0, bar_style='info', layout=Layout(width='20px'…"
      ]
     },
     "metadata": {},
     "output_type": "display_data"
    },
    {
     "name": "stdout",
     "output_type": "stream",
     "text": [
      "\n",
      "Score (accuracy) of the model: 0.76\n"
     ]
    },
    {
     "data": {
      "text/plain": [
       "{'__OVERALL__': 0.764387881518189,\n",
       " 'DET+NOUN+NSUFF+NSUFF': 0.0,\n",
       " 'PREP+PART': 0.02631578947368421,\n",
       " 'DET+ADJ+NSUFF+NSUFF': 0.0,\n",
       " 'PART': 0.8085106382978723,\n",
       " 'ADJ+NSUFF/NOUN+NSUFF': 0.0,\n",
       " 'PREP+ADJ': 0.0,\n",
       " 'DET': 0.25,\n",
       " 'V': 0.9698660714285714,\n",
       " 'CONJ+DET+NOUN+NSUFF': 0.0136986301369863,\n",
       " 'CONJ+DET+NOUN': 0.6454545454545455,\n",
       " 'FUT_PART+V+PRON': 0.0,\n",
       " 'CONJ+CONJ': 0.0,\n",
       " 'V+PRON': 0.41456582633053224,\n",
       " 'CONJ+FUT_PART+V': 0.0,\n",
       " 'NOUN+NSUFF+NSUFF': 0.0,\n",
       " 'CONJ+ADJ/CONJ+NOUN': 0.0,\n",
       " 'DET+ADJ+NSUFF': 0.9454225352112676,\n",
       " 'PREP+DET+NOUN': 0.46634615384615385,\n",
       " 'PREP+DET+ADJ+NSUFF': 0.0,\n",
       " 'ADJ+NSUFF+NSUFF': 0.0,\n",
       " 'CONJ+PART': 0.10526315789473684,\n",
       " 'NUM+CASE': 0.0,\n",
       " 'ADJ': 0.7534626038781164,\n",
       " 'CONJ+NUM+NSUFF': 0.2,\n",
       " 'CONJ+DET+NUM+NSUFF': 0.0,\n",
       " 'NOUN+NSUFF+PRON': 0.22549019607843138,\n",
       " 'PRON': 0.7961783439490446,\n",
       " 'ABBREV': 0.11764705882352941,\n",
       " 'ADV': 0.0,\n",
       " 'PREP+PART+PRON': 0.0,\n",
       " 'NOUN+CASE': 0.24022346368715083,\n",
       " 'PART/PREP+PART': 0.8,\n",
       " 'DET+NOUN': 0.8930513595166163,\n",
       " 'NUM+NSUFF': 0.09302325581395349,\n",
       " 'CONJ+ADV': 0.0,\n",
       " 'CONJ+NOUN': 0.5555555555555556,\n",
       " 'FUT_PART': 0.0,\n",
       " 'DET+NOUN/DET+ADJ': 0.0,\n",
       " 'CONJ': 0.08974358974358974,\n",
       " 'ADJ+CASE': 0.7288135593220338,\n",
       " 'PREP+PRON': 0.802547770700637,\n",
       " 'PREP+DET+ADJ': 0.25,\n",
       " 'DET+NOUN+NSUFF/DET+NUM+NSUFF': 0.0,\n",
       " 'DET+ADJ/DET+NUM': 0.0,\n",
       " 'CONJ+PRON': 0.07142857142857142,\n",
       " 'ADJ/NUM': 0.0,\n",
       " 'PREP': 0.9176100628930818,\n",
       " 'CONJ+PREP+NOUN+NSUFF+PRON': 0.0,\n",
       " 'PART+PRON': 0.35384615384615387,\n",
       " 'NOUN+PRON': 0.5020080321285141,\n",
       " 'CONJ+NUM': 0.0,\n",
       " 'PART/NOUN': 1.0,\n",
       " 'DET+ADJ/DET+NOUN': 0.0,\n",
       " 'PREP+NOUN+PRON': 0.0,\n",
       " 'CONJ+ADJ+NSUFF': 0.3333333333333333,\n",
       " 'DET+ADJ': 0.7810945273631841,\n",
       " 'ADV+CASE': 0.0,\n",
       " 'PREP+PART/CONJ': 1.0,\n",
       " 'DET+NOUN+NSUFF': 0.6143386897404203,\n",
       " 'CONJ+ADJ+PRON': 0.0,\n",
       " 'PART+PART/PART': 0.0,\n",
       " 'NOUN+NSUFF': 0.614572333685322,\n",
       " 'NOUN+NSUFF/ADJ+NSUFF': 0.6428571428571429,\n",
       " 'PREP+NOUN+NSUFF+NSUFF': 0.0,\n",
       " 'CONJ+NOUN+CASE': 0.0,\n",
       " 'NOUN': 0.9420731707317073,\n",
       " 'ADJ+PRON': 0.0,\n",
       " 'CONJ+V+PRON': 0.9727272727272728,\n",
       " 'PREP+NUM': 0.0,\n",
       " 'CONJ+NOUN+PRON': 0.0,\n",
       " 'PREP+NOUN+NSUFF+PRON': 0.0,\n",
       " 'CONJ+PREP+DET+NOUN': 0.0,\n",
       " 'CONJ+PREP+NOUN': 0.0,\n",
       " 'DET+ADJ+NSUFF/DET+NUM+NSUFF': 0.0,\n",
       " 'CONJ+ADJ': 0.0,\n",
       " 'FUT_PART+V': 0.05263157894736842,\n",
       " 'CONJ+V': 0.5061728395061729,\n",
       " 'ADJ+NSUFF': 0.7889273356401384,\n",
       " 'CONJ+ADV+CASE': 0.0,\n",
       " 'CONJ+DET+ADJ+NSUFF': 0.0,\n",
       " 'NUM': 0.8735632183908046,\n",
       " 'CONJ+PREP': 0.25,\n",
       " 'PREP+ADJ+NSUFF': 0.0,\n",
       " 'PREP+DET+NOUN+NSUFF+NSUFF': 0.0,\n",
       " 'FOREIGN': 0.15555555555555556,\n",
       " 'CONJ+PREP+NOUN+NSUFF': 0.0,\n",
       " 'CONJ+NUM+NSUFF+NSUFF': 0.0,\n",
       " 'PREP+NOUN': 0.05198776758409786,\n",
       " 'DET+NUM+NSUFF': 0.0,\n",
       " 'CONJ+ADJ+CASE': 0.0,\n",
       " 'CONJ+DET+ADJ': 0.0,\n",
       " 'CONJ+NOUN+NSUFF': 0.06818181818181818,\n",
       " 'V+PRON+PRON': 0.041666666666666664,\n",
       " 'PREP+V': 0.08695652173913043,\n",
       " 'CONJ+FUT_PART+V+PRON': 0.0,\n",
       " 'PREP+NOUN+NSUFF': 0.8571428571428571,\n",
       " 'CONJ+PREP+PRON': 0.0,\n",
       " 'PREP+ADJ+PRON': 0.0,\n",
       " 'CONJ+NOUN+NSUFF+PRON': 0.0,\n",
       " 'CONJ+PART+PRON': 0.1,\n",
       " 'PART/NOUN+PART': 0.6666666666666666,\n",
       " 'DET+NUM': 0.0,\n",
       " 'PREP+DET': 0.0,\n",
       " 'PREP+DET+NOUN+NSUFF': 0.29545454545454547,\n",
       " 'CONJ+PREP+DET+NOUN+NSUFF': 0.0,\n",
       " 'CONJ+PART/CONJ+PREP+PART': 1.0,\n",
       " 'CONJ+FUT_PART': 0.0,\n",
       " 'PREP+NUM+NSUFF': 0.0,\n",
       " 'PREP+V+PRON': 0.0,\n",
       " 'PUNC': 0.9686018957345972}"
      ]
     },
     "execution_count": 7,
     "metadata": {},
     "output_type": "execute_result"
    }
   ],
   "source": [
    "utils.evaluate_model(model, X, y, idx_to_class=idx2label)"
   ]
  },
  {
   "cell_type": "markdown",
   "metadata": {},
   "source": [
    "# Layerwise probing"
   ]
  },
  {
   "cell_type": "code",
   "execution_count": null,
   "metadata": {},
   "outputs": [],
   "source": [
    "layer_1_X = utils.filter_activations_keep_neurons(np.arange(768, 768*2), X)"
   ]
  },
  {
   "cell_type": "code",
   "execution_count": null,
   "metadata": {},
   "outputs": [],
   "source": [
    "layer_1_X.shape"
   ]
  },
  {
   "cell_type": "code",
   "execution_count": null,
   "metadata": {},
   "outputs": [],
   "source": [
    "model_layer_1 = utils.train_logreg_model(layer_1_X, y, lambda_l1=0.001, lambda_l2=0.001)"
   ]
  },
  {
   "cell_type": "code",
   "execution_count": null,
   "metadata": {},
   "outputs": [],
   "source": [
    "utils.evaluate_model(model_layer_1, layer_1_X, y, idx_to_class=idx2label)"
   ]
  },
  {
   "cell_type": "markdown",
   "metadata": {},
   "source": [
    "# Get Neuron Ranking"
   ]
  },
  {
   "cell_type": "code",
   "execution_count": 8,
   "metadata": {},
   "outputs": [
    {
     "data": {
      "application/vnd.jupyter.widget-view+json": {
       "model_id": "40c914e668b64bd785f186d1292b36a9",
       "version_major": 2,
       "version_minor": 0
      },
      "text/plain": [
       "HBox(children=(HTML(value=''), FloatProgress(value=0.0, max=101.0), HTML(value='')))"
      ]
     },
     "metadata": {},
     "output_type": "display_data"
    },
    {
     "name": "stdout",
     "output_type": "stream",
     "text": [
      "\n"
     ]
    }
   ],
   "source": [
    "ordering, cutoffs = utils.get_neuron_ordering(model, label2idx)"
   ]
  },
  {
   "cell_type": "code",
   "execution_count": 9,
   "metadata": {},
   "outputs": [
    {
     "data": {
      "text/plain": [
       "[62, 464, 1025, 1734, 2511, 3325, 4151, 4921, 5665, 6364]"
      ]
     },
     "execution_count": 9,
     "metadata": {},
     "output_type": "execute_result"
    }
   ],
   "source": [
    "cutoffs[:10]"
   ]
  },
  {
   "cell_type": "code",
   "execution_count": 10,
   "metadata": {},
   "outputs": [
    {
     "data": {
      "text/plain": [
       "9984"
      ]
     },
     "execution_count": 10,
     "metadata": {},
     "output_type": "execute_result"
    }
   ],
   "source": [
    "len(ordering)"
   ]
  },
  {
   "cell_type": "code",
   "execution_count": null,
   "metadata": {},
   "outputs": [],
   "source": [
    "plot_neurons_per_layer(ordering[:cutoffs[5]],title='Labels per layer in QARiB POS')"
   ]
  },
  {
   "cell_type": "code",
   "execution_count": null,
   "metadata": {},
   "outputs": [],
   "source": [
    "plot_neurons_per_layer(ordering[:cutoffs[5]],title='Labels per layer in araBERT POS')"
   ]
  },
  {
   "cell_type": "code",
   "execution_count": null,
   "metadata": {},
   "outputs": [],
   "source": [
    "plot_neurons_per_layer(ordering[:cutoffs[5]],title='Labels per layer in ArabicBERT POS')"
   ]
  },
  {
   "cell_type": "code",
   "execution_count": 11,
   "metadata": {},
   "outputs": [
    {
     "data": {
      "image/png": "[encoded data removed]",
      "text/plain": [
       "<Figure size 432x288 with 1 Axes>"
      ]
     },
     "metadata": {
      "needs_background": "light"
     },
     "output_type": "display_data"
    }
   ],
   "source": [
    "plot_neurons_per_layer(ordering[:cutoffs[5]],title='Labels per layer in mBERT POS')"
   ]
  },
  {
   "cell_type": "markdown",
   "metadata": {},
   "source": [
    "# Train on top N neurons"
   ]
  },
  {
   "cell_type": "code",
   "execution_count": null,
   "metadata": {},
   "outputs": [],
   "source": [
    "X_selected = utils.filter_activations_keep_neurons(ordering[:1000], X)"
   ]
  },
  {
   "cell_type": "code",
   "execution_count": null,
   "metadata": {},
   "outputs": [],
   "source": [
    "X_selected.shape"
   ]
  },
  {
   "cell_type": "code",
   "execution_count": null,
   "metadata": {},
   "outputs": [],
   "source": [
    "model_selected = utils.train_logreg_model(X_selected, y, lambda_l1=0.001, lambda_l2=0.001)"
   ]
  },
  {
   "cell_type": "code",
   "execution_count": null,
   "metadata": {},
   "outputs": [],
   "source": [
    "utils.evaluate_model(model_selected, X_selected, y, idx_to_class=idx2label)"
   ]
  },
  {
   "cell_type": "markdown",
   "metadata": {},
   "source": [
    "# Further analysis"
   ]
  },
  {
   "cell_type": "code",
   "execution_count": 12,
   "metadata": {},
   "outputs": [],
   "source": [
    "top_neurons = utils.get_top_neurons(model, 0.01, label2idx)"
   ]
  },
  {
   "cell_type": "code",
   "execution_count": 13,
   "metadata": {},
   "outputs": [
    {
     "data": {
      "text/plain": [
       "(array([6155, 4111, 2073, 8218, 6174, 6179, 8231, 6183, 2089, 8241, 6210,\n",
       "        6212, 6218, 2130, 6227, 8278, 8281,   93, 6238, 6243, 2156, 8311,\n",
       "        6265,  123, 8324, 8325, 8327, 4234, 6283, 2191, 6292, 8342, 8344,\n",
       "         156,  157, 8353, 8360, 8361, 6318, 6331,  187, 6335, 8384, 4289,\n",
       "         197, 6345, 6350, 8406, 8414, 6367, 6372,  229, 2276, 6374, 6381,\n",
       "        2288, 6385, 6397, 6400, 8453, 8457, 8459,  268, 4370,  274, 8481,\n",
       "        8483, 6439,  298,  301, 6446, 2351, 8497, 6455, 8505,  315, 6464,\n",
       "        8514, 2377, 6475,  332, 8529,  338, 6486, 4438, 2390, 6498, 8553,\n",
       "        6508, 6516, 4476, 2432, 6530, 8578, 4486, 2441, 8585, 2443,  399,\n",
       "        6556, 4522,  426,  429,  430,  441, 8634, 2491, 8633,  448, 8646,\n",
       "        8654, 6613, 8664,  473, 6619,  480, 8675, 2533, 6631, 6635, 6642,\n",
       "         510, 6655,  519, 2575, 2577, 2594, 4647, 8744, 8750, 8759, 8760,\n",
       "        2617, 8772, 6728, 8779, 8786,  596, 6742, 8793, 8794,  605, 4707,\n",
       "        8805, 8807,  618, 4715, 6763, 8812, 4726, 2678,  633, 6780,  636,\n",
       "        2690,  642, 4743, 6795, 4763, 6815, 6816, 6817, 8866, 6821, 8871,\n",
       "        6824,  680, 6828, 8877,  689, 8891, 2752, 4803,  707,  709, 6852,\n",
       "        8913, 8917, 6871, 6872, 2781, 6885, 8935, 8937, 4844,  756, 8955,\n",
       "        6907, 4861, 8969, 6923, 8972, 2830, 8981, 6942,  800,  802, 8999,\n",
       "        9009,  825, 9023, 9024, 4932, 4935, 6986, 9035, 9049, 7006,  870,\n",
       "        2920, 7017, 9065, 2924,  876, 9079, 2940, 9095, 9101, 9104, 7060,\n",
       "         917,  924, 9120, 9122, 9124, 2980,  933, 2984, 5033, 9128, 9129,\n",
       "        7080, 9138, 7094, 7098,  957, 7103, 9164, 9166, 7127, 7128,  990,\n",
       "        7139, 9188, 1004, 1005, 5100, 5106, 7165, 7170, 3077, 1030, 9225,\n",
       "        1036, 1038, 1042, 7187, 3096, 1052, 1057, 3111, 7208, 5163, 7214,\n",
       "        3119, 1078, 7223, 1088, 9282, 1094, 1098, 7243, 5199, 7254, 1110,\n",
       "        5206, 7269, 1135, 1136, 3198, 3200, 7298, 3202, 3211, 3216, 3217,\n",
       "        7324, 7325, 7335, 9383, 1198, 3249, 7345, 3251, 5299, 1209, 9401,\n",
       "        3259, 3264, 1216, 7362, 3265, 1222, 5318, 1230, 5331, 1237, 1250,\n",
       "        7396, 1253, 7401, 5367, 5371, 1278, 7423, 3331, 5383, 5384, 1293,\n",
       "        3342, 3362, 7463, 5415, 1323, 9518, 7473, 5426, 5439, 5442, 9540,\n",
       "        1352, 5450, 9547, 1361, 5475, 7526, 5482, 1387, 1386, 5486, 7534,\n",
       "        3446, 7548, 3452, 5504, 3460, 7576, 5531, 5534, 7583, 7585, 7589,\n",
       "        3498, 5550, 3509, 1465, 5563, 5568, 7616, 3520, 3521, 7620, 5571,\n",
       "        5577, 5599, 9695, 5616, 3569, 1520, 5617, 7668, 1529, 5629, 5631,\n",
       "        7689, 7691, 7692, 5646, 3600, 3602, 1559, 7704, 7708, 9758, 7718,\n",
       "        1583, 7729, 3634, 1586, 7736, 5696, 7746, 5699, 7750, 7754, 7761,\n",
       "        5721, 1638, 7785, 1644, 3700, 7798, 5753, 1664, 9857, 5762, 7830,\n",
       "        1692, 3750, 5799, 9896, 7847, 7861, 7865, 7866, 7869, 5839, 3797,\n",
       "        9950, 7907, 5870, 5874, 7930, 5890, 3845, 1798, 7944, 1810, 5911,\n",
       "        3879, 7976, 7982, 5937, 7991, 5948, 8004, 5967, 5974, 3931, 1892,\n",
       "        1899, 5998, 3968, 1922, 3979, 8076, 6033, 6053, 8103, 6064, 8122,\n",
       "        8127, 1984, 8130, 4035, 6086, 6095, 6099, 8149, 8167, 8168, 8169,\n",
       "        2046, 8191]),\n",
       " {'DET+NOUN+NSUFF+NSUFF': array([8675]),\n",
       "  'PREP+PART': array([957]),\n",
       "  'DET+ADJ+NSUFF+NSUFF': array([8675]),\n",
       "  'PART': array([3216, 2781]),\n",
       "  'ADJ+NSUFF/NOUN+NSUFF': array([8675]),\n",
       "  'PREP+ADJ': array([7548, 6780, 7139, 2191, 7907,  825, 7692, 1135]),\n",
       "  'DET': array([8459, 9104, 7691, 5486, 7668, 8937, 7401, 8169, 6155, 8744, 7976,\n",
       "         5839, 2617, 5534, 7944, 8344, 7798, 6923, 7127]),\n",
       "  'V': array([2830, 3750, 4234]),\n",
       "  'CONJ+DET+NOUN+NSUFF': array([6318, 5550]),\n",
       "  'CONJ+DET+NOUN': array([3498, 1892]),\n",
       "  'FUT_PART+V+PRON': array([8675]),\n",
       "  'CONJ+CONJ': array([8675]),\n",
       "  'V+PRON': array([3198, 3460, 6372]),\n",
       "  'CONJ+FUT_PART+V': array([8675, 8167, 7930, 8891, 2089, 8866, 6265, 8324, 5439, 1465, 7785,\n",
       "         8793, 6556, 5721, 7576, 8231, 7060, 9023, 8553, 7017, 6292, 7324,\n",
       "         6631, 1004, 7463, 9138, 8935, 7754, 6986]),\n",
       "  'NOUN+NSUFF+NSUFF': array([8675, 7335, 5799]),\n",
       "  'CONJ+ADJ/CONJ+NOUN': array([8675]),\n",
       "  'DET+ADJ+NSUFF': array([5163,  519, 3217]),\n",
       "  'PREP+DET+NOUN': array([8807, 5616]),\n",
       "  'PREP+DET+ADJ+NSUFF': array([8675]),\n",
       "  'ADJ+NSUFF+NSUFF': array([8675]),\n",
       "  'CONJ+PART': array([3096, 1323]),\n",
       "  'NUM+CASE': array([8675]),\n",
       "  'ADJ': array([8481,  123,  990]),\n",
       "  'CONJ+NUM+NSUFF': array([8675, 4803, 4035]),\n",
       "  'CONJ+DET+NUM+NSUFF': array([8675]),\n",
       "  'NOUN+NSUFF+PRON': array([4486]),\n",
       "  'PRON': array([2984, 2533]),\n",
       "  'ABBREV': array([6530, 7298, 1293, 2432, 3200, 7208, 7976, 5762, 3979, 6655, 4370,\n",
       "         3602, 6439, 3211, 7423, 2443, 3634, 8786, 1664, 3968, 6350, 1098,\n",
       "         5504, 8191, 5577]),\n",
       "  'ADV': array([6033, 5033, 7534, 1005]),\n",
       "  'PREP+PART+PRON': array([8675]),\n",
       "  'NOUN+CASE': array([1559, 4476, 6283]),\n",
       "  'PART/PREP+PART': array([5599, 9124, 3264, 5371, 7585, 6817, 8353, 5199, 6516, 6816,  157,\n",
       "         8955, 9049,  802, 9079, 5870, 7396, 5442, 7170, 5531, 6824, 6635,\n",
       "         5568, 5967, 4763, 9128, 5106, 7704, 9758, 8311, 9896, 6907, 5616,\n",
       "         7847, 8877, 6367, 5874, 6642]),\n",
       "  'DET+NOUN': array([ 441, 1209, 2577, 3700]),\n",
       "  'NUM+NSUFF': array([1094, 3249, 2980, 1216]),\n",
       "  'CONJ+ADV': array([8675]),\n",
       "  'CONJ+NOUN': array([8981, 8218]),\n",
       "  'FUT_PART': array([4803]),\n",
       "  'DET+NOUN/DET+ADJ': array([8675]),\n",
       "  'CONJ': array([ 229, 1222]),\n",
       "  'ADJ+CASE': array([ 596, 3797]),\n",
       "  'PREP+PRON': array([1052]),\n",
       "  'PREP+DET+ADJ': array([1088, 2690, 7616, 5415, 3879, 2924, 6381,  430, 1198, 8514, 4647,\n",
       "         1922, 8646, 6486, 6183, 8483, 8384, 7103, 5699, 3111, 7254, 7746,\n",
       "         7094, 8122, 2156, 1110,   93, 7750,  642, 5482, 6335, 9282, 8361,\n",
       "         6210, 9129]),\n",
       "  'DET+NOUN+NSUFF/DET+NUM+NSUFF': array([7080, 6174, 8917, 5318, 6086, 8149, 6613, 8772, 6942, 6885, 9164]),\n",
       "  'DET+ADJ/DET+NUM': array([8675]),\n",
       "  'CONJ+PRON': array([338, 917]),\n",
       "  'ADJ/NUM': array([7907]),\n",
       "  'PREP': array([298, 332]),\n",
       "  'CONJ+PREP+NOUN+NSUFF+PRON': array([8675]),\n",
       "  'PART+PRON': array([8578]),\n",
       "  'NOUN+PRON': array([8342, 8231, 8999]),\n",
       "  'CONJ+NUM': array([8675]),\n",
       "  'PART/NOUN': array([2276, 1042, 3119, 2351,  274, 7861, 1110, 1638, 5100, 1586,  870,\n",
       "         1810, 2920, 3452, 1583,  800]),\n",
       "  'DET+ADJ/DET+NOUN': array([8675, 7907]),\n",
       "  'PREP+NOUN+PRON': array([4803]),\n",
       "  'CONJ+ADJ+NSUFF': array([8675, 8241, 7473, 9065, 9009, 5839, 8281, 6345,  399, 5937, 6179,\n",
       "         9188, 4935, 8414]),\n",
       "  'DET+ADJ': array([ 756, 6227, 6095]),\n",
       "  'ADV+CASE': array([3077, 3845]),\n",
       "  'PREP+PART/CONJ': array([1230, 1078]),\n",
       "  'DET+NOUN+NSUFF': array([6828, 7736, 9101]),\n",
       "  'CONJ+ADJ+PRON': array([8675]),\n",
       "  'PART+PART/PART': array([8675]),\n",
       "  'NOUN+NSUFF': array([3569, 3931, 3331, 2130]),\n",
       "  'NOUN+NSUFF/ADJ+NSUFF': array([1692,  924, 1984, 1216,  156, 3259, 3520, 2752,  448, 1520, 2491,\n",
       "         2288]),\n",
       "  'PREP+NOUN+NSUFF+NSUFF': array([8675]),\n",
       "  'CONJ+NOUN+CASE': array([8675]),\n",
       "  'NOUN': array([2377, 5631, 5890, 3509, 8127]),\n",
       "  'ADJ+PRON': array([8675]),\n",
       "  'CONJ+V+PRON': array([9122, 8505]),\n",
       "  'PREP+NUM': array([8675, 7243, 7907, 9120, 6475, 8779, 8130, 6795, 7362]),\n",
       "  'CONJ+NOUN+PRON': array([8675, 8871]),\n",
       "  'PREP+NOUN+NSUFF+PRON': array([8675]),\n",
       "  'CONJ+PREP+DET+NOUN': array([8675]),\n",
       "  'CONJ+PREP+NOUN': array([8675, 7907, 7139]),\n",
       "  'DET+ADJ+NSUFF/DET+NUM+NSUFF': array([8675]),\n",
       "  'CONJ+ADJ': array([1798, 1030, 5937, 4844, 5911, 6374,  636, 4743, 4726, 2441, 7473]),\n",
       "  'FUT_PART+V': array([5367, 6212]),\n",
       "  'CONJ+V': array([6498, 9024]),\n",
       "  'ADJ+NSUFF': array([6099, 5331]),\n",
       "  'CONJ+ADV+CASE': array([8675]),\n",
       "  'CONJ+DET+ADJ+NSUFF': array([5753, 7761, 5998, 7187, 8529, 7691, 7128, 8076, 7526, 8969, 6923,\n",
       "         6872, 8664, 4715, 7534, 7325]),\n",
       "  'NUM': array([ 301, 4522,  197]),\n",
       "  'CONJ+PREP': array([3251]),\n",
       "  'PREP+ADJ+NSUFF': array([8675]),\n",
       "  'PREP+DET+NOUN+NSUFF+NSUFF': array([8675, 7718]),\n",
       "  'FOREIGN': array([429]),\n",
       "  'CONJ+PREP+NOUN+NSUFF': array([5617, 1278, 6385, 2046, 8327, 7708]),\n",
       "  'CONJ+NUM+NSUFF+NSUFF': array([7907]),\n",
       "  'PREP+NOUN': array([ 689,  933, 5367]),\n",
       "  'DET+NUM+NSUFF': array([7907, 4803, 8325, 8760, 9547, 8675, 5299, 7830, 7139,  473, 6763]),\n",
       "  'CONJ+ADJ+CASE': array([8675]),\n",
       "  'CONJ+DET+ADJ': array([2046, 1278, 5563,  510, 8360, 6331, 1253]),\n",
       "  'CONJ+NOUN+NSUFF': array([8103, 6218, 5450, 7754, 6986, 5799]),\n",
       "  'V+PRON+PRON': array([8675, 5426, 2073,  480,  426, 7866, 3362, 2594, 9383, 3521, 6464,\n",
       "         7098, 8585, 9166,  709, 2432,  187, 1529, 2575, 4111,  680, 7729,\n",
       "         8634, 8497, 2491, 4289, 1899, 1387]),\n",
       "  'PREP+V': array([5696, 9401, 6619, 8633, 7865,  707, 5384, 8999, 7583, 8794, 7907,\n",
       "         8634, 9857, 1361, 1036, 6815,  268, 6464]),\n",
       "  'CONJ+FUT_PART+V+PRON': array([8675]),\n",
       "  'PREP+NOUN+NSUFF': array([ 633, 3202, 1237]),\n",
       "  'CONJ+PREP+PRON': array([4861, 5629, 3342, 5948, 7620, 1038,  605, 6852, 5646, 1352]),\n",
       "  'PREP+ADJ+PRON': array([7907]),\n",
       "  'CONJ+NOUN+NSUFF+PRON': array([5571, 7907]),\n",
       "  'CONJ+PART+PRON': array([5974, 5206, 5475, 4707, 4438, 6742, 6374, 8278, 6243]),\n",
       "  'PART/NOUN+PART': array([8750, 9518, 8772, 8913, 7589, 8805, 7214, 6238, 7982,  315, 8004,\n",
       "         7345, 9695, 6446, 8406, 9035, 7269, 4932, 9950, 8168, 6821, 7006,\n",
       "         8453, 5383, 6053, 9540, 7869]),\n",
       "  'DET+NUM': array([7223, 7991, 8759, 6871, 6455]),\n",
       "  'PREP+DET': array([8675]),\n",
       "  'PREP+DET+NOUN+NSUFF': array([1136, 3600]),\n",
       "  'CONJ+PREP+DET+NOUN+NSUFF': array([8675]),\n",
       "  'CONJ+PART/CONJ+PREP+PART': array([8675, 8457,  876, 6064,  618, 8972, 2940, 7689, 1386, 8654, 7982,\n",
       "         3446, 7214, 8750, 6508, 8812, 8327, 1644, 7165, 6446, 9095, 2390,\n",
       "         6400, 6397, 6728, 9225, 1057, 2678, 1250]),\n",
       "  'CONJ+FUT_PART': array([4803, 8675]),\n",
       "  'PREP+NUM+NSUFF': array([8675]),\n",
       "  'PREP+V+PRON': array([8675]),\n",
       "  'PUNC': array([ 689, 3265])})"
      ]
     },
     "execution_count": 13,
     "metadata": {},
     "output_type": "execute_result"
    }
   ],
   "source": [
    "top_neurons"
   ]
  },
  {
   "cell_type": "code",
   "execution_count": 14,
   "metadata": {},
   "outputs": [
    {
     "data": {
      "text/plain": [
       "dict_keys(['DET+NOUN+NSUFF+NSUFF', 'PREP+PART', 'DET+ADJ+NSUFF+NSUFF', 'PART', 'ADJ+NSUFF/NOUN+NSUFF', 'PREP+ADJ', 'DET', 'V', 'CONJ+DET+NOUN+NSUFF', 'CONJ+DET+NOUN', 'FUT_PART+V+PRON', 'CONJ+CONJ', 'V+PRON', 'CONJ+FUT_PART+V', 'NOUN+NSUFF+NSUFF', 'CONJ+ADJ/CONJ+NOUN', 'DET+ADJ+NSUFF', 'PREP+DET+NOUN', 'PREP+DET+ADJ+NSUFF', 'ADJ+NSUFF+NSUFF', 'CONJ+PART', 'NUM+CASE', 'ADJ', 'CONJ+NUM+NSUFF', 'CONJ+DET+NUM+NSUFF', 'NOUN+NSUFF+PRON', 'PRON', 'ABBREV', 'ADV', 'PREP+PART+PRON', 'NOUN+CASE', 'PART/PREP+PART', 'DET+NOUN', 'NUM+NSUFF', 'CONJ+ADV', 'CONJ+NOUN', 'FUT_PART', 'DET+NOUN/DET+ADJ', 'CONJ', 'ADJ+CASE', 'PREP+PRON', 'PREP+DET+ADJ', 'DET+NOUN+NSUFF/DET+NUM+NSUFF', 'DET+ADJ/DET+NUM', 'CONJ+PRON', 'ADJ/NUM', 'PREP', 'CONJ+PREP+NOUN+NSUFF+PRON', 'PART+PRON', 'NOUN+PRON', 'CONJ+NUM', 'PART/NOUN', 'DET+ADJ/DET+NOUN', 'PREP+NOUN+PRON', 'CONJ+ADJ+NSUFF', 'DET+ADJ', 'ADV+CASE', 'PREP+PART/CONJ', 'DET+NOUN+NSUFF', 'CONJ+ADJ+PRON', 'PART+PART/PART', 'NOUN+NSUFF', 'NOUN+NSUFF/ADJ+NSUFF', 'PREP+NOUN+NSUFF+NSUFF', 'CONJ+NOUN+CASE', 'NOUN', 'ADJ+PRON', 'CONJ+V+PRON', 'PREP+NUM', 'CONJ+NOUN+PRON', 'PREP+NOUN+NSUFF+PRON', 'CONJ+PREP+DET+NOUN', 'CONJ+PREP+NOUN', 'DET+ADJ+NSUFF/DET+NUM+NSUFF', 'CONJ+ADJ', 'FUT_PART+V', 'CONJ+V', 'ADJ+NSUFF', 'CONJ+ADV+CASE', 'CONJ+DET+ADJ+NSUFF', 'NUM', 'CONJ+PREP', 'PREP+ADJ+NSUFF', 'PREP+DET+NOUN+NSUFF+NSUFF', 'FOREIGN', 'CONJ+PREP+NOUN+NSUFF', 'CONJ+NUM+NSUFF+NSUFF', 'PREP+NOUN', 'DET+NUM+NSUFF', 'CONJ+ADJ+CASE', 'CONJ+DET+ADJ', 'CONJ+NOUN+NSUFF', 'V+PRON+PRON', 'PREP+V', 'CONJ+FUT_PART+V+PRON', 'PREP+NOUN+NSUFF', 'CONJ+PREP+PRON', 'PREP+ADJ+PRON', 'CONJ+NOUN+NSUFF+PRON', 'CONJ+PART+PRON', 'PART/NOUN+PART', 'DET+NUM', 'PREP+DET', 'PREP+DET+NOUN+NSUFF', 'CONJ+PREP+DET+NOUN+NSUFF', 'CONJ+PART/CONJ+PREP+PART', 'CONJ+FUT_PART', 'PREP+NUM+NSUFF', 'PREP+V+PRON', 'PUNC'])"
      ]
     },
     "execution_count": 14,
     "metadata": {},
     "output_type": "execute_result"
    }
   ],
   "source": [
    "top_neurons[1].keys()"
   ]
  },
  {
   "cell_type": "code",
   "execution_count": 16,
   "metadata": {},
   "outputs": [
    {
     "data": {
      "image/png": "[encoded data removed]",
      "text/plain": [
       "<Figure size 432x288 with 1 Axes>"
      ]
     },
     "metadata": {
      "needs_background": "light"
     },
     "output_type": "display_data"
    },
    {
     "data": {
      "image/png": "[encoded data removed]",
      "text/plain": [
       "<Figure size 432x288 with 1 Axes>"
      ]
     },
     "metadata": {
      "needs_background": "light"
     },
     "output_type": "display_data"
    },
    {
     "data": {
      "image/png": "[encoded data removed]",
      "text/plain": [
       "<Figure size 432x288 with 1 Axes>"
      ]
     },
     "metadata": {
      "needs_background": "light"
     },
     "output_type": "display_data"
    },
    {
     "data": {
      "image/png": "[encoded data removed]",
      "text/plain": [
       "<Figure size 432x288 with 1 Axes>"
      ]
     },
     "metadata": {
      "needs_background": "light"
     },
     "output_type": "display_data"
    },
    {
     "data": {
      "image/png": "[encoded data removed]",
      "text/plain": [
       "<Figure size 432x288 with 1 Axes>"
      ]
     },
     "metadata": {
      "needs_background": "light"
     },
     "output_type": "display_data"
    },
    {
     "data": {
      "image/png": "[encoded data removed]",
      "text/plain": [
       "<Figure size 432x288 with 1 Axes>"
      ]
     },
     "metadata": {
      "needs_background": "light"
     },
     "output_type": "display_data"
    },
    {
     "data": {
      "image/png": "[encoded data removed]",
      "text/plain": [
       "<Figure size 432x288 with 1 Axes>"
      ]
     },
     "metadata": {
      "needs_background": "light"
     },
     "output_type": "display_data"
    },
    {
     "data": {
      "image/png": "[encoded data removed]",
      "text/plain": [
       "<Figure size 432x288 with 1 Axes>"
      ]
     },
     "metadata": {
      "needs_background": "light"
     },
     "output_type": "display_data"
    },
    {
     "data": {
      "image/png": "[encoded data removed]",
      "text/plain": [
       "<Figure size 432x288 with 1 Axes>"
      ]
     },
     "metadata": {
      "needs_background": "light"
     },
     "output_type": "display_data"
    }
   ],
   "source": [
    "for tag in {'NOUN', 'V', 'PART', 'PREP', 'ADJ', 'PREP+DET+NOUN', 'V+PRON', 'DET+ADJ+NSUFF' , 'PART+PRON' }:\n",
    "    plot_neurons_per_layer(top_neurons[1][tag],title='Labels per layer in mBERT '+tag)"
   ]
  },
  {
   "cell_type": "code",
   "execution_count": null,
   "metadata": {},
   "outputs": [],
   "source": [
    "plot_neurons_per_layer(top_neurons[1]['DET+NOUN'],title='Labels per layer in QARiB DET+NOUN')"
   ]
  },
  {
   "cell_type": "code",
   "execution_count": null,
   "metadata": {},
   "outputs": [],
   "source": [
    "X_zeroed = utils.zero_out_activations_keep_neurons(ordering[:10], X)\n",
    "utils.evaluate_model(model, X_zeroed, y, idx_to_class=idx2label)"
   ]
  },
  {
   "cell_type": "code",
   "execution_count": null,
   "metadata": {},
   "outputs": [],
   "source": [
    "activations"
   ]
  },
  {
   "cell_type": "code",
   "execution_count": null,
   "metadata": {},
   "outputs": [],
   "source": [
    "import aux_classifier.visualization as visualization\n",
    "visualization.visualize_activations(\"في إجراءات استثنائية بسبب وباء كورونا .\", activations[0][:, ordering[0]])"
   ]
  },
  {
   "cell_type": "code",
   "execution_count": null,
   "metadata": {},
   "outputs": [],
   "source": [
    "import svgwrite\n",
    "FONT_SIZE = 20\n",
    "MARGIN = 10\n",
    "CHAR_LIMIT = 61\n",
    "def break_lines(text, limit=50):\n",
    "    lines = []\n",
    "    curr_line = \"\"\n",
    "    for token in text.split(' '):\n",
    "        if len(curr_line) + 1 + len(token) < limit:\n",
    "            curr_line += token + \" \"\n",
    "        else:\n",
    "            lines.append(curr_line[:-1])\n",
    "            curr_line = token + \" \"\n",
    "    lines.append(curr_line[:-1])\n",
    "    return lines\n",
    "\n",
    "def get_rect_style(color, opacity):\n",
    "    return \"\"\"opacity:%0.5f;\n",
    "            fill:%s;\n",
    "            fill-opacity:1;\n",
    "            stroke:none;\n",
    "            stroke-width:0.26499999;\n",
    "            stroke-linecap:round;\n",
    "            stroke-linejoin:miter;\n",
    "            stroke-miterlimit:4;\n",
    "            stroke-dasharray:none;\n",
    "            stroke-dashoffset:0;\n",
    "            stroke-opacity:1\"\"\" % (opacity, color)\n",
    "\n",
    "def get_text_style(font_size):\n",
    "    return \"\"\"font-style:normal;\n",
    "            font-variant:normal;\n",
    "            font-weight:normal;\n",
    "            font-stretch:normal;\n",
    "            font-size:%0.2fpx;\n",
    "            line-height:125%%;\n",
    "            font-family:monospace;\n",
    "            -inkscape-font-specification:'Arial Unicode MS, Normal';\n",
    "            font-variant-ligatures:none;\n",
    "            font-variant-caps:normal;\n",
    "            font-variant-numeric:normal;\n",
    "            text-align:start;\n",
    "            writing-mode:lr-tb;\n",
    "            text-anchor:start;\n",
    "            stroke-width:0.26458332px\"\"\" % (font_size)\n"
   ]
  },
  {
   "cell_type": "code",
   "execution_count": null,
   "metadata": {},
   "outputs": [],
   "source": [
    "text = 'في إجراءات استثنائية بسبب وباء كورونا .'\n",
    "lines = break_lines(text, limit=CHAR_LIMIT)\n",
    "char_width = FONT_SIZE*0.59\n",
    "char_height = FONT_SIZE*1.25"
   ]
  },
  {
   "cell_type": "code",
   "execution_count": null,
   "metadata": {},
   "outputs": [],
   "source": [
    "lines"
   ]
  },
  {
   "cell_type": "code",
   "execution_count": null,
   "metadata": {},
   "outputs": [],
   "source": [
    "image_height = len(lines) * char_height * 1.2\n",
    "image_width = CHAR_LIMIT * char_width\n",
    "\n",
    "dwg = svgwrite.Drawing(\"tmp.svg\", size=(image_width, image_height),\n",
    "                    profile='full')\n",
    "dwg.viewbox(0, 0, image_width, image_height)\n"
   ]
  },
  {
   "cell_type": "code",
   "execution_count": null,
   "metadata": {},
   "outputs": [],
   "source": [
    "darken=2\n",
    "colors=[\"#d35f5f\", \"#00aad4\"]\n",
    "scores = activations[0][:, ordering[0]]\n",
    "offset = 0"
   ]
  },
  {
   "cell_type": "code",
   "execution_count": null,
   "metadata": {},
   "outputs": [],
   "source": [
    "group = dwg.g()\n",
    "for _ in range(darken):\n",
    "    word_idx = 0\n",
    "    for line_idx, line in enumerate(lines):\n",
    "        char_idx = 0\n",
    "        max_score = max(scores)\n",
    "        min_score = abs(min(scores))\n",
    "        limit = max(max_score, min_score)\n",
    "        for word in line.split(' '):\n",
    "            print('W:',word)\n",
    "            score = scores[word_idx]\n",
    "            if score > 0:\n",
    "                color = colors[1]\n",
    "                opacity = score/limit\n",
    "            else:\n",
    "                color = colors[0]\n",
    "                opacity = abs(score)/limit\n",
    "\n",
    "            for _ in word:\n",
    "                rect_insert = (0 + char_idx * char_width, offset + 7 + line_idx * char_height)\n",
    "                rect_size = (\"%.2fpx\"%(char_width), \"%0.2fpx\"%(char_height))\n",
    "                group.add(\n",
    "                    dwg.rect(insert=rect_insert,\n",
    "                            size=rect_size,\n",
    "                            style=get_rect_style(color, opacity)\n",
    "                            )\n",
    "                )\n",
    "                char_idx += 1\n",
    "\n",
    "            final_rect_insert = (0 + char_idx * char_width, offset + 7 + line_idx * char_height)\n",
    "            final_rect_size = (\"%.2fpx\"%(char_width), \"%0.2fpx\"%(char_height))\n",
    "            group.add(\n",
    "                dwg.rect(insert=final_rect_insert,\n",
    "                        size=final_rect_size,\n",
    "                        style=get_rect_style(color, opacity)\n",
    "                        )\n",
    "            )\n",
    "\n",
    "            char_idx += 1\n",
    "            word_idx += 1\n",
    "\n",
    "    for line_idx, line in enumerate(lines):\n",
    "        text_insert = (0, offset + FONT_SIZE*1.25*(line_idx+1))\n",
    "        print(text_insert,text)\n",
    "        text = dwg.text(text,\n",
    "                        insert=text_insert,\n",
    "                        fill='black',\n",
    "                        style=get_text_style(FONT_SIZE))\n",
    "        group.add(text)\n",
    "offset += FONT_SIZE*1.25*len(lines) + MARGIN\n",
    "\n",
    "dwg.add(group)"
   ]
  },
  {
   "cell_type": "code",
   "execution_count": null,
   "metadata": {},
   "outputs": [],
   "source": [
    "dwg"
   ]
  },
  {
   "cell_type": "code",
   "execution_count": null,
   "metadata": {},
   "outputs": [],
   "source": []
  }
 ],
 "metadata": {
  "kernelspec": {
   "display_name": "Python [conda env:neurox-aux_classifier] *",
   "language": "python",
   "name": "conda-env-neurox-aux_classifier-py"
  },
  "language_info": {
   "codemirror_mode": {
    "name": "ipython",
    "version": 3
   },
   "file_extension": ".py",
   "mimetype": "text/x-python",
   "name": "python",
   "nbconvert_exporter": "python",
   "pygments_lexer": "ipython3",
   "version": "3.7.9"
  }
 },
 "nbformat": 4,
 "nbformat_minor": 4
}
