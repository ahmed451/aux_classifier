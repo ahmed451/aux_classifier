{
 "cells": [
  {
   "cell_type": "markdown",
   "metadata": {},
   "source": [
    "# Imports"
   ]
  },
  {
   "cell_type": "code",
   "execution_count": 1,
   "metadata": {},
   "outputs": [],
   "source": [
    "import numpy as np\n",
    "\n",
    "# import sys\n",
    "# sys.path.append(\"/path/to/aux_classifier\")\n",
    "import aux_classifier.extraction as extraction\n",
    "import aux_classifier.data_loader as data_loader\n",
    "import aux_classifier.utils as utils"
   ]
  },
  {
   "cell_type": "markdown",
   "metadata": {},
   "source": [
    "# Data"
   ]
  },
  {
   "cell_type": "code",
   "execution_count": 5,
   "metadata": {},
   "outputs": [
    {
     "name": "stdout",
     "output_type": "stream",
     "text": [
      "احتفل المسلمون اليوم بعيد الأضحى المبارك ، \r\n",
      "في إجراءات استثنائية بسبب وباء كورونا .\r\n",
      "و يؤدي المسلمون في صباح هذا اليوم صلاة العيد في الجوامع و الساحات\r\n",
      "و يسألون الله تعالى أن يعمّ الأمن والسلام بلدانهم،\r\n",
      "ثم يذبحون الأضاحي و يطعمون منها الفقراء و المحتاجين .\r\n",
      "و عيد الأضحى - الذي يأتي في العاشر من شهر ذي الحجة كل سنة هجرية - هو أحد العيدين المعتمدين في الإسلام ، \r\n",
      "و هو يوم \" الحج الأكبر \" الذي يقوم فيه الحجاج بأغلب المناسك .\r\n"
     ]
    }
   ],
   "source": [
    "!cat examples/test.ar"
   ]
  },
  {
   "cell_type": "code",
   "execution_count": 6,
   "metadata": {},
   "outputs": [
    {
     "name": "stdout",
     "output_type": "stream",
     "text": [
      "V DET+NOUN+NSUFF DET+NOUN NOUN DET+NOUN DET+ADJ PUNC \r\n",
      "PREP NOUN+NSUFF ADJ+NSUFF PREP NOUN NOUN NOUN PUNC\r\n",
      "CONJ V DET+NOUN+NSUFF PREP NOUN PRON DET+NOUN NOUN+NSUFF DET+NOUN PREP DET+NOUN CONJ DET+NOUN+NSUFF\r\n",
      "CONJ V+PRON NOUN V PART V DET+NOUN CONJ DET+NOUN NOUN PRON PUNC \r\n",
      "CONJ V+PRON DET+NOUN CONJ V+PRON PREP PRON DET+NOUN CONJ DET+NOUN+NSUFF PUNC\r\n",
      "CONJ NOUN DET+NOUN PUNC PART V PREP DET+ADJ PREP NOUN NOUN DET+NOUN+NSUFF NOUN NOUN+NSUFF ADJ+NSUFF PUNC PRON NOUN DET+NOUN+NSUFF DET+NOUN+NSUFF PREP DET+NOUN PUNC\r\n",
      "CONJ PRON NOUN PUNC DET+NOUN DET+ADJ PUNC PART V PREP PRON DET+NOUN PREP NOUN DET+NOUN PUNC\r\n"
     ]
    }
   ],
   "source": [
    "!cat examples/test.ar.label"
   ]
  },
  {
   "cell_type": "markdown",
   "metadata": {},
   "source": [
    "# Extract Representations"
   ]
  },
  {
   "cell_type": "code",
   "execution_count": 31,
   "metadata": {},
   "outputs": [
    {
     "name": "stdout",
     "output_type": "stream",
     "text": [
      "Loading model\n",
      "Reading input corpus\n",
      "Reading filter vocabulary\n",
      "Preparing output file\n",
      "Extracting representations from model\n",
      "Sentence          : \"احتفل المسلمون اليوم بعيد الأضحى المبارك ،\"\n",
      "Original    (007): ['احتفل', 'a المسلمون', 'a اليوم', 'a بعيد', 'a الأضحى', 'a المبارك', 'a ،']\n",
      "Tokenized   (009): ['[CLS]', 'احتفل', 'المسلمون', 'اليوم', 'بعيد', 'الاضحى', 'المبارك', '[UNK]', '[SEP]']\n",
      "Detokenized (007): ['احتفل', 'المسلمون', 'اليوم', 'بعيد', 'الاضحى', 'المبارك', '[UNK]']\n",
      "Counter: 7\n",
      "===================================================================\n",
      "Hidden states:  (13, 7, 768)\n",
      "# Extracted words:  7\n",
      "Sentence          : \"في إجراءات استثنائية بسبب وباء كورونا .\"\n",
      "Original    (007): ['في', 'a إجراءات', 'a استثنائية', 'a بسبب', 'a وباء', 'a كورونا', 'a .']\n",
      "Tokenized   (013): ['[CLS]', 'في', 'اجراءات', 'استثن', '##ا', '##ي', '##ية', 'بسب', '##ب', 'وباء', 'كورونا', '[UNK]', '[SEP]']\n",
      "Detokenized (007): ['في', 'اجراءات', 'استثن##ا##ي##ية', 'بسب##ب', 'وباء', 'كورونا', '[UNK]']\n",
      "Counter: 11\n",
      "===================================================================\n",
      "Hidden states:  (13, 7, 768)\n",
      "# Extracted words:  7\n",
      "Sentence          : \"و يؤدي المسلمون في صباح هذا اليوم صلاة العيد في الجوامع و الساحات\"\n",
      "Original    (013): ['و', 'a يؤدي', 'a المسلمون', 'a في', 'a صباح', 'a هذا', 'a اليوم', 'a صلاة', 'a العيد', 'a في', 'a الجوامع', 'a و', 'a الساحات']\n",
      "Tokenized   (017): ['[CLS]', 'و', 'يودي', 'المسلمون', 'في', 'صباح', 'هذا', 'اليوم', 'صلاة', 'العيد', 'في', 'الجو', '##ام', '##ع', 'و', 'الساحات', '[SEP]']\n",
      "Detokenized (013): ['و', 'يودي', 'المسلمون', 'في', 'صباح', 'هذا', 'اليوم', 'صلاة', 'العيد', 'في', 'الجو##ام##ع', 'و', 'الساحات']\n",
      "Counter: 15\n",
      "===================================================================\n",
      "Hidden states:  (13, 13, 768)\n",
      "# Extracted words:  13\n",
      "Sentence          : \"و يسألون الله تعالى أن يعمّ الأمن و السلام بلدانهم ،\"\n",
      "Original    (011): ['و', 'a يسألون', 'a الله', 'a تعالى', 'a أن', 'a يعمّ', 'a الأمن', 'a و', 'a السلام', 'a بلدانهم', 'a ،']\n",
      "Tokenized   (013): ['[CLS]', 'و', 'يسالون', 'الله', 'تعالى', 'ان', 'يعم', 'الامن', 'و', 'السلام', 'بلدانهم', '[UNK]', '[SEP]']\n",
      "Detokenized (011): ['و', 'يسالون', 'الله', 'تعالى', 'ان', 'يعم', 'الامن', 'و', 'السلام', 'بلدانهم', '[UNK]']\n",
      "Counter: 11\n",
      "===================================================================\n",
      "Hidden states:  (13, 11, 768)\n",
      "# Extracted words:  11\n",
      "Sentence          : \"ثم يذبحون الأضاحي و يطعمون منها الفقراء و المحتاجين .\"\n",
      "Original    (010): ['ثم', 'a يذبحون', 'a الأضاحي', 'a و', 'a يطعمون', 'a منها', 'a الفقراء', 'a و', 'a المحتاجين', 'a .']\n",
      "Tokenized   (014): ['[CLS]', 'ثم', 'يذبحون', 'الا', '##ضاحي', 'و', 'يطعم', '##ون', 'منها', 'الفقراء', 'و', 'المحتاجين', '[UNK]', '[SEP]']\n",
      "Detokenized (010): ['ثم', 'يذبحون', 'الا##ضاحي', 'و', 'يطعم##ون', 'منها', 'الفقراء', 'و', 'المحتاجين', '[UNK]']\n",
      "Counter: 12\n",
      "===================================================================\n",
      "Hidden states:  (13, 10, 768)\n",
      "# Extracted words:  10\n",
      "Sentence          : \"و عيد الأضحى - الذي يأتي في العاشر من شهر ذي الحجة كل سنة هجرية - هو أحد العيدين المعتمدين في الإسلام ،\"\n",
      "Original    (023): ['و', 'a عيد', 'a الأضحى', 'a -', 'a الذي', 'a يأتي', 'a في', 'a العاشر', 'a من', 'a شهر', 'a ذي', 'a الحجة', 'a كل', 'a سنة', 'a هجرية', 'a -', 'a هو', 'a أحد', 'a العيدين', 'a المعتمدين', 'a في', 'a الإسلام', 'a ،']\n",
      "Tokenized   (028): ['[CLS]', 'و', 'عيد', 'الاضحى', '[UNK]', 'الذي', 'ياتي', 'في', 'العاشر', 'من', 'شهر', 'ذي', 'الحجة', 'كل', 'سنة', 'هجري', '##ة', '[UNK]', 'هو', 'احد', 'العيد', '##ين', 'المعتمد', '##ين', 'في', 'الاسلام', '[UNK]', '[SEP]']\n",
      "Detokenized (023): ['و', 'عيد', 'الاضحى', '[UNK]', 'الذي', 'ياتي', 'في', 'العاشر', 'من', 'شهر', 'ذي', 'الحجة', 'كل', 'سنة', 'هجري##ة', '[UNK]', 'هو', 'احد', 'العيد##ين', 'المعتمد##ين', 'في', 'الاسلام', '[UNK]']\n",
      "Counter: 26\n",
      "===================================================================\n",
      "Hidden states:  (13, 23, 768)\n",
      "# Extracted words:  23\n",
      "Sentence          : \"و هو يوم \" الحج الأكبر \" الذي يقوم فيه الحجاج بأغلب المناسك .\"\n",
      "Original    (014): ['و', 'a هو', 'a يوم', 'a \"', 'a الحج', 'a الأكبر', 'a \"', 'a الذي', 'a يقوم', 'a فيه', 'a الحجاج', 'a بأغلب', 'a المناسك', 'a .']\n",
      "Tokenized   (018): ['[CLS]', 'و', 'هو', 'يوم', '[UNK]', 'الحج', 'الاكبر', '[UNK]', 'الذي', 'يقوم', 'فيه', 'الحجاج', 'باغ', '##لب', 'المنا', '##سك', '[UNK]', '[SEP]']\n",
      "Detokenized (014): ['و', 'هو', 'يوم', '[UNK]', 'الحج', 'الاكبر', '[UNK]', 'الذي', 'يقوم', 'فيه', 'الحجاج', 'باغ##لب', 'المنا##سك', '[UNK]']\n",
      "Counter: 16\n",
      "===================================================================\n",
      "Hidden states:  (13, 14, 768)\n",
      "# Extracted words:  14\n"
     ]
    }
   ],
   "source": [
    "extraction.extract_representations('qarib/bert-base-qarib',\n",
    "                                   'examples/test.ar',\n",
    "                                   'examples/activations.json',\n",
    "                                   aggregation=\"average\"\n",
    "                                  )"
   ]
  },
  {
   "cell_type": "code",
   "execution_count": 32,
   "metadata": {},
   "outputs": [
    {
     "name": "stdout",
     "output_type": "stream",
     "text": [
      "{\"linex_index\": 0, \"features\": [{\"token\": \"\\u0627\\u062d\\u062a\\u0641\\u0644\", \"layers\": [{\"index\": 0, \n",
      "{\"linex_index\": 1, \"features\": [{\"token\": \"\\u0641\\u064a\", \"layers\": [{\"index\": 0, \"values\": [-0.9047\n",
      "{\"linex_index\": 2, \"features\": [{\"token\": \"\\u0648\", \"layers\": [{\"index\": 0, \"values\": [-0.56417012, \n",
      "{\"linex_index\": 3, \"features\": [{\"token\": \"\\u0648\", \"layers\": [{\"index\": 0, \"values\": [-0.56417012, \n",
      "{\"linex_index\": 4, \"features\": [{\"token\": \"\\u062b\\u0645\", \"layers\": [{\"index\": 0, \"values\": [0.30082\n",
      "{\"linex_index\": 5, \"features\": [{\"token\": \"\\u0648\", \"layers\": [{\"index\": 0, \"values\": [-0.56417012, \n",
      "{\"linex_index\": 6, \"features\": [{\"token\": \"\\u0648\", \"layers\": [{\"index\": 0, \"values\": [-0.56417012, \n"
     ]
    }
   ],
   "source": [
    "!cut -c1-100 < examples/activations.json"
   ]
  },
  {
   "cell_type": "markdown",
   "metadata": {},
   "source": [
    "# Prepare Data"
   ]
  },
  {
   "cell_type": "code",
   "execution_count": 33,
   "metadata": {},
   "outputs": [
    {
     "name": "stdout",
     "output_type": "stream",
     "text": [
      "Loading json activations from examples/activations.json...\n",
      "7 13.0\n"
     ]
    }
   ],
   "source": [
    "activations, num_layers = data_loader.load_activations('examples/activations.json', 768)"
   ]
  },
  {
   "cell_type": "code",
   "execution_count": 34,
   "metadata": {},
   "outputs": [
    {
     "data": {
      "text/plain": [
       "[array([[-0.31712773,  0.25761881,  0.55649602, ...,  1.02079916,\n",
       "          0.74297106,  0.28554019],\n",
       "        [ 0.21799527,  0.67488086,  0.27057877, ...,  0.7879101 ,\n",
       "          0.47191897,  0.41795936],\n",
       "        [ 0.14937855, -0.12780708,  0.2452282 , ...,  1.14842796,\n",
       "         -0.03361775, -0.75642848],\n",
       "        ...,\n",
       "        [-0.8342008 ,  2.23695898,  1.12613237, ...,  0.70942152,\n",
       "          0.82478094, -0.00778293],\n",
       "        [-1.57582808,  1.80389714,  0.89772081, ...,  1.45170391,\n",
       "          0.99885601,  0.10062478],\n",
       "        [-1.45621371,  1.57555151, -0.39252782, ...,  1.12517512,\n",
       "          1.03058934, -0.12751535]]),\n",
       " array([[-0.90471631, -0.48379153,  0.80337554, ...,  1.13737488,\n",
       "          0.01800438, -0.50963306],\n",
       "        [-0.29100445, -0.55599517,  0.83081937, ...,  0.34257746,\n",
       "          0.898453  , -0.38467422],\n",
       "        [ 0.41927424, -0.75273305,  0.10223106, ...,  0.23210475,\n",
       "          1.11697245, -0.70027936],\n",
       "        ...,\n",
       "        [-0.34435731,  0.28794068,  0.15500608, ...,  0.33471844,\n",
       "          0.3930586 , -0.78294599],\n",
       "        [-0.43178171,  0.99960566, -0.91997743, ...,  0.91579759,\n",
       "          0.48848164, -0.09157443],\n",
       "        [-0.82879299,  0.73782575, -1.47933996, ...,  1.04127836,\n",
       "          1.06256104, -0.31031674]]),\n",
       " array([[-0.56417012,  0.23802775,  0.22488269, ..., -0.0464257 ,\n",
       "          0.22700493,  0.56995428],\n",
       "        [-0.99602413, -0.04004815,  0.71406662, ..., -1.20815969,\n",
       "          0.70877504,  1.05902433],\n",
       "        [-0.54460752, -0.1024974 ,  0.28710005, ..., -0.03783816,\n",
       "          0.46844095,  0.47814038],\n",
       "        ...,\n",
       "        [-0.29626352, -1.30806577,  0.28718495, ...,  1.51257372,\n",
       "          0.29730085,  0.7167176 ],\n",
       "        [-0.02228899,  0.44479188, -0.26746488, ...,  0.24174537,\n",
       "         -1.14665759,  0.77956355],\n",
       "        [ 0.03569771,  1.07205224, -0.83103991, ...,  0.46002555,\n",
       "         -0.51594257,  1.01952612]]),\n",
       " array([[-0.56417012,  0.23802775,  0.22488269, ...,  0.37976331,\n",
       "         -0.32118979,  0.33533281],\n",
       "        [ 0.07141641,  0.50480944,  0.00813819, ..., -0.64679807,\n",
       "         -0.4854891 , -0.09572554],\n",
       "        [ 0.71021605,  0.08723916, -0.00791568, ..., -0.93585676,\n",
       "          0.02635092, -0.68578261],\n",
       "        ...,\n",
       "        [-0.21891297,  1.81678247, -0.76344925, ...,  0.83594662,\n",
       "         -0.74256277,  0.40005681],\n",
       "        [-1.30179644,  1.33648503, -0.58355904, ...,  1.38287234,\n",
       "         -0.65204263, -0.87376082],\n",
       "        [-1.89454746,  0.48398119, -0.35728049, ...,  0.83810246,\n",
       "         -0.22240838, -1.16973877]]),\n",
       " array([[ 3.00824400e-01, -3.55307640e-01,  3.82871270e-01, ...,\n",
       "          4.22185120e-01,  6.10947070e-01,  6.24168280e-01],\n",
       "        [ 1.08800960e+00, -2.57314320e-01, -3.55612900e-02, ...,\n",
       "          2.99191710e-01, -3.78795600e-02,  9.43661150e-01],\n",
       "        [-3.29087020e-01,  6.13383500e-02,  3.98305200e-02, ...,\n",
       "          1.71804821e+00,  4.17154910e-01, -6.81942400e-01],\n",
       "        ...,\n",
       "        [ 1.06337600e-02,  2.81981410e-01, -6.47888060e-01, ...,\n",
       "          5.48100000e-05, -6.57360910e-01, -1.53235817e+00],\n",
       "        [ 5.60491680e-01,  9.45201040e-01, -2.46918590e-01, ...,\n",
       "         -4.52269600e-02, -9.12342910e-01, -1.42051411e+00],\n",
       "        [ 1.41313490e-01,  6.69765710e-01, -6.33563700e-01, ...,\n",
       "          4.47093460e-01, -8.64459300e-02, -2.17603850e+00]]),\n",
       " array([[-0.56417012,  0.23802775,  0.22488269, ...,  0.81097239,\n",
       "         -0.03325012,  0.95129383],\n",
       "        [-0.16006884,  0.95063919, -0.27146977, ...,  0.50583231,\n",
       "          0.06379135,  1.38391376],\n",
       "        [-0.71977323,  1.32167327,  0.49955145, ...,  1.23316193,\n",
       "          0.41530356,  0.32987392],\n",
       "        ...,\n",
       "        [-0.41814333, -0.79310727,  0.10407823, ...,  0.46007252,\n",
       "          0.80009013,  0.67497802],\n",
       "        [-0.23769249, -0.01756222,  0.70330137, ...,  0.53474981,\n",
       "          1.0328021 ,  0.61249244],\n",
       "        [-0.39310974,  0.58312327, -0.09765109, ...,  0.29158127,\n",
       "          1.17510486, -0.10932451]]),\n",
       " array([[-0.56417012,  0.23802775,  0.22488269, ...,  0.49869812,\n",
       "         -0.34629914,  0.1821233 ],\n",
       "        [-0.1794581 ,  0.49319369,  1.10925043, ..., -0.49307212,\n",
       "         -0.39937833,  0.55727232],\n",
       "        [ 0.31649113, -0.07365605,  1.57577157, ...,  0.63264978,\n",
       "         -0.26712278,  0.56268257],\n",
       "        ...,\n",
       "        [ 0.17810887, -1.14228451, -0.73623991, ...,  0.24880271,\n",
       "         -0.72015113, -0.03566379],\n",
       "        [ 0.61463362, -0.29417366, -0.54968733, ...,  1.07814825,\n",
       "         -1.38366067, -0.54310638],\n",
       "        [-0.2025529 ,  0.06090948, -0.51381671, ...,  1.25817919,\n",
       "         -0.63965154, -1.35516465]])]"
      ]
     },
     "execution_count": 34,
     "metadata": {},
     "output_type": "execute_result"
    }
   ],
   "source": [
    "activations"
   ]
  },
  {
   "cell_type": "code",
   "execution_count": 35,
   "metadata": {},
   "outputs": [
    {
     "data": {
      "text/plain": [
       "(7, 9984)"
      ]
     },
     "execution_count": 35,
     "metadata": {},
     "output_type": "execute_result"
    }
   ],
   "source": [
    "activations[0].shape"
   ]
  },
  {
   "cell_type": "code",
   "execution_count": 36,
   "metadata": {},
   "outputs": [
    {
     "data": {
      "text/plain": [
       "(7, 9984)"
      ]
     },
     "execution_count": 36,
     "metadata": {},
     "output_type": "execute_result"
    }
   ],
   "source": [
    "activations[1].shape"
   ]
  },
  {
   "cell_type": "code",
   "execution_count": 37,
   "metadata": {},
   "outputs": [
    {
     "name": "stdout",
     "output_type": "stream",
     "text": [
      "7 ['احتفل', 'المسلمون', 'اليوم', 'بعيد', 'الأضحى', 'المبارك', '،']\n",
      "7 ['في', 'إجراءات', 'استثنائية', 'بسبب', 'وباء', 'كورونا', '.']\n",
      "13 ['و', 'يؤدي', 'المسلمون', 'في', 'صباح', 'هذا', 'اليوم', 'صلاة', 'العيد', 'في', 'الجوامع', 'و', 'الساحات']\n",
      "11 ['و', 'يسألون', 'الله', 'تعالى', 'أن', 'يعمّ', 'الأمن', 'و', 'السلام', 'بلدانهم', '،']\n",
      "10 ['ثم', 'يذبحون', 'الأضاحي', 'و', 'يطعمون', 'منها', 'الفقراء', 'و', 'المحتاجين', '.']\n",
      "23 ['و', 'عيد', 'الأضحى', '-', 'الذي', 'يأتي', 'في', 'العاشر', 'من', 'شهر', 'ذي', 'الحجة', 'كل', 'سنة', 'هجرية', '-', 'هو', 'أحد', 'العيدين', 'المعتمدين', 'في', 'الإسلام', '،']\n",
      "14 ['و', 'هو', 'يوم', '\"', 'الحج', 'الأكبر', '\"', 'الذي', 'يقوم', 'فيه', 'الحجاج', 'بأغلب', 'المناسك', '.']\n"
     ]
    }
   ],
   "source": [
    "for line in open('examples/test.ar'):\n",
    "    print(len(line.strip().split()),line.strip().split())"
   ]
  },
  {
   "cell_type": "code",
   "execution_count": 38,
   "metadata": {},
   "outputs": [
    {
     "name": "stdout",
     "output_type": "stream",
     "text": [
      "7 ['V', 'DET+NOUN+NSUFF', 'DET+NOUN', 'NOUN', 'DET+NOUN', 'DET+ADJ', 'PUNC']\n",
      "7 ['PREP', 'NOUN+NSUFF', 'ADJ+NSUFF', 'PREP+NOUN', 'NOUN', 'NOUN', 'PUNC']\n",
      "13 ['CONJ', 'V', 'DET+NOUN+NSUFF', 'PREP', 'NOUN', 'PRON', 'DET+NOUN', 'NOUN+NSUFF', 'DET+NOUN', 'PREP', 'DET+NOUN', 'CONJ', 'DET+NOUN+NSUFF']\n",
      "11 ['CONJ', 'V+PRON', 'NOUN', 'V', 'PART', 'V', 'DET+NOUN', 'CONJ', 'DET+NOUN', 'NOUN+PRON', 'PUNC']\n",
      "10 ['CONJ', 'V+PRON', 'DET+NOUN', 'CONJ', 'V+PRON', 'PREP+PRON', 'DET+NOUN', 'CONJ', 'DET+NOUN+NSUFF', 'PUNC']\n",
      "23 ['CONJ', 'NOUN', 'DET+NOUN', 'PUNC', 'PART', 'V', 'PREP', 'DET+ADJ', 'PREP', 'NOUN', 'NOUN', 'DET+NOUN+NSUFF', 'NOUN', 'NOUN+NSUFF', 'ADJ+NSUFF', 'PUNC', 'PRON', 'NOUN', 'DET+NOUN+NSUFF', 'DET+NOUN+NSUFF', 'PREP', 'DET+NOUN', 'PUNC']\n",
      "14 ['CONJ', 'PRON', 'NOUN', 'PUNC', 'DET+NOUN', 'DET+ADJ', 'PUNC', 'PART', 'V', 'PREP+PRON', 'DET+NOUN', 'PREP+NOUN', 'DET+NOUN', 'PUNC']\n"
     ]
    }
   ],
   "source": [
    "for line in open('examples/test.ar.label'):\n",
    "    print(len(line.strip().split()),line.strip().split())"
   ]
  },
  {
   "cell_type": "code",
   "execution_count": 39,
   "metadata": {},
   "outputs": [],
   "source": [
    "tokens = data_loader.load_data('examples/test.ar',\n",
    "                               'examples/test.ar.label',\n",
    "                               activations,\n",
    "                               512\n",
    "                              )"
   ]
  },
  {
   "cell_type": "code",
   "execution_count": 40,
   "metadata": {},
   "outputs": [
    {
     "data": {
      "text/plain": [
       "{'source': [['احتفل', 'المسلمون', 'اليوم', 'بعيد', 'الأضحى', 'المبارك', '،'],\n",
       "  ['في', 'إجراءات', 'استثنائية', 'بسبب', 'وباء', 'كورونا', '.'],\n",
       "  ['و',\n",
       "   'يؤدي',\n",
       "   'المسلمون',\n",
       "   'في',\n",
       "   'صباح',\n",
       "   'هذا',\n",
       "   'اليوم',\n",
       "   'صلاة',\n",
       "   'العيد',\n",
       "   'في',\n",
       "   'الجوامع',\n",
       "   'و',\n",
       "   'الساحات'],\n",
       "  ['و',\n",
       "   'يسألون',\n",
       "   'الله',\n",
       "   'تعالى',\n",
       "   'أن',\n",
       "   'يعمّ',\n",
       "   'الأمن',\n",
       "   'و',\n",
       "   'السلام',\n",
       "   'بلدانهم',\n",
       "   '،'],\n",
       "  ['ثم',\n",
       "   'يذبحون',\n",
       "   'الأضاحي',\n",
       "   'و',\n",
       "   'يطعمون',\n",
       "   'منها',\n",
       "   'الفقراء',\n",
       "   'و',\n",
       "   'المحتاجين',\n",
       "   '.'],\n",
       "  ['و',\n",
       "   'عيد',\n",
       "   'الأضحى',\n",
       "   '-',\n",
       "   'الذي',\n",
       "   'يأتي',\n",
       "   'في',\n",
       "   'العاشر',\n",
       "   'من',\n",
       "   'شهر',\n",
       "   'ذي',\n",
       "   'الحجة',\n",
       "   'كل',\n",
       "   'سنة',\n",
       "   'هجرية',\n",
       "   '-',\n",
       "   'هو',\n",
       "   'أحد',\n",
       "   'العيدين',\n",
       "   'المعتمدين',\n",
       "   'في',\n",
       "   'الإسلام',\n",
       "   '،'],\n",
       "  ['و',\n",
       "   'هو',\n",
       "   'يوم',\n",
       "   '\"',\n",
       "   'الحج',\n",
       "   'الأكبر',\n",
       "   '\"',\n",
       "   'الذي',\n",
       "   'يقوم',\n",
       "   'فيه',\n",
       "   'الحجاج',\n",
       "   'بأغلب',\n",
       "   'المناسك',\n",
       "   '.']],\n",
       " 'target': [['V',\n",
       "   'DET+NOUN+NSUFF',\n",
       "   'DET+NOUN',\n",
       "   'NOUN',\n",
       "   'DET+NOUN',\n",
       "   'DET+ADJ',\n",
       "   'PUNC'],\n",
       "  ['PREP', 'NOUN+NSUFF', 'ADJ+NSUFF', 'PREP+NOUN', 'NOUN', 'NOUN', 'PUNC'],\n",
       "  ['CONJ',\n",
       "   'V',\n",
       "   'DET+NOUN+NSUFF',\n",
       "   'PREP',\n",
       "   'NOUN',\n",
       "   'PRON',\n",
       "   'DET+NOUN',\n",
       "   'NOUN+NSUFF',\n",
       "   'DET+NOUN',\n",
       "   'PREP',\n",
       "   'DET+NOUN',\n",
       "   'CONJ',\n",
       "   'DET+NOUN+NSUFF'],\n",
       "  ['CONJ',\n",
       "   'V+PRON',\n",
       "   'NOUN',\n",
       "   'V',\n",
       "   'PART',\n",
       "   'V',\n",
       "   'DET+NOUN',\n",
       "   'CONJ',\n",
       "   'DET+NOUN',\n",
       "   'NOUN+PRON',\n",
       "   'PUNC'],\n",
       "  ['CONJ',\n",
       "   'V+PRON',\n",
       "   'DET+NOUN',\n",
       "   'CONJ',\n",
       "   'V+PRON',\n",
       "   'PREP+PRON',\n",
       "   'DET+NOUN',\n",
       "   'CONJ',\n",
       "   'DET+NOUN+NSUFF',\n",
       "   'PUNC'],\n",
       "  ['CONJ',\n",
       "   'NOUN',\n",
       "   'DET+NOUN',\n",
       "   'PUNC',\n",
       "   'PART',\n",
       "   'V',\n",
       "   'PREP',\n",
       "   'DET+ADJ',\n",
       "   'PREP',\n",
       "   'NOUN',\n",
       "   'NOUN',\n",
       "   'DET+NOUN+NSUFF',\n",
       "   'NOUN',\n",
       "   'NOUN+NSUFF',\n",
       "   'ADJ+NSUFF',\n",
       "   'PUNC',\n",
       "   'PRON',\n",
       "   'NOUN',\n",
       "   'DET+NOUN+NSUFF',\n",
       "   'DET+NOUN+NSUFF',\n",
       "   'PREP',\n",
       "   'DET+NOUN',\n",
       "   'PUNC'],\n",
       "  ['CONJ',\n",
       "   'PRON',\n",
       "   'NOUN',\n",
       "   'PUNC',\n",
       "   'DET+NOUN',\n",
       "   'DET+ADJ',\n",
       "   'PUNC',\n",
       "   'PART',\n",
       "   'V',\n",
       "   'PREP+PRON',\n",
       "   'DET+NOUN',\n",
       "   'PREP+NOUN',\n",
       "   'DET+NOUN',\n",
       "   'PUNC']]}"
      ]
     },
     "execution_count": 40,
     "metadata": {},
     "output_type": "execute_result"
    }
   ],
   "source": [
    "tokens"
   ]
  },
  {
   "cell_type": "code",
   "execution_count": 41,
   "metadata": {},
   "outputs": [
    {
     "name": "stdout",
     "output_type": "stream",
     "text": [
      "Number of tokens:  85\n",
      "length of source dictionary:  63\n",
      "length of target dictionary:  16\n",
      "85\n",
      "Total instances: 85\n",
      "['احتفل', 'العيدين', 'و', 'بسبب', 'الساحات', 'هو', 'الأمن', 'المناسك', 'ثم', 'المبارك', 'من', '،', '\"', 'يسألون', 'الفقراء', 'يقوم', 'يوم', 'الأكبر', 'الحجة', 'الحج']\n"
     ]
    }
   ],
   "source": [
    "X, y, mapping = utils.create_tensors(tokens, activations, 'LABEL1')\n",
    "label2idx, idx2label, src2idx, idx2src = mapping"
   ]
  },
  {
   "cell_type": "markdown",
   "metadata": {},
   "source": [
    "# Train Probing Classifier"
   ]
  },
  {
   "cell_type": "code",
   "execution_count": 42,
   "metadata": {},
   "outputs": [
    {
     "name": "stdout",
     "output_type": "stream",
     "text": [
      "Training classification model\n",
      "Creating model...\n",
      "Number of training instances: 85\n",
      "Number of classes: 16\n"
     ]
    },
    {
     "data": {
      "application/vnd.jupyter.widget-view+json": {
       "model_id": "06dcc2ebd20f461888109ec53586cd38",
       "version_major": 2,
       "version_minor": 0
      },
      "text/plain": [
       "HBox(children=(HTML(value='epoch [1/10]'), FloatProgress(value=1.0, bar_style='info', layout=Layout(width='20p…"
      ]
     },
     "metadata": {},
     "output_type": "display_data"
    },
    {
     "name": "stdout",
     "output_type": "stream",
     "text": [
      "\n",
      "Epoch: [1/10], Loss: 0.1154\n"
     ]
    },
    {
     "data": {
      "application/vnd.jupyter.widget-view+json": {
       "model_id": "773363c778974ad5a226937f3bc488f1",
       "version_major": 2,
       "version_minor": 0
      },
      "text/plain": [
       "HBox(children=(HTML(value='epoch [2/10]'), FloatProgress(value=1.0, bar_style='info', layout=Layout(width='20p…"
      ]
     },
     "metadata": {},
     "output_type": "display_data"
    },
    {
     "name": "stdout",
     "output_type": "stream",
     "text": [
      "\n",
      "Epoch: [2/10], Loss: 0.0441\n"
     ]
    },
    {
     "data": {
      "application/vnd.jupyter.widget-view+json": {
       "model_id": "0c4ca99e3b574bf4802ee560cd73e220",
       "version_major": 2,
       "version_minor": 0
      },
      "text/plain": [
       "HBox(children=(HTML(value='epoch [3/10]'), FloatProgress(value=1.0, bar_style='info', layout=Layout(width='20p…"
      ]
     },
     "metadata": {},
     "output_type": "display_data"
    },
    {
     "name": "stdout",
     "output_type": "stream",
     "text": [
      "\n",
      "Epoch: [3/10], Loss: 0.0351\n"
     ]
    },
    {
     "data": {
      "application/vnd.jupyter.widget-view+json": {
       "model_id": "abc5d85462ca440e810d04f9fd8b59d1",
       "version_major": 2,
       "version_minor": 0
      },
      "text/plain": [
       "HBox(children=(HTML(value='epoch [4/10]'), FloatProgress(value=1.0, bar_style='info', layout=Layout(width='20p…"
      ]
     },
     "metadata": {},
     "output_type": "display_data"
    },
    {
     "name": "stdout",
     "output_type": "stream",
     "text": [
      "\n",
      "Epoch: [4/10], Loss: 0.0322\n"
     ]
    },
    {
     "data": {
      "application/vnd.jupyter.widget-view+json": {
       "model_id": "0ec730d81faa4175b5a377b19cf9e6fd",
       "version_major": 2,
       "version_minor": 0
      },
      "text/plain": [
       "HBox(children=(HTML(value='epoch [5/10]'), FloatProgress(value=1.0, bar_style='info', layout=Layout(width='20p…"
      ]
     },
     "metadata": {},
     "output_type": "display_data"
    },
    {
     "name": "stdout",
     "output_type": "stream",
     "text": [
      "\n",
      "Epoch: [5/10], Loss: 0.0316\n"
     ]
    },
    {
     "data": {
      "application/vnd.jupyter.widget-view+json": {
       "model_id": "ad32926922fa4e30bfdf2a09a8b117fc",
       "version_major": 2,
       "version_minor": 0
      },
      "text/plain": [
       "HBox(children=(HTML(value='epoch [6/10]'), FloatProgress(value=1.0, bar_style='info', layout=Layout(width='20p…"
      ]
     },
     "metadata": {},
     "output_type": "display_data"
    },
    {
     "name": "stdout",
     "output_type": "stream",
     "text": [
      "\n",
      "Epoch: [6/10], Loss: 0.0315\n"
     ]
    },
    {
     "data": {
      "application/vnd.jupyter.widget-view+json": {
       "model_id": "946019086b5c48b89c15b1731dbf4c1b",
       "version_major": 2,
       "version_minor": 0
      },
      "text/plain": [
       "HBox(children=(HTML(value='epoch [7/10]'), FloatProgress(value=1.0, bar_style='info', layout=Layout(width='20p…"
      ]
     },
     "metadata": {},
     "output_type": "display_data"
    },
    {
     "name": "stdout",
     "output_type": "stream",
     "text": [
      "\n",
      "Epoch: [7/10], Loss: 0.0311\n"
     ]
    },
    {
     "data": {
      "application/vnd.jupyter.widget-view+json": {
       "model_id": "c1ea22043af2450c8eebd54b7aac3da1",
       "version_major": 2,
       "version_minor": 0
      },
      "text/plain": [
       "HBox(children=(HTML(value='epoch [8/10]'), FloatProgress(value=1.0, bar_style='info', layout=Layout(width='20p…"
      ]
     },
     "metadata": {},
     "output_type": "display_data"
    },
    {
     "name": "stdout",
     "output_type": "stream",
     "text": [
      "\n",
      "Epoch: [8/10], Loss: 0.0304\n"
     ]
    },
    {
     "data": {
      "application/vnd.jupyter.widget-view+json": {
       "model_id": "c647a944c8f04bb0a73882cc84a34e14",
       "version_major": 2,
       "version_minor": 0
      },
      "text/plain": [
       "HBox(children=(HTML(value='epoch [9/10]'), FloatProgress(value=1.0, bar_style='info', layout=Layout(width='20p…"
      ]
     },
     "metadata": {},
     "output_type": "display_data"
    },
    {
     "name": "stdout",
     "output_type": "stream",
     "text": [
      "\n",
      "Epoch: [9/10], Loss: 0.0297\n"
     ]
    },
    {
     "data": {
      "application/vnd.jupyter.widget-view+json": {
       "model_id": "1bb278a928754a9d93b25aff92fe7a45",
       "version_major": 2,
       "version_minor": 0
      },
      "text/plain": [
       "HBox(children=(HTML(value='epoch [10/10]'), FloatProgress(value=1.0, bar_style='info', layout=Layout(width='20…"
      ]
     },
     "metadata": {},
     "output_type": "display_data"
    },
    {
     "name": "stdout",
     "output_type": "stream",
     "text": [
      "\n",
      "Epoch: [10/10], Loss: 0.0287\n"
     ]
    }
   ],
   "source": [
    "model = utils.train_logreg_model(X, y, lambda_l1=0.001, lambda_l2=0.001)"
   ]
  },
  {
   "cell_type": "markdown",
   "metadata": {},
   "source": [
    "# Evaluate Model"
   ]
  },
  {
   "cell_type": "code",
   "execution_count": 43,
   "metadata": {},
   "outputs": [
    {
     "data": {
      "application/vnd.jupyter.widget-view+json": {
       "model_id": "9de364935aed4b17b17122d681e17014",
       "version_major": 2,
       "version_minor": 0
      },
      "text/plain": [
       "HBox(children=(HTML(value='Evaluating'), FloatProgress(value=1.0, bar_style='info', layout=Layout(width='20px'…"
      ]
     },
     "metadata": {},
     "output_type": "display_data"
    },
    {
     "name": "stdout",
     "output_type": "stream",
     "text": [
      "\n",
      "Score (accuracy) of the model: 1.00\n"
     ]
    },
    {
     "data": {
      "text/plain": [
       "{'__OVERALL__': 1.0,\n",
       " 'PREP': 1.0,\n",
       " 'PREP+NOUN': 1.0,\n",
       " 'V+PRON': 1.0,\n",
       " 'DET+NOUN+NSUFF': 1.0,\n",
       " 'PRON': 1.0,\n",
       " 'NOUN+NSUFF': 1.0,\n",
       " 'PART': 1.0,\n",
       " 'DET+ADJ': 1.0,\n",
       " 'PREP+PRON': 1.0,\n",
       " 'CONJ': 1.0,\n",
       " 'NOUN': 1.0,\n",
       " 'DET+NOUN': 1.0,\n",
       " 'ADJ+NSUFF': 1.0,\n",
       " 'PUNC': 1.0,\n",
       " 'NOUN+PRON': 1.0,\n",
       " 'V': 1.0}"
      ]
     },
     "execution_count": 43,
     "metadata": {},
     "output_type": "execute_result"
    }
   ],
   "source": [
    "utils.evaluate_model(model, X, y, idx_to_class=idx2label)"
   ]
  },
  {
   "cell_type": "markdown",
   "metadata": {},
   "source": [
    "# Layerwise probing"
   ]
  },
  {
   "cell_type": "code",
   "execution_count": 44,
   "metadata": {},
   "outputs": [],
   "source": [
    "layer_1_X = utils.filter_activations_keep_neurons(np.arange(768, 768*2), X)"
   ]
  },
  {
   "cell_type": "code",
   "execution_count": 45,
   "metadata": {},
   "outputs": [
    {
     "data": {
      "text/plain": [
       "(85, 768)"
      ]
     },
     "execution_count": 45,
     "metadata": {},
     "output_type": "execute_result"
    }
   ],
   "source": [
    "layer_1_X.shape"
   ]
  },
  {
   "cell_type": "code",
   "execution_count": 46,
   "metadata": {},
   "outputs": [
    {
     "name": "stdout",
     "output_type": "stream",
     "text": [
      "Training classification model\n",
      "Creating model...\n",
      "Number of training instances: 85\n",
      "Number of classes: 16\n"
     ]
    },
    {
     "data": {
      "application/vnd.jupyter.widget-view+json": {
       "model_id": "92c404aa3bda4d72b856634ad450951c",
       "version_major": 2,
       "version_minor": 0
      },
      "text/plain": [
       "HBox(children=(HTML(value='epoch [1/10]'), FloatProgress(value=1.0, bar_style='info', layout=Layout(width='20p…"
      ]
     },
     "metadata": {},
     "output_type": "display_data"
    },
    {
     "name": "stdout",
     "output_type": "stream",
     "text": [
      "\n",
      "Epoch: [1/10], Loss: 0.1080\n"
     ]
    },
    {
     "data": {
      "application/vnd.jupyter.widget-view+json": {
       "model_id": "70e47513b98341469cc3fb5cd5a882bd",
       "version_major": 2,
       "version_minor": 0
      },
      "text/plain": [
       "HBox(children=(HTML(value='epoch [2/10]'), FloatProgress(value=1.0, bar_style='info', layout=Layout(width='20p…"
      ]
     },
     "metadata": {},
     "output_type": "display_data"
    },
    {
     "name": "stdout",
     "output_type": "stream",
     "text": [
      "\n",
      "Epoch: [2/10], Loss: 0.0865\n"
     ]
    },
    {
     "data": {
      "application/vnd.jupyter.widget-view+json": {
       "model_id": "a46040e3eb374ff581d50519eb482aec",
       "version_major": 2,
       "version_minor": 0
      },
      "text/plain": [
       "HBox(children=(HTML(value='epoch [3/10]'), FloatProgress(value=1.0, bar_style='info', layout=Layout(width='20p…"
      ]
     },
     "metadata": {},
     "output_type": "display_data"
    },
    {
     "name": "stdout",
     "output_type": "stream",
     "text": [
      "\n",
      "Epoch: [3/10], Loss: 0.0711\n"
     ]
    },
    {
     "data": {
      "application/vnd.jupyter.widget-view+json": {
       "model_id": "f9d0e8b82f054466bbe93353ce027f08",
       "version_major": 2,
       "version_minor": 0
      },
      "text/plain": [
       "HBox(children=(HTML(value='epoch [4/10]'), FloatProgress(value=1.0, bar_style='info', layout=Layout(width='20p…"
      ]
     },
     "metadata": {},
     "output_type": "display_data"
    },
    {
     "name": "stdout",
     "output_type": "stream",
     "text": [
      "\n",
      "Epoch: [4/10], Loss: 0.0595\n"
     ]
    },
    {
     "data": {
      "application/vnd.jupyter.widget-view+json": {
       "model_id": "21978fa8a8174893a85d9084de87ad0b",
       "version_major": 2,
       "version_minor": 0
      },
      "text/plain": [
       "HBox(children=(HTML(value='epoch [5/10]'), FloatProgress(value=1.0, bar_style='info', layout=Layout(width='20p…"
      ]
     },
     "metadata": {},
     "output_type": "display_data"
    },
    {
     "name": "stdout",
     "output_type": "stream",
     "text": [
      "\n",
      "Epoch: [5/10], Loss: 0.0506\n"
     ]
    },
    {
     "data": {
      "application/vnd.jupyter.widget-view+json": {
       "model_id": "5eddc8944fdc4c48b05d06cd6429b4a1",
       "version_major": 2,
       "version_minor": 0
      },
      "text/plain": [
       "HBox(children=(HTML(value='epoch [6/10]'), FloatProgress(value=1.0, bar_style='info', layout=Layout(width='20p…"
      ]
     },
     "metadata": {},
     "output_type": "display_data"
    },
    {
     "name": "stdout",
     "output_type": "stream",
     "text": [
      "\n",
      "Epoch: [6/10], Loss: 0.0435\n"
     ]
    },
    {
     "data": {
      "application/vnd.jupyter.widget-view+json": {
       "model_id": "7a4786347881446299ff01c04a9614ea",
       "version_major": 2,
       "version_minor": 0
      },
      "text/plain": [
       "HBox(children=(HTML(value='epoch [7/10]'), FloatProgress(value=1.0, bar_style='info', layout=Layout(width='20p…"
      ]
     },
     "metadata": {},
     "output_type": "display_data"
    },
    {
     "name": "stdout",
     "output_type": "stream",
     "text": [
      "\n",
      "Epoch: [7/10], Loss: 0.0378\n"
     ]
    },
    {
     "data": {
      "application/vnd.jupyter.widget-view+json": {
       "model_id": "c2ae35bcabca4bdd8f5234acd33af454",
       "version_major": 2,
       "version_minor": 0
      },
      "text/plain": [
       "HBox(children=(HTML(value='epoch [8/10]'), FloatProgress(value=1.0, bar_style='info', layout=Layout(width='20p…"
      ]
     },
     "metadata": {},
     "output_type": "display_data"
    },
    {
     "name": "stdout",
     "output_type": "stream",
     "text": [
      "\n",
      "Epoch: [8/10], Loss: 0.0331\n"
     ]
    },
    {
     "data": {
      "application/vnd.jupyter.widget-view+json": {
       "model_id": "d60c3fb5b1724154a9b0492d7a946e52",
       "version_major": 2,
       "version_minor": 0
      },
      "text/plain": [
       "HBox(children=(HTML(value='epoch [9/10]'), FloatProgress(value=1.0, bar_style='info', layout=Layout(width='20p…"
      ]
     },
     "metadata": {},
     "output_type": "display_data"
    },
    {
     "name": "stdout",
     "output_type": "stream",
     "text": [
      "\n",
      "Epoch: [9/10], Loss: 0.0294\n"
     ]
    },
    {
     "data": {
      "application/vnd.jupyter.widget-view+json": {
       "model_id": "e1e3e630ab4e4351a8246e0ef64ee09b",
       "version_major": 2,
       "version_minor": 0
      },
      "text/plain": [
       "HBox(children=(HTML(value='epoch [10/10]'), FloatProgress(value=1.0, bar_style='info', layout=Layout(width='20…"
      ]
     },
     "metadata": {},
     "output_type": "display_data"
    },
    {
     "name": "stdout",
     "output_type": "stream",
     "text": [
      "\n",
      "Epoch: [10/10], Loss: 0.0265\n"
     ]
    }
   ],
   "source": [
    "model_layer_1 = utils.train_logreg_model(layer_1_X, y, lambda_l1=0.001, lambda_l2=0.001)"
   ]
  },
  {
   "cell_type": "code",
   "execution_count": 47,
   "metadata": {},
   "outputs": [
    {
     "data": {
      "application/vnd.jupyter.widget-view+json": {
       "model_id": "afb7405a49e8449caefeadf4e64aceec",
       "version_major": 2,
       "version_minor": 0
      },
      "text/plain": [
       "HBox(children=(HTML(value='Evaluating'), FloatProgress(value=1.0, bar_style='info', layout=Layout(width='20px'…"
      ]
     },
     "metadata": {},
     "output_type": "display_data"
    },
    {
     "name": "stdout",
     "output_type": "stream",
     "text": [
      "\n",
      "Score (accuracy) of the model: 0.95\n"
     ]
    },
    {
     "data": {
      "text/plain": [
       "{'__OVERALL__': 0.9529411764705882,\n",
       " 'PREP': 1.0,\n",
       " 'PREP+NOUN': 1.0,\n",
       " 'V+PRON': 1.0,\n",
       " 'DET+NOUN+NSUFF': 1.0,\n",
       " 'PRON': 1.0,\n",
       " 'NOUN+NSUFF': 0.6666666666666666,\n",
       " 'PART': 1.0,\n",
       " 'DET+ADJ': 0.6666666666666666,\n",
       " 'PREP+PRON': 1.0,\n",
       " 'CONJ': 1.0,\n",
       " 'NOUN': 0.9090909090909091,\n",
       " 'DET+NOUN': 0.9285714285714286,\n",
       " 'ADJ+NSUFF': 1.0,\n",
       " 'PUNC': 1.0,\n",
       " 'NOUN+PRON': 1.0,\n",
       " 'V': 1.0}"
      ]
     },
     "execution_count": 47,
     "metadata": {},
     "output_type": "execute_result"
    }
   ],
   "source": [
    "utils.evaluate_model(model_layer_1, layer_1_X, y, idx_to_class=idx2label)"
   ]
  },
  {
   "cell_type": "markdown",
   "metadata": {},
   "source": [
    "# Get Neuron Ranking"
   ]
  },
  {
   "cell_type": "code",
   "execution_count": 48,
   "metadata": {},
   "outputs": [
    {
     "data": {
      "application/vnd.jupyter.widget-view+json": {
       "model_id": "5df3baafc3654985a9e3a8ff08d073a2",
       "version_major": 2,
       "version_minor": 0
      },
      "text/plain": [
       "HBox(children=(HTML(value=''), FloatProgress(value=0.0, max=101.0), HTML(value='')))"
      ]
     },
     "metadata": {},
     "output_type": "display_data"
    },
    {
     "name": "stdout",
     "output_type": "stream",
     "text": [
      "\n"
     ]
    }
   ],
   "source": [
    "ordering, cutoffs = utils.get_neuron_ordering(model, label2idx)"
   ]
  },
  {
   "cell_type": "code",
   "execution_count": 49,
   "metadata": {},
   "outputs": [
    {
     "data": {
      "text/plain": [
       "[5568, 4367, 8080, 3219, 2903, 2648, 6263, 2199, 2716, 3165]"
      ]
     },
     "execution_count": 49,
     "metadata": {},
     "output_type": "execute_result"
    }
   ],
   "source": [
    "ordering[:10]"
   ]
  },
  {
   "cell_type": "markdown",
   "metadata": {},
   "source": [
    "# Train on top N neurons"
   ]
  },
  {
   "cell_type": "code",
   "execution_count": 62,
   "metadata": {},
   "outputs": [],
   "source": [
    "X_selected = utils.filter_activations_keep_neurons(ordering[:100], X)"
   ]
  },
  {
   "cell_type": "code",
   "execution_count": 63,
   "metadata": {},
   "outputs": [
    {
     "data": {
      "text/plain": [
       "(85, 100)"
      ]
     },
     "execution_count": 63,
     "metadata": {},
     "output_type": "execute_result"
    }
   ],
   "source": [
    "X_selected.shape"
   ]
  },
  {
   "cell_type": "code",
   "execution_count": 64,
   "metadata": {},
   "outputs": [
    {
     "name": "stdout",
     "output_type": "stream",
     "text": [
      "Training classification model\n",
      "Creating model...\n",
      "Number of training instances: 85\n",
      "Number of classes: 16\n"
     ]
    },
    {
     "data": {
      "application/vnd.jupyter.widget-view+json": {
       "model_id": "b13a8b5b6e52469f80e9fc97ffe7948f",
       "version_major": 2,
       "version_minor": 0
      },
      "text/plain": [
       "HBox(children=(HTML(value='epoch [1/10]'), FloatProgress(value=1.0, bar_style='info', layout=Layout(width='20p…"
      ]
     },
     "metadata": {},
     "output_type": "display_data"
    },
    {
     "name": "stdout",
     "output_type": "stream",
     "text": [
      "\n",
      "Epoch: [1/10], Loss: 0.1085\n"
     ]
    },
    {
     "data": {
      "application/vnd.jupyter.widget-view+json": {
       "model_id": "cea52b8d2d02449989b7dfa122a46d01",
       "version_major": 2,
       "version_minor": 0
      },
      "text/plain": [
       "HBox(children=(HTML(value='epoch [2/10]'), FloatProgress(value=1.0, bar_style='info', layout=Layout(width='20p…"
      ]
     },
     "metadata": {},
     "output_type": "display_data"
    },
    {
     "name": "stdout",
     "output_type": "stream",
     "text": [
      "\n",
      "Epoch: [2/10], Loss: 0.1050\n"
     ]
    },
    {
     "data": {
      "application/vnd.jupyter.widget-view+json": {
       "model_id": "af5b6a17631a4b3eb8230066f1a5c459",
       "version_major": 2,
       "version_minor": 0
      },
      "text/plain": [
       "HBox(children=(HTML(value='epoch [3/10]'), FloatProgress(value=1.0, bar_style='info', layout=Layout(width='20p…"
      ]
     },
     "metadata": {},
     "output_type": "display_data"
    },
    {
     "name": "stdout",
     "output_type": "stream",
     "text": [
      "\n",
      "Epoch: [3/10], Loss: 0.1018\n"
     ]
    },
    {
     "data": {
      "application/vnd.jupyter.widget-view+json": {
       "model_id": "85852741241248abbe2619ec2b8dc040",
       "version_major": 2,
       "version_minor": 0
      },
      "text/plain": [
       "HBox(children=(HTML(value='epoch [4/10]'), FloatProgress(value=1.0, bar_style='info', layout=Layout(width='20p…"
      ]
     },
     "metadata": {},
     "output_type": "display_data"
    },
    {
     "name": "stdout",
     "output_type": "stream",
     "text": [
      "\n",
      "Epoch: [4/10], Loss: 0.0987\n"
     ]
    },
    {
     "data": {
      "application/vnd.jupyter.widget-view+json": {
       "model_id": "f613e19def8544c68ad59cab02d52f9e",
       "version_major": 2,
       "version_minor": 0
      },
      "text/plain": [
       "HBox(children=(HTML(value='epoch [5/10]'), FloatProgress(value=1.0, bar_style='info', layout=Layout(width='20p…"
      ]
     },
     "metadata": {},
     "output_type": "display_data"
    },
    {
     "name": "stdout",
     "output_type": "stream",
     "text": [
      "\n",
      "Epoch: [5/10], Loss: 0.0957\n"
     ]
    },
    {
     "data": {
      "application/vnd.jupyter.widget-view+json": {
       "model_id": "12de52e19ff94165b88fc1cf371fa5c1",
       "version_major": 2,
       "version_minor": 0
      },
      "text/plain": [
       "HBox(children=(HTML(value='epoch [6/10]'), FloatProgress(value=1.0, bar_style='info', layout=Layout(width='20p…"
      ]
     },
     "metadata": {},
     "output_type": "display_data"
    },
    {
     "name": "stdout",
     "output_type": "stream",
     "text": [
      "\n",
      "Epoch: [6/10], Loss: 0.0929\n"
     ]
    },
    {
     "data": {
      "application/vnd.jupyter.widget-view+json": {
       "model_id": "49dd0b7a667347bc919f1e7f29865855",
       "version_major": 2,
       "version_minor": 0
      },
      "text/plain": [
       "HBox(children=(HTML(value='epoch [7/10]'), FloatProgress(value=1.0, bar_style='info', layout=Layout(width='20p…"
      ]
     },
     "metadata": {},
     "output_type": "display_data"
    },
    {
     "name": "stdout",
     "output_type": "stream",
     "text": [
      "\n",
      "Epoch: [7/10], Loss: 0.0901\n"
     ]
    },
    {
     "data": {
      "application/vnd.jupyter.widget-view+json": {
       "model_id": "b18da1db283d408590b0b9a73150fd3c",
       "version_major": 2,
       "version_minor": 0
      },
      "text/plain": [
       "HBox(children=(HTML(value='epoch [8/10]'), FloatProgress(value=1.0, bar_style='info', layout=Layout(width='20p…"
      ]
     },
     "metadata": {},
     "output_type": "display_data"
    },
    {
     "name": "stdout",
     "output_type": "stream",
     "text": [
      "\n",
      "Epoch: [8/10], Loss: 0.0874\n"
     ]
    },
    {
     "data": {
      "application/vnd.jupyter.widget-view+json": {
       "model_id": "69ae81e3562d422a96aea0e436085db3",
       "version_major": 2,
       "version_minor": 0
      },
      "text/plain": [
       "HBox(children=(HTML(value='epoch [9/10]'), FloatProgress(value=1.0, bar_style='info', layout=Layout(width='20p…"
      ]
     },
     "metadata": {},
     "output_type": "display_data"
    },
    {
     "name": "stdout",
     "output_type": "stream",
     "text": [
      "\n",
      "Epoch: [9/10], Loss: 0.0849\n"
     ]
    },
    {
     "data": {
      "application/vnd.jupyter.widget-view+json": {
       "model_id": "1d9d93a27bed4c3099f6d91cf6d5604c",
       "version_major": 2,
       "version_minor": 0
      },
      "text/plain": [
       "HBox(children=(HTML(value='epoch [10/10]'), FloatProgress(value=1.0, bar_style='info', layout=Layout(width='20…"
      ]
     },
     "metadata": {},
     "output_type": "display_data"
    },
    {
     "name": "stdout",
     "output_type": "stream",
     "text": [
      "\n",
      "Epoch: [10/10], Loss: 0.0824\n"
     ]
    }
   ],
   "source": [
    "model_selected = utils.train_logreg_model(X_selected, y, lambda_l1=0.001, lambda_l2=0.001)"
   ]
  },
  {
   "cell_type": "code",
   "execution_count": 65,
   "metadata": {},
   "outputs": [
    {
     "data": {
      "application/vnd.jupyter.widget-view+json": {
       "model_id": "c357e79fa0f946f2b7221aff33a6a059",
       "version_major": 2,
       "version_minor": 0
      },
      "text/plain": [
       "HBox(children=(HTML(value='Evaluating'), FloatProgress(value=1.0, bar_style='info', layout=Layout(width='20px'…"
      ]
     },
     "metadata": {},
     "output_type": "display_data"
    },
    {
     "name": "stdout",
     "output_type": "stream",
     "text": [
      "\n",
      "Score (accuracy) of the model: 0.39\n"
     ]
    },
    {
     "data": {
      "text/plain": [
       "{'__OVERALL__': 0.38823529411764707,\n",
       " 'PREP': 0.0,\n",
       " 'PREP+NOUN': 0.0,\n",
       " 'V+PRON': 0.6666666666666666,\n",
       " 'DET+NOUN+NSUFF': 0.42857142857142855,\n",
       " 'PRON': 0.0,\n",
       " 'NOUN+NSUFF': 0.3333333333333333,\n",
       " 'PART': 0.0,\n",
       " 'DET+ADJ': 0.0,\n",
       " 'PREP+PRON': 0.5,\n",
       " 'CONJ': 0.3333333333333333,\n",
       " 'NOUN': 0.6363636363636364,\n",
       " 'DET+NOUN': 0.35714285714285715,\n",
       " 'ADJ+NSUFF': 0.0,\n",
       " 'PUNC': 0.8,\n",
       " 'NOUN+PRON': 0.0,\n",
       " 'V': 0.5}"
      ]
     },
     "execution_count": 65,
     "metadata": {},
     "output_type": "execute_result"
    }
   ],
   "source": [
    "utils.evaluate_model(model_selected, X_selected, y, idx_to_class=idx2label)"
   ]
  },
  {
   "cell_type": "markdown",
   "metadata": {},
   "source": [
    "# Further analysis"
   ]
  },
  {
   "cell_type": "code",
   "execution_count": 66,
   "metadata": {},
   "outputs": [],
   "source": [
    "top_neurons = utils.get_top_neurons(model, 0.01, label2idx)"
   ]
  },
  {
   "cell_type": "code",
   "execution_count": 67,
   "metadata": {},
   "outputs": [
    {
     "data": {
      "text/plain": [
       "(array([   0,    4, 8201, 4108,   14, 8207, 2068, 4120, 8217, 6170, 4123,\n",
       "          26, 6180, 2085, 8228,   40,   51, 8248, 2107, 6205, 6209, 6220,\n",
       "        4174, 6226,   84,   95, 6243, 4206, 4208,  113, 6263, 2168, 4219,\n",
       "        8316,  138,  139, 6284, 6285, 4235, 6292, 2199, 2213, 6311, 2218,\n",
       "        6317, 4270, 2223, 2224, 4277, 2234, 6341, 2246,  205, 2261, 2264,\n",
       "         217, 8415, 6369, 2274, 2275,  233, 6378, 4332, 2293, 8445, 4358,\n",
       "        4367,  273,  280,  281,  289, 8482, 6439,  304,  315, 6464, 2388,\n",
       "         344, 8539,  356, 2408, 6511, 2416, 4470,  380, 2438,  395,  398,\n",
       "         399, 6559, 6563,  423, 4528, 2484,  439, 6584, 8635,  451, 6602,\n",
       "        4555, 2511, 6608,  471, 6622, 8670, 2537,  491, 2546, 8698, 2568,\n",
       "         535,  537, 4635, 8752,  569, 4669,  576, 2632, 4681, 4683, 8784,\n",
       "        8792, 2648, 8796, 4701, 8802, 2669, 8816, 6773, 4727, 2698, 6798,\n",
       "         654, 2705, 8850, 2710,  663, 2716, 2732, 8883, 4789, 2744, 2752,\n",
       "        4819, 4820, 4833, 2787, 4836, 4839,  743, 8938, 2796, 2815, 2827,\n",
       "        6925, 2839, 6942,  802, 8996,  810, 9003, 6965, 4920, 9019,  838,\n",
       "         841, 2891, 2903,  858, 7003, 2911, 7010, 2918, 9064, 2924,  881,\n",
       "         882,  887,  890, 7039, 4993, 9099, 5003,  922, 5022, 9122, 9127,\n",
       "        5033, 2985, 3016,  971, 7115, 7119, 5076, 7124, 5078, 5080, 3036,\n",
       "        5089, 3048, 5096, 1012, 5113, 7162, 1019, 1036, 5135, 1055, 1062,\n",
       "        3123, 1080, 5181, 7234, 1094, 5208, 9305, 1112, 3165, 1119, 3173,\n",
       "        3183, 3185, 3187, 1145, 1150, 3207, 3213, 9358, 5263, 3219, 7316,\n",
       "        5271, 3226, 9372, 1183, 7329, 9383, 5291, 5292, 9403, 3267, 7368,\n",
       "        9420, 5333, 1242, 5340, 1253, 3304, 1260, 9455, 5373, 5374, 3329,\n",
       "        1283, 5396, 1308, 9506, 9507, 1314, 3368, 9522, 9526, 3384, 1339,\n",
       "        7486, 7487, 7497, 5450, 5469, 9570, 9571, 9575, 1386, 5482, 7546,\n",
       "        3455, 3466, 3473, 9620, 1444, 1445, 9639, 3503, 1456, 9652, 9653,\n",
       "        3512, 9661, 7615, 5568, 5570, 7621, 5578, 5588, 3541, 7641, 7642,\n",
       "        9690, 1498, 9696, 3564, 1526, 5622, 1549, 9743, 1554, 9760, 9772,\n",
       "        7724, 1587, 1597, 9795, 7749, 3656, 7759, 3669, 5724, 5725, 1630,\n",
       "        3680, 1650, 7799, 1655, 1660, 5762, 7815, 3721, 1674, 9867, 1676,\n",
       "        1679, 9872, 3730, 3738, 7836, 5788, 5789, 7845, 5800, 9906, 9911,\n",
       "        3770, 1732, 9940, 5848, 9951, 5856, 1776, 3826, 1783, 7930, 5888,\n",
       "        7937, 7941, 5893, 1800, 5897, 7946, 3855, 5903, 1813, 7963, 7971,\n",
       "        1827, 5931, 1838, 5936, 3898, 5961, 3913, 3919, 5971, 3924, 8025,\n",
       "        5980, 1892, 3941, 8052, 6005, 8060, 3968, 6020, 3979, 1934, 1935,\n",
       "        8080, 8082, 6034, 1942, 1945, 6046, 1967, 6068, 8117, 6072, 6074,\n",
       "        4035, 8133, 4045, 4047, 2010, 6119, 8171, 4086, 4087]),\n",
       " {'PREP': array([2903, 6925,  881, 2924,  802, 7941, 4358, 5578,    0, 8316, 4993,\n",
       "         9305, 4635, 9372, 9455,  217, 4208, 6773, 4174,  289, 1942, 3855,\n",
       "         7937, 5971, 4219, 4045, 1892]),\n",
       "  'PREP+NOUN': array([4367, 6559, 5848, 1386, 1660,  535, 8082, 2839, 3941, 8816, 3173,\n",
       "         3669, 6209, 5033, 5888, 1456, 9652, 7971, 1655, 5080, 4669, 2924,\n",
       "          971, 2891, 9507, 6072]),\n",
       "  'V+PRON': array([6263, 9772, 2264, 4727,  423, 7799, 1732, 7759, 4839, 1445, 2669,\n",
       "         5897, 6243, 7946, 1827, 9906, 8248, 9760, 2068, 6798, 2911, 6311,\n",
       "         1630, 7368]),\n",
       "  'DET+NOUN+NSUFF': array([6317,  858, 6464, 6170, 2537, 8415, 9951, 2234, 1942, 3187,  380,\n",
       "         2710, 5135, 1308, 2408, 9506, 6511, 7642, 6563, 7162,  576, 1676,\n",
       "         5076, 7930, 3304,  922,  280, 6226]),\n",
       "  'PRON': array([5291, 9420, 1935, 1674,  281, 3329, 6439, 1036, 3738, 5856, 4206,\n",
       "         9620, 1967, 9003, 9099, 3048,  138, 8698, 1597, 3770, 9696,  399,\n",
       "         8025, 4920, 8217]),\n",
       "  'NOUN+NSUFF': array([1119,   51, 2918, 4047, 7119, 9122,  810, 2085, 3368, 3924, 1526,\n",
       "         1314, 3826, 2511, 6622, 1587, 4120, 2213, 7486, 2787, 2388, 4681,\n",
       "         8060,  841, 3267]),\n",
       "  'PART': array([2716, 3207, 3564, 2796, 2815, 7836,  663, 6341, 6074, 4332, 5788,\n",
       "         2168,  471, 2732, 7749, 1145, 1260, 1036, 8752, 2274, 6378, 1150,\n",
       "           95, 9872, 3968,  395]),\n",
       "  'DET+ADJ': array([1386, 1945,  882, 6284, 1650, 6602, 5078, 1012, 4836, 5482, 5961,\n",
       "         8052, 9127, 2484, 2010, 6034, 8784, 6119, 1339, 6608, 3680, 7039,\n",
       "         2218, 1094,  537, 7115]),\n",
       "  'PREP+PRON': array([9522,  491, 3512, 8796, 8850, 2293,   84, 1444, 6584, 7724, 5724,\n",
       "         6180, 5725,   40,  315,  304, 6220,  890, 7487, 8117, 9653,   14,\n",
       "         1019, 3898]),\n",
       "  'CONJ': array([3165, 3913,  139, 2705, 3473, 2985, 5931, 4701, 5469, 7963, 7316,\n",
       "         9019, 4035, 4555, 5208, 2744, 8792, 4470, 3730, 9911, 3919, 2827,\n",
       "         4123, 1145, 1183,  838,  205]),\n",
       "  'NOUN': array([2648, 9099, 3213, 3036, 1112, 3016, 2275, 3503,  569, 9867, 5374,\n",
       "         6020, 5022, 2438, 7329, 9064, 6046, 8207,  344, 9305, 3226, 8883,\n",
       "         8539, 9795, 5450, 5181, 5396, 1253, 1554]),\n",
       "  'DET+NOUN': array([4087, 8133,  451, 4206,   26, 9570, 5333, 8802,  113, 2698, 9690,\n",
       "         2261, 8445,  439, 5936, 2224, 2223, 3466, 7845, 1062, 9526, 1783,\n",
       "         5089, 7003, 5340, 3183,  273, 8539, 5903]),\n",
       "  'ADJ+NSUFF': array([8080, 4270, 5800, 7010, 3979, 3384, 1055, 9358, 3656, 8201, 5897,\n",
       "         3123, 4819, 3185, 8938, 1679, 5893, 7546, 5980, 7234, 3721, 8670,\n",
       "         6942, 9661, 5292, 9867]),\n",
       "  'PUNC': array([3219, 9383, 4086, 8996, 5113, 8228, 1498, 3455, 9940, 9019, 5003,\n",
       "         9743, 1549, 2546, 6965, 2107, 5570, 4108, 5622, 5789, 7497, 6285,\n",
       "         7003,  356, 8080, 7815, 5263,  887]),\n",
       "  'NOUN+PRON': array([5568, 4528, 2246,  233, 1838,  654, 6292, 8635, 7615, 9403, 6005,\n",
       "         1080, 9575, 7641, 6369, 1183, 4277, 8482, 6068, 5762, 4833, 2632,\n",
       "         9639,  743]),\n",
       "  'V': array([2199, 4683, 1934, 1813, 5096, 7124,    4, 6205, 1242, 8171,  398,\n",
       "         4789, 5588,  395, 7621, 5271, 2568, 4820, 1800, 5373, 1283, 4235,\n",
       "         9571, 3541, 1776, 2416, 2752])})"
      ]
     },
     "execution_count": 67,
     "metadata": {},
     "output_type": "execute_result"
    }
   ],
   "source": [
    "top_neurons"
   ]
  },
  {
   "cell_type": "code",
   "execution_count": 68,
   "metadata": {},
   "outputs": [
    {
     "data": {
      "application/vnd.jupyter.widget-view+json": {
       "model_id": "f6672f4a4d6d4950bc3f24e2eabb676b",
       "version_major": 2,
       "version_minor": 0
      },
      "text/plain": [
       "HBox(children=(HTML(value='Evaluating'), FloatProgress(value=1.0, bar_style='info', layout=Layout(width='20px'…"
      ]
     },
     "metadata": {},
     "output_type": "display_data"
    },
    {
     "name": "stdout",
     "output_type": "stream",
     "text": [
      "\n",
      "Score (accuracy) of the model: 0.33\n"
     ]
    },
    {
     "data": {
      "text/plain": [
       "{'__OVERALL__': 0.32941176470588235,\n",
       " 'PREP': 0.16666666666666666,\n",
       " 'PREP+NOUN': 1.0,\n",
       " 'V+PRON': 0.3333333333333333,\n",
       " 'DET+NOUN+NSUFF': 0.2857142857142857,\n",
       " 'PRON': 0.0,\n",
       " 'NOUN+NSUFF': 0.0,\n",
       " 'PART': 1.0,\n",
       " 'DET+ADJ': 0.3333333333333333,\n",
       " 'PREP+PRON': 0.0,\n",
       " 'CONJ': 0.3333333333333333,\n",
       " 'NOUN': 0.18181818181818182,\n",
       " 'DET+NOUN': 0.14285714285714285,\n",
       " 'ADJ+NSUFF': 0.5,\n",
       " 'PUNC': 0.9,\n",
       " 'NOUN+PRON': 1.0,\n",
       " 'V': 0.0}"
      ]
     },
     "execution_count": 68,
     "metadata": {},
     "output_type": "execute_result"
    }
   ],
   "source": [
    "X_zeroed = utils.zero_out_activations_keep_neurons(ordering[:10], X)\n",
    "utils.evaluate_model(model, X_zeroed, y, idx_to_class=idx2label)"
   ]
  },
  {
   "cell_type": "code",
   "execution_count": 86,
   "metadata": {},
   "outputs": [
    {
     "data": {
      "text/plain": [
       "[array([[-0.31712773,  0.25761881,  0.55649602, ...,  1.02079916,\n",
       "          0.74297106,  0.28554019],\n",
       "        [ 0.21799527,  0.67488086,  0.27057877, ...,  0.7879101 ,\n",
       "          0.47191897,  0.41795936],\n",
       "        [ 0.14937855, -0.12780708,  0.2452282 , ...,  1.14842796,\n",
       "         -0.03361775, -0.75642848],\n",
       "        ...,\n",
       "        [-0.8342008 ,  2.23695898,  1.12613237, ...,  0.70942152,\n",
       "          0.82478094, -0.00778293],\n",
       "        [-1.57582808,  1.80389714,  0.89772081, ...,  1.45170391,\n",
       "          0.99885601,  0.10062478],\n",
       "        [-1.45621371,  1.57555151, -0.39252782, ...,  1.12517512,\n",
       "          1.03058934, -0.12751535]]),\n",
       " array([[-0.90471631, -0.48379153,  0.80337554, ...,  1.13737488,\n",
       "          0.01800438, -0.50963306],\n",
       "        [-0.29100445, -0.55599517,  0.83081937, ...,  0.34257746,\n",
       "          0.898453  , -0.38467422],\n",
       "        [ 0.41927424, -0.75273305,  0.10223106, ...,  0.23210475,\n",
       "          1.11697245, -0.70027936],\n",
       "        ...,\n",
       "        [-0.34435731,  0.28794068,  0.15500608, ...,  0.33471844,\n",
       "          0.3930586 , -0.78294599],\n",
       "        [-0.43178171,  0.99960566, -0.91997743, ...,  0.91579759,\n",
       "          0.48848164, -0.09157443],\n",
       "        [-0.82879299,  0.73782575, -1.47933996, ...,  1.04127836,\n",
       "          1.06256104, -0.31031674]]),\n",
       " array([[-0.56417012,  0.23802775,  0.22488269, ..., -0.0464257 ,\n",
       "          0.22700493,  0.56995428],\n",
       "        [-0.99602413, -0.04004815,  0.71406662, ..., -1.20815969,\n",
       "          0.70877504,  1.05902433],\n",
       "        [-0.54460752, -0.1024974 ,  0.28710005, ..., -0.03783816,\n",
       "          0.46844095,  0.47814038],\n",
       "        ...,\n",
       "        [-0.29626352, -1.30806577,  0.28718495, ...,  1.51257372,\n",
       "          0.29730085,  0.7167176 ],\n",
       "        [-0.02228899,  0.44479188, -0.26746488, ...,  0.24174537,\n",
       "         -1.14665759,  0.77956355],\n",
       "        [ 0.03569771,  1.07205224, -0.83103991, ...,  0.46002555,\n",
       "         -0.51594257,  1.01952612]]),\n",
       " array([[-0.56417012,  0.23802775,  0.22488269, ...,  0.37976331,\n",
       "         -0.32118979,  0.33533281],\n",
       "        [ 0.07141641,  0.50480944,  0.00813819, ..., -0.64679807,\n",
       "         -0.4854891 , -0.09572554],\n",
       "        [ 0.71021605,  0.08723916, -0.00791568, ..., -0.93585676,\n",
       "          0.02635092, -0.68578261],\n",
       "        ...,\n",
       "        [-0.21891297,  1.81678247, -0.76344925, ...,  0.83594662,\n",
       "         -0.74256277,  0.40005681],\n",
       "        [-1.30179644,  1.33648503, -0.58355904, ...,  1.38287234,\n",
       "         -0.65204263, -0.87376082],\n",
       "        [-1.89454746,  0.48398119, -0.35728049, ...,  0.83810246,\n",
       "         -0.22240838, -1.16973877]]),\n",
       " array([[ 3.00824400e-01, -3.55307640e-01,  3.82871270e-01, ...,\n",
       "          4.22185120e-01,  6.10947070e-01,  6.24168280e-01],\n",
       "        [ 1.08800960e+00, -2.57314320e-01, -3.55612900e-02, ...,\n",
       "          2.99191710e-01, -3.78795600e-02,  9.43661150e-01],\n",
       "        [-3.29087020e-01,  6.13383500e-02,  3.98305200e-02, ...,\n",
       "          1.71804821e+00,  4.17154910e-01, -6.81942400e-01],\n",
       "        ...,\n",
       "        [ 1.06337600e-02,  2.81981410e-01, -6.47888060e-01, ...,\n",
       "          5.48100000e-05, -6.57360910e-01, -1.53235817e+00],\n",
       "        [ 5.60491680e-01,  9.45201040e-01, -2.46918590e-01, ...,\n",
       "         -4.52269600e-02, -9.12342910e-01, -1.42051411e+00],\n",
       "        [ 1.41313490e-01,  6.69765710e-01, -6.33563700e-01, ...,\n",
       "          4.47093460e-01, -8.64459300e-02, -2.17603850e+00]]),\n",
       " array([[-0.56417012,  0.23802775,  0.22488269, ...,  0.81097239,\n",
       "         -0.03325012,  0.95129383],\n",
       "        [-0.16006884,  0.95063919, -0.27146977, ...,  0.50583231,\n",
       "          0.06379135,  1.38391376],\n",
       "        [-0.71977323,  1.32167327,  0.49955145, ...,  1.23316193,\n",
       "          0.41530356,  0.32987392],\n",
       "        ...,\n",
       "        [-0.41814333, -0.79310727,  0.10407823, ...,  0.46007252,\n",
       "          0.80009013,  0.67497802],\n",
       "        [-0.23769249, -0.01756222,  0.70330137, ...,  0.53474981,\n",
       "          1.0328021 ,  0.61249244],\n",
       "        [-0.39310974,  0.58312327, -0.09765109, ...,  0.29158127,\n",
       "          1.17510486, -0.10932451]]),\n",
       " array([[-0.56417012,  0.23802775,  0.22488269, ...,  0.49869812,\n",
       "         -0.34629914,  0.1821233 ],\n",
       "        [-0.1794581 ,  0.49319369,  1.10925043, ..., -0.49307212,\n",
       "         -0.39937833,  0.55727232],\n",
       "        [ 0.31649113, -0.07365605,  1.57577157, ...,  0.63264978,\n",
       "         -0.26712278,  0.56268257],\n",
       "        ...,\n",
       "        [ 0.17810887, -1.14228451, -0.73623991, ...,  0.24880271,\n",
       "         -0.72015113, -0.03566379],\n",
       "        [ 0.61463362, -0.29417366, -0.54968733, ...,  1.07814825,\n",
       "         -1.38366067, -0.54310638],\n",
       "        [-0.2025529 ,  0.06090948, -0.51381671, ...,  1.25817919,\n",
       "         -0.63965154, -1.35516465]])]"
      ]
     },
     "execution_count": 86,
     "metadata": {},
     "output_type": "execute_result"
    }
   ],
   "source": [
    "activations"
   ]
  },
  {
   "cell_type": "code",
   "execution_count": 73,
   "metadata": {},
   "outputs": [
    {
     "data": {
      "image/svg+xml": [
       "<svg baseProfile=\"full\" height=\"30.0\" version=\"1.1\" viewBox=\"0,0,719.8,30.0\" width=\"719.8\" xmlns=\"http://www.w3.org/2000/svg\" xmlns:ev=\"http://www.w3.org/2001/xml-events\" xmlns:xlink=\"http://www.w3.org/1999/xlink\"><defs /><g><rect height=\"25.00px\" style=\"opacity:0.17611;&#10;            fill:#00aad4;&#10;            fill-opacity:1;&#10;            stroke:none;&#10;            stroke-width:0.26499999;&#10;            stroke-linecap:round;&#10;            stroke-linejoin:miter;&#10;            stroke-miterlimit:4;&#10;            stroke-dasharray:none;&#10;            stroke-dashoffset:0;&#10;            stroke-opacity:1\" width=\"11.80px\" x=\"0.0\" y=\"7.0\" /><rect height=\"25.00px\" style=\"opacity:0.17611;&#10;            fill:#00aad4;&#10;            fill-opacity:1;&#10;            stroke:none;&#10;            stroke-width:0.26499999;&#10;            stroke-linecap:round;&#10;            stroke-linejoin:miter;&#10;            stroke-miterlimit:4;&#10;            stroke-dasharray:none;&#10;            stroke-dashoffset:0;&#10;            stroke-opacity:1\" width=\"11.80px\" x=\"11.799999999999999\" y=\"7.0\" /><rect height=\"25.00px\" style=\"opacity:0.17611;&#10;            fill:#00aad4;&#10;            fill-opacity:1;&#10;            stroke:none;&#10;            stroke-width:0.26499999;&#10;            stroke-linecap:round;&#10;            stroke-linejoin:miter;&#10;            stroke-miterlimit:4;&#10;            stroke-dasharray:none;&#10;            stroke-dashoffset:0;&#10;            stroke-opacity:1\" width=\"11.80px\" x=\"23.599999999999998\" y=\"7.0\" /><rect height=\"25.00px\" style=\"opacity:0.65293;&#10;            fill:#00aad4;&#10;            fill-opacity:1;&#10;            stroke:none;&#10;            stroke-width:0.26499999;&#10;            stroke-linecap:round;&#10;            stroke-linejoin:miter;&#10;            stroke-miterlimit:4;&#10;            stroke-dasharray:none;&#10;            stroke-dashoffset:0;&#10;            stroke-opacity:1\" width=\"11.80px\" x=\"35.4\" y=\"7.0\" /><rect height=\"25.00px\" style=\"opacity:0.65293;&#10;            fill:#00aad4;&#10;            fill-opacity:1;&#10;            stroke:none;&#10;            stroke-width:0.26499999;&#10;            stroke-linecap:round;&#10;            stroke-linejoin:miter;&#10;            stroke-miterlimit:4;&#10;            stroke-dasharray:none;&#10;            stroke-dashoffset:0;&#10;            stroke-opacity:1\" width=\"11.80px\" x=\"47.199999999999996\" y=\"7.0\" /><rect height=\"25.00px\" style=\"opacity:0.65293;&#10;            fill:#00aad4;&#10;            fill-opacity:1;&#10;            stroke:none;&#10;            stroke-width:0.26499999;&#10;            stroke-linecap:round;&#10;            stroke-linejoin:miter;&#10;            stroke-miterlimit:4;&#10;            stroke-dasharray:none;&#10;            stroke-dashoffset:0;&#10;            stroke-opacity:1\" width=\"11.80px\" x=\"58.99999999999999\" y=\"7.0\" /><rect height=\"25.00px\" style=\"opacity:0.65293;&#10;            fill:#00aad4;&#10;            fill-opacity:1;&#10;            stroke:none;&#10;            stroke-width:0.26499999;&#10;            stroke-linecap:round;&#10;            stroke-linejoin:miter;&#10;            stroke-miterlimit:4;&#10;            stroke-dasharray:none;&#10;            stroke-dashoffset:0;&#10;            stroke-opacity:1\" width=\"11.80px\" x=\"70.8\" y=\"7.0\" /><rect height=\"25.00px\" style=\"opacity:0.65293;&#10;            fill:#00aad4;&#10;            fill-opacity:1;&#10;            stroke:none;&#10;            stroke-width:0.26499999;&#10;            stroke-linecap:round;&#10;            stroke-linejoin:miter;&#10;            stroke-miterlimit:4;&#10;            stroke-dasharray:none;&#10;            stroke-dashoffset:0;&#10;            stroke-opacity:1\" width=\"11.80px\" x=\"82.6\" y=\"7.0\" /><rect height=\"25.00px\" style=\"opacity:0.65293;&#10;            fill:#00aad4;&#10;            fill-opacity:1;&#10;            stroke:none;&#10;            stroke-width:0.26499999;&#10;            stroke-linecap:round;&#10;            stroke-linejoin:miter;&#10;            stroke-miterlimit:4;&#10;            stroke-dasharray:none;&#10;            stroke-dashoffset:0;&#10;            stroke-opacity:1\" width=\"11.80px\" x=\"94.39999999999999\" y=\"7.0\" /><rect height=\"25.00px\" style=\"opacity:0.65293;&#10;            fill:#00aad4;&#10;            fill-opacity:1;&#10;            stroke:none;&#10;            stroke-width:0.26499999;&#10;            stroke-linecap:round;&#10;            stroke-linejoin:miter;&#10;            stroke-miterlimit:4;&#10;            stroke-dasharray:none;&#10;            stroke-dashoffset:0;&#10;            stroke-opacity:1\" width=\"11.80px\" x=\"106.19999999999999\" y=\"7.0\" /><rect height=\"25.00px\" style=\"opacity:0.65293;&#10;            fill:#00aad4;&#10;            fill-opacity:1;&#10;            stroke:none;&#10;            stroke-width:0.26499999;&#10;            stroke-linecap:round;&#10;            stroke-linejoin:miter;&#10;            stroke-miterlimit:4;&#10;            stroke-dasharray:none;&#10;            stroke-dashoffset:0;&#10;            stroke-opacity:1\" width=\"11.80px\" x=\"117.99999999999999\" y=\"7.0\" /><rect height=\"25.00px\" style=\"opacity:1.00000;&#10;            fill:#00aad4;&#10;            fill-opacity:1;&#10;            stroke:none;&#10;            stroke-width:0.26499999;&#10;            stroke-linecap:round;&#10;            stroke-linejoin:miter;&#10;            stroke-miterlimit:4;&#10;            stroke-dasharray:none;&#10;            stroke-dashoffset:0;&#10;            stroke-opacity:1\" width=\"11.80px\" x=\"129.79999999999998\" y=\"7.0\" /><rect height=\"25.00px\" style=\"opacity:1.00000;&#10;            fill:#00aad4;&#10;            fill-opacity:1;&#10;            stroke:none;&#10;            stroke-width:0.26499999;&#10;            stroke-linecap:round;&#10;            stroke-linejoin:miter;&#10;            stroke-miterlimit:4;&#10;            stroke-dasharray:none;&#10;            stroke-dashoffset:0;&#10;            stroke-opacity:1\" width=\"11.80px\" x=\"141.6\" y=\"7.0\" /><rect height=\"25.00px\" style=\"opacity:1.00000;&#10;            fill:#00aad4;&#10;            fill-opacity:1;&#10;            stroke:none;&#10;            stroke-width:0.26499999;&#10;            stroke-linecap:round;&#10;            stroke-linejoin:miter;&#10;            stroke-miterlimit:4;&#10;            stroke-dasharray:none;&#10;            stroke-dashoffset:0;&#10;            stroke-opacity:1\" width=\"11.80px\" x=\"153.39999999999998\" y=\"7.0\" /><rect height=\"25.00px\" style=\"opacity:1.00000;&#10;            fill:#00aad4;&#10;            fill-opacity:1;&#10;            stroke:none;&#10;            stroke-width:0.26499999;&#10;            stroke-linecap:round;&#10;            stroke-linejoin:miter;&#10;            stroke-miterlimit:4;&#10;            stroke-dasharray:none;&#10;            stroke-dashoffset:0;&#10;            stroke-opacity:1\" width=\"11.80px\" x=\"165.2\" y=\"7.0\" /><rect height=\"25.00px\" style=\"opacity:1.00000;&#10;            fill:#00aad4;&#10;            fill-opacity:1;&#10;            stroke:none;&#10;            stroke-width:0.26499999;&#10;            stroke-linecap:round;&#10;            stroke-linejoin:miter;&#10;            stroke-miterlimit:4;&#10;            stroke-dasharray:none;&#10;            stroke-dashoffset:0;&#10;            stroke-opacity:1\" width=\"11.80px\" x=\"176.99999999999997\" y=\"7.0\" /><rect height=\"25.00px\" style=\"opacity:1.00000;&#10;            fill:#00aad4;&#10;            fill-opacity:1;&#10;            stroke:none;&#10;            stroke-width:0.26499999;&#10;            stroke-linecap:round;&#10;            stroke-linejoin:miter;&#10;            stroke-miterlimit:4;&#10;            stroke-dasharray:none;&#10;            stroke-dashoffset:0;&#10;            stroke-opacity:1\" width=\"11.80px\" x=\"188.79999999999998\" y=\"7.0\" /><rect height=\"25.00px\" style=\"opacity:1.00000;&#10;            fill:#00aad4;&#10;            fill-opacity:1;&#10;            stroke:none;&#10;            stroke-width:0.26499999;&#10;            stroke-linecap:round;&#10;            stroke-linejoin:miter;&#10;            stroke-miterlimit:4;&#10;            stroke-dasharray:none;&#10;            stroke-dashoffset:0;&#10;            stroke-opacity:1\" width=\"11.80px\" x=\"200.6\" y=\"7.0\" /><rect height=\"25.00px\" style=\"opacity:1.00000;&#10;            fill:#00aad4;&#10;            fill-opacity:1;&#10;            stroke:none;&#10;            stroke-width:0.26499999;&#10;            stroke-linecap:round;&#10;            stroke-linejoin:miter;&#10;            stroke-miterlimit:4;&#10;            stroke-dasharray:none;&#10;            stroke-dashoffset:0;&#10;            stroke-opacity:1\" width=\"11.80px\" x=\"212.39999999999998\" y=\"7.0\" /><rect height=\"25.00px\" style=\"opacity:1.00000;&#10;            fill:#00aad4;&#10;            fill-opacity:1;&#10;            stroke:none;&#10;            stroke-width:0.26499999;&#10;            stroke-linecap:round;&#10;            stroke-linejoin:miter;&#10;            stroke-miterlimit:4;&#10;            stroke-dasharray:none;&#10;            stroke-dashoffset:0;&#10;            stroke-opacity:1\" width=\"11.80px\" x=\"224.2\" y=\"7.0\" /><rect height=\"25.00px\" style=\"opacity:1.00000;&#10;            fill:#00aad4;&#10;            fill-opacity:1;&#10;            stroke:none;&#10;            stroke-width:0.26499999;&#10;            stroke-linecap:round;&#10;            stroke-linejoin:miter;&#10;            stroke-miterlimit:4;&#10;            stroke-dasharray:none;&#10;            stroke-dashoffset:0;&#10;            stroke-opacity:1\" width=\"11.80px\" x=\"235.99999999999997\" y=\"7.0\" /><rect height=\"25.00px\" style=\"opacity:0.61885;&#10;            fill:#00aad4;&#10;            fill-opacity:1;&#10;            stroke:none;&#10;            stroke-width:0.26499999;&#10;            stroke-linecap:round;&#10;            stroke-linejoin:miter;&#10;            stroke-miterlimit:4;&#10;            stroke-dasharray:none;&#10;            stroke-dashoffset:0;&#10;            stroke-opacity:1\" width=\"11.80px\" x=\"247.79999999999998\" y=\"7.0\" /><rect height=\"25.00px\" style=\"opacity:0.61885;&#10;            fill:#00aad4;&#10;            fill-opacity:1;&#10;            stroke:none;&#10;            stroke-width:0.26499999;&#10;            stroke-linecap:round;&#10;            stroke-linejoin:miter;&#10;            stroke-miterlimit:4;&#10;            stroke-dasharray:none;&#10;            stroke-dashoffset:0;&#10;            stroke-opacity:1\" width=\"11.80px\" x=\"259.59999999999997\" y=\"7.0\" /><rect height=\"25.00px\" style=\"opacity:0.61885;&#10;            fill:#00aad4;&#10;            fill-opacity:1;&#10;            stroke:none;&#10;            stroke-width:0.26499999;&#10;            stroke-linecap:round;&#10;            stroke-linejoin:miter;&#10;            stroke-miterlimit:4;&#10;            stroke-dasharray:none;&#10;            stroke-dashoffset:0;&#10;            stroke-opacity:1\" width=\"11.80px\" x=\"271.4\" y=\"7.0\" /><rect height=\"25.00px\" style=\"opacity:0.61885;&#10;            fill:#00aad4;&#10;            fill-opacity:1;&#10;            stroke:none;&#10;            stroke-width:0.26499999;&#10;            stroke-linecap:round;&#10;            stroke-linejoin:miter;&#10;            stroke-miterlimit:4;&#10;            stroke-dasharray:none;&#10;            stroke-dashoffset:0;&#10;            stroke-opacity:1\" width=\"11.80px\" x=\"283.2\" y=\"7.0\" /><rect height=\"25.00px\" style=\"opacity:0.61885;&#10;            fill:#00aad4;&#10;            fill-opacity:1;&#10;            stroke:none;&#10;            stroke-width:0.26499999;&#10;            stroke-linecap:round;&#10;            stroke-linejoin:miter;&#10;            stroke-miterlimit:4;&#10;            stroke-dasharray:none;&#10;            stroke-dashoffset:0;&#10;            stroke-opacity:1\" width=\"11.80px\" x=\"295.0\" y=\"7.0\" /><rect height=\"25.00px\" style=\"opacity:0.21460;&#10;            fill:#00aad4;&#10;            fill-opacity:1;&#10;            stroke:none;&#10;            stroke-width:0.26499999;&#10;            stroke-linecap:round;&#10;            stroke-linejoin:miter;&#10;            stroke-miterlimit:4;&#10;            stroke-dasharray:none;&#10;            stroke-dashoffset:0;&#10;            stroke-opacity:1\" width=\"11.80px\" x=\"306.79999999999995\" y=\"7.0\" /><rect height=\"25.00px\" style=\"opacity:0.21460;&#10;            fill:#00aad4;&#10;            fill-opacity:1;&#10;            stroke:none;&#10;            stroke-width:0.26499999;&#10;            stroke-linecap:round;&#10;            stroke-linejoin:miter;&#10;            stroke-miterlimit:4;&#10;            stroke-dasharray:none;&#10;            stroke-dashoffset:0;&#10;            stroke-opacity:1\" width=\"11.80px\" x=\"318.59999999999997\" y=\"7.0\" /><rect height=\"25.00px\" style=\"opacity:0.21460;&#10;            fill:#00aad4;&#10;            fill-opacity:1;&#10;            stroke:none;&#10;            stroke-width:0.26499999;&#10;            stroke-linecap:round;&#10;            stroke-linejoin:miter;&#10;            stroke-miterlimit:4;&#10;            stroke-dasharray:none;&#10;            stroke-dashoffset:0;&#10;            stroke-opacity:1\" width=\"11.80px\" x=\"330.4\" y=\"7.0\" /><rect height=\"25.00px\" style=\"opacity:0.21460;&#10;            fill:#00aad4;&#10;            fill-opacity:1;&#10;            stroke:none;&#10;            stroke-width:0.26499999;&#10;            stroke-linecap:round;&#10;            stroke-linejoin:miter;&#10;            stroke-miterlimit:4;&#10;            stroke-dasharray:none;&#10;            stroke-dashoffset:0;&#10;            stroke-opacity:1\" width=\"11.80px\" x=\"342.2\" y=\"7.0\" /><rect height=\"25.00px\" style=\"opacity:0.21460;&#10;            fill:#00aad4;&#10;            fill-opacity:1;&#10;            stroke:none;&#10;            stroke-width:0.26499999;&#10;            stroke-linecap:round;&#10;            stroke-linejoin:miter;&#10;            stroke-miterlimit:4;&#10;            stroke-dasharray:none;&#10;            stroke-dashoffset:0;&#10;            stroke-opacity:1\" width=\"11.80px\" x=\"353.99999999999994\" y=\"7.0\" /><rect height=\"25.00px\" style=\"opacity:0.02726;&#10;            fill:#00aad4;&#10;            fill-opacity:1;&#10;            stroke:none;&#10;            stroke-width:0.26499999;&#10;            stroke-linecap:round;&#10;            stroke-linejoin:miter;&#10;            stroke-miterlimit:4;&#10;            stroke-dasharray:none;&#10;            stroke-dashoffset:0;&#10;            stroke-opacity:1\" width=\"11.80px\" x=\"365.79999999999995\" y=\"7.0\" /><rect height=\"25.00px\" style=\"opacity:0.02726;&#10;            fill:#00aad4;&#10;            fill-opacity:1;&#10;            stroke:none;&#10;            stroke-width:0.26499999;&#10;            stroke-linecap:round;&#10;            stroke-linejoin:miter;&#10;            stroke-miterlimit:4;&#10;            stroke-dasharray:none;&#10;            stroke-dashoffset:0;&#10;            stroke-opacity:1\" width=\"11.80px\" x=\"377.59999999999997\" y=\"7.0\" /><rect height=\"25.00px\" style=\"opacity:0.02726;&#10;            fill:#00aad4;&#10;            fill-opacity:1;&#10;            stroke:none;&#10;            stroke-width:0.26499999;&#10;            stroke-linecap:round;&#10;            stroke-linejoin:miter;&#10;            stroke-miterlimit:4;&#10;            stroke-dasharray:none;&#10;            stroke-dashoffset:0;&#10;            stroke-opacity:1\" width=\"11.80px\" x=\"389.4\" y=\"7.0\" /><rect height=\"25.00px\" style=\"opacity:0.02726;&#10;            fill:#00aad4;&#10;            fill-opacity:1;&#10;            stroke:none;&#10;            stroke-width:0.26499999;&#10;            stroke-linecap:round;&#10;            stroke-linejoin:miter;&#10;            stroke-miterlimit:4;&#10;            stroke-dasharray:none;&#10;            stroke-dashoffset:0;&#10;            stroke-opacity:1\" width=\"11.80px\" x=\"401.2\" y=\"7.0\" /><rect height=\"25.00px\" style=\"opacity:0.02726;&#10;            fill:#00aad4;&#10;            fill-opacity:1;&#10;            stroke:none;&#10;            stroke-width:0.26499999;&#10;            stroke-linecap:round;&#10;            stroke-linejoin:miter;&#10;            stroke-miterlimit:4;&#10;            stroke-dasharray:none;&#10;            stroke-dashoffset:0;&#10;            stroke-opacity:1\" width=\"11.80px\" x=\"412.99999999999994\" y=\"7.0\" /><rect height=\"25.00px\" style=\"opacity:0.02726;&#10;            fill:#00aad4;&#10;            fill-opacity:1;&#10;            stroke:none;&#10;            stroke-width:0.26499999;&#10;            stroke-linecap:round;&#10;            stroke-linejoin:miter;&#10;            stroke-miterlimit:4;&#10;            stroke-dasharray:none;&#10;            stroke-dashoffset:0;&#10;            stroke-opacity:1\" width=\"11.80px\" x=\"424.79999999999995\" y=\"7.0\" /><rect height=\"25.00px\" style=\"opacity:0.02726;&#10;            fill:#00aad4;&#10;            fill-opacity:1;&#10;            stroke:none;&#10;            stroke-width:0.26499999;&#10;            stroke-linecap:round;&#10;            stroke-linejoin:miter;&#10;            stroke-miterlimit:4;&#10;            stroke-dasharray:none;&#10;            stroke-dashoffset:0;&#10;            stroke-opacity:1\" width=\"11.80px\" x=\"436.59999999999997\" y=\"7.0\" /><rect height=\"25.00px\" style=\"opacity:0.43350;&#10;            fill:#00aad4;&#10;            fill-opacity:1;&#10;            stroke:none;&#10;            stroke-width:0.26499999;&#10;            stroke-linecap:round;&#10;            stroke-linejoin:miter;&#10;            stroke-miterlimit:4;&#10;            stroke-dasharray:none;&#10;            stroke-dashoffset:0;&#10;            stroke-opacity:1\" width=\"11.80px\" x=\"448.4\" y=\"7.0\" /><rect height=\"25.00px\" style=\"opacity:0.43350;&#10;            fill:#00aad4;&#10;            fill-opacity:1;&#10;            stroke:none;&#10;            stroke-width:0.26499999;&#10;            stroke-linecap:round;&#10;            stroke-linejoin:miter;&#10;            stroke-miterlimit:4;&#10;            stroke-dasharray:none;&#10;            stroke-dashoffset:0;&#10;            stroke-opacity:1\" width=\"11.80px\" x=\"460.19999999999993\" y=\"7.0\" /><text fill=\"black\" style=\"font-style:normal;&#10;            font-variant:normal;&#10;            font-weight:normal;&#10;            font-stretch:normal;&#10;            font-size:20.00px;&#10;            line-height:125%;&#10;            font-family:monospace;&#10;            -inkscape-font-specification:'Consolas, Normal';&#10;            font-variant-ligatures:none;&#10;            font-variant-caps:normal;&#10;            font-variant-numeric:normal;&#10;            text-align:start;&#10;            writing-mode:lr-tb;&#10;            text-anchor:start;&#10;            stroke-width:0.26458332px\" x=\"0\" y=\"25.0\">في إجراءات استثنائية بسبب وباء كورونا .</text><rect height=\"25.00px\" style=\"opacity:0.17611;&#10;            fill:#00aad4;&#10;            fill-opacity:1;&#10;            stroke:none;&#10;            stroke-width:0.26499999;&#10;            stroke-linecap:round;&#10;            stroke-linejoin:miter;&#10;            stroke-miterlimit:4;&#10;            stroke-dasharray:none;&#10;            stroke-dashoffset:0;&#10;            stroke-opacity:1\" width=\"11.80px\" x=\"0.0\" y=\"7.0\" /><rect height=\"25.00px\" style=\"opacity:0.17611;&#10;            fill:#00aad4;&#10;            fill-opacity:1;&#10;            stroke:none;&#10;            stroke-width:0.26499999;&#10;            stroke-linecap:round;&#10;            stroke-linejoin:miter;&#10;            stroke-miterlimit:4;&#10;            stroke-dasharray:none;&#10;            stroke-dashoffset:0;&#10;            stroke-opacity:1\" width=\"11.80px\" x=\"11.799999999999999\" y=\"7.0\" /><rect height=\"25.00px\" style=\"opacity:0.17611;&#10;            fill:#00aad4;&#10;            fill-opacity:1;&#10;            stroke:none;&#10;            stroke-width:0.26499999;&#10;            stroke-linecap:round;&#10;            stroke-linejoin:miter;&#10;            stroke-miterlimit:4;&#10;            stroke-dasharray:none;&#10;            stroke-dashoffset:0;&#10;            stroke-opacity:1\" width=\"11.80px\" x=\"23.599999999999998\" y=\"7.0\" /><rect height=\"25.00px\" style=\"opacity:0.65293;&#10;            fill:#00aad4;&#10;            fill-opacity:1;&#10;            stroke:none;&#10;            stroke-width:0.26499999;&#10;            stroke-linecap:round;&#10;            stroke-linejoin:miter;&#10;            stroke-miterlimit:4;&#10;            stroke-dasharray:none;&#10;            stroke-dashoffset:0;&#10;            stroke-opacity:1\" width=\"11.80px\" x=\"35.4\" y=\"7.0\" /><rect height=\"25.00px\" style=\"opacity:0.65293;&#10;            fill:#00aad4;&#10;            fill-opacity:1;&#10;            stroke:none;&#10;            stroke-width:0.26499999;&#10;            stroke-linecap:round;&#10;            stroke-linejoin:miter;&#10;            stroke-miterlimit:4;&#10;            stroke-dasharray:none;&#10;            stroke-dashoffset:0;&#10;            stroke-opacity:1\" width=\"11.80px\" x=\"47.199999999999996\" y=\"7.0\" /><rect height=\"25.00px\" style=\"opacity:0.65293;&#10;            fill:#00aad4;&#10;            fill-opacity:1;&#10;            stroke:none;&#10;            stroke-width:0.26499999;&#10;            stroke-linecap:round;&#10;            stroke-linejoin:miter;&#10;            stroke-miterlimit:4;&#10;            stroke-dasharray:none;&#10;            stroke-dashoffset:0;&#10;            stroke-opacity:1\" width=\"11.80px\" x=\"58.99999999999999\" y=\"7.0\" /><rect height=\"25.00px\" style=\"opacity:0.65293;&#10;            fill:#00aad4;&#10;            fill-opacity:1;&#10;            stroke:none;&#10;            stroke-width:0.26499999;&#10;            stroke-linecap:round;&#10;            stroke-linejoin:miter;&#10;            stroke-miterlimit:4;&#10;            stroke-dasharray:none;&#10;            stroke-dashoffset:0;&#10;            stroke-opacity:1\" width=\"11.80px\" x=\"70.8\" y=\"7.0\" /><rect height=\"25.00px\" style=\"opacity:0.65293;&#10;            fill:#00aad4;&#10;            fill-opacity:1;&#10;            stroke:none;&#10;            stroke-width:0.26499999;&#10;            stroke-linecap:round;&#10;            stroke-linejoin:miter;&#10;            stroke-miterlimit:4;&#10;            stroke-dasharray:none;&#10;            stroke-dashoffset:0;&#10;            stroke-opacity:1\" width=\"11.80px\" x=\"82.6\" y=\"7.0\" /><rect height=\"25.00px\" style=\"opacity:0.65293;&#10;            fill:#00aad4;&#10;            fill-opacity:1;&#10;            stroke:none;&#10;            stroke-width:0.26499999;&#10;            stroke-linecap:round;&#10;            stroke-linejoin:miter;&#10;            stroke-miterlimit:4;&#10;            stroke-dasharray:none;&#10;            stroke-dashoffset:0;&#10;            stroke-opacity:1\" width=\"11.80px\" x=\"94.39999999999999\" y=\"7.0\" /><rect height=\"25.00px\" style=\"opacity:0.65293;&#10;            fill:#00aad4;&#10;            fill-opacity:1;&#10;            stroke:none;&#10;            stroke-width:0.26499999;&#10;            stroke-linecap:round;&#10;            stroke-linejoin:miter;&#10;            stroke-miterlimit:4;&#10;            stroke-dasharray:none;&#10;            stroke-dashoffset:0;&#10;            stroke-opacity:1\" width=\"11.80px\" x=\"106.19999999999999\" y=\"7.0\" /><rect height=\"25.00px\" style=\"opacity:0.65293;&#10;            fill:#00aad4;&#10;            fill-opacity:1;&#10;            stroke:none;&#10;            stroke-width:0.26499999;&#10;            stroke-linecap:round;&#10;            stroke-linejoin:miter;&#10;            stroke-miterlimit:4;&#10;            stroke-dasharray:none;&#10;            stroke-dashoffset:0;&#10;            stroke-opacity:1\" width=\"11.80px\" x=\"117.99999999999999\" y=\"7.0\" /><rect height=\"25.00px\" style=\"opacity:1.00000;&#10;            fill:#00aad4;&#10;            fill-opacity:1;&#10;            stroke:none;&#10;            stroke-width:0.26499999;&#10;            stroke-linecap:round;&#10;            stroke-linejoin:miter;&#10;            stroke-miterlimit:4;&#10;            stroke-dasharray:none;&#10;            stroke-dashoffset:0;&#10;            stroke-opacity:1\" width=\"11.80px\" x=\"129.79999999999998\" y=\"7.0\" /><rect height=\"25.00px\" style=\"opacity:1.00000;&#10;            fill:#00aad4;&#10;            fill-opacity:1;&#10;            stroke:none;&#10;            stroke-width:0.26499999;&#10;            stroke-linecap:round;&#10;            stroke-linejoin:miter;&#10;            stroke-miterlimit:4;&#10;            stroke-dasharray:none;&#10;            stroke-dashoffset:0;&#10;            stroke-opacity:1\" width=\"11.80px\" x=\"141.6\" y=\"7.0\" /><rect height=\"25.00px\" style=\"opacity:1.00000;&#10;            fill:#00aad4;&#10;            fill-opacity:1;&#10;            stroke:none;&#10;            stroke-width:0.26499999;&#10;            stroke-linecap:round;&#10;            stroke-linejoin:miter;&#10;            stroke-miterlimit:4;&#10;            stroke-dasharray:none;&#10;            stroke-dashoffset:0;&#10;            stroke-opacity:1\" width=\"11.80px\" x=\"153.39999999999998\" y=\"7.0\" /><rect height=\"25.00px\" style=\"opacity:1.00000;&#10;            fill:#00aad4;&#10;            fill-opacity:1;&#10;            stroke:none;&#10;            stroke-width:0.26499999;&#10;            stroke-linecap:round;&#10;            stroke-linejoin:miter;&#10;            stroke-miterlimit:4;&#10;            stroke-dasharray:none;&#10;            stroke-dashoffset:0;&#10;            stroke-opacity:1\" width=\"11.80px\" x=\"165.2\" y=\"7.0\" /><rect height=\"25.00px\" style=\"opacity:1.00000;&#10;            fill:#00aad4;&#10;            fill-opacity:1;&#10;            stroke:none;&#10;            stroke-width:0.26499999;&#10;            stroke-linecap:round;&#10;            stroke-linejoin:miter;&#10;            stroke-miterlimit:4;&#10;            stroke-dasharray:none;&#10;            stroke-dashoffset:0;&#10;            stroke-opacity:1\" width=\"11.80px\" x=\"176.99999999999997\" y=\"7.0\" /><rect height=\"25.00px\" style=\"opacity:1.00000;&#10;            fill:#00aad4;&#10;            fill-opacity:1;&#10;            stroke:none;&#10;            stroke-width:0.26499999;&#10;            stroke-linecap:round;&#10;            stroke-linejoin:miter;&#10;            stroke-miterlimit:4;&#10;            stroke-dasharray:none;&#10;            stroke-dashoffset:0;&#10;            stroke-opacity:1\" width=\"11.80px\" x=\"188.79999999999998\" y=\"7.0\" /><rect height=\"25.00px\" style=\"opacity:1.00000;&#10;            fill:#00aad4;&#10;            fill-opacity:1;&#10;            stroke:none;&#10;            stroke-width:0.26499999;&#10;            stroke-linecap:round;&#10;            stroke-linejoin:miter;&#10;            stroke-miterlimit:4;&#10;            stroke-dasharray:none;&#10;            stroke-dashoffset:0;&#10;            stroke-opacity:1\" width=\"11.80px\" x=\"200.6\" y=\"7.0\" /><rect height=\"25.00px\" style=\"opacity:1.00000;&#10;            fill:#00aad4;&#10;            fill-opacity:1;&#10;            stroke:none;&#10;            stroke-width:0.26499999;&#10;            stroke-linecap:round;&#10;            stroke-linejoin:miter;&#10;            stroke-miterlimit:4;&#10;            stroke-dasharray:none;&#10;            stroke-dashoffset:0;&#10;            stroke-opacity:1\" width=\"11.80px\" x=\"212.39999999999998\" y=\"7.0\" /><rect height=\"25.00px\" style=\"opacity:1.00000;&#10;            fill:#00aad4;&#10;            fill-opacity:1;&#10;            stroke:none;&#10;            stroke-width:0.26499999;&#10;            stroke-linecap:round;&#10;            stroke-linejoin:miter;&#10;            stroke-miterlimit:4;&#10;            stroke-dasharray:none;&#10;            stroke-dashoffset:0;&#10;            stroke-opacity:1\" width=\"11.80px\" x=\"224.2\" y=\"7.0\" /><rect height=\"25.00px\" style=\"opacity:1.00000;&#10;            fill:#00aad4;&#10;            fill-opacity:1;&#10;            stroke:none;&#10;            stroke-width:0.26499999;&#10;            stroke-linecap:round;&#10;            stroke-linejoin:miter;&#10;            stroke-miterlimit:4;&#10;            stroke-dasharray:none;&#10;            stroke-dashoffset:0;&#10;            stroke-opacity:1\" width=\"11.80px\" x=\"235.99999999999997\" y=\"7.0\" /><rect height=\"25.00px\" style=\"opacity:0.61885;&#10;            fill:#00aad4;&#10;            fill-opacity:1;&#10;            stroke:none;&#10;            stroke-width:0.26499999;&#10;            stroke-linecap:round;&#10;            stroke-linejoin:miter;&#10;            stroke-miterlimit:4;&#10;            stroke-dasharray:none;&#10;            stroke-dashoffset:0;&#10;            stroke-opacity:1\" width=\"11.80px\" x=\"247.79999999999998\" y=\"7.0\" /><rect height=\"25.00px\" style=\"opacity:0.61885;&#10;            fill:#00aad4;&#10;            fill-opacity:1;&#10;            stroke:none;&#10;            stroke-width:0.26499999;&#10;            stroke-linecap:round;&#10;            stroke-linejoin:miter;&#10;            stroke-miterlimit:4;&#10;            stroke-dasharray:none;&#10;            stroke-dashoffset:0;&#10;            stroke-opacity:1\" width=\"11.80px\" x=\"259.59999999999997\" y=\"7.0\" /><rect height=\"25.00px\" style=\"opacity:0.61885;&#10;            fill:#00aad4;&#10;            fill-opacity:1;&#10;            stroke:none;&#10;            stroke-width:0.26499999;&#10;            stroke-linecap:round;&#10;            stroke-linejoin:miter;&#10;            stroke-miterlimit:4;&#10;            stroke-dasharray:none;&#10;            stroke-dashoffset:0;&#10;            stroke-opacity:1\" width=\"11.80px\" x=\"271.4\" y=\"7.0\" /><rect height=\"25.00px\" style=\"opacity:0.61885;&#10;            fill:#00aad4;&#10;            fill-opacity:1;&#10;            stroke:none;&#10;            stroke-width:0.26499999;&#10;            stroke-linecap:round;&#10;            stroke-linejoin:miter;&#10;            stroke-miterlimit:4;&#10;            stroke-dasharray:none;&#10;            stroke-dashoffset:0;&#10;            stroke-opacity:1\" width=\"11.80px\" x=\"283.2\" y=\"7.0\" /><rect height=\"25.00px\" style=\"opacity:0.61885;&#10;            fill:#00aad4;&#10;            fill-opacity:1;&#10;            stroke:none;&#10;            stroke-width:0.26499999;&#10;            stroke-linecap:round;&#10;            stroke-linejoin:miter;&#10;            stroke-miterlimit:4;&#10;            stroke-dasharray:none;&#10;            stroke-dashoffset:0;&#10;            stroke-opacity:1\" width=\"11.80px\" x=\"295.0\" y=\"7.0\" /><rect height=\"25.00px\" style=\"opacity:0.21460;&#10;            fill:#00aad4;&#10;            fill-opacity:1;&#10;            stroke:none;&#10;            stroke-width:0.26499999;&#10;            stroke-linecap:round;&#10;            stroke-linejoin:miter;&#10;            stroke-miterlimit:4;&#10;            stroke-dasharray:none;&#10;            stroke-dashoffset:0;&#10;            stroke-opacity:1\" width=\"11.80px\" x=\"306.79999999999995\" y=\"7.0\" /><rect height=\"25.00px\" style=\"opacity:0.21460;&#10;            fill:#00aad4;&#10;            fill-opacity:1;&#10;            stroke:none;&#10;            stroke-width:0.26499999;&#10;            stroke-linecap:round;&#10;            stroke-linejoin:miter;&#10;            stroke-miterlimit:4;&#10;            stroke-dasharray:none;&#10;            stroke-dashoffset:0;&#10;            stroke-opacity:1\" width=\"11.80px\" x=\"318.59999999999997\" y=\"7.0\" /><rect height=\"25.00px\" style=\"opacity:0.21460;&#10;            fill:#00aad4;&#10;            fill-opacity:1;&#10;            stroke:none;&#10;            stroke-width:0.26499999;&#10;            stroke-linecap:round;&#10;            stroke-linejoin:miter;&#10;            stroke-miterlimit:4;&#10;            stroke-dasharray:none;&#10;            stroke-dashoffset:0;&#10;            stroke-opacity:1\" width=\"11.80px\" x=\"330.4\" y=\"7.0\" /><rect height=\"25.00px\" style=\"opacity:0.21460;&#10;            fill:#00aad4;&#10;            fill-opacity:1;&#10;            stroke:none;&#10;            stroke-width:0.26499999;&#10;            stroke-linecap:round;&#10;            stroke-linejoin:miter;&#10;            stroke-miterlimit:4;&#10;            stroke-dasharray:none;&#10;            stroke-dashoffset:0;&#10;            stroke-opacity:1\" width=\"11.80px\" x=\"342.2\" y=\"7.0\" /><rect height=\"25.00px\" style=\"opacity:0.21460;&#10;            fill:#00aad4;&#10;            fill-opacity:1;&#10;            stroke:none;&#10;            stroke-width:0.26499999;&#10;            stroke-linecap:round;&#10;            stroke-linejoin:miter;&#10;            stroke-miterlimit:4;&#10;            stroke-dasharray:none;&#10;            stroke-dashoffset:0;&#10;            stroke-opacity:1\" width=\"11.80px\" x=\"353.99999999999994\" y=\"7.0\" /><rect height=\"25.00px\" style=\"opacity:0.02726;&#10;            fill:#00aad4;&#10;            fill-opacity:1;&#10;            stroke:none;&#10;            stroke-width:0.26499999;&#10;            stroke-linecap:round;&#10;            stroke-linejoin:miter;&#10;            stroke-miterlimit:4;&#10;            stroke-dasharray:none;&#10;            stroke-dashoffset:0;&#10;            stroke-opacity:1\" width=\"11.80px\" x=\"365.79999999999995\" y=\"7.0\" /><rect height=\"25.00px\" style=\"opacity:0.02726;&#10;            fill:#00aad4;&#10;            fill-opacity:1;&#10;            stroke:none;&#10;            stroke-width:0.26499999;&#10;            stroke-linecap:round;&#10;            stroke-linejoin:miter;&#10;            stroke-miterlimit:4;&#10;            stroke-dasharray:none;&#10;            stroke-dashoffset:0;&#10;            stroke-opacity:1\" width=\"11.80px\" x=\"377.59999999999997\" y=\"7.0\" /><rect height=\"25.00px\" style=\"opacity:0.02726;&#10;            fill:#00aad4;&#10;            fill-opacity:1;&#10;            stroke:none;&#10;            stroke-width:0.26499999;&#10;            stroke-linecap:round;&#10;            stroke-linejoin:miter;&#10;            stroke-miterlimit:4;&#10;            stroke-dasharray:none;&#10;            stroke-dashoffset:0;&#10;            stroke-opacity:1\" width=\"11.80px\" x=\"389.4\" y=\"7.0\" /><rect height=\"25.00px\" style=\"opacity:0.02726;&#10;            fill:#00aad4;&#10;            fill-opacity:1;&#10;            stroke:none;&#10;            stroke-width:0.26499999;&#10;            stroke-linecap:round;&#10;            stroke-linejoin:miter;&#10;            stroke-miterlimit:4;&#10;            stroke-dasharray:none;&#10;            stroke-dashoffset:0;&#10;            stroke-opacity:1\" width=\"11.80px\" x=\"401.2\" y=\"7.0\" /><rect height=\"25.00px\" style=\"opacity:0.02726;&#10;            fill:#00aad4;&#10;            fill-opacity:1;&#10;            stroke:none;&#10;            stroke-width:0.26499999;&#10;            stroke-linecap:round;&#10;            stroke-linejoin:miter;&#10;            stroke-miterlimit:4;&#10;            stroke-dasharray:none;&#10;            stroke-dashoffset:0;&#10;            stroke-opacity:1\" width=\"11.80px\" x=\"412.99999999999994\" y=\"7.0\" /><rect height=\"25.00px\" style=\"opacity:0.02726;&#10;            fill:#00aad4;&#10;            fill-opacity:1;&#10;            stroke:none;&#10;            stroke-width:0.26499999;&#10;            stroke-linecap:round;&#10;            stroke-linejoin:miter;&#10;            stroke-miterlimit:4;&#10;            stroke-dasharray:none;&#10;            stroke-dashoffset:0;&#10;            stroke-opacity:1\" width=\"11.80px\" x=\"424.79999999999995\" y=\"7.0\" /><rect height=\"25.00px\" style=\"opacity:0.02726;&#10;            fill:#00aad4;&#10;            fill-opacity:1;&#10;            stroke:none;&#10;            stroke-width:0.26499999;&#10;            stroke-linecap:round;&#10;            stroke-linejoin:miter;&#10;            stroke-miterlimit:4;&#10;            stroke-dasharray:none;&#10;            stroke-dashoffset:0;&#10;            stroke-opacity:1\" width=\"11.80px\" x=\"436.59999999999997\" y=\"7.0\" /><rect height=\"25.00px\" style=\"opacity:0.43350;&#10;            fill:#00aad4;&#10;            fill-opacity:1;&#10;            stroke:none;&#10;            stroke-width:0.26499999;&#10;            stroke-linecap:round;&#10;            stroke-linejoin:miter;&#10;            stroke-miterlimit:4;&#10;            stroke-dasharray:none;&#10;            stroke-dashoffset:0;&#10;            stroke-opacity:1\" width=\"11.80px\" x=\"448.4\" y=\"7.0\" /><rect height=\"25.00px\" style=\"opacity:0.43350;&#10;            fill:#00aad4;&#10;            fill-opacity:1;&#10;            stroke:none;&#10;            stroke-width:0.26499999;&#10;            stroke-linecap:round;&#10;            stroke-linejoin:miter;&#10;            stroke-miterlimit:4;&#10;            stroke-dasharray:none;&#10;            stroke-dashoffset:0;&#10;            stroke-opacity:1\" width=\"11.80px\" x=\"460.19999999999993\" y=\"7.0\" /><text fill=\"black\" style=\"font-style:normal;&#10;            font-variant:normal;&#10;            font-weight:normal;&#10;            font-stretch:normal;&#10;            font-size:20.00px;&#10;            line-height:125%;&#10;            font-family:monospace;&#10;            -inkscape-font-specification:'Consolas, Normal';&#10;            font-variant-ligatures:none;&#10;            font-variant-caps:normal;&#10;            font-variant-numeric:normal;&#10;            text-align:start;&#10;            writing-mode:lr-tb;&#10;            text-anchor:start;&#10;            stroke-width:0.26458332px\" x=\"0\" y=\"25.0\">في إجراءات استثنائية بسبب وباء كورونا .</text></g></svg>"
      ],
      "text/plain": [
       "<svgwrite.drawing.Drawing at 0x14421a710>"
      ]
     },
     "execution_count": 73,
     "metadata": {},
     "output_type": "execute_result"
    }
   ],
   "source": [
    "import aux_classifier.visualization as visualization\n",
    "visualization.visualize_activations(\"في إجراءات استثنائية بسبب وباء كورونا .\", activations[0][:, ordering[0]])"
   ]
  },
  {
   "cell_type": "code",
   "execution_count": 112,
   "metadata": {},
   "outputs": [],
   "source": [
    "import svgwrite\n",
    "FONT_SIZE = 20\n",
    "MARGIN = 10\n",
    "CHAR_LIMIT = 61\n",
    "def break_lines(text, limit=50):\n",
    "    lines = []\n",
    "    curr_line = \"\"\n",
    "    for token in text.split(' '):\n",
    "        if len(curr_line) + 1 + len(token) < limit:\n",
    "            curr_line += token + \" \"\n",
    "        else:\n",
    "            lines.append(curr_line[:-1])\n",
    "            curr_line = token + \" \"\n",
    "    lines.append(curr_line[:-1])\n",
    "    return lines\n",
    "\n",
    "def get_rect_style(color, opacity):\n",
    "    return \"\"\"opacity:%0.5f;\n",
    "            fill:%s;\n",
    "            fill-opacity:1;\n",
    "            stroke:none;\n",
    "            stroke-width:0.26499999;\n",
    "            stroke-linecap:round;\n",
    "            stroke-linejoin:miter;\n",
    "            stroke-miterlimit:4;\n",
    "            stroke-dasharray:none;\n",
    "            stroke-dashoffset:0;\n",
    "            stroke-opacity:1\"\"\" % (opacity, color)\n",
    "\n",
    "def get_text_style(font_size):\n",
    "    return \"\"\"font-style:normal;\n",
    "            font-variant:normal;\n",
    "            font-weight:normal;\n",
    "            font-stretch:normal;\n",
    "            font-size:%0.2fpx;\n",
    "            line-height:125%%;\n",
    "            font-family:monospace;\n",
    "            -inkscape-font-specification:'Arial Unicode MS, Normal';\n",
    "            font-variant-ligatures:none;\n",
    "            font-variant-caps:normal;\n",
    "            font-variant-numeric:normal;\n",
    "            text-align:start;\n",
    "            writing-mode:lr-tb;\n",
    "            text-anchor:start;\n",
    "            stroke-width:0.26458332px\"\"\" % (font_size)\n"
   ]
  },
  {
   "cell_type": "code",
   "execution_count": 113,
   "metadata": {},
   "outputs": [],
   "source": [
    "text = 'في إجراءات استثنائية بسبب وباء كورونا .'\n",
    "lines = break_lines(text, limit=CHAR_LIMIT)\n",
    "char_width = FONT_SIZE*0.59\n",
    "char_height = FONT_SIZE*1.25"
   ]
  },
  {
   "cell_type": "code",
   "execution_count": 114,
   "metadata": {},
   "outputs": [
    {
     "data": {
      "text/plain": [
       "['في إجراءات استثنائية بسبب وباء كورونا .']"
      ]
     },
     "execution_count": 114,
     "metadata": {},
     "output_type": "execute_result"
    }
   ],
   "source": [
    "lines"
   ]
  },
  {
   "cell_type": "code",
   "execution_count": 115,
   "metadata": {},
   "outputs": [],
   "source": [
    "image_height = len(lines) * char_height * 1.2\n",
    "image_width = CHAR_LIMIT * char_width\n",
    "\n",
    "dwg = svgwrite.Drawing(\"tmp.svg\", size=(image_width, image_height),\n",
    "                    profile='full')\n",
    "dwg.viewbox(0, 0, image_width, image_height)\n"
   ]
  },
  {
   "cell_type": "code",
   "execution_count": 116,
   "metadata": {},
   "outputs": [],
   "source": [
    "darken=2\n",
    "colors=[\"#d35f5f\", \"#00aad4\"]\n",
    "scores = activations[0][:, ordering[0]]\n",
    "offset = 0"
   ]
  },
  {
   "cell_type": "code",
   "execution_count": 117,
   "metadata": {},
   "outputs": [
    {
     "name": "stdout",
     "output_type": "stream",
     "text": [
      "W: في\n",
      "W: إجراءات\n",
      "W: استثنائية\n",
      "W: بسبب\n",
      "W: وباء\n",
      "W: كورونا\n",
      "W: .\n",
      "(0, 25.0) في إجراءات استثنائية بسبب وباء كورونا .\n",
      "W: في\n",
      "W: إجراءات\n",
      "W: استثنائية\n",
      "W: بسبب\n",
      "W: وباء\n",
      "W: كورونا\n",
      "W: .\n",
      "(0, 25.0) <svgwrite.text.Text object at 0x16e7ed310>\n"
     ]
    },
    {
     "data": {
      "image/svg+xml": [
       "<g><rect height=\"25.00px\" style=\"opacity:0.17611;&#10;            fill:#00aad4;&#10;            fill-opacity:1;&#10;            stroke:none;&#10;            stroke-width:0.26499999;&#10;            stroke-linecap:round;&#10;            stroke-linejoin:miter;&#10;            stroke-miterlimit:4;&#10;            stroke-dasharray:none;&#10;            stroke-dashoffset:0;&#10;            stroke-opacity:1\" width=\"11.80px\" x=\"0.0\" y=\"7.0\" /><rect height=\"25.00px\" style=\"opacity:0.17611;&#10;            fill:#00aad4;&#10;            fill-opacity:1;&#10;            stroke:none;&#10;            stroke-width:0.26499999;&#10;            stroke-linecap:round;&#10;            stroke-linejoin:miter;&#10;            stroke-miterlimit:4;&#10;            stroke-dasharray:none;&#10;            stroke-dashoffset:0;&#10;            stroke-opacity:1\" width=\"11.80px\" x=\"11.799999999999999\" y=\"7.0\" /><rect height=\"25.00px\" style=\"opacity:0.17611;&#10;            fill:#00aad4;&#10;            fill-opacity:1;&#10;            stroke:none;&#10;            stroke-width:0.26499999;&#10;            stroke-linecap:round;&#10;            stroke-linejoin:miter;&#10;            stroke-miterlimit:4;&#10;            stroke-dasharray:none;&#10;            stroke-dashoffset:0;&#10;            stroke-opacity:1\" width=\"11.80px\" x=\"23.599999999999998\" y=\"7.0\" /><rect height=\"25.00px\" style=\"opacity:0.65293;&#10;            fill:#00aad4;&#10;            fill-opacity:1;&#10;            stroke:none;&#10;            stroke-width:0.26499999;&#10;            stroke-linecap:round;&#10;            stroke-linejoin:miter;&#10;            stroke-miterlimit:4;&#10;            stroke-dasharray:none;&#10;            stroke-dashoffset:0;&#10;            stroke-opacity:1\" width=\"11.80px\" x=\"35.4\" y=\"7.0\" /><rect height=\"25.00px\" style=\"opacity:0.65293;&#10;            fill:#00aad4;&#10;            fill-opacity:1;&#10;            stroke:none;&#10;            stroke-width:0.26499999;&#10;            stroke-linecap:round;&#10;            stroke-linejoin:miter;&#10;            stroke-miterlimit:4;&#10;            stroke-dasharray:none;&#10;            stroke-dashoffset:0;&#10;            stroke-opacity:1\" width=\"11.80px\" x=\"47.199999999999996\" y=\"7.0\" /><rect height=\"25.00px\" style=\"opacity:0.65293;&#10;            fill:#00aad4;&#10;            fill-opacity:1;&#10;            stroke:none;&#10;            stroke-width:0.26499999;&#10;            stroke-linecap:round;&#10;            stroke-linejoin:miter;&#10;            stroke-miterlimit:4;&#10;            stroke-dasharray:none;&#10;            stroke-dashoffset:0;&#10;            stroke-opacity:1\" width=\"11.80px\" x=\"58.99999999999999\" y=\"7.0\" /><rect height=\"25.00px\" style=\"opacity:0.65293;&#10;            fill:#00aad4;&#10;            fill-opacity:1;&#10;            stroke:none;&#10;            stroke-width:0.26499999;&#10;            stroke-linecap:round;&#10;            stroke-linejoin:miter;&#10;            stroke-miterlimit:4;&#10;            stroke-dasharray:none;&#10;            stroke-dashoffset:0;&#10;            stroke-opacity:1\" width=\"11.80px\" x=\"70.8\" y=\"7.0\" /><rect height=\"25.00px\" style=\"opacity:0.65293;&#10;            fill:#00aad4;&#10;            fill-opacity:1;&#10;            stroke:none;&#10;            stroke-width:0.26499999;&#10;            stroke-linecap:round;&#10;            stroke-linejoin:miter;&#10;            stroke-miterlimit:4;&#10;            stroke-dasharray:none;&#10;            stroke-dashoffset:0;&#10;            stroke-opacity:1\" width=\"11.80px\" x=\"82.6\" y=\"7.0\" /><rect height=\"25.00px\" style=\"opacity:0.65293;&#10;            fill:#00aad4;&#10;            fill-opacity:1;&#10;            stroke:none;&#10;            stroke-width:0.26499999;&#10;            stroke-linecap:round;&#10;            stroke-linejoin:miter;&#10;            stroke-miterlimit:4;&#10;            stroke-dasharray:none;&#10;            stroke-dashoffset:0;&#10;            stroke-opacity:1\" width=\"11.80px\" x=\"94.39999999999999\" y=\"7.0\" /><rect height=\"25.00px\" style=\"opacity:0.65293;&#10;            fill:#00aad4;&#10;            fill-opacity:1;&#10;            stroke:none;&#10;            stroke-width:0.26499999;&#10;            stroke-linecap:round;&#10;            stroke-linejoin:miter;&#10;            stroke-miterlimit:4;&#10;            stroke-dasharray:none;&#10;            stroke-dashoffset:0;&#10;            stroke-opacity:1\" width=\"11.80px\" x=\"106.19999999999999\" y=\"7.0\" /><rect height=\"25.00px\" style=\"opacity:0.65293;&#10;            fill:#00aad4;&#10;            fill-opacity:1;&#10;            stroke:none;&#10;            stroke-width:0.26499999;&#10;            stroke-linecap:round;&#10;            stroke-linejoin:miter;&#10;            stroke-miterlimit:4;&#10;            stroke-dasharray:none;&#10;            stroke-dashoffset:0;&#10;            stroke-opacity:1\" width=\"11.80px\" x=\"117.99999999999999\" y=\"7.0\" /><rect height=\"25.00px\" style=\"opacity:1.00000;&#10;            fill:#00aad4;&#10;            fill-opacity:1;&#10;            stroke:none;&#10;            stroke-width:0.26499999;&#10;            stroke-linecap:round;&#10;            stroke-linejoin:miter;&#10;            stroke-miterlimit:4;&#10;            stroke-dasharray:none;&#10;            stroke-dashoffset:0;&#10;            stroke-opacity:1\" width=\"11.80px\" x=\"129.79999999999998\" y=\"7.0\" /><rect height=\"25.00px\" style=\"opacity:1.00000;&#10;            fill:#00aad4;&#10;            fill-opacity:1;&#10;            stroke:none;&#10;            stroke-width:0.26499999;&#10;            stroke-linecap:round;&#10;            stroke-linejoin:miter;&#10;            stroke-miterlimit:4;&#10;            stroke-dasharray:none;&#10;            stroke-dashoffset:0;&#10;            stroke-opacity:1\" width=\"11.80px\" x=\"141.6\" y=\"7.0\" /><rect height=\"25.00px\" style=\"opacity:1.00000;&#10;            fill:#00aad4;&#10;            fill-opacity:1;&#10;            stroke:none;&#10;            stroke-width:0.26499999;&#10;            stroke-linecap:round;&#10;            stroke-linejoin:miter;&#10;            stroke-miterlimit:4;&#10;            stroke-dasharray:none;&#10;            stroke-dashoffset:0;&#10;            stroke-opacity:1\" width=\"11.80px\" x=\"153.39999999999998\" y=\"7.0\" /><rect height=\"25.00px\" style=\"opacity:1.00000;&#10;            fill:#00aad4;&#10;            fill-opacity:1;&#10;            stroke:none;&#10;            stroke-width:0.26499999;&#10;            stroke-linecap:round;&#10;            stroke-linejoin:miter;&#10;            stroke-miterlimit:4;&#10;            stroke-dasharray:none;&#10;            stroke-dashoffset:0;&#10;            stroke-opacity:1\" width=\"11.80px\" x=\"165.2\" y=\"7.0\" /><rect height=\"25.00px\" style=\"opacity:1.00000;&#10;            fill:#00aad4;&#10;            fill-opacity:1;&#10;            stroke:none;&#10;            stroke-width:0.26499999;&#10;            stroke-linecap:round;&#10;            stroke-linejoin:miter;&#10;            stroke-miterlimit:4;&#10;            stroke-dasharray:none;&#10;            stroke-dashoffset:0;&#10;            stroke-opacity:1\" width=\"11.80px\" x=\"176.99999999999997\" y=\"7.0\" /><rect height=\"25.00px\" style=\"opacity:1.00000;&#10;            fill:#00aad4;&#10;            fill-opacity:1;&#10;            stroke:none;&#10;            stroke-width:0.26499999;&#10;            stroke-linecap:round;&#10;            stroke-linejoin:miter;&#10;            stroke-miterlimit:4;&#10;            stroke-dasharray:none;&#10;            stroke-dashoffset:0;&#10;            stroke-opacity:1\" width=\"11.80px\" x=\"188.79999999999998\" y=\"7.0\" /><rect height=\"25.00px\" style=\"opacity:1.00000;&#10;            fill:#00aad4;&#10;            fill-opacity:1;&#10;            stroke:none;&#10;            stroke-width:0.26499999;&#10;            stroke-linecap:round;&#10;            stroke-linejoin:miter;&#10;            stroke-miterlimit:4;&#10;            stroke-dasharray:none;&#10;            stroke-dashoffset:0;&#10;            stroke-opacity:1\" width=\"11.80px\" x=\"200.6\" y=\"7.0\" /><rect height=\"25.00px\" style=\"opacity:1.00000;&#10;            fill:#00aad4;&#10;            fill-opacity:1;&#10;            stroke:none;&#10;            stroke-width:0.26499999;&#10;            stroke-linecap:round;&#10;            stroke-linejoin:miter;&#10;            stroke-miterlimit:4;&#10;            stroke-dasharray:none;&#10;            stroke-dashoffset:0;&#10;            stroke-opacity:1\" width=\"11.80px\" x=\"212.39999999999998\" y=\"7.0\" /><rect height=\"25.00px\" style=\"opacity:1.00000;&#10;            fill:#00aad4;&#10;            fill-opacity:1;&#10;            stroke:none;&#10;            stroke-width:0.26499999;&#10;            stroke-linecap:round;&#10;            stroke-linejoin:miter;&#10;            stroke-miterlimit:4;&#10;            stroke-dasharray:none;&#10;            stroke-dashoffset:0;&#10;            stroke-opacity:1\" width=\"11.80px\" x=\"224.2\" y=\"7.0\" /><rect height=\"25.00px\" style=\"opacity:1.00000;&#10;            fill:#00aad4;&#10;            fill-opacity:1;&#10;            stroke:none;&#10;            stroke-width:0.26499999;&#10;            stroke-linecap:round;&#10;            stroke-linejoin:miter;&#10;            stroke-miterlimit:4;&#10;            stroke-dasharray:none;&#10;            stroke-dashoffset:0;&#10;            stroke-opacity:1\" width=\"11.80px\" x=\"235.99999999999997\" y=\"7.0\" /><rect height=\"25.00px\" style=\"opacity:0.61885;&#10;            fill:#00aad4;&#10;            fill-opacity:1;&#10;            stroke:none;&#10;            stroke-width:0.26499999;&#10;            stroke-linecap:round;&#10;            stroke-linejoin:miter;&#10;            stroke-miterlimit:4;&#10;            stroke-dasharray:none;&#10;            stroke-dashoffset:0;&#10;            stroke-opacity:1\" width=\"11.80px\" x=\"247.79999999999998\" y=\"7.0\" /><rect height=\"25.00px\" style=\"opacity:0.61885;&#10;            fill:#00aad4;&#10;            fill-opacity:1;&#10;            stroke:none;&#10;            stroke-width:0.26499999;&#10;            stroke-linecap:round;&#10;            stroke-linejoin:miter;&#10;            stroke-miterlimit:4;&#10;            stroke-dasharray:none;&#10;            stroke-dashoffset:0;&#10;            stroke-opacity:1\" width=\"11.80px\" x=\"259.59999999999997\" y=\"7.0\" /><rect height=\"25.00px\" style=\"opacity:0.61885;&#10;            fill:#00aad4;&#10;            fill-opacity:1;&#10;            stroke:none;&#10;            stroke-width:0.26499999;&#10;            stroke-linecap:round;&#10;            stroke-linejoin:miter;&#10;            stroke-miterlimit:4;&#10;            stroke-dasharray:none;&#10;            stroke-dashoffset:0;&#10;            stroke-opacity:1\" width=\"11.80px\" x=\"271.4\" y=\"7.0\" /><rect height=\"25.00px\" style=\"opacity:0.61885;&#10;            fill:#00aad4;&#10;            fill-opacity:1;&#10;            stroke:none;&#10;            stroke-width:0.26499999;&#10;            stroke-linecap:round;&#10;            stroke-linejoin:miter;&#10;            stroke-miterlimit:4;&#10;            stroke-dasharray:none;&#10;            stroke-dashoffset:0;&#10;            stroke-opacity:1\" width=\"11.80px\" x=\"283.2\" y=\"7.0\" /><rect height=\"25.00px\" style=\"opacity:0.61885;&#10;            fill:#00aad4;&#10;            fill-opacity:1;&#10;            stroke:none;&#10;            stroke-width:0.26499999;&#10;            stroke-linecap:round;&#10;            stroke-linejoin:miter;&#10;            stroke-miterlimit:4;&#10;            stroke-dasharray:none;&#10;            stroke-dashoffset:0;&#10;            stroke-opacity:1\" width=\"11.80px\" x=\"295.0\" y=\"7.0\" /><rect height=\"25.00px\" style=\"opacity:0.21460;&#10;            fill:#00aad4;&#10;            fill-opacity:1;&#10;            stroke:none;&#10;            stroke-width:0.26499999;&#10;            stroke-linecap:round;&#10;            stroke-linejoin:miter;&#10;            stroke-miterlimit:4;&#10;            stroke-dasharray:none;&#10;            stroke-dashoffset:0;&#10;            stroke-opacity:1\" width=\"11.80px\" x=\"306.79999999999995\" y=\"7.0\" /><rect height=\"25.00px\" style=\"opacity:0.21460;&#10;            fill:#00aad4;&#10;            fill-opacity:1;&#10;            stroke:none;&#10;            stroke-width:0.26499999;&#10;            stroke-linecap:round;&#10;            stroke-linejoin:miter;&#10;            stroke-miterlimit:4;&#10;            stroke-dasharray:none;&#10;            stroke-dashoffset:0;&#10;            stroke-opacity:1\" width=\"11.80px\" x=\"318.59999999999997\" y=\"7.0\" /><rect height=\"25.00px\" style=\"opacity:0.21460;&#10;            fill:#00aad4;&#10;            fill-opacity:1;&#10;            stroke:none;&#10;            stroke-width:0.26499999;&#10;            stroke-linecap:round;&#10;            stroke-linejoin:miter;&#10;            stroke-miterlimit:4;&#10;            stroke-dasharray:none;&#10;            stroke-dashoffset:0;&#10;            stroke-opacity:1\" width=\"11.80px\" x=\"330.4\" y=\"7.0\" /><rect height=\"25.00px\" style=\"opacity:0.21460;&#10;            fill:#00aad4;&#10;            fill-opacity:1;&#10;            stroke:none;&#10;            stroke-width:0.26499999;&#10;            stroke-linecap:round;&#10;            stroke-linejoin:miter;&#10;            stroke-miterlimit:4;&#10;            stroke-dasharray:none;&#10;            stroke-dashoffset:0;&#10;            stroke-opacity:1\" width=\"11.80px\" x=\"342.2\" y=\"7.0\" /><rect height=\"25.00px\" style=\"opacity:0.21460;&#10;            fill:#00aad4;&#10;            fill-opacity:1;&#10;            stroke:none;&#10;            stroke-width:0.26499999;&#10;            stroke-linecap:round;&#10;            stroke-linejoin:miter;&#10;            stroke-miterlimit:4;&#10;            stroke-dasharray:none;&#10;            stroke-dashoffset:0;&#10;            stroke-opacity:1\" width=\"11.80px\" x=\"353.99999999999994\" y=\"7.0\" /><rect height=\"25.00px\" style=\"opacity:0.02726;&#10;            fill:#00aad4;&#10;            fill-opacity:1;&#10;            stroke:none;&#10;            stroke-width:0.26499999;&#10;            stroke-linecap:round;&#10;            stroke-linejoin:miter;&#10;            stroke-miterlimit:4;&#10;            stroke-dasharray:none;&#10;            stroke-dashoffset:0;&#10;            stroke-opacity:1\" width=\"11.80px\" x=\"365.79999999999995\" y=\"7.0\" /><rect height=\"25.00px\" style=\"opacity:0.02726;&#10;            fill:#00aad4;&#10;            fill-opacity:1;&#10;            stroke:none;&#10;            stroke-width:0.26499999;&#10;            stroke-linecap:round;&#10;            stroke-linejoin:miter;&#10;            stroke-miterlimit:4;&#10;            stroke-dasharray:none;&#10;            stroke-dashoffset:0;&#10;            stroke-opacity:1\" width=\"11.80px\" x=\"377.59999999999997\" y=\"7.0\" /><rect height=\"25.00px\" style=\"opacity:0.02726;&#10;            fill:#00aad4;&#10;            fill-opacity:1;&#10;            stroke:none;&#10;            stroke-width:0.26499999;&#10;            stroke-linecap:round;&#10;            stroke-linejoin:miter;&#10;            stroke-miterlimit:4;&#10;            stroke-dasharray:none;&#10;            stroke-dashoffset:0;&#10;            stroke-opacity:1\" width=\"11.80px\" x=\"389.4\" y=\"7.0\" /><rect height=\"25.00px\" style=\"opacity:0.02726;&#10;            fill:#00aad4;&#10;            fill-opacity:1;&#10;            stroke:none;&#10;            stroke-width:0.26499999;&#10;            stroke-linecap:round;&#10;            stroke-linejoin:miter;&#10;            stroke-miterlimit:4;&#10;            stroke-dasharray:none;&#10;            stroke-dashoffset:0;&#10;            stroke-opacity:1\" width=\"11.80px\" x=\"401.2\" y=\"7.0\" /><rect height=\"25.00px\" style=\"opacity:0.02726;&#10;            fill:#00aad4;&#10;            fill-opacity:1;&#10;            stroke:none;&#10;            stroke-width:0.26499999;&#10;            stroke-linecap:round;&#10;            stroke-linejoin:miter;&#10;            stroke-miterlimit:4;&#10;            stroke-dasharray:none;&#10;            stroke-dashoffset:0;&#10;            stroke-opacity:1\" width=\"11.80px\" x=\"412.99999999999994\" y=\"7.0\" /><rect height=\"25.00px\" style=\"opacity:0.02726;&#10;            fill:#00aad4;&#10;            fill-opacity:1;&#10;            stroke:none;&#10;            stroke-width:0.26499999;&#10;            stroke-linecap:round;&#10;            stroke-linejoin:miter;&#10;            stroke-miterlimit:4;&#10;            stroke-dasharray:none;&#10;            stroke-dashoffset:0;&#10;            stroke-opacity:1\" width=\"11.80px\" x=\"424.79999999999995\" y=\"7.0\" /><rect height=\"25.00px\" style=\"opacity:0.02726;&#10;            fill:#00aad4;&#10;            fill-opacity:1;&#10;            stroke:none;&#10;            stroke-width:0.26499999;&#10;            stroke-linecap:round;&#10;            stroke-linejoin:miter;&#10;            stroke-miterlimit:4;&#10;            stroke-dasharray:none;&#10;            stroke-dashoffset:0;&#10;            stroke-opacity:1\" width=\"11.80px\" x=\"436.59999999999997\" y=\"7.0\" /><rect height=\"25.00px\" style=\"opacity:0.43350;&#10;            fill:#00aad4;&#10;            fill-opacity:1;&#10;            stroke:none;&#10;            stroke-width:0.26499999;&#10;            stroke-linecap:round;&#10;            stroke-linejoin:miter;&#10;            stroke-miterlimit:4;&#10;            stroke-dasharray:none;&#10;            stroke-dashoffset:0;&#10;            stroke-opacity:1\" width=\"11.80px\" x=\"448.4\" y=\"7.0\" /><rect height=\"25.00px\" style=\"opacity:0.43350;&#10;            fill:#00aad4;&#10;            fill-opacity:1;&#10;            stroke:none;&#10;            stroke-width:0.26499999;&#10;            stroke-linecap:round;&#10;            stroke-linejoin:miter;&#10;            stroke-miterlimit:4;&#10;            stroke-dasharray:none;&#10;            stroke-dashoffset:0;&#10;            stroke-opacity:1\" width=\"11.80px\" x=\"460.19999999999993\" y=\"7.0\" /><text fill=\"black\" style=\"font-style:normal;&#10;            font-variant:normal;&#10;            font-weight:normal;&#10;            font-stretch:normal;&#10;            font-size:20.00px;&#10;            line-height:125%;&#10;            font-family:monospace;&#10;            -inkscape-font-specification:'Arial Unicode MS, Normal';&#10;            font-variant-ligatures:none;&#10;            font-variant-caps:normal;&#10;            font-variant-numeric:normal;&#10;            text-align:start;&#10;            writing-mode:lr-tb;&#10;            text-anchor:start;&#10;            stroke-width:0.26458332px\" x=\"0\" y=\"25.0\">في إجراءات استثنائية بسبب وباء كورونا .</text><rect height=\"25.00px\" style=\"opacity:0.17611;&#10;            fill:#00aad4;&#10;            fill-opacity:1;&#10;            stroke:none;&#10;            stroke-width:0.26499999;&#10;            stroke-linecap:round;&#10;            stroke-linejoin:miter;&#10;            stroke-miterlimit:4;&#10;            stroke-dasharray:none;&#10;            stroke-dashoffset:0;&#10;            stroke-opacity:1\" width=\"11.80px\" x=\"0.0\" y=\"7.0\" /><rect height=\"25.00px\" style=\"opacity:0.17611;&#10;            fill:#00aad4;&#10;            fill-opacity:1;&#10;            stroke:none;&#10;            stroke-width:0.26499999;&#10;            stroke-linecap:round;&#10;            stroke-linejoin:miter;&#10;            stroke-miterlimit:4;&#10;            stroke-dasharray:none;&#10;            stroke-dashoffset:0;&#10;            stroke-opacity:1\" width=\"11.80px\" x=\"11.799999999999999\" y=\"7.0\" /><rect height=\"25.00px\" style=\"opacity:0.17611;&#10;            fill:#00aad4;&#10;            fill-opacity:1;&#10;            stroke:none;&#10;            stroke-width:0.26499999;&#10;            stroke-linecap:round;&#10;            stroke-linejoin:miter;&#10;            stroke-miterlimit:4;&#10;            stroke-dasharray:none;&#10;            stroke-dashoffset:0;&#10;            stroke-opacity:1\" width=\"11.80px\" x=\"23.599999999999998\" y=\"7.0\" /><rect height=\"25.00px\" style=\"opacity:0.65293;&#10;            fill:#00aad4;&#10;            fill-opacity:1;&#10;            stroke:none;&#10;            stroke-width:0.26499999;&#10;            stroke-linecap:round;&#10;            stroke-linejoin:miter;&#10;            stroke-miterlimit:4;&#10;            stroke-dasharray:none;&#10;            stroke-dashoffset:0;&#10;            stroke-opacity:1\" width=\"11.80px\" x=\"35.4\" y=\"7.0\" /><rect height=\"25.00px\" style=\"opacity:0.65293;&#10;            fill:#00aad4;&#10;            fill-opacity:1;&#10;            stroke:none;&#10;            stroke-width:0.26499999;&#10;            stroke-linecap:round;&#10;            stroke-linejoin:miter;&#10;            stroke-miterlimit:4;&#10;            stroke-dasharray:none;&#10;            stroke-dashoffset:0;&#10;            stroke-opacity:1\" width=\"11.80px\" x=\"47.199999999999996\" y=\"7.0\" /><rect height=\"25.00px\" style=\"opacity:0.65293;&#10;            fill:#00aad4;&#10;            fill-opacity:1;&#10;            stroke:none;&#10;            stroke-width:0.26499999;&#10;            stroke-linecap:round;&#10;            stroke-linejoin:miter;&#10;            stroke-miterlimit:4;&#10;            stroke-dasharray:none;&#10;            stroke-dashoffset:0;&#10;            stroke-opacity:1\" width=\"11.80px\" x=\"58.99999999999999\" y=\"7.0\" /><rect height=\"25.00px\" style=\"opacity:0.65293;&#10;            fill:#00aad4;&#10;            fill-opacity:1;&#10;            stroke:none;&#10;            stroke-width:0.26499999;&#10;            stroke-linecap:round;&#10;            stroke-linejoin:miter;&#10;            stroke-miterlimit:4;&#10;            stroke-dasharray:none;&#10;            stroke-dashoffset:0;&#10;            stroke-opacity:1\" width=\"11.80px\" x=\"70.8\" y=\"7.0\" /><rect height=\"25.00px\" style=\"opacity:0.65293;&#10;            fill:#00aad4;&#10;            fill-opacity:1;&#10;            stroke:none;&#10;            stroke-width:0.26499999;&#10;            stroke-linecap:round;&#10;            stroke-linejoin:miter;&#10;            stroke-miterlimit:4;&#10;            stroke-dasharray:none;&#10;            stroke-dashoffset:0;&#10;            stroke-opacity:1\" width=\"11.80px\" x=\"82.6\" y=\"7.0\" /><rect height=\"25.00px\" style=\"opacity:0.65293;&#10;            fill:#00aad4;&#10;            fill-opacity:1;&#10;            stroke:none;&#10;            stroke-width:0.26499999;&#10;            stroke-linecap:round;&#10;            stroke-linejoin:miter;&#10;            stroke-miterlimit:4;&#10;            stroke-dasharray:none;&#10;            stroke-dashoffset:0;&#10;            stroke-opacity:1\" width=\"11.80px\" x=\"94.39999999999999\" y=\"7.0\" /><rect height=\"25.00px\" style=\"opacity:0.65293;&#10;            fill:#00aad4;&#10;            fill-opacity:1;&#10;            stroke:none;&#10;            stroke-width:0.26499999;&#10;            stroke-linecap:round;&#10;            stroke-linejoin:miter;&#10;            stroke-miterlimit:4;&#10;            stroke-dasharray:none;&#10;            stroke-dashoffset:0;&#10;            stroke-opacity:1\" width=\"11.80px\" x=\"106.19999999999999\" y=\"7.0\" /><rect height=\"25.00px\" style=\"opacity:0.65293;&#10;            fill:#00aad4;&#10;            fill-opacity:1;&#10;            stroke:none;&#10;            stroke-width:0.26499999;&#10;            stroke-linecap:round;&#10;            stroke-linejoin:miter;&#10;            stroke-miterlimit:4;&#10;            stroke-dasharray:none;&#10;            stroke-dashoffset:0;&#10;            stroke-opacity:1\" width=\"11.80px\" x=\"117.99999999999999\" y=\"7.0\" /><rect height=\"25.00px\" style=\"opacity:1.00000;&#10;            fill:#00aad4;&#10;            fill-opacity:1;&#10;            stroke:none;&#10;            stroke-width:0.26499999;&#10;            stroke-linecap:round;&#10;            stroke-linejoin:miter;&#10;            stroke-miterlimit:4;&#10;            stroke-dasharray:none;&#10;            stroke-dashoffset:0;&#10;            stroke-opacity:1\" width=\"11.80px\" x=\"129.79999999999998\" y=\"7.0\" /><rect height=\"25.00px\" style=\"opacity:1.00000;&#10;            fill:#00aad4;&#10;            fill-opacity:1;&#10;            stroke:none;&#10;            stroke-width:0.26499999;&#10;            stroke-linecap:round;&#10;            stroke-linejoin:miter;&#10;            stroke-miterlimit:4;&#10;            stroke-dasharray:none;&#10;            stroke-dashoffset:0;&#10;            stroke-opacity:1\" width=\"11.80px\" x=\"141.6\" y=\"7.0\" /><rect height=\"25.00px\" style=\"opacity:1.00000;&#10;            fill:#00aad4;&#10;            fill-opacity:1;&#10;            stroke:none;&#10;            stroke-width:0.26499999;&#10;            stroke-linecap:round;&#10;            stroke-linejoin:miter;&#10;            stroke-miterlimit:4;&#10;            stroke-dasharray:none;&#10;            stroke-dashoffset:0;&#10;            stroke-opacity:1\" width=\"11.80px\" x=\"153.39999999999998\" y=\"7.0\" /><rect height=\"25.00px\" style=\"opacity:1.00000;&#10;            fill:#00aad4;&#10;            fill-opacity:1;&#10;            stroke:none;&#10;            stroke-width:0.26499999;&#10;            stroke-linecap:round;&#10;            stroke-linejoin:miter;&#10;            stroke-miterlimit:4;&#10;            stroke-dasharray:none;&#10;            stroke-dashoffset:0;&#10;            stroke-opacity:1\" width=\"11.80px\" x=\"165.2\" y=\"7.0\" /><rect height=\"25.00px\" style=\"opacity:1.00000;&#10;            fill:#00aad4;&#10;            fill-opacity:1;&#10;            stroke:none;&#10;            stroke-width:0.26499999;&#10;            stroke-linecap:round;&#10;            stroke-linejoin:miter;&#10;            stroke-miterlimit:4;&#10;            stroke-dasharray:none;&#10;            stroke-dashoffset:0;&#10;            stroke-opacity:1\" width=\"11.80px\" x=\"176.99999999999997\" y=\"7.0\" /><rect height=\"25.00px\" style=\"opacity:1.00000;&#10;            fill:#00aad4;&#10;            fill-opacity:1;&#10;            stroke:none;&#10;            stroke-width:0.26499999;&#10;            stroke-linecap:round;&#10;            stroke-linejoin:miter;&#10;            stroke-miterlimit:4;&#10;            stroke-dasharray:none;&#10;            stroke-dashoffset:0;&#10;            stroke-opacity:1\" width=\"11.80px\" x=\"188.79999999999998\" y=\"7.0\" /><rect height=\"25.00px\" style=\"opacity:1.00000;&#10;            fill:#00aad4;&#10;            fill-opacity:1;&#10;            stroke:none;&#10;            stroke-width:0.26499999;&#10;            stroke-linecap:round;&#10;            stroke-linejoin:miter;&#10;            stroke-miterlimit:4;&#10;            stroke-dasharray:none;&#10;            stroke-dashoffset:0;&#10;            stroke-opacity:1\" width=\"11.80px\" x=\"200.6\" y=\"7.0\" /><rect height=\"25.00px\" style=\"opacity:1.00000;&#10;            fill:#00aad4;&#10;            fill-opacity:1;&#10;            stroke:none;&#10;            stroke-width:0.26499999;&#10;            stroke-linecap:round;&#10;            stroke-linejoin:miter;&#10;            stroke-miterlimit:4;&#10;            stroke-dasharray:none;&#10;            stroke-dashoffset:0;&#10;            stroke-opacity:1\" width=\"11.80px\" x=\"212.39999999999998\" y=\"7.0\" /><rect height=\"25.00px\" style=\"opacity:1.00000;&#10;            fill:#00aad4;&#10;            fill-opacity:1;&#10;            stroke:none;&#10;            stroke-width:0.26499999;&#10;            stroke-linecap:round;&#10;            stroke-linejoin:miter;&#10;            stroke-miterlimit:4;&#10;            stroke-dasharray:none;&#10;            stroke-dashoffset:0;&#10;            stroke-opacity:1\" width=\"11.80px\" x=\"224.2\" y=\"7.0\" /><rect height=\"25.00px\" style=\"opacity:1.00000;&#10;            fill:#00aad4;&#10;            fill-opacity:1;&#10;            stroke:none;&#10;            stroke-width:0.26499999;&#10;            stroke-linecap:round;&#10;            stroke-linejoin:miter;&#10;            stroke-miterlimit:4;&#10;            stroke-dasharray:none;&#10;            stroke-dashoffset:0;&#10;            stroke-opacity:1\" width=\"11.80px\" x=\"235.99999999999997\" y=\"7.0\" /><rect height=\"25.00px\" style=\"opacity:0.61885;&#10;            fill:#00aad4;&#10;            fill-opacity:1;&#10;            stroke:none;&#10;            stroke-width:0.26499999;&#10;            stroke-linecap:round;&#10;            stroke-linejoin:miter;&#10;            stroke-miterlimit:4;&#10;            stroke-dasharray:none;&#10;            stroke-dashoffset:0;&#10;            stroke-opacity:1\" width=\"11.80px\" x=\"247.79999999999998\" y=\"7.0\" /><rect height=\"25.00px\" style=\"opacity:0.61885;&#10;            fill:#00aad4;&#10;            fill-opacity:1;&#10;            stroke:none;&#10;            stroke-width:0.26499999;&#10;            stroke-linecap:round;&#10;            stroke-linejoin:miter;&#10;            stroke-miterlimit:4;&#10;            stroke-dasharray:none;&#10;            stroke-dashoffset:0;&#10;            stroke-opacity:1\" width=\"11.80px\" x=\"259.59999999999997\" y=\"7.0\" /><rect height=\"25.00px\" style=\"opacity:0.61885;&#10;            fill:#00aad4;&#10;            fill-opacity:1;&#10;            stroke:none;&#10;            stroke-width:0.26499999;&#10;            stroke-linecap:round;&#10;            stroke-linejoin:miter;&#10;            stroke-miterlimit:4;&#10;            stroke-dasharray:none;&#10;            stroke-dashoffset:0;&#10;            stroke-opacity:1\" width=\"11.80px\" x=\"271.4\" y=\"7.0\" /><rect height=\"25.00px\" style=\"opacity:0.61885;&#10;            fill:#00aad4;&#10;            fill-opacity:1;&#10;            stroke:none;&#10;            stroke-width:0.26499999;&#10;            stroke-linecap:round;&#10;            stroke-linejoin:miter;&#10;            stroke-miterlimit:4;&#10;            stroke-dasharray:none;&#10;            stroke-dashoffset:0;&#10;            stroke-opacity:1\" width=\"11.80px\" x=\"283.2\" y=\"7.0\" /><rect height=\"25.00px\" style=\"opacity:0.61885;&#10;            fill:#00aad4;&#10;            fill-opacity:1;&#10;            stroke:none;&#10;            stroke-width:0.26499999;&#10;            stroke-linecap:round;&#10;            stroke-linejoin:miter;&#10;            stroke-miterlimit:4;&#10;            stroke-dasharray:none;&#10;            stroke-dashoffset:0;&#10;            stroke-opacity:1\" width=\"11.80px\" x=\"295.0\" y=\"7.0\" /><rect height=\"25.00px\" style=\"opacity:0.21460;&#10;            fill:#00aad4;&#10;            fill-opacity:1;&#10;            stroke:none;&#10;            stroke-width:0.26499999;&#10;            stroke-linecap:round;&#10;            stroke-linejoin:miter;&#10;            stroke-miterlimit:4;&#10;            stroke-dasharray:none;&#10;            stroke-dashoffset:0;&#10;            stroke-opacity:1\" width=\"11.80px\" x=\"306.79999999999995\" y=\"7.0\" /><rect height=\"25.00px\" style=\"opacity:0.21460;&#10;            fill:#00aad4;&#10;            fill-opacity:1;&#10;            stroke:none;&#10;            stroke-width:0.26499999;&#10;            stroke-linecap:round;&#10;            stroke-linejoin:miter;&#10;            stroke-miterlimit:4;&#10;            stroke-dasharray:none;&#10;            stroke-dashoffset:0;&#10;            stroke-opacity:1\" width=\"11.80px\" x=\"318.59999999999997\" y=\"7.0\" /><rect height=\"25.00px\" style=\"opacity:0.21460;&#10;            fill:#00aad4;&#10;            fill-opacity:1;&#10;            stroke:none;&#10;            stroke-width:0.26499999;&#10;            stroke-linecap:round;&#10;            stroke-linejoin:miter;&#10;            stroke-miterlimit:4;&#10;            stroke-dasharray:none;&#10;            stroke-dashoffset:0;&#10;            stroke-opacity:1\" width=\"11.80px\" x=\"330.4\" y=\"7.0\" /><rect height=\"25.00px\" style=\"opacity:0.21460;&#10;            fill:#00aad4;&#10;            fill-opacity:1;&#10;            stroke:none;&#10;            stroke-width:0.26499999;&#10;            stroke-linecap:round;&#10;            stroke-linejoin:miter;&#10;            stroke-miterlimit:4;&#10;            stroke-dasharray:none;&#10;            stroke-dashoffset:0;&#10;            stroke-opacity:1\" width=\"11.80px\" x=\"342.2\" y=\"7.0\" /><rect height=\"25.00px\" style=\"opacity:0.21460;&#10;            fill:#00aad4;&#10;            fill-opacity:1;&#10;            stroke:none;&#10;            stroke-width:0.26499999;&#10;            stroke-linecap:round;&#10;            stroke-linejoin:miter;&#10;            stroke-miterlimit:4;&#10;            stroke-dasharray:none;&#10;            stroke-dashoffset:0;&#10;            stroke-opacity:1\" width=\"11.80px\" x=\"353.99999999999994\" y=\"7.0\" /><rect height=\"25.00px\" style=\"opacity:0.02726;&#10;            fill:#00aad4;&#10;            fill-opacity:1;&#10;            stroke:none;&#10;            stroke-width:0.26499999;&#10;            stroke-linecap:round;&#10;            stroke-linejoin:miter;&#10;            stroke-miterlimit:4;&#10;            stroke-dasharray:none;&#10;            stroke-dashoffset:0;&#10;            stroke-opacity:1\" width=\"11.80px\" x=\"365.79999999999995\" y=\"7.0\" /><rect height=\"25.00px\" style=\"opacity:0.02726;&#10;            fill:#00aad4;&#10;            fill-opacity:1;&#10;            stroke:none;&#10;            stroke-width:0.26499999;&#10;            stroke-linecap:round;&#10;            stroke-linejoin:miter;&#10;            stroke-miterlimit:4;&#10;            stroke-dasharray:none;&#10;            stroke-dashoffset:0;&#10;            stroke-opacity:1\" width=\"11.80px\" x=\"377.59999999999997\" y=\"7.0\" /><rect height=\"25.00px\" style=\"opacity:0.02726;&#10;            fill:#00aad4;&#10;            fill-opacity:1;&#10;            stroke:none;&#10;            stroke-width:0.26499999;&#10;            stroke-linecap:round;&#10;            stroke-linejoin:miter;&#10;            stroke-miterlimit:4;&#10;            stroke-dasharray:none;&#10;            stroke-dashoffset:0;&#10;            stroke-opacity:1\" width=\"11.80px\" x=\"389.4\" y=\"7.0\" /><rect height=\"25.00px\" style=\"opacity:0.02726;&#10;            fill:#00aad4;&#10;            fill-opacity:1;&#10;            stroke:none;&#10;            stroke-width:0.26499999;&#10;            stroke-linecap:round;&#10;            stroke-linejoin:miter;&#10;            stroke-miterlimit:4;&#10;            stroke-dasharray:none;&#10;            stroke-dashoffset:0;&#10;            stroke-opacity:1\" width=\"11.80px\" x=\"401.2\" y=\"7.0\" /><rect height=\"25.00px\" style=\"opacity:0.02726;&#10;            fill:#00aad4;&#10;            fill-opacity:1;&#10;            stroke:none;&#10;            stroke-width:0.26499999;&#10;            stroke-linecap:round;&#10;            stroke-linejoin:miter;&#10;            stroke-miterlimit:4;&#10;            stroke-dasharray:none;&#10;            stroke-dashoffset:0;&#10;            stroke-opacity:1\" width=\"11.80px\" x=\"412.99999999999994\" y=\"7.0\" /><rect height=\"25.00px\" style=\"opacity:0.02726;&#10;            fill:#00aad4;&#10;            fill-opacity:1;&#10;            stroke:none;&#10;            stroke-width:0.26499999;&#10;            stroke-linecap:round;&#10;            stroke-linejoin:miter;&#10;            stroke-miterlimit:4;&#10;            stroke-dasharray:none;&#10;            stroke-dashoffset:0;&#10;            stroke-opacity:1\" width=\"11.80px\" x=\"424.79999999999995\" y=\"7.0\" /><rect height=\"25.00px\" style=\"opacity:0.02726;&#10;            fill:#00aad4;&#10;            fill-opacity:1;&#10;            stroke:none;&#10;            stroke-width:0.26499999;&#10;            stroke-linecap:round;&#10;            stroke-linejoin:miter;&#10;            stroke-miterlimit:4;&#10;            stroke-dasharray:none;&#10;            stroke-dashoffset:0;&#10;            stroke-opacity:1\" width=\"11.80px\" x=\"436.59999999999997\" y=\"7.0\" /><rect height=\"25.00px\" style=\"opacity:0.43350;&#10;            fill:#00aad4;&#10;            fill-opacity:1;&#10;            stroke:none;&#10;            stroke-width:0.26499999;&#10;            stroke-linecap:round;&#10;            stroke-linejoin:miter;&#10;            stroke-miterlimit:4;&#10;            stroke-dasharray:none;&#10;            stroke-dashoffset:0;&#10;            stroke-opacity:1\" width=\"11.80px\" x=\"448.4\" y=\"7.0\" /><rect height=\"25.00px\" style=\"opacity:0.43350;&#10;            fill:#00aad4;&#10;            fill-opacity:1;&#10;            stroke:none;&#10;            stroke-width:0.26499999;&#10;            stroke-linecap:round;&#10;            stroke-linejoin:miter;&#10;            stroke-miterlimit:4;&#10;            stroke-dasharray:none;&#10;            stroke-dashoffset:0;&#10;            stroke-opacity:1\" width=\"11.80px\" x=\"460.19999999999993\" y=\"7.0\" /><text fill=\"black\" style=\"font-style:normal;&#10;            font-variant:normal;&#10;            font-weight:normal;&#10;            font-stretch:normal;&#10;            font-size:20.00px;&#10;            line-height:125%;&#10;            font-family:monospace;&#10;            -inkscape-font-specification:'Arial Unicode MS, Normal';&#10;            font-variant-ligatures:none;&#10;            font-variant-caps:normal;&#10;            font-variant-numeric:normal;&#10;            text-align:start;&#10;            writing-mode:lr-tb;&#10;            text-anchor:start;&#10;            stroke-width:0.26458332px\" x=\"0\" y=\"25.0\">&lt;svgwrite.text.Text object at 0x16e7ed310&gt;</text></g>"
      ],
      "text/plain": [
       "<svgwrite.container.Group at 0x16f91c850>"
      ]
     },
     "execution_count": 117,
     "metadata": {},
     "output_type": "execute_result"
    }
   ],
   "source": [
    "group = dwg.g()\n",
    "for _ in range(darken):\n",
    "    word_idx = 0\n",
    "    for line_idx, line in enumerate(lines):\n",
    "        char_idx = 0\n",
    "        max_score = max(scores)\n",
    "        min_score = abs(min(scores))\n",
    "        limit = max(max_score, min_score)\n",
    "        for word in line.split(' '):\n",
    "            print('W:',word)\n",
    "            score = scores[word_idx]\n",
    "            if score > 0:\n",
    "                color = colors[1]\n",
    "                opacity = score/limit\n",
    "            else:\n",
    "                color = colors[0]\n",
    "                opacity = abs(score)/limit\n",
    "\n",
    "            for _ in word:\n",
    "                rect_insert = (0 + char_idx * char_width, offset + 7 + line_idx * char_height)\n",
    "                rect_size = (\"%.2fpx\"%(char_width), \"%0.2fpx\"%(char_height))\n",
    "                group.add(\n",
    "                    dwg.rect(insert=rect_insert,\n",
    "                            size=rect_size,\n",
    "                            style=get_rect_style(color, opacity)\n",
    "                            )\n",
    "                )\n",
    "                char_idx += 1\n",
    "\n",
    "            final_rect_insert = (0 + char_idx * char_width, offset + 7 + line_idx * char_height)\n",
    "            final_rect_size = (\"%.2fpx\"%(char_width), \"%0.2fpx\"%(char_height))\n",
    "            group.add(\n",
    "                dwg.rect(insert=final_rect_insert,\n",
    "                        size=final_rect_size,\n",
    "                        style=get_rect_style(color, opacity)\n",
    "                        )\n",
    "            )\n",
    "\n",
    "            char_idx += 1\n",
    "            word_idx += 1\n",
    "\n",
    "    for line_idx, line in enumerate(lines):\n",
    "        text_insert = (0, offset + FONT_SIZE*1.25*(line_idx+1))\n",
    "        print(text_insert,text)\n",
    "        text = dwg.text(text,\n",
    "                        insert=text_insert,\n",
    "                        fill='black',\n",
    "                        style=get_text_style(FONT_SIZE))\n",
    "        group.add(text)\n",
    "offset += FONT_SIZE*1.25*len(lines) + MARGIN\n",
    "\n",
    "dwg.add(group)"
   ]
  },
  {
   "cell_type": "code",
   "execution_count": 118,
   "metadata": {},
   "outputs": [
    {
     "data": {
      "image/svg+xml": [
       "<svg baseProfile=\"full\" height=\"30.0\" version=\"1.1\" viewBox=\"0,0,719.8,30.0\" width=\"719.8\" xmlns=\"http://www.w3.org/2000/svg\" xmlns:ev=\"http://www.w3.org/2001/xml-events\" xmlns:xlink=\"http://www.w3.org/1999/xlink\"><defs /><g><rect height=\"25.00px\" style=\"opacity:0.17611;&#10;            fill:#00aad4;&#10;            fill-opacity:1;&#10;            stroke:none;&#10;            stroke-width:0.26499999;&#10;            stroke-linecap:round;&#10;            stroke-linejoin:miter;&#10;            stroke-miterlimit:4;&#10;            stroke-dasharray:none;&#10;            stroke-dashoffset:0;&#10;            stroke-opacity:1\" width=\"11.80px\" x=\"0.0\" y=\"7.0\" /><rect height=\"25.00px\" style=\"opacity:0.17611;&#10;            fill:#00aad4;&#10;            fill-opacity:1;&#10;            stroke:none;&#10;            stroke-width:0.26499999;&#10;            stroke-linecap:round;&#10;            stroke-linejoin:miter;&#10;            stroke-miterlimit:4;&#10;            stroke-dasharray:none;&#10;            stroke-dashoffset:0;&#10;            stroke-opacity:1\" width=\"11.80px\" x=\"11.799999999999999\" y=\"7.0\" /><rect height=\"25.00px\" style=\"opacity:0.17611;&#10;            fill:#00aad4;&#10;            fill-opacity:1;&#10;            stroke:none;&#10;            stroke-width:0.26499999;&#10;            stroke-linecap:round;&#10;            stroke-linejoin:miter;&#10;            stroke-miterlimit:4;&#10;            stroke-dasharray:none;&#10;            stroke-dashoffset:0;&#10;            stroke-opacity:1\" width=\"11.80px\" x=\"23.599999999999998\" y=\"7.0\" /><rect height=\"25.00px\" style=\"opacity:0.65293;&#10;            fill:#00aad4;&#10;            fill-opacity:1;&#10;            stroke:none;&#10;            stroke-width:0.26499999;&#10;            stroke-linecap:round;&#10;            stroke-linejoin:miter;&#10;            stroke-miterlimit:4;&#10;            stroke-dasharray:none;&#10;            stroke-dashoffset:0;&#10;            stroke-opacity:1\" width=\"11.80px\" x=\"35.4\" y=\"7.0\" /><rect height=\"25.00px\" style=\"opacity:0.65293;&#10;            fill:#00aad4;&#10;            fill-opacity:1;&#10;            stroke:none;&#10;            stroke-width:0.26499999;&#10;            stroke-linecap:round;&#10;            stroke-linejoin:miter;&#10;            stroke-miterlimit:4;&#10;            stroke-dasharray:none;&#10;            stroke-dashoffset:0;&#10;            stroke-opacity:1\" width=\"11.80px\" x=\"47.199999999999996\" y=\"7.0\" /><rect height=\"25.00px\" style=\"opacity:0.65293;&#10;            fill:#00aad4;&#10;            fill-opacity:1;&#10;            stroke:none;&#10;            stroke-width:0.26499999;&#10;            stroke-linecap:round;&#10;            stroke-linejoin:miter;&#10;            stroke-miterlimit:4;&#10;            stroke-dasharray:none;&#10;            stroke-dashoffset:0;&#10;            stroke-opacity:1\" width=\"11.80px\" x=\"58.99999999999999\" y=\"7.0\" /><rect height=\"25.00px\" style=\"opacity:0.65293;&#10;            fill:#00aad4;&#10;            fill-opacity:1;&#10;            stroke:none;&#10;            stroke-width:0.26499999;&#10;            stroke-linecap:round;&#10;            stroke-linejoin:miter;&#10;            stroke-miterlimit:4;&#10;            stroke-dasharray:none;&#10;            stroke-dashoffset:0;&#10;            stroke-opacity:1\" width=\"11.80px\" x=\"70.8\" y=\"7.0\" /><rect height=\"25.00px\" style=\"opacity:0.65293;&#10;            fill:#00aad4;&#10;            fill-opacity:1;&#10;            stroke:none;&#10;            stroke-width:0.26499999;&#10;            stroke-linecap:round;&#10;            stroke-linejoin:miter;&#10;            stroke-miterlimit:4;&#10;            stroke-dasharray:none;&#10;            stroke-dashoffset:0;&#10;            stroke-opacity:1\" width=\"11.80px\" x=\"82.6\" y=\"7.0\" /><rect height=\"25.00px\" style=\"opacity:0.65293;&#10;            fill:#00aad4;&#10;            fill-opacity:1;&#10;            stroke:none;&#10;            stroke-width:0.26499999;&#10;            stroke-linecap:round;&#10;            stroke-linejoin:miter;&#10;            stroke-miterlimit:4;&#10;            stroke-dasharray:none;&#10;            stroke-dashoffset:0;&#10;            stroke-opacity:1\" width=\"11.80px\" x=\"94.39999999999999\" y=\"7.0\" /><rect height=\"25.00px\" style=\"opacity:0.65293;&#10;            fill:#00aad4;&#10;            fill-opacity:1;&#10;            stroke:none;&#10;            stroke-width:0.26499999;&#10;            stroke-linecap:round;&#10;            stroke-linejoin:miter;&#10;            stroke-miterlimit:4;&#10;            stroke-dasharray:none;&#10;            stroke-dashoffset:0;&#10;            stroke-opacity:1\" width=\"11.80px\" x=\"106.19999999999999\" y=\"7.0\" /><rect height=\"25.00px\" style=\"opacity:0.65293;&#10;            fill:#00aad4;&#10;            fill-opacity:1;&#10;            stroke:none;&#10;            stroke-width:0.26499999;&#10;            stroke-linecap:round;&#10;            stroke-linejoin:miter;&#10;            stroke-miterlimit:4;&#10;            stroke-dasharray:none;&#10;            stroke-dashoffset:0;&#10;            stroke-opacity:1\" width=\"11.80px\" x=\"117.99999999999999\" y=\"7.0\" /><rect height=\"25.00px\" style=\"opacity:1.00000;&#10;            fill:#00aad4;&#10;            fill-opacity:1;&#10;            stroke:none;&#10;            stroke-width:0.26499999;&#10;            stroke-linecap:round;&#10;            stroke-linejoin:miter;&#10;            stroke-miterlimit:4;&#10;            stroke-dasharray:none;&#10;            stroke-dashoffset:0;&#10;            stroke-opacity:1\" width=\"11.80px\" x=\"129.79999999999998\" y=\"7.0\" /><rect height=\"25.00px\" style=\"opacity:1.00000;&#10;            fill:#00aad4;&#10;            fill-opacity:1;&#10;            stroke:none;&#10;            stroke-width:0.26499999;&#10;            stroke-linecap:round;&#10;            stroke-linejoin:miter;&#10;            stroke-miterlimit:4;&#10;            stroke-dasharray:none;&#10;            stroke-dashoffset:0;&#10;            stroke-opacity:1\" width=\"11.80px\" x=\"141.6\" y=\"7.0\" /><rect height=\"25.00px\" style=\"opacity:1.00000;&#10;            fill:#00aad4;&#10;            fill-opacity:1;&#10;            stroke:none;&#10;            stroke-width:0.26499999;&#10;            stroke-linecap:round;&#10;            stroke-linejoin:miter;&#10;            stroke-miterlimit:4;&#10;            stroke-dasharray:none;&#10;            stroke-dashoffset:0;&#10;            stroke-opacity:1\" width=\"11.80px\" x=\"153.39999999999998\" y=\"7.0\" /><rect height=\"25.00px\" style=\"opacity:1.00000;&#10;            fill:#00aad4;&#10;            fill-opacity:1;&#10;            stroke:none;&#10;            stroke-width:0.26499999;&#10;            stroke-linecap:round;&#10;            stroke-linejoin:miter;&#10;            stroke-miterlimit:4;&#10;            stroke-dasharray:none;&#10;            stroke-dashoffset:0;&#10;            stroke-opacity:1\" width=\"11.80px\" x=\"165.2\" y=\"7.0\" /><rect height=\"25.00px\" style=\"opacity:1.00000;&#10;            fill:#00aad4;&#10;            fill-opacity:1;&#10;            stroke:none;&#10;            stroke-width:0.26499999;&#10;            stroke-linecap:round;&#10;            stroke-linejoin:miter;&#10;            stroke-miterlimit:4;&#10;            stroke-dasharray:none;&#10;            stroke-dashoffset:0;&#10;            stroke-opacity:1\" width=\"11.80px\" x=\"176.99999999999997\" y=\"7.0\" /><rect height=\"25.00px\" style=\"opacity:1.00000;&#10;            fill:#00aad4;&#10;            fill-opacity:1;&#10;            stroke:none;&#10;            stroke-width:0.26499999;&#10;            stroke-linecap:round;&#10;            stroke-linejoin:miter;&#10;            stroke-miterlimit:4;&#10;            stroke-dasharray:none;&#10;            stroke-dashoffset:0;&#10;            stroke-opacity:1\" width=\"11.80px\" x=\"188.79999999999998\" y=\"7.0\" /><rect height=\"25.00px\" style=\"opacity:1.00000;&#10;            fill:#00aad4;&#10;            fill-opacity:1;&#10;            stroke:none;&#10;            stroke-width:0.26499999;&#10;            stroke-linecap:round;&#10;            stroke-linejoin:miter;&#10;            stroke-miterlimit:4;&#10;            stroke-dasharray:none;&#10;            stroke-dashoffset:0;&#10;            stroke-opacity:1\" width=\"11.80px\" x=\"200.6\" y=\"7.0\" /><rect height=\"25.00px\" style=\"opacity:1.00000;&#10;            fill:#00aad4;&#10;            fill-opacity:1;&#10;            stroke:none;&#10;            stroke-width:0.26499999;&#10;            stroke-linecap:round;&#10;            stroke-linejoin:miter;&#10;            stroke-miterlimit:4;&#10;            stroke-dasharray:none;&#10;            stroke-dashoffset:0;&#10;            stroke-opacity:1\" width=\"11.80px\" x=\"212.39999999999998\" y=\"7.0\" /><rect height=\"25.00px\" style=\"opacity:1.00000;&#10;            fill:#00aad4;&#10;            fill-opacity:1;&#10;            stroke:none;&#10;            stroke-width:0.26499999;&#10;            stroke-linecap:round;&#10;            stroke-linejoin:miter;&#10;            stroke-miterlimit:4;&#10;            stroke-dasharray:none;&#10;            stroke-dashoffset:0;&#10;            stroke-opacity:1\" width=\"11.80px\" x=\"224.2\" y=\"7.0\" /><rect height=\"25.00px\" style=\"opacity:1.00000;&#10;            fill:#00aad4;&#10;            fill-opacity:1;&#10;            stroke:none;&#10;            stroke-width:0.26499999;&#10;            stroke-linecap:round;&#10;            stroke-linejoin:miter;&#10;            stroke-miterlimit:4;&#10;            stroke-dasharray:none;&#10;            stroke-dashoffset:0;&#10;            stroke-opacity:1\" width=\"11.80px\" x=\"235.99999999999997\" y=\"7.0\" /><rect height=\"25.00px\" style=\"opacity:0.61885;&#10;            fill:#00aad4;&#10;            fill-opacity:1;&#10;            stroke:none;&#10;            stroke-width:0.26499999;&#10;            stroke-linecap:round;&#10;            stroke-linejoin:miter;&#10;            stroke-miterlimit:4;&#10;            stroke-dasharray:none;&#10;            stroke-dashoffset:0;&#10;            stroke-opacity:1\" width=\"11.80px\" x=\"247.79999999999998\" y=\"7.0\" /><rect height=\"25.00px\" style=\"opacity:0.61885;&#10;            fill:#00aad4;&#10;            fill-opacity:1;&#10;            stroke:none;&#10;            stroke-width:0.26499999;&#10;            stroke-linecap:round;&#10;            stroke-linejoin:miter;&#10;            stroke-miterlimit:4;&#10;            stroke-dasharray:none;&#10;            stroke-dashoffset:0;&#10;            stroke-opacity:1\" width=\"11.80px\" x=\"259.59999999999997\" y=\"7.0\" /><rect height=\"25.00px\" style=\"opacity:0.61885;&#10;            fill:#00aad4;&#10;            fill-opacity:1;&#10;            stroke:none;&#10;            stroke-width:0.26499999;&#10;            stroke-linecap:round;&#10;            stroke-linejoin:miter;&#10;            stroke-miterlimit:4;&#10;            stroke-dasharray:none;&#10;            stroke-dashoffset:0;&#10;            stroke-opacity:1\" width=\"11.80px\" x=\"271.4\" y=\"7.0\" /><rect height=\"25.00px\" style=\"opacity:0.61885;&#10;            fill:#00aad4;&#10;            fill-opacity:1;&#10;            stroke:none;&#10;            stroke-width:0.26499999;&#10;            stroke-linecap:round;&#10;            stroke-linejoin:miter;&#10;            stroke-miterlimit:4;&#10;            stroke-dasharray:none;&#10;            stroke-dashoffset:0;&#10;            stroke-opacity:1\" width=\"11.80px\" x=\"283.2\" y=\"7.0\" /><rect height=\"25.00px\" style=\"opacity:0.61885;&#10;            fill:#00aad4;&#10;            fill-opacity:1;&#10;            stroke:none;&#10;            stroke-width:0.26499999;&#10;            stroke-linecap:round;&#10;            stroke-linejoin:miter;&#10;            stroke-miterlimit:4;&#10;            stroke-dasharray:none;&#10;            stroke-dashoffset:0;&#10;            stroke-opacity:1\" width=\"11.80px\" x=\"295.0\" y=\"7.0\" /><rect height=\"25.00px\" style=\"opacity:0.21460;&#10;            fill:#00aad4;&#10;            fill-opacity:1;&#10;            stroke:none;&#10;            stroke-width:0.26499999;&#10;            stroke-linecap:round;&#10;            stroke-linejoin:miter;&#10;            stroke-miterlimit:4;&#10;            stroke-dasharray:none;&#10;            stroke-dashoffset:0;&#10;            stroke-opacity:1\" width=\"11.80px\" x=\"306.79999999999995\" y=\"7.0\" /><rect height=\"25.00px\" style=\"opacity:0.21460;&#10;            fill:#00aad4;&#10;            fill-opacity:1;&#10;            stroke:none;&#10;            stroke-width:0.26499999;&#10;            stroke-linecap:round;&#10;            stroke-linejoin:miter;&#10;            stroke-miterlimit:4;&#10;            stroke-dasharray:none;&#10;            stroke-dashoffset:0;&#10;            stroke-opacity:1\" width=\"11.80px\" x=\"318.59999999999997\" y=\"7.0\" /><rect height=\"25.00px\" style=\"opacity:0.21460;&#10;            fill:#00aad4;&#10;            fill-opacity:1;&#10;            stroke:none;&#10;            stroke-width:0.26499999;&#10;            stroke-linecap:round;&#10;            stroke-linejoin:miter;&#10;            stroke-miterlimit:4;&#10;            stroke-dasharray:none;&#10;            stroke-dashoffset:0;&#10;            stroke-opacity:1\" width=\"11.80px\" x=\"330.4\" y=\"7.0\" /><rect height=\"25.00px\" style=\"opacity:0.21460;&#10;            fill:#00aad4;&#10;            fill-opacity:1;&#10;            stroke:none;&#10;            stroke-width:0.26499999;&#10;            stroke-linecap:round;&#10;            stroke-linejoin:miter;&#10;            stroke-miterlimit:4;&#10;            stroke-dasharray:none;&#10;            stroke-dashoffset:0;&#10;            stroke-opacity:1\" width=\"11.80px\" x=\"342.2\" y=\"7.0\" /><rect height=\"25.00px\" style=\"opacity:0.21460;&#10;            fill:#00aad4;&#10;            fill-opacity:1;&#10;            stroke:none;&#10;            stroke-width:0.26499999;&#10;            stroke-linecap:round;&#10;            stroke-linejoin:miter;&#10;            stroke-miterlimit:4;&#10;            stroke-dasharray:none;&#10;            stroke-dashoffset:0;&#10;            stroke-opacity:1\" width=\"11.80px\" x=\"353.99999999999994\" y=\"7.0\" /><rect height=\"25.00px\" style=\"opacity:0.02726;&#10;            fill:#00aad4;&#10;            fill-opacity:1;&#10;            stroke:none;&#10;            stroke-width:0.26499999;&#10;            stroke-linecap:round;&#10;            stroke-linejoin:miter;&#10;            stroke-miterlimit:4;&#10;            stroke-dasharray:none;&#10;            stroke-dashoffset:0;&#10;            stroke-opacity:1\" width=\"11.80px\" x=\"365.79999999999995\" y=\"7.0\" /><rect height=\"25.00px\" style=\"opacity:0.02726;&#10;            fill:#00aad4;&#10;            fill-opacity:1;&#10;            stroke:none;&#10;            stroke-width:0.26499999;&#10;            stroke-linecap:round;&#10;            stroke-linejoin:miter;&#10;            stroke-miterlimit:4;&#10;            stroke-dasharray:none;&#10;            stroke-dashoffset:0;&#10;            stroke-opacity:1\" width=\"11.80px\" x=\"377.59999999999997\" y=\"7.0\" /><rect height=\"25.00px\" style=\"opacity:0.02726;&#10;            fill:#00aad4;&#10;            fill-opacity:1;&#10;            stroke:none;&#10;            stroke-width:0.26499999;&#10;            stroke-linecap:round;&#10;            stroke-linejoin:miter;&#10;            stroke-miterlimit:4;&#10;            stroke-dasharray:none;&#10;            stroke-dashoffset:0;&#10;            stroke-opacity:1\" width=\"11.80px\" x=\"389.4\" y=\"7.0\" /><rect height=\"25.00px\" style=\"opacity:0.02726;&#10;            fill:#00aad4;&#10;            fill-opacity:1;&#10;            stroke:none;&#10;            stroke-width:0.26499999;&#10;            stroke-linecap:round;&#10;            stroke-linejoin:miter;&#10;            stroke-miterlimit:4;&#10;            stroke-dasharray:none;&#10;            stroke-dashoffset:0;&#10;            stroke-opacity:1\" width=\"11.80px\" x=\"401.2\" y=\"7.0\" /><rect height=\"25.00px\" style=\"opacity:0.02726;&#10;            fill:#00aad4;&#10;            fill-opacity:1;&#10;            stroke:none;&#10;            stroke-width:0.26499999;&#10;            stroke-linecap:round;&#10;            stroke-linejoin:miter;&#10;            stroke-miterlimit:4;&#10;            stroke-dasharray:none;&#10;            stroke-dashoffset:0;&#10;            stroke-opacity:1\" width=\"11.80px\" x=\"412.99999999999994\" y=\"7.0\" /><rect height=\"25.00px\" style=\"opacity:0.02726;&#10;            fill:#00aad4;&#10;            fill-opacity:1;&#10;            stroke:none;&#10;            stroke-width:0.26499999;&#10;            stroke-linecap:round;&#10;            stroke-linejoin:miter;&#10;            stroke-miterlimit:4;&#10;            stroke-dasharray:none;&#10;            stroke-dashoffset:0;&#10;            stroke-opacity:1\" width=\"11.80px\" x=\"424.79999999999995\" y=\"7.0\" /><rect height=\"25.00px\" style=\"opacity:0.02726;&#10;            fill:#00aad4;&#10;            fill-opacity:1;&#10;            stroke:none;&#10;            stroke-width:0.26499999;&#10;            stroke-linecap:round;&#10;            stroke-linejoin:miter;&#10;            stroke-miterlimit:4;&#10;            stroke-dasharray:none;&#10;            stroke-dashoffset:0;&#10;            stroke-opacity:1\" width=\"11.80px\" x=\"436.59999999999997\" y=\"7.0\" /><rect height=\"25.00px\" style=\"opacity:0.43350;&#10;            fill:#00aad4;&#10;            fill-opacity:1;&#10;            stroke:none;&#10;            stroke-width:0.26499999;&#10;            stroke-linecap:round;&#10;            stroke-linejoin:miter;&#10;            stroke-miterlimit:4;&#10;            stroke-dasharray:none;&#10;            stroke-dashoffset:0;&#10;            stroke-opacity:1\" width=\"11.80px\" x=\"448.4\" y=\"7.0\" /><rect height=\"25.00px\" style=\"opacity:0.43350;&#10;            fill:#00aad4;&#10;            fill-opacity:1;&#10;            stroke:none;&#10;            stroke-width:0.26499999;&#10;            stroke-linecap:round;&#10;            stroke-linejoin:miter;&#10;            stroke-miterlimit:4;&#10;            stroke-dasharray:none;&#10;            stroke-dashoffset:0;&#10;            stroke-opacity:1\" width=\"11.80px\" x=\"460.19999999999993\" y=\"7.0\" /><text fill=\"black\" style=\"font-style:normal;&#10;            font-variant:normal;&#10;            font-weight:normal;&#10;            font-stretch:normal;&#10;            font-size:20.00px;&#10;            line-height:125%;&#10;            font-family:monospace;&#10;            -inkscape-font-specification:'Arial Unicode MS, Normal';&#10;            font-variant-ligatures:none;&#10;            font-variant-caps:normal;&#10;            font-variant-numeric:normal;&#10;            text-align:start;&#10;            writing-mode:lr-tb;&#10;            text-anchor:start;&#10;            stroke-width:0.26458332px\" x=\"0\" y=\"25.0\">في إجراءات استثنائية بسبب وباء كورونا .</text><rect height=\"25.00px\" style=\"opacity:0.17611;&#10;            fill:#00aad4;&#10;            fill-opacity:1;&#10;            stroke:none;&#10;            stroke-width:0.26499999;&#10;            stroke-linecap:round;&#10;            stroke-linejoin:miter;&#10;            stroke-miterlimit:4;&#10;            stroke-dasharray:none;&#10;            stroke-dashoffset:0;&#10;            stroke-opacity:1\" width=\"11.80px\" x=\"0.0\" y=\"7.0\" /><rect height=\"25.00px\" style=\"opacity:0.17611;&#10;            fill:#00aad4;&#10;            fill-opacity:1;&#10;            stroke:none;&#10;            stroke-width:0.26499999;&#10;            stroke-linecap:round;&#10;            stroke-linejoin:miter;&#10;            stroke-miterlimit:4;&#10;            stroke-dasharray:none;&#10;            stroke-dashoffset:0;&#10;            stroke-opacity:1\" width=\"11.80px\" x=\"11.799999999999999\" y=\"7.0\" /><rect height=\"25.00px\" style=\"opacity:0.17611;&#10;            fill:#00aad4;&#10;            fill-opacity:1;&#10;            stroke:none;&#10;            stroke-width:0.26499999;&#10;            stroke-linecap:round;&#10;            stroke-linejoin:miter;&#10;            stroke-miterlimit:4;&#10;            stroke-dasharray:none;&#10;            stroke-dashoffset:0;&#10;            stroke-opacity:1\" width=\"11.80px\" x=\"23.599999999999998\" y=\"7.0\" /><rect height=\"25.00px\" style=\"opacity:0.65293;&#10;            fill:#00aad4;&#10;            fill-opacity:1;&#10;            stroke:none;&#10;            stroke-width:0.26499999;&#10;            stroke-linecap:round;&#10;            stroke-linejoin:miter;&#10;            stroke-miterlimit:4;&#10;            stroke-dasharray:none;&#10;            stroke-dashoffset:0;&#10;            stroke-opacity:1\" width=\"11.80px\" x=\"35.4\" y=\"7.0\" /><rect height=\"25.00px\" style=\"opacity:0.65293;&#10;            fill:#00aad4;&#10;            fill-opacity:1;&#10;            stroke:none;&#10;            stroke-width:0.26499999;&#10;            stroke-linecap:round;&#10;            stroke-linejoin:miter;&#10;            stroke-miterlimit:4;&#10;            stroke-dasharray:none;&#10;            stroke-dashoffset:0;&#10;            stroke-opacity:1\" width=\"11.80px\" x=\"47.199999999999996\" y=\"7.0\" /><rect height=\"25.00px\" style=\"opacity:0.65293;&#10;            fill:#00aad4;&#10;            fill-opacity:1;&#10;            stroke:none;&#10;            stroke-width:0.26499999;&#10;            stroke-linecap:round;&#10;            stroke-linejoin:miter;&#10;            stroke-miterlimit:4;&#10;            stroke-dasharray:none;&#10;            stroke-dashoffset:0;&#10;            stroke-opacity:1\" width=\"11.80px\" x=\"58.99999999999999\" y=\"7.0\" /><rect height=\"25.00px\" style=\"opacity:0.65293;&#10;            fill:#00aad4;&#10;            fill-opacity:1;&#10;            stroke:none;&#10;            stroke-width:0.26499999;&#10;            stroke-linecap:round;&#10;            stroke-linejoin:miter;&#10;            stroke-miterlimit:4;&#10;            stroke-dasharray:none;&#10;            stroke-dashoffset:0;&#10;            stroke-opacity:1\" width=\"11.80px\" x=\"70.8\" y=\"7.0\" /><rect height=\"25.00px\" style=\"opacity:0.65293;&#10;            fill:#00aad4;&#10;            fill-opacity:1;&#10;            stroke:none;&#10;            stroke-width:0.26499999;&#10;            stroke-linecap:round;&#10;            stroke-linejoin:miter;&#10;            stroke-miterlimit:4;&#10;            stroke-dasharray:none;&#10;            stroke-dashoffset:0;&#10;            stroke-opacity:1\" width=\"11.80px\" x=\"82.6\" y=\"7.0\" /><rect height=\"25.00px\" style=\"opacity:0.65293;&#10;            fill:#00aad4;&#10;            fill-opacity:1;&#10;            stroke:none;&#10;            stroke-width:0.26499999;&#10;            stroke-linecap:round;&#10;            stroke-linejoin:miter;&#10;            stroke-miterlimit:4;&#10;            stroke-dasharray:none;&#10;            stroke-dashoffset:0;&#10;            stroke-opacity:1\" width=\"11.80px\" x=\"94.39999999999999\" y=\"7.0\" /><rect height=\"25.00px\" style=\"opacity:0.65293;&#10;            fill:#00aad4;&#10;            fill-opacity:1;&#10;            stroke:none;&#10;            stroke-width:0.26499999;&#10;            stroke-linecap:round;&#10;            stroke-linejoin:miter;&#10;            stroke-miterlimit:4;&#10;            stroke-dasharray:none;&#10;            stroke-dashoffset:0;&#10;            stroke-opacity:1\" width=\"11.80px\" x=\"106.19999999999999\" y=\"7.0\" /><rect height=\"25.00px\" style=\"opacity:0.65293;&#10;            fill:#00aad4;&#10;            fill-opacity:1;&#10;            stroke:none;&#10;            stroke-width:0.26499999;&#10;            stroke-linecap:round;&#10;            stroke-linejoin:miter;&#10;            stroke-miterlimit:4;&#10;            stroke-dasharray:none;&#10;            stroke-dashoffset:0;&#10;            stroke-opacity:1\" width=\"11.80px\" x=\"117.99999999999999\" y=\"7.0\" /><rect height=\"25.00px\" style=\"opacity:1.00000;&#10;            fill:#00aad4;&#10;            fill-opacity:1;&#10;            stroke:none;&#10;            stroke-width:0.26499999;&#10;            stroke-linecap:round;&#10;            stroke-linejoin:miter;&#10;            stroke-miterlimit:4;&#10;            stroke-dasharray:none;&#10;            stroke-dashoffset:0;&#10;            stroke-opacity:1\" width=\"11.80px\" x=\"129.79999999999998\" y=\"7.0\" /><rect height=\"25.00px\" style=\"opacity:1.00000;&#10;            fill:#00aad4;&#10;            fill-opacity:1;&#10;            stroke:none;&#10;            stroke-width:0.26499999;&#10;            stroke-linecap:round;&#10;            stroke-linejoin:miter;&#10;            stroke-miterlimit:4;&#10;            stroke-dasharray:none;&#10;            stroke-dashoffset:0;&#10;            stroke-opacity:1\" width=\"11.80px\" x=\"141.6\" y=\"7.0\" /><rect height=\"25.00px\" style=\"opacity:1.00000;&#10;            fill:#00aad4;&#10;            fill-opacity:1;&#10;            stroke:none;&#10;            stroke-width:0.26499999;&#10;            stroke-linecap:round;&#10;            stroke-linejoin:miter;&#10;            stroke-miterlimit:4;&#10;            stroke-dasharray:none;&#10;            stroke-dashoffset:0;&#10;            stroke-opacity:1\" width=\"11.80px\" x=\"153.39999999999998\" y=\"7.0\" /><rect height=\"25.00px\" style=\"opacity:1.00000;&#10;            fill:#00aad4;&#10;            fill-opacity:1;&#10;            stroke:none;&#10;            stroke-width:0.26499999;&#10;            stroke-linecap:round;&#10;            stroke-linejoin:miter;&#10;            stroke-miterlimit:4;&#10;            stroke-dasharray:none;&#10;            stroke-dashoffset:0;&#10;            stroke-opacity:1\" width=\"11.80px\" x=\"165.2\" y=\"7.0\" /><rect height=\"25.00px\" style=\"opacity:1.00000;&#10;            fill:#00aad4;&#10;            fill-opacity:1;&#10;            stroke:none;&#10;            stroke-width:0.26499999;&#10;            stroke-linecap:round;&#10;            stroke-linejoin:miter;&#10;            stroke-miterlimit:4;&#10;            stroke-dasharray:none;&#10;            stroke-dashoffset:0;&#10;            stroke-opacity:1\" width=\"11.80px\" x=\"176.99999999999997\" y=\"7.0\" /><rect height=\"25.00px\" style=\"opacity:1.00000;&#10;            fill:#00aad4;&#10;            fill-opacity:1;&#10;            stroke:none;&#10;            stroke-width:0.26499999;&#10;            stroke-linecap:round;&#10;            stroke-linejoin:miter;&#10;            stroke-miterlimit:4;&#10;            stroke-dasharray:none;&#10;            stroke-dashoffset:0;&#10;            stroke-opacity:1\" width=\"11.80px\" x=\"188.79999999999998\" y=\"7.0\" /><rect height=\"25.00px\" style=\"opacity:1.00000;&#10;            fill:#00aad4;&#10;            fill-opacity:1;&#10;            stroke:none;&#10;            stroke-width:0.26499999;&#10;            stroke-linecap:round;&#10;            stroke-linejoin:miter;&#10;            stroke-miterlimit:4;&#10;            stroke-dasharray:none;&#10;            stroke-dashoffset:0;&#10;            stroke-opacity:1\" width=\"11.80px\" x=\"200.6\" y=\"7.0\" /><rect height=\"25.00px\" style=\"opacity:1.00000;&#10;            fill:#00aad4;&#10;            fill-opacity:1;&#10;            stroke:none;&#10;            stroke-width:0.26499999;&#10;            stroke-linecap:round;&#10;            stroke-linejoin:miter;&#10;            stroke-miterlimit:4;&#10;            stroke-dasharray:none;&#10;            stroke-dashoffset:0;&#10;            stroke-opacity:1\" width=\"11.80px\" x=\"212.39999999999998\" y=\"7.0\" /><rect height=\"25.00px\" style=\"opacity:1.00000;&#10;            fill:#00aad4;&#10;            fill-opacity:1;&#10;            stroke:none;&#10;            stroke-width:0.26499999;&#10;            stroke-linecap:round;&#10;            stroke-linejoin:miter;&#10;            stroke-miterlimit:4;&#10;            stroke-dasharray:none;&#10;            stroke-dashoffset:0;&#10;            stroke-opacity:1\" width=\"11.80px\" x=\"224.2\" y=\"7.0\" /><rect height=\"25.00px\" style=\"opacity:1.00000;&#10;            fill:#00aad4;&#10;            fill-opacity:1;&#10;            stroke:none;&#10;            stroke-width:0.26499999;&#10;            stroke-linecap:round;&#10;            stroke-linejoin:miter;&#10;            stroke-miterlimit:4;&#10;            stroke-dasharray:none;&#10;            stroke-dashoffset:0;&#10;            stroke-opacity:1\" width=\"11.80px\" x=\"235.99999999999997\" y=\"7.0\" /><rect height=\"25.00px\" style=\"opacity:0.61885;&#10;            fill:#00aad4;&#10;            fill-opacity:1;&#10;            stroke:none;&#10;            stroke-width:0.26499999;&#10;            stroke-linecap:round;&#10;            stroke-linejoin:miter;&#10;            stroke-miterlimit:4;&#10;            stroke-dasharray:none;&#10;            stroke-dashoffset:0;&#10;            stroke-opacity:1\" width=\"11.80px\" x=\"247.79999999999998\" y=\"7.0\" /><rect height=\"25.00px\" style=\"opacity:0.61885;&#10;            fill:#00aad4;&#10;            fill-opacity:1;&#10;            stroke:none;&#10;            stroke-width:0.26499999;&#10;            stroke-linecap:round;&#10;            stroke-linejoin:miter;&#10;            stroke-miterlimit:4;&#10;            stroke-dasharray:none;&#10;            stroke-dashoffset:0;&#10;            stroke-opacity:1\" width=\"11.80px\" x=\"259.59999999999997\" y=\"7.0\" /><rect height=\"25.00px\" style=\"opacity:0.61885;&#10;            fill:#00aad4;&#10;            fill-opacity:1;&#10;            stroke:none;&#10;            stroke-width:0.26499999;&#10;            stroke-linecap:round;&#10;            stroke-linejoin:miter;&#10;            stroke-miterlimit:4;&#10;            stroke-dasharray:none;&#10;            stroke-dashoffset:0;&#10;            stroke-opacity:1\" width=\"11.80px\" x=\"271.4\" y=\"7.0\" /><rect height=\"25.00px\" style=\"opacity:0.61885;&#10;            fill:#00aad4;&#10;            fill-opacity:1;&#10;            stroke:none;&#10;            stroke-width:0.26499999;&#10;            stroke-linecap:round;&#10;            stroke-linejoin:miter;&#10;            stroke-miterlimit:4;&#10;            stroke-dasharray:none;&#10;            stroke-dashoffset:0;&#10;            stroke-opacity:1\" width=\"11.80px\" x=\"283.2\" y=\"7.0\" /><rect height=\"25.00px\" style=\"opacity:0.61885;&#10;            fill:#00aad4;&#10;            fill-opacity:1;&#10;            stroke:none;&#10;            stroke-width:0.26499999;&#10;            stroke-linecap:round;&#10;            stroke-linejoin:miter;&#10;            stroke-miterlimit:4;&#10;            stroke-dasharray:none;&#10;            stroke-dashoffset:0;&#10;            stroke-opacity:1\" width=\"11.80px\" x=\"295.0\" y=\"7.0\" /><rect height=\"25.00px\" style=\"opacity:0.21460;&#10;            fill:#00aad4;&#10;            fill-opacity:1;&#10;            stroke:none;&#10;            stroke-width:0.26499999;&#10;            stroke-linecap:round;&#10;            stroke-linejoin:miter;&#10;            stroke-miterlimit:4;&#10;            stroke-dasharray:none;&#10;            stroke-dashoffset:0;&#10;            stroke-opacity:1\" width=\"11.80px\" x=\"306.79999999999995\" y=\"7.0\" /><rect height=\"25.00px\" style=\"opacity:0.21460;&#10;            fill:#00aad4;&#10;            fill-opacity:1;&#10;            stroke:none;&#10;            stroke-width:0.26499999;&#10;            stroke-linecap:round;&#10;            stroke-linejoin:miter;&#10;            stroke-miterlimit:4;&#10;            stroke-dasharray:none;&#10;            stroke-dashoffset:0;&#10;            stroke-opacity:1\" width=\"11.80px\" x=\"318.59999999999997\" y=\"7.0\" /><rect height=\"25.00px\" style=\"opacity:0.21460;&#10;            fill:#00aad4;&#10;            fill-opacity:1;&#10;            stroke:none;&#10;            stroke-width:0.26499999;&#10;            stroke-linecap:round;&#10;            stroke-linejoin:miter;&#10;            stroke-miterlimit:4;&#10;            stroke-dasharray:none;&#10;            stroke-dashoffset:0;&#10;            stroke-opacity:1\" width=\"11.80px\" x=\"330.4\" y=\"7.0\" /><rect height=\"25.00px\" style=\"opacity:0.21460;&#10;            fill:#00aad4;&#10;            fill-opacity:1;&#10;            stroke:none;&#10;            stroke-width:0.26499999;&#10;            stroke-linecap:round;&#10;            stroke-linejoin:miter;&#10;            stroke-miterlimit:4;&#10;            stroke-dasharray:none;&#10;            stroke-dashoffset:0;&#10;            stroke-opacity:1\" width=\"11.80px\" x=\"342.2\" y=\"7.0\" /><rect height=\"25.00px\" style=\"opacity:0.21460;&#10;            fill:#00aad4;&#10;            fill-opacity:1;&#10;            stroke:none;&#10;            stroke-width:0.26499999;&#10;            stroke-linecap:round;&#10;            stroke-linejoin:miter;&#10;            stroke-miterlimit:4;&#10;            stroke-dasharray:none;&#10;            stroke-dashoffset:0;&#10;            stroke-opacity:1\" width=\"11.80px\" x=\"353.99999999999994\" y=\"7.0\" /><rect height=\"25.00px\" style=\"opacity:0.02726;&#10;            fill:#00aad4;&#10;            fill-opacity:1;&#10;            stroke:none;&#10;            stroke-width:0.26499999;&#10;            stroke-linecap:round;&#10;            stroke-linejoin:miter;&#10;            stroke-miterlimit:4;&#10;            stroke-dasharray:none;&#10;            stroke-dashoffset:0;&#10;            stroke-opacity:1\" width=\"11.80px\" x=\"365.79999999999995\" y=\"7.0\" /><rect height=\"25.00px\" style=\"opacity:0.02726;&#10;            fill:#00aad4;&#10;            fill-opacity:1;&#10;            stroke:none;&#10;            stroke-width:0.26499999;&#10;            stroke-linecap:round;&#10;            stroke-linejoin:miter;&#10;            stroke-miterlimit:4;&#10;            stroke-dasharray:none;&#10;            stroke-dashoffset:0;&#10;            stroke-opacity:1\" width=\"11.80px\" x=\"377.59999999999997\" y=\"7.0\" /><rect height=\"25.00px\" style=\"opacity:0.02726;&#10;            fill:#00aad4;&#10;            fill-opacity:1;&#10;            stroke:none;&#10;            stroke-width:0.26499999;&#10;            stroke-linecap:round;&#10;            stroke-linejoin:miter;&#10;            stroke-miterlimit:4;&#10;            stroke-dasharray:none;&#10;            stroke-dashoffset:0;&#10;            stroke-opacity:1\" width=\"11.80px\" x=\"389.4\" y=\"7.0\" /><rect height=\"25.00px\" style=\"opacity:0.02726;&#10;            fill:#00aad4;&#10;            fill-opacity:1;&#10;            stroke:none;&#10;            stroke-width:0.26499999;&#10;            stroke-linecap:round;&#10;            stroke-linejoin:miter;&#10;            stroke-miterlimit:4;&#10;            stroke-dasharray:none;&#10;            stroke-dashoffset:0;&#10;            stroke-opacity:1\" width=\"11.80px\" x=\"401.2\" y=\"7.0\" /><rect height=\"25.00px\" style=\"opacity:0.02726;&#10;            fill:#00aad4;&#10;            fill-opacity:1;&#10;            stroke:none;&#10;            stroke-width:0.26499999;&#10;            stroke-linecap:round;&#10;            stroke-linejoin:miter;&#10;            stroke-miterlimit:4;&#10;            stroke-dasharray:none;&#10;            stroke-dashoffset:0;&#10;            stroke-opacity:1\" width=\"11.80px\" x=\"412.99999999999994\" y=\"7.0\" /><rect height=\"25.00px\" style=\"opacity:0.02726;&#10;            fill:#00aad4;&#10;            fill-opacity:1;&#10;            stroke:none;&#10;            stroke-width:0.26499999;&#10;            stroke-linecap:round;&#10;            stroke-linejoin:miter;&#10;            stroke-miterlimit:4;&#10;            stroke-dasharray:none;&#10;            stroke-dashoffset:0;&#10;            stroke-opacity:1\" width=\"11.80px\" x=\"424.79999999999995\" y=\"7.0\" /><rect height=\"25.00px\" style=\"opacity:0.02726;&#10;            fill:#00aad4;&#10;            fill-opacity:1;&#10;            stroke:none;&#10;            stroke-width:0.26499999;&#10;            stroke-linecap:round;&#10;            stroke-linejoin:miter;&#10;            stroke-miterlimit:4;&#10;            stroke-dasharray:none;&#10;            stroke-dashoffset:0;&#10;            stroke-opacity:1\" width=\"11.80px\" x=\"436.59999999999997\" y=\"7.0\" /><rect height=\"25.00px\" style=\"opacity:0.43350;&#10;            fill:#00aad4;&#10;            fill-opacity:1;&#10;            stroke:none;&#10;            stroke-width:0.26499999;&#10;            stroke-linecap:round;&#10;            stroke-linejoin:miter;&#10;            stroke-miterlimit:4;&#10;            stroke-dasharray:none;&#10;            stroke-dashoffset:0;&#10;            stroke-opacity:1\" width=\"11.80px\" x=\"448.4\" y=\"7.0\" /><rect height=\"25.00px\" style=\"opacity:0.43350;&#10;            fill:#00aad4;&#10;            fill-opacity:1;&#10;            stroke:none;&#10;            stroke-width:0.26499999;&#10;            stroke-linecap:round;&#10;            stroke-linejoin:miter;&#10;            stroke-miterlimit:4;&#10;            stroke-dasharray:none;&#10;            stroke-dashoffset:0;&#10;            stroke-opacity:1\" width=\"11.80px\" x=\"460.19999999999993\" y=\"7.0\" /><text fill=\"black\" style=\"font-style:normal;&#10;            font-variant:normal;&#10;            font-weight:normal;&#10;            font-stretch:normal;&#10;            font-size:20.00px;&#10;            line-height:125%;&#10;            font-family:monospace;&#10;            -inkscape-font-specification:'Arial Unicode MS, Normal';&#10;            font-variant-ligatures:none;&#10;            font-variant-caps:normal;&#10;            font-variant-numeric:normal;&#10;            text-align:start;&#10;            writing-mode:lr-tb;&#10;            text-anchor:start;&#10;            stroke-width:0.26458332px\" x=\"0\" y=\"25.0\">&lt;svgwrite.text.Text object at 0x16e7ed310&gt;</text></g></svg>"
      ],
      "text/plain": [
       "<svgwrite.drawing.Drawing at 0x12e890390>"
      ]
     },
     "execution_count": 118,
     "metadata": {},
     "output_type": "execute_result"
    }
   ],
   "source": [
    "dwg"
   ]
  },
  {
   "cell_type": "code",
   "execution_count": null,
   "metadata": {},
   "outputs": [],
   "source": []
  }
 ],
 "metadata": {
  "kernelspec": {
   "display_name": "Python [conda env:neurox-aux_classifier] *",
   "language": "python",
   "name": "conda-env-neurox-aux_classifier-py"
  },
  "language_info": {
   "codemirror_mode": {
    "name": "ipython",
    "version": 3
   },
   "file_extension": ".py",
   "mimetype": "text/x-python",
   "name": "python",
   "nbconvert_exporter": "python",
   "pygments_lexer": "ipython3",
   "version": "3.7.9"
  }
 },
 "nbformat": 4,
 "nbformat_minor": 4
}
