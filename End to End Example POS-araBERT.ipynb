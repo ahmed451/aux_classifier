{
 "cells": [
  {
   "cell_type": "markdown",
   "metadata": {},
   "source": [
    "# Imports"
   ]
  },
  {
   "cell_type": "code",
   "execution_count": 1,
   "metadata": {},
   "outputs": [],
   "source": [
    "import numpy as np\n",
    "\n",
    "# import sys\n",
    "# sys.path.append(\"/path/to/aux_classifier\")\n",
    "import aux_classifier.extraction as extraction\n",
    "import aux_classifier.data_loader as data_loader\n",
    "import aux_classifier.utils as utils\n",
    "\n",
    "\n",
    "import matplotlib.pyplot as plt\n",
    "\n",
    "def plot_neurons_per_layer(toplayers, title, numberlayers=13, layersize = 768):\n",
    "    nlayers = np.floor_divide(toplayers,layersize)\n",
    "    (unique, counts) = np.unique(nlayers, return_counts=True)\n",
    "    layersLabels = np.arange(numberlayers)\n",
    "    layersCounts = np.zeros(numberlayers)\n",
    "    for i in range(len(unique)):\n",
    "        layersCounts[unique[i]]=counts[i]\n",
    "    plt.bar(layersLabels, layersCounts, align='center', alpha=0.5)\n",
    "    plt.xticks(layersLabels)\n",
    "    plt.ylabel('Counts')\n",
    "    plt.title(title)\n",
    "\n",
    "    plt.show()"
   ]
  },
  {
   "cell_type": "markdown",
   "metadata": {},
   "source": [
    "# Data"
   ]
  },
  {
   "cell_type": "code",
   "execution_count": null,
   "metadata": {},
   "outputs": [],
   "source": [
    "!cat examples/test.ar"
   ]
  },
  {
   "cell_type": "code",
   "execution_count": null,
   "metadata": {},
   "outputs": [],
   "source": [
    "!cat examples/test.ar.label"
   ]
  },
  {
   "cell_type": "markdown",
   "metadata": {},
   "source": [
    "# Extract Representations"
   ]
  },
  {
   "cell_type": "markdown",
   "metadata": {},
   "source": [
    "Models to upload:\n",
    "* [QARiB](https://huggingface.co/qarib/bert-base-qarib) ```'qarib/bert-base-qarib'```\n",
    "* [AraBERT](https://huggingface.co/aubmindlab/bert-base-arabert) ```'aubmindlab/bert-base-arabert'```\n",
    "* [ArabicBERT](https://huggingface.co/asafaya/bert-base-arabic) ```'asafaya/bert-base-arabic'```\n",
    "* [mBERT](https://huggingface.co/bert-base-multilingual-cased) ```'bert-base-multilingual-cased'```"
   ]
  },
  {
   "cell_type": "markdown",
   "metadata": {},
   "source": [
    "1.  QARiB"
   ]
  },
  {
   "cell_type": "code",
   "execution_count": null,
   "metadata": {},
   "outputs": [],
   "source": [
    "\n",
    "extraction.extract_representations('qarib/bert-base-qarib',\n",
    "                                   '/QCRI/Dev/ArabicNLP/NeuroX/data/POS/msa/WikiNewsTruth.txt',\n",
    "                                   '/QCRI/Dev/ArabicNLP/NeuroX/data/POS/msa/WikiNewsTruth.txt.qarib_activations.json',\n",
    "                                   aggregation=\"average\"\n",
    "                                  )"
   ]
  },
  {
   "cell_type": "markdown",
   "metadata": {},
   "source": [
    "2. AraBERT"
   ]
  },
  {
   "cell_type": "code",
   "execution_count": null,
   "metadata": {},
   "outputs": [],
   "source": [
    "extraction.extract_representations('aubmindlab/bert-base-arabert',\n",
    "                                   '/QCRI/Dev/ArabicNLP/NeuroX/data/POS/msa/WikiNewsTruth.txt',\n",
    "                                   '/QCRI/Dev/ArabicNLP/NeuroX/data/POS/msa/WikiNewsTruth.txt.arabert_activations.json',\n",
    "                                   aggregation=\"average\"\n",
    "                                  )"
   ]
  },
  {
   "cell_type": "markdown",
   "metadata": {},
   "source": [
    "3. ArabicBERT"
   ]
  },
  {
   "cell_type": "code",
   "execution_count": null,
   "metadata": {},
   "outputs": [],
   "source": [
    "\n",
    "extraction.extract_representations('asafaya/bert-base-arabic',\n",
    "                                   '/QCRI/Dev/ArabicNLP/NeuroX/data/POS/msa/WikiNewsTruth.txt',\n",
    "                                   '/QCRI/Dev/ArabicNLP/NeuroX/data/POS/msa/WikiNewsTruth.txt.arabicbert_activations.json',\n",
    "                                   aggregation=\"average\"\n",
    "                                  )"
   ]
  },
  {
   "cell_type": "markdown",
   "metadata": {},
   "source": [
    "4. mBERT"
   ]
  },
  {
   "cell_type": "code",
   "execution_count": null,
   "metadata": {},
   "outputs": [],
   "source": [
    "extraction.extract_representations('bert-base-multilingual-cased',\n",
    "                                   '/QCRI/Dev/ArabicNLP/NeuroX/data/POS/msa/WikiNewsTruth.txt',\n",
    "                                   '/QCRI/Dev/ArabicNLP/NeuroX/data/POS/msa/WikiNewsTruth.txt.mbert_activations.json',\n",
    "                                   aggregation=\"average\"\n",
    "                                  )"
   ]
  },
  {
   "cell_type": "code",
   "execution_count": null,
   "metadata": {},
   "outputs": [],
   "source": [
    "!cut -c1-100 < examples/activations.json"
   ]
  },
  {
   "cell_type": "markdown",
   "metadata": {},
   "source": [
    "# Prepare Data"
   ]
  },
  {
   "cell_type": "code",
   "execution_count": null,
   "metadata": {},
   "outputs": [],
   "source": [
    "# Loading QARiB\n",
    "activations_path='/QCRI/Dev/ArabicNLP/NeuroX/data/POS/msa/WikiNewsTruth.txt.qarib_activations.json'\n",
    "activations, num_layers = data_loader.load_activations(activations_path, 768, 512)"
   ]
  },
  {
   "cell_type": "code",
   "execution_count": 2,
   "metadata": {},
   "outputs": [
    {
     "name": "stdout",
     "output_type": "stream",
     "text": [
      "Loading json activations from /QCRI/Dev/ArabicNLP/NeuroX/data/POS/msa/WikiNewsTruth.txt.arabert_activations.json...\n",
      "399 13.0\n"
     ]
    }
   ],
   "source": [
    "# Loading araBERT\n",
    "activations_path='/QCRI/Dev/ArabicNLP/NeuroX/data/POS/msa/WikiNewsTruth.txt.arabert_activations.json'\n",
    "activations, num_layers = data_loader.load_activations(activations_path, 768, 512)"
   ]
  },
  {
   "cell_type": "code",
   "execution_count": null,
   "metadata": {},
   "outputs": [],
   "source": [
    "# Loading arabicBERT\n",
    "activations_path='/QCRI/Dev/ArabicNLP/NeuroX/data/POS/msa/WikiNewsTruth.txt.arabicbert_activations.json'\n",
    "activations, num_layers = data_loader.load_activations(activations_path, 768, 512)"
   ]
  },
  {
   "cell_type": "code",
   "execution_count": null,
   "metadata": {},
   "outputs": [],
   "source": [
    "# Loading mBERT\n",
    "activations_path='/QCRI/Dev/ArabicNLP/NeuroX/data/POS/msa/WikiNewsTruth.txt.mbert_activations.json'\n",
    "activations, num_layers = data_loader.load_activations(activations_path, 768, 512)"
   ]
  },
  {
   "cell_type": "code",
   "execution_count": null,
   "metadata": {},
   "outputs": [],
   "source": [
    "#activations"
   ]
  },
  {
   "cell_type": "code",
   "execution_count": null,
   "metadata": {},
   "outputs": [],
   "source": [
    "activations[1].shape"
   ]
  },
  {
   "cell_type": "code",
   "execution_count": 4,
   "metadata": {},
   "outputs": [
    {
     "name": "stdout",
     "output_type": "stream",
     "text": [
      "Ignored one line 338 line: ['بعد', 'شهر', 'على', 'رحيل', 'المغني', 'الأميركي', 'مايكل', 'جاكسون', 'لا', 'تزال', 'الإشاعات', 'والتكهنات', 'تتناول', 'أسباب', 'وفاته', 'ومصير', 'جثمانه', 'اللذين', 'يبقيان', 'لغزا', '،', 'بالإضافة', 'إلى', 'مستقبل', 'أملاكه', 'ومصير', 'أولاده', '،', 'فيما', 'تتزايد', 'نظريات', 'المؤامرة', '.', 'والتحقيق', 'في', 'وفاة', 'ملك', 'البوب', 'عن', 'خمسين', 'عاما', 'في', '25', 'يونيو', 'في', 'منزله', '،', 'الذي', 'كان', 'يستأجره', 'في', 'لوس', 'أنجلوس', '،', 'تقدم', 'بعض', 'الشيء', 'مع', 'ظهور', 'كلمة', '\"', 'جريمة', 'قتل', '\"', 'للمرة', 'الأولى', 'الأربعاء', '،', 'من', 'قبل', 'شخص', 'ضالع', 'مباشرة', 'في', 'القضية', '،', 'رغم', 'أن', 'العديد', 'من', 'المصادر', 'غير', 'الرسمية', 'أكدت', 'أن', 'شرطة', 'لوس', 'أنجلوس', 'قررت', 'معالجة', 'التحقيقات', 'باعتبار', 'القضية', '\"', 'إجرامية', '\"', '.', 'وزادت', 'الشبهات', 'حول', 'طبيبه', 'كونراد', 'موراي', 'الذي', 'كان', 'متواجدا', 'مع', 'مايكل', 'جاكسون', 'عند', 'وفاته', 'والذي', 'داهمت', 'الشرطة', 'أحد', 'مكاتبه', '.', 'وأكد', 'محامي', 'موراي', 'طبيب', 'القلب', '(', '51', 'عاما', ')', '،', 'الذي', 'كان', 'يتولى', 'منذ', 'مايو', 'متابعة', 'مايكل', 'جاكسون', 'صحيا', 'للتحضير', 'لعودته', 'الكبيرة', 'إلى', 'الساحة', 'الغنائية', 'في', 'لندن', 'في', 'يوليو', '،', 'أن', 'موكله', 'غير', 'مذنب', 'بأي', 'جرم', '.', 'لكن', 'المقربين', 'من', 'المغني', 'يتهمون', 'الأطباء', 'بأنهم', 'تسببوا', 'بوفاته', 'عبر', 'وصف', 'أدوية', 'له', '،', 'فيما', 'قال', 'والده', 'جو', 'إن', 'ابنه', 'كان', '\"', 'ضحية', 'جريمة', 'قتل', '\"', '.', 'وأشارت', 'عدة', 'إفادات', 'إلى', 'إدمان', '\"', 'ملك', 'البوب', '\"', 'على', 'المهدئات', 'والأدوية', 'المسكنة', '.', 'ويركز', 'المحققون', 'في', 'عملهم', 'على', 'الدور', 'الذي', 'قد', 'يكون', 'لعبه', 'مخدر', 'قوي', 'هو', 'ديبريفان', 'الذي', 'عثر', 'عليه', 'في', 'منزل', 'جاكسون', '.', 'والديبريفان', '(', 'الاسم', 'التجاري', 'للبروبفول', ')', 'مخدر', 'قوي', 'للغاية', 'مخصص', 'للاستخدام', 'الطبي', 'ويفترض', 'ألا', 'يكون', 'في', 'منزل', 'مريض', 'ما', '.', 'ولا', 'يزال', 'من', 'غير', 'المعروف', 'ما', 'إذا', 'تم', 'رصد', 'هذا', 'الدواء', 'المخدر', 'خلال', 'تشريح', 'جثة', 'مايكل', 'جاكسون', '.', 'وجثمان', 'المغني', 'الأميركي', '،', 'الذي', 'لم', 'يعرف', 'مكان', 'مثواه', 'الأخير', '،', 'لا', 'يزال', 'مصيره', 'مجهولا', '،', 'وقد', 'خضع', 'لعمليتي', 'تشريح', 'ينتظر', 'أن', 'تظهر', 'نتائجهما', 'في', 'الأيام', 'المقبلة', '.', 'وكل', 'هذه', 'العناصر', 'الغامضة', 'زادت', 'من', 'الإشاعات', '.', 'وعبرت', 'شقيقة', 'جاكسون', 'لاتويا', 'في', 'حديث', 'مع', 'صحيفة', 'بريطانية', 'عن', 'شكوكها', 'وقالت', '\"', 'أعتقد', 'أن', 'مايكل', 'تعرض', 'للقتل', '.', 'لقد', 'ساورتني', 'هذه', 'المشاعر', 'منذ', 'البداية', '\"', '.', 'وأضافت', '\"', 'عدة', 'أشخاص', 'متورطين', 'في', 'هذه', 'المؤامرة', 'وليس', 'شخصا', 'واحدا', '.', 'كان', 'محاطا', 'بأفراد', 'يضمرون', 'له', 'الشر', '.', 'كان', 'مايكل', 'شخصا', 'طيبا', 'ومحبا', 'واستغل', 'أفراد', 'هذا', 'الجانب', 'من', 'شخصيته', '\"', '.', 'وقالت', '\"', 'كانت', 'ثروة', 'مايكل', 'تزيد', 'على', 'مليار', 'دولار', '.', 'عندما', 'يساوي', 'شخص', 'هذا', 'المبلغ', 'الكبير', 'من', 'المال', 'من', 'الطبيعي', 'أن', 'يحوم', 'حوله', 'أشخاص', 'لا', 'يضمرون', 'له', 'الخير', '\"', '.', 'وينتظر', 'المعجبون', 'أيضا', 'أن', 'يعرفوا', 'مكان', 'المثوى', 'الأخير', 'لملك', 'البوب', '،', 'بعدما', 'لم', 'يتمكن', 'أحد', 'من', 'اقتفاء', 'أثر', 'النعش', 'بعد', 'انتهاء', 'حفل', 'تكريم', 'المغني', 'في', '7', 'يوليو', 'في', 'ستايبلس', 'سنتر', 'في', 'لوس', 'أنجلوس', '.', 'ويقول', 'البعض', 'إنه', 'دفن', 'في', 'مزرعته', 'نيفرلاند', 'في', 'كاليفورنيا', '.', 'وفي', 'هذا', 'الوقت', 'تتولى', 'مجموعة', 'كبرى', 'من', 'المحامين', 'محاولة', 'حل', 'المشاكل', 'القانونية', 'التي', 'ظهرت', 'بعد', 'وفاته', '.', 'فقد', 'أوكلت', 'الإدارة', 'المؤقتة', 'لممتلكاته', 'إلى', 'شخصين', 'اختارهما', 'المغني', 'الراحل', 'في', 'وصيته', '.', 'وتعقد', 'جلسة', 'في', '3', 'أغسطس', 'في', 'هذا', 'الصدد', '،', 'فيما', 'ترغب', 'والدته', 'كاثرين', 'في', 'أن', 'تكون', 'بين', 'الورثة', 'الرئيسيين', '.', 'أما', 'أولاد', 'ملك', 'البوب', '،', 'برنس', 'مايكل', '(', '12', 'عاما', ')', 'وباريس', '(', '11', 'عاما', ')', 'وبرنس', 'مايكل', '2', '(', '7', 'أعوام', ')', 'فقد', 'أوكل', 'حق', 'حضانتهم', 'إلى', 'جدتهم', 'كاثرين', 'كما', 'كان', 'يرغب', 'المغني', '.', 'لكن', 'ديبي', 'رو', '،', 'والدة', 'برنس', 'مايكل', 'وباريس', '،', 'لم', 'تقرر', 'بعد', 'ما', 'إذا', 'كانت', 'ستطلب', 'حق', 'حضانة', 'الولدين', '.', 'وسيلتقي', 'محامو', 'المرأتين', 'في', '3', 'أغسطس', 'أمام', 'القضاء', 'بعد', 'إرجاء', 'ثلاث', 'جلسات', 'سابقة', '.']  Max: 512\n",
      "Source tokens: 399\n",
      "Ignored one label 399 line: ['NOUN', 'NOUN', 'PREP', 'NOUN', 'DET+NOUN', 'DET+ADJ', 'NOUN', 'NOUN', 'PART', 'V', 'DET+NOUN+NSUFF', 'CONJ+DET+NOUN+NSUFF', 'V', 'NOUN', 'NOUN+NSUFF+PRON', 'CONJ+NOUN', 'NOUN+PRON', 'PART', 'V+PRON', 'NOUN+CASE', 'PUNC', 'PREP+DET+NOUN+NSUFF', 'PREP', 'NOUN', 'NOUN+PRON', 'CONJ+NOUN', 'NOUN+PRON', 'PUNC', 'PART/PREP+PART', 'V', 'NOUN+NSUFF', 'DET+NOUN+NSUFF', 'PUNC', 'CONJ+DET+NOUN', 'PREP', 'NOUN+NSUFF', 'NOUN', 'DET+NOUN', 'PREP', 'NUM+NSUFF', 'NOUN+CASE', 'PREP', 'NUM', 'NOUN', 'PREP', 'NOUN+PRON', 'PUNC', 'PART', 'V', 'V+PRON', 'PREP', 'NOUN', 'NOUN', 'PUNC', 'V', 'NOUN', 'DET+NOUN', 'NOUN', 'NOUN', 'NOUN+NSUFF', 'PUNC', 'NOUN+NSUFF', 'NOUN', 'PUNC', 'PREP+DET+NOUN+NSUFF', 'DET+ADJ', 'DET+NOUN', 'PUNC', 'PREP', 'NOUN', 'NOUN', 'ADJ', 'NOUN+NSUFF', 'PREP', 'DET+NOUN+NSUFF', 'PUNC', 'NOUN', 'PART', 'DET+ADJ', 'PREP', 'DET+NOUN', 'PART/NOUN', 'DET+ADJ+NSUFF', 'V+PRON', 'PART', 'NOUN+NSUFF', 'NOUN', 'NOUN', 'V+PRON', 'NOUN+NSUFF', 'DET+NOUN+NSUFF', 'PREP+NOUN', 'DET+NOUN+NSUFF', 'PUNC', 'ADJ+NSUFF', 'PUNC', 'PUNC', 'CONJ+V+PRON', 'DET+NOUN+NSUFF', 'NOUN', 'NOUN+PRON', 'NOUN', 'NOUN', 'PART', 'V', 'ADJ+CASE', 'NOUN', 'NOUN', 'NOUN', 'NOUN', 'NOUN+NSUFF+PRON', 'CONJ+PART', 'V+PRON', 'DET+NOUN+NSUFF', 'NOUN', 'NOUN+PRON', 'PUNC', 'CONJ+V', 'NOUN', 'NOUN', 'NOUN', 'DET+NOUN', 'PUNC', 'NUM', 'NOUN+CASE', 'PUNC', 'PUNC', 'PART', 'V', 'V', 'PREP', 'NOUN', 'NOUN+NSUFF', 'NOUN', 'NOUN', 'ADJ+CASE', 'PREP+DET+NOUN', 'PREP+NOUN+NSUFF+PRON', 'DET+ADJ+NSUFF', 'PREP', 'DET+NOUN+NSUFF', 'DET+ADJ+NSUFF', 'PREP', 'NOUN', 'PREP', 'NOUN', 'PUNC', 'PART', 'NOUN+PRON', 'PART/NOUN', 'ADJ', 'PREP+NOUN', 'NOUN', 'PUNC', 'PART', 'DET+NOUN+NSUFF', 'PREP', 'DET+NOUN', 'V+PRON', 'DET+NOUN', 'PREP+PART+PRON', 'V+PRON', 'PREP+NOUN+NSUFF+PRON', 'NOUN', 'NOUN', 'NOUN+NSUFF', 'PREP+PRON', 'PUNC', 'PART/PREP+PART', 'V', 'NOUN+PRON', 'NOUN', 'PART', 'NOUN+PRON', 'V', 'PUNC', 'NOUN+NSUFF', 'NOUN+NSUFF', 'NOUN', 'PUNC', 'PUNC', 'CONJ+V+PRON', 'NOUN+NSUFF/ADJ+NSUFF', 'NOUN+NSUFF', 'PREP', 'NOUN', 'PUNC', 'NOUN', 'DET+NOUN', 'PUNC', 'PREP', 'DET+NOUN+NSUFF', 'CONJ+DET+NOUN+NSUFF', 'DET+ADJ+NSUFF', 'PUNC', 'CONJ+V', 'DET+NOUN+NSUFF', 'PREP', 'NOUN+PRON', 'PREP', 'DET+NOUN', 'PART', 'PART', 'V', 'V+PRON', 'NOUN', 'ADJ', 'PRON', 'NOUN', 'PART', 'V', 'PREP+PRON', 'PREP', 'NOUN', 'NOUN', 'PUNC', 'CONJ+DET+NOUN', 'PUNC', 'DET+NOUN', 'DET+ADJ', 'PREP+DET+NOUN', 'PUNC', 'NOUN', 'ADJ', 'PREP+DET+NOUN+NSUFF', 'ADJ', 'PREP+DET+NOUN', 'DET+ADJ', 'CONJ+V', 'PART+PART/PART', 'V', 'PREP', 'NOUN', 'NOUN', 'PART', 'PUNC', 'CONJ+PART', 'V', 'PREP', 'NOUN', 'DET+ADJ', 'PART', 'PART', 'V', 'NOUN', 'PRON', 'DET+NOUN', 'DET+ADJ', 'NOUN', 'NOUN', 'NOUN+NSUFF', 'NOUN', 'NOUN', 'PUNC', 'CONJ+NOUN', 'DET+NOUN', 'DET+ADJ', 'PUNC', 'PART', 'PART', 'V', 'NOUN', 'NOUN+PRON', 'DET+ADJ', 'PUNC', 'PART', 'V', 'NOUN+PRON', 'ADJ+CASE', 'PUNC', 'CONJ+PART', 'V', 'PREP+NOUN+NSUFF+NSUFF', 'NOUN', 'V', 'PART', 'V', 'NOUN+PRON', 'PREP', 'DET+NOUN', 'DET+ADJ+NSUFF', 'PUNC', 'CONJ+NOUN', 'PRON', 'DET+NOUN', 'DET+ADJ+NSUFF', 'V+PRON', 'PREP', 'DET+NOUN+NSUFF', 'PUNC', 'CONJ+V+PRON', 'NOUN+NSUFF', 'NOUN', 'NOUN', 'PREP', 'NOUN', 'NOUN', 'NOUN+NSUFF', 'ADJ+NSUFF', 'PREP', 'NOUN+PRON', 'CONJ+V+PRON', 'PUNC', 'V', 'PART', 'NOUN', 'V', 'PREP+DET+NOUN', 'PUNC', 'PART', 'V+PRON+PRON', 'PRON', 'DET+NOUN', 'PREP', 'DET+NOUN+NSUFF', 'PUNC', 'PUNC', 'CONJ+V+PRON', 'PUNC', 'NOUN+NSUFF/ADJ+NSUFF', 'NOUN', 'ADJ+NSUFF', 'PREP', 'PRON', 'DET+NOUN+NSUFF', 'CONJ+V', 'NOUN+CASE', 'ADJ+CASE', 'PUNC', 'V', 'ADJ+CASE', 'PREP+NOUN', 'V+PRON', 'PREP+PRON', 'DET+NOUN', 'PUNC', 'V', 'NOUN', 'NOUN+CASE', 'ADJ+CASE', 'CONJ+ADJ+CASE', 'CONJ+V', 'NOUN', 'PRON', 'DET+NOUN', 'PREP', 'NOUN+NSUFF+PRON', 'PUNC', 'PUNC', 'CONJ+V+PRON', 'PUNC', 'V+PRON', 'NOUN+NSUFF', 'NOUN', 'V', 'PREP', 'NUM', 'NOUN', 'PUNC', 'PART/NOUN+PART', 'V', 'NOUN', 'PRON', 'DET+NOUN', 'DET+ADJ', 'PREP', 'DET+NOUN', 'PREP', 'DET+ADJ', 'PART', 'V', 'NOUN+PRON', 'NOUN', 'PART', 'V+PRON', 'PREP+PRON', 'DET+NOUN', 'PUNC', 'PUNC', 'CONJ+V', 'DET+ADJ+NSUFF', 'ADV+CASE', 'PART', 'V+PRON', 'NOUN', 'DET+NOUN', 'DET+ADJ', 'PREP+NOUN', 'DET+NOUN', 'PUNC', 'PART', 'PART', 'V', 'NOUN', 'PREP', 'NOUN', 'NOUN', 'DET+NOUN', 'NOUN', 'NOUN', 'NOUN', 'NOUN', 'DET+NOUN', 'PREP', 'NUM', 'NOUN', 'PREP', 'NOUN', 'NOUN', 'PREP', 'NOUN', 'NOUN', 'PUNC', 'CONJ+V', 'DET+NOUN', 'PART+PRON', 'V', 'PREP', 'NOUN+NSUFF+PRON', 'NOUN', 'PREP', 'NOUN', 'PUNC', 'CONJ+PREP', 'PRON', 'DET+NOUN', 'V', 'NOUN+NSUFF', 'ADJ', 'PREP', 'DET+NOUN+NSUFF', 'NOUN+NSUFF', 'NOUN', 'DET+NOUN', 'DET+ADJ+NSUFF', 'PART', 'V+PRON', 'NOUN', 'NOUN+NSUFF+PRON', 'PUNC', 'CONJ+PART', 'V+PRON', 'DET+NOUN+NSUFF', 'DET+ADJ+NSUFF', 'PREP+NOUN+NSUFF+PRON', 'PREP', 'NOUN+NSUFF', 'V+PRON', 'DET+NOUN', 'DET+ADJ', 'PREP', 'CONJ+NOUN+PRON', 'PUNC', 'CONJ+V', 'NOUN+NSUFF', 'PREP', 'NUM', 'NOUN', 'PREP', 'PRON', 'DET+NOUN', 'PUNC', 'PART/PREP+PART', 'V', 'NOUN+NSUFF+PRON', 'NOUN', 'PREP', 'PART', 'V', 'NOUN', 'DET+NOUN+NSUFF', 'DET+ADJ+NSUFF', 'PUNC', 'PART', 'NOUN', 'NOUN', 'DET+NOUN', 'PUNC', 'NOUN', 'NOUN', 'PUNC', 'NUM', 'NOUN+CASE', 'PUNC', 'CONJ+NOUN', 'PUNC', 'NUM', 'NOUN+CASE', 'PUNC', 'CONJ+NOUN', 'NOUN', 'NUM', 'PUNC', 'NUM', 'NOUN', 'PUNC', 'CONJ+PART', 'V', 'NOUN', 'NOUN+NSUFF+PRON', 'PREP', 'NOUN+NSUFF+PRON', 'NOUN', 'PREP+PART/CONJ', 'V', 'V', 'DET+NOUN', 'PUNC', 'PART', 'NOUN', 'NOUN', 'PUNC', 'NOUN+NSUFF', 'NOUN', 'NOUN', 'CONJ+NOUN', 'PUNC', 'PART', 'V', 'NOUN', 'PART', 'PART', 'V+PRON', 'FUT_PART+V', 'NOUN', 'NOUN+NSUFF', 'DET+NOUN+NSUFF', 'PUNC', 'CONJ+FUT_PART+V', 'NOUN+NSUFF', 'DET+NOUN+NSUFF+NSUFF', 'PREP', 'NUM', 'NOUN', 'NOUN', 'DET+NOUN', 'NOUN', 'NOUN', 'NUM', 'NOUN+NSUFF', 'ADJ+NSUFF', 'PUNC']  Max: 512\n",
      "Target tokens: 399\n"
     ]
    }
   ],
   "source": [
    "tokens = data_loader.load_data('/QCRI/Dev/ArabicNLP/NeuroX/data/POS/msa/WikiNewsTruth.txt',\n",
    "                               '/QCRI/Dev/ArabicNLP/NeuroX/data/POS/msa/WikiNewsTruth.txt.POS',\n",
    "                               activations,\n",
    "                               512\n",
    "                              )"
   ]
  },
  {
   "cell_type": "code",
   "execution_count": 5,
   "metadata": {},
   "outputs": [
    {
     "data": {
      "text/plain": [
       "[['#', 'ثقافة'],\n",
       " ['فيلم',\n",
       "  'جاذبية',\n",
       "  'يتصدر',\n",
       "  'ترشيحات',\n",
       "  'جوائز',\n",
       "  'الأكاديمية',\n",
       "  'البريطانية',\n",
       "  'لفنون',\n",
       "  'الفيلم',\n",
       "  'والتلفزيون']]"
      ]
     },
     "execution_count": 5,
     "metadata": {},
     "output_type": "execute_result"
    }
   ],
   "source": [
    "tokens['source'][:2]"
   ]
  },
  {
   "cell_type": "code",
   "execution_count": 6,
   "metadata": {},
   "outputs": [
    {
     "name": "stdout",
     "output_type": "stream",
     "text": [
      "Number of tokens:  17758\n",
      "length of source dictionary:  6655\n",
      "length of target dictionary:  110\n",
      "17758\n",
      "Total instances: 17758\n",
      "['كالتي', 'برحلة', 'مكتب', 'الوقود', 'ويونيو', 'الحين', 'الزائر', 'أمراض', 'تقارب', 'الحديث', 'أجرت', 'تاريخية', 'الفيروسات', 'وإطلاق', 'وتويتر', 'عاودت', 'وانقطاع', 'مستوى', 'الأطباء', 'وعريق']\n"
     ]
    }
   ],
   "source": [
    "X, y, mapping = utils.create_tensors(tokens, activations, 'LABEL1')\n",
    "label2idx, idx2label, src2idx, idx2src = mapping"
   ]
  },
  {
   "cell_type": "markdown",
   "metadata": {},
   "source": [
    "# Train Probing Classifier"
   ]
  },
  {
   "cell_type": "code",
   "execution_count": 7,
   "metadata": {},
   "outputs": [
    {
     "name": "stdout",
     "output_type": "stream",
     "text": [
      "Training classification model\n",
      "Creating model...\n",
      "Number of training instances: 17758\n",
      "Number of classes: 110\n"
     ]
    },
    {
     "data": {
      "application/vnd.jupyter.widget-view+json": {
       "model_id": "422a03702f0b48b6935ed2e32940c498",
       "version_major": 2,
       "version_minor": 0
      },
      "text/plain": [
       "HBox(children=(HTML(value='epoch [1/10]'), FloatProgress(value=1.0, bar_style='info', layout=Layout(width='20p…"
      ]
     },
     "metadata": {},
     "output_type": "display_data"
    },
    {
     "name": "stdout",
     "output_type": "stream",
     "text": [
      "\n",
      "Epoch: [1/10], Loss: 0.0898\n"
     ]
    },
    {
     "data": {
      "application/vnd.jupyter.widget-view+json": {
       "model_id": "3fcf34851e764e10bb198edb7a1bf841",
       "version_major": 2,
       "version_minor": 0
      },
      "text/plain": [
       "HBox(children=(HTML(value='epoch [2/10]'), FloatProgress(value=1.0, bar_style='info', layout=Layout(width='20p…"
      ]
     },
     "metadata": {},
     "output_type": "display_data"
    },
    {
     "name": "stdout",
     "output_type": "stream",
     "text": [
      "\n",
      "Epoch: [2/10], Loss: 0.0807\n"
     ]
    },
    {
     "data": {
      "application/vnd.jupyter.widget-view+json": {
       "model_id": "c4172aa0cb8d40c9be1379e0fe51d216",
       "version_major": 2,
       "version_minor": 0
      },
      "text/plain": [
       "HBox(children=(HTML(value='epoch [3/10]'), FloatProgress(value=1.0, bar_style='info', layout=Layout(width='20p…"
      ]
     },
     "metadata": {},
     "output_type": "display_data"
    },
    {
     "name": "stdout",
     "output_type": "stream",
     "text": [
      "\n",
      "Epoch: [3/10], Loss: 0.0796\n"
     ]
    },
    {
     "data": {
      "application/vnd.jupyter.widget-view+json": {
       "model_id": "d7227f79c69a42028170a95212f61d5f",
       "version_major": 2,
       "version_minor": 0
      },
      "text/plain": [
       "HBox(children=(HTML(value='epoch [4/10]'), FloatProgress(value=1.0, bar_style='info', layout=Layout(width='20p…"
      ]
     },
     "metadata": {},
     "output_type": "display_data"
    },
    {
     "name": "stdout",
     "output_type": "stream",
     "text": [
      "\n",
      "Epoch: [4/10], Loss: 0.0791\n"
     ]
    },
    {
     "data": {
      "application/vnd.jupyter.widget-view+json": {
       "model_id": "08131a607b7d4b9b98510b6a46c85ece",
       "version_major": 2,
       "version_minor": 0
      },
      "text/plain": [
       "HBox(children=(HTML(value='epoch [5/10]'), FloatProgress(value=1.0, bar_style='info', layout=Layout(width='20p…"
      ]
     },
     "metadata": {},
     "output_type": "display_data"
    },
    {
     "name": "stdout",
     "output_type": "stream",
     "text": [
      "\n",
      "Epoch: [5/10], Loss: 0.0788\n"
     ]
    },
    {
     "data": {
      "application/vnd.jupyter.widget-view+json": {
       "model_id": "105c7a96e6ee47b8880b794d8b23689f",
       "version_major": 2,
       "version_minor": 0
      },
      "text/plain": [
       "HBox(children=(HTML(value='epoch [6/10]'), FloatProgress(value=1.0, bar_style='info', layout=Layout(width='20p…"
      ]
     },
     "metadata": {},
     "output_type": "display_data"
    },
    {
     "name": "stdout",
     "output_type": "stream",
     "text": [
      "\n",
      "Epoch: [6/10], Loss: 0.0786\n"
     ]
    },
    {
     "data": {
      "application/vnd.jupyter.widget-view+json": {
       "model_id": "10422c50b4bd42d78c7078108fa8ac0b",
       "version_major": 2,
       "version_minor": 0
      },
      "text/plain": [
       "HBox(children=(HTML(value='epoch [7/10]'), FloatProgress(value=1.0, bar_style='info', layout=Layout(width='20p…"
      ]
     },
     "metadata": {},
     "output_type": "display_data"
    },
    {
     "name": "stdout",
     "output_type": "stream",
     "text": [
      "\n",
      "Epoch: [7/10], Loss: 0.0785\n"
     ]
    },
    {
     "data": {
      "application/vnd.jupyter.widget-view+json": {
       "model_id": "b87fa66f699448f19a755ba427397393",
       "version_major": 2,
       "version_minor": 0
      },
      "text/plain": [
       "HBox(children=(HTML(value='epoch [8/10]'), FloatProgress(value=1.0, bar_style='info', layout=Layout(width='20p…"
      ]
     },
     "metadata": {},
     "output_type": "display_data"
    },
    {
     "name": "stdout",
     "output_type": "stream",
     "text": [
      "\n",
      "Epoch: [8/10], Loss: 0.0784\n"
     ]
    },
    {
     "data": {
      "application/vnd.jupyter.widget-view+json": {
       "model_id": "e9cc06b19abc416ba2b39dd129e618fb",
       "version_major": 2,
       "version_minor": 0
      },
      "text/plain": [
       "HBox(children=(HTML(value='epoch [9/10]'), FloatProgress(value=1.0, bar_style='info', layout=Layout(width='20p…"
      ]
     },
     "metadata": {},
     "output_type": "display_data"
    },
    {
     "name": "stdout",
     "output_type": "stream",
     "text": [
      "\n",
      "Epoch: [9/10], Loss: 0.0783\n"
     ]
    },
    {
     "data": {
      "application/vnd.jupyter.widget-view+json": {
       "model_id": "0af25087ab774c708b0673b401cd7451",
       "version_major": 2,
       "version_minor": 0
      },
      "text/plain": [
       "HBox(children=(HTML(value='epoch [10/10]'), FloatProgress(value=1.0, bar_style='info', layout=Layout(width='20…"
      ]
     },
     "metadata": {},
     "output_type": "display_data"
    },
    {
     "name": "stdout",
     "output_type": "stream",
     "text": [
      "\n",
      "Epoch: [10/10], Loss: 0.0781\n"
     ]
    }
   ],
   "source": [
    "model = utils.train_logreg_model(X, y, lambda_l1=0.001, lambda_l2=0.001)"
   ]
  },
  {
   "cell_type": "markdown",
   "metadata": {},
   "source": [
    "# Evaluate Model"
   ]
  },
  {
   "cell_type": "code",
   "execution_count": 8,
   "metadata": {},
   "outputs": [
    {
     "data": {
      "application/vnd.jupyter.widget-view+json": {
       "model_id": "a4c8135c90624620b33591c8552299ae",
       "version_major": 2,
       "version_minor": 0
      },
      "text/plain": [
       "HBox(children=(HTML(value='Evaluating'), FloatProgress(value=1.0, bar_style='info', layout=Layout(width='20px'…"
      ]
     },
     "metadata": {},
     "output_type": "display_data"
    },
    {
     "name": "stdout",
     "output_type": "stream",
     "text": [
      "\n",
      "Score (accuracy) of the model: 0.81\n"
     ]
    },
    {
     "data": {
      "text/plain": [
       "{'__OVERALL__': 0.8121973195179637,\n",
       " 'CONJ+NUM+NSUFF': 0.0,\n",
       " 'NUM+CASE': 0.0,\n",
       " 'V': 0.9363839285714286,\n",
       " 'CONJ+NOUN': 0.47368421052631576,\n",
       " 'CONJ+PREP+PRON': 0.0,\n",
       " 'PART/NOUN': 0.6842105263157895,\n",
       " 'CONJ+ADV': 0.0,\n",
       " 'PREP+PART/CONJ': 1.0,\n",
       " 'DET+NOUN+NSUFF/DET+NUM+NSUFF': 0.0,\n",
       " 'CONJ+PREP': 0.022727272727272728,\n",
       " 'DET+NOUN/DET+ADJ': 0.0,\n",
       " 'DET+NOUN': 0.9794561933534743,\n",
       " 'NOUN+CASE': 0.553072625698324,\n",
       " 'ADJ/NUM': 0.0,\n",
       " 'CONJ+PREP+NOUN+NSUFF': 0.0,\n",
       " 'ADJ+NSUFF+NSUFF': 0.0,\n",
       " 'DET+NUM+NSUFF': 0.0,\n",
       " 'ADV+CASE': 0.0,\n",
       " 'PART+PART/PART': 0.0,\n",
       " 'ADJ': 0.6648199445983379,\n",
       " 'PREP+DET+ADJ': 0.25,\n",
       " 'V+PRON': 0.4481792717086835,\n",
       " 'CONJ+PRON': 0.38571428571428573,\n",
       " 'CONJ+CONJ': 0.0,\n",
       " 'PREP+DET+ADJ+NSUFF': 0.0,\n",
       " 'PREP+NUM': 0.0,\n",
       " 'CONJ+NOUN+NSUFF': 0.11363636363636363,\n",
       " 'CONJ+NOUN+PRON': 0.0,\n",
       " 'CONJ+DET+NUM+NSUFF': 0.0,\n",
       " 'PART': 0.8836879432624114,\n",
       " 'CONJ+FUT_PART+V+PRON': 0.0,\n",
       " 'V+PRON+PRON': 0.0,\n",
       " 'PREP+NUM+NSUFF': 0.0,\n",
       " 'CONJ+FUT_PART': 0.0,\n",
       " 'PREP+ADJ+PRON': 0.0,\n",
       " 'CONJ+DET+ADJ': 0.0,\n",
       " 'PREP+NOUN+NSUFF+NSUFF': 0.0,\n",
       " 'CONJ+ADJ+CASE': 0.0,\n",
       " 'CONJ+ADV+CASE': 0.0,\n",
       " 'PREP+PART': 0.02631578947368421,\n",
       " 'CONJ+PREP+NOUN+NSUFF+PRON': 0.0,\n",
       " 'PREP+ADJ': 0.0,\n",
       " 'CONJ+PREP+NOUN': 0.0,\n",
       " 'ADJ+CASE': 0.8813559322033898,\n",
       " 'FOREIGN': 0.0,\n",
       " 'CONJ+NOUN+NSUFF+PRON': 0.0,\n",
       " 'DET+ADJ': 0.7711442786069652,\n",
       " 'CONJ+V+PRON': 0.9272727272727272,\n",
       " 'PART/PREP+PART': 0.4,\n",
       " 'DET+ADJ+NSUFF': 0.9683098591549296,\n",
       " 'DET+NOUN+NSUFF': 0.5339925834363412,\n",
       " 'PREP+DET+NOUN+NSUFF+NSUFF': 0.0,\n",
       " 'ADJ+PRON': 0.0,\n",
       " 'PUNC': 0.9739336492890995,\n",
       " 'PREP+PRON': 0.7961783439490446,\n",
       " 'CONJ+DET+NOUN': 0.36363636363636365,\n",
       " 'PREP+DET+NOUN': 0.7692307692307693,\n",
       " 'CONJ+V': 0.5339506172839507,\n",
       " 'PREP+V': 0.08695652173913043,\n",
       " 'FUT_PART': 0.0,\n",
       " 'DET+ADJ/DET+NOUN': 0.0,\n",
       " 'CONJ+NOUN+CASE': 0.0,\n",
       " 'PREP+NOUN+PRON': 0.0,\n",
       " 'DET': 0.25,\n",
       " 'CONJ+FUT_PART+V': 0.0,\n",
       " 'DET+ADJ+NSUFF+NSUFF': 0.0,\n",
       " 'PREP+PART+PRON': 0.0,\n",
       " 'NOUN+NSUFF': 0.8986272439281943,\n",
       " 'NOUN+NSUFF/ADJ+NSUFF': 1.0,\n",
       " 'NOUN': 0.9689024390243902,\n",
       " 'PREP+NOUN+NSUFF': 0.72,\n",
       " 'CONJ+ADJ+PRON': 0.0,\n",
       " 'NUM+NSUFF': 0.023255813953488372,\n",
       " 'DET+NUM': 0.0,\n",
       " 'CONJ+DET+ADJ+NSUFF': 0.0,\n",
       " 'DET+ADJ/DET+NUM': 0.0,\n",
       " 'PREP+DET': 0.0,\n",
       " 'ADV': 0.0,\n",
       " 'PREP+NOUN': 0.3547400611620795,\n",
       " 'ADJ+NSUFF/NOUN+NSUFF': 0.0,\n",
       " 'CONJ+DET+NOUN+NSUFF': 0.2602739726027397,\n",
       " 'CONJ+PART': 0.5157894736842106,\n",
       " 'DET+NOUN+NSUFF+NSUFF': 0.0,\n",
       " 'PREP+ADJ+NSUFF': 0.0,\n",
       " 'PART/NOUN+PART': 0.3333333333333333,\n",
       " 'PRON': 0.8152866242038217,\n",
       " 'ABBREV': 0.11764705882352941,\n",
       " 'CONJ+PREP+DET+NOUN': 0.0,\n",
       " 'CONJ+ADJ': 0.0,\n",
       " 'FUT_PART+V': 0.0,\n",
       " 'CONJ+ADJ+NSUFF': 0.3333333333333333,\n",
       " 'CONJ+PREP+DET+NOUN+NSUFF': 0.0,\n",
       " 'NUM': 0.9022988505747126,\n",
       " 'ADJ+NSUFF': 0.8615916955017301,\n",
       " 'PREP+V+PRON': 0.0,\n",
       " 'PREP+DET+NOUN+NSUFF': 0.5,\n",
       " 'CONJ+NUM': 0.0,\n",
       " 'CONJ+NUM+NSUFF+NSUFF': 0.0,\n",
       " 'PREP+NOUN+NSUFF+PRON': 0.0,\n",
       " 'FUT_PART+V+PRON': 0.0,\n",
       " 'PREP': 0.9654088050314465,\n",
       " 'NOUN+PRON': 0.5983935742971888,\n",
       " 'CONJ+PART/CONJ+PREP+PART': 1.0,\n",
       " 'CONJ+PART+PRON': 0.0,\n",
       " 'CONJ': 0.05128205128205128,\n",
       " 'PART+PRON': 0.3384615384615385,\n",
       " 'CONJ+ADJ/CONJ+NOUN': 0.0,\n",
       " 'DET+ADJ+NSUFF/DET+NUM+NSUFF': 0.0,\n",
       " 'NOUN+NSUFF+NSUFF': 0.0,\n",
       " 'NOUN+NSUFF+PRON': 0.38235294117647056}"
      ]
     },
     "execution_count": 8,
     "metadata": {},
     "output_type": "execute_result"
    }
   ],
   "source": [
    "utils.evaluate_model(model, X, y, idx_to_class=idx2label)"
   ]
  },
  {
   "cell_type": "markdown",
   "metadata": {},
   "source": [
    "# Layerwise probing"
   ]
  },
  {
   "cell_type": "code",
   "execution_count": null,
   "metadata": {},
   "outputs": [],
   "source": [
    "layer_1_X = utils.filter_activations_keep_neurons(np.arange(768, 768*2), X)"
   ]
  },
  {
   "cell_type": "code",
   "execution_count": null,
   "metadata": {},
   "outputs": [],
   "source": [
    "layer_1_X.shape"
   ]
  },
  {
   "cell_type": "code",
   "execution_count": null,
   "metadata": {},
   "outputs": [],
   "source": [
    "model_layer_1 = utils.train_logreg_model(layer_1_X, y, lambda_l1=0.001, lambda_l2=0.001)"
   ]
  },
  {
   "cell_type": "code",
   "execution_count": null,
   "metadata": {},
   "outputs": [],
   "source": [
    "utils.evaluate_model(model_layer_1, layer_1_X, y, idx_to_class=idx2label)"
   ]
  },
  {
   "cell_type": "markdown",
   "metadata": {},
   "source": [
    "# Get Neuron Ranking"
   ]
  },
  {
   "cell_type": "code",
   "execution_count": 9,
   "metadata": {},
   "outputs": [
    {
     "data": {
      "application/vnd.jupyter.widget-view+json": {
       "model_id": "9780319961d644dea57597b150b59143",
       "version_major": 2,
       "version_minor": 0
      },
      "text/plain": [
       "HBox(children=(HTML(value=''), FloatProgress(value=0.0, max=101.0), HTML(value='')))"
      ]
     },
     "metadata": {},
     "output_type": "display_data"
    },
    {
     "name": "stdout",
     "output_type": "stream",
     "text": [
      "\n"
     ]
    }
   ],
   "source": [
    "ordering, cutoffs = utils.get_neuron_ordering(model, label2idx)"
   ]
  },
  {
   "cell_type": "code",
   "execution_count": 10,
   "metadata": {},
   "outputs": [
    {
     "data": {
      "text/plain": [
       "[54, 368, 806, 1312, 1972, 2733, 3566, 4390, 5191, 5929]"
      ]
     },
     "execution_count": 10,
     "metadata": {},
     "output_type": "execute_result"
    }
   ],
   "source": [
    "cutoffs[:10]"
   ]
  },
  {
   "cell_type": "code",
   "execution_count": 11,
   "metadata": {},
   "outputs": [
    {
     "data": {
      "text/plain": [
       "9984"
      ]
     },
     "execution_count": 11,
     "metadata": {},
     "output_type": "execute_result"
    }
   ],
   "source": [
    "len(ordering)"
   ]
  },
  {
   "cell_type": "code",
   "execution_count": null,
   "metadata": {},
   "outputs": [],
   "source": [
    "plot_neurons_per_layer(ordering[:cutoffs[5]],title='Labels per layer in QARiB POS')"
   ]
  },
  {
   "cell_type": "code",
   "execution_count": 12,
   "metadata": {},
   "outputs": [
    {
     "data": {
      "image/png": "[encoded data removed]",
      "text/plain": [
       "<Figure size 432x288 with 1 Axes>"
      ]
     },
     "metadata": {
      "needs_background": "light"
     },
     "output_type": "display_data"
    }
   ],
   "source": [
    "plot_neurons_per_layer(ordering[:cutoffs[5]],title='Labels per layer in araBERT POS')"
   ]
  },
  {
   "cell_type": "code",
   "execution_count": null,
   "metadata": {},
   "outputs": [],
   "source": [
    "plot_neurons_per_layer(ordering[:cutoffs[5]],title='Labels per layer in ArabicBERT POS')"
   ]
  },
  {
   "cell_type": "code",
   "execution_count": null,
   "metadata": {},
   "outputs": [],
   "source": [
    "plot_neurons_per_layer(ordering[:cutoffs[5]],title='Labels per layer in mBERT POS')"
   ]
  },
  {
   "cell_type": "markdown",
   "metadata": {},
   "source": [
    "# Train on top N neurons"
   ]
  },
  {
   "cell_type": "code",
   "execution_count": null,
   "metadata": {},
   "outputs": [],
   "source": [
    "X_selected = utils.filter_activations_keep_neurons(ordering[:1000], X)"
   ]
  },
  {
   "cell_type": "code",
   "execution_count": null,
   "metadata": {},
   "outputs": [],
   "source": [
    "X_selected.shape"
   ]
  },
  {
   "cell_type": "code",
   "execution_count": null,
   "metadata": {},
   "outputs": [],
   "source": [
    "model_selected = utils.train_logreg_model(X_selected, y, lambda_l1=0.001, lambda_l2=0.001)"
   ]
  },
  {
   "cell_type": "code",
   "execution_count": null,
   "metadata": {},
   "outputs": [],
   "source": [
    "utils.evaluate_model(model_selected, X_selected, y, idx_to_class=idx2label)"
   ]
  },
  {
   "cell_type": "markdown",
   "metadata": {},
   "source": [
    "# Further analysis"
   ]
  },
  {
   "cell_type": "code",
   "execution_count": 13,
   "metadata": {},
   "outputs": [],
   "source": [
    "top_neurons = utils.get_top_neurons(model, 0.01, label2idx)"
   ]
  },
  {
   "cell_type": "code",
   "execution_count": 14,
   "metadata": {},
   "outputs": [
    {
     "data": {
      "text/plain": [
       "(array([8201, 6158,   30, 8226, 6180, 8231, 2088, 8236, 8237, 2099, 8247,\n",
       "        8253, 2114, 8259, 8260, 8273, 8279,   88, 8281, 8283, 8288, 8289,\n",
       "         104, 2154, 8301, 8303, 8307, 8310, 6270, 6282, 6287, 6288, 8337,\n",
       "        8346, 8347,  156, 8350, 8359, 6314, 6323, 8373, 6329, 8386,  199,\n",
       "        2259, 2262, 4318, 2272, 8423, 6380,  238,  243, 8436, 2293, 4344,\n",
       "        6394, 8444,  262, 8464, 8469, 6423, 6424, 8488, 4395, 6478, 8527,\n",
       "        8532, 4440, 8537, 6490,  346,  353, 6507, 8555,  368, 4482, 8585,\n",
       "        8586,  396, 2451, 6550, 8615, 8618,  426, 6572, 6576, 8625, 8627,\n",
       "        8635, 8644,  454, 2503,  459,  468, 6615, 8670, 8672, 8676, 8677,\n",
       "        8679,  506, 6659, 8707,  517, 6665, 6671, 8721, 8725, 8726,  533,\n",
       "        8728, 8737, 8738, 4644, 6711,  573, 8783,  594,  598, 8792, 6752,\n",
       "        6763, 2669, 6767, 6768, 8820, 8831, 6786, 6791, 4750, 6801, 4755,\n",
       "         667, 6814, 8866, 6819, 8874, 8876, 4786, 4787, 4793,  698, 4795,\n",
       "        8892, 8896, 8898, 4807, 6869,  726, 2782,  736, 8929, 8936, 6896,\n",
       "        6908, 6922, 8983, 8984, 6937, 6951, 8999, 4906,  815, 6969, 2882,\n",
       "        9027,  843, 6987,  852, 6996,  853,  856, 7007, 9056, 9069, 9071,\n",
       "        2928, 4976, 2938, 7037,  895, 7042, 7045, 7050, 7055, 7056, 9105,\n",
       "        9114, 9115, 2971, 7068, 9118, 7082, 7091, 9141, 7097, 9146, 7106,\n",
       "        7108,  967, 3023,  980,  984, 7129, 5086, 3040,  992, 7139, 7140,\n",
       "        1006, 1011, 7159, 7160, 9212, 1022, 1030, 5130, 7184, 1041, 1048,\n",
       "        1049, 7201, 7206, 1069, 7223, 7258, 5226, 1133, 1136, 1139, 7289,\n",
       "        7311, 3219, 7319, 7320, 5275, 5283, 7340, 7347, 7363, 1222, 7370,\n",
       "        7376, 7378, 9444, 7400, 1267, 1276, 7433, 7436, 7437, 1299, 5397,\n",
       "        1301, 5408, 5412, 7463, 1319, 7469, 7473, 1333, 7479, 7486, 7491,\n",
       "        7496, 1356, 1362, 7514, 7520, 7523, 1382, 7527, 1386, 7531, 7535,\n",
       "        7537, 3442, 3443, 7539, 7547, 7549, 5502, 9600, 7569, 5523, 7578,\n",
       "        1435, 7591, 5546, 1450, 5555, 5561, 5563, 7632, 1491, 1494, 3550,\n",
       "        1504, 7663, 7664, 7671, 7676, 7692, 1572, 7728, 7742, 7748, 7753,\n",
       "        7769, 9824, 7781, 7786, 5766, 7817, 7818, 7834, 3739, 7839, 7857,\n",
       "        7859, 1715, 7861, 7876, 1735, 7900, 5854, 7908, 1768, 9980, 1790,\n",
       "        5891, 7951, 1809, 7958, 7960, 7969, 5931, 5942, 8005, 5962, 5963,\n",
       "        8015, 5986, 1901, 5999, 1907, 6011, 6016, 6017, 8069, 8075, 3987,\n",
       "        8083, 6043, 6057, 8106, 8108, 4019, 8124, 6079, 6080, 8130, 6096,\n",
       "        6101, 8150, 6104, 6124, 8189]),\n",
       " {'CONJ+NUM+NSUFF': array([9115, 5275, 8347, 6043]),\n",
       "  'NUM+CASE': array([9115]),\n",
       "  'V': array([7549, 6017]),\n",
       "  'CONJ+NOUN': array([1299]),\n",
       "  'CONJ+PREP+PRON': array([9980, 9212, 7055, 6287, 7900]),\n",
       "  'PART/NOUN': array([9115, 1139, 1907, 8386, 2928, 6869, 2882, 6671, 3443, 6101, 2114]),\n",
       "  'CONJ+ADV': array([9115]),\n",
       "  'PREP+PART/CONJ': array([5546]),\n",
       "  'DET+NOUN+NSUFF/DET+NUM+NSUFF': array([9115, 8347, 8984, 7769, 8075, 8537]),\n",
       "  'CONJ+PREP': array([1069]),\n",
       "  'DET+NOUN/DET+ADJ': array([9115]),\n",
       "  'DET+NOUN': array([6507, 6814,  843]),\n",
       "  'NOUN+CASE': array([6080, 8527]),\n",
       "  'ADJ/NUM': array([9115]),\n",
       "  'CONJ+PREP+NOUN+NSUFF': array([9115]),\n",
       "  'ADJ+NSUFF+NSUFF': array([9115]),\n",
       "  'DET+NUM+NSUFF': array([9115]),\n",
       "  'ADV+CASE': array([9115,  815]),\n",
       "  'PART+PART/PART': array([9115]),\n",
       "  'ADJ': array([7663,  895, 3023]),\n",
       "  'PREP+DET+ADJ': array([9115, 7007, 6314, 7958, 8726, 9069, 6768, 5891, 7140, 8676, 8783,\n",
       "         7671, 8738, 8670, 6659, 9600, 8108, 8015, 6896, 7908, 8301, 8792,\n",
       "         8876, 7223, 8226, 8820, 8469, 7082, 8618, 5397, 6158]),\n",
       "  'V+PRON': array([6951, 4344]),\n",
       "  'CONJ+PRON': array([4976]),\n",
       "  'CONJ+CONJ': array([9115]),\n",
       "  'PREP+DET+ADJ+NSUFF': array([9115]),\n",
       "  'PREP+NUM': array([9115,  517, 1790, 8347, 1022, 7671, 8721, 7951,  353]),\n",
       "  'CONJ+NOUN+NSUFF': array([7042, 8289, 8896, 8279, 6711]),\n",
       "  'CONJ+NOUN+PRON': array([9115, 8347, 7400]),\n",
       "  'CONJ+DET+NUM+NSUFF': array([9115]),\n",
       "  'PART': array([594]),\n",
       "  'CONJ+FUT_PART+V+PRON': array([9115]),\n",
       "  'V+PRON+PRON': array([9212, 7676, 8444]),\n",
       "  'PREP+NUM+NSUFF': array([9115]),\n",
       "  'CONJ+FUT_PART': array([9115]),\n",
       "  'PREP+ADJ+PRON': array([9115]),\n",
       "  'CONJ+DET+ADJ': array([3550, 5854, 7184, 4318, 6969, 5086, 2782, 8820]),\n",
       "  'PREP+NOUN+NSUFF+NSUFF': array([9115]),\n",
       "  'CONJ+ADJ+CASE': array([9115]),\n",
       "  'CONJ+ADV+CASE': array([9115]),\n",
       "  'PREP+PART': array([8273, 9115]),\n",
       "  'CONJ+PREP+NOUN+NSUFF+PRON': array([9115]),\n",
       "  'PREP+ADJ': array([1435, 9115, 3739, 2971]),\n",
       "  'CONJ+PREP+NOUN': array([9115]),\n",
       "  'ADJ+CASE': array([8464]),\n",
       "  'FOREIGN': array([667]),\n",
       "  'CONJ+NOUN+NSUFF+PRON': array([9115]),\n",
       "  'DET+ADJ': array([8106, 8874]),\n",
       "  'CONJ+V+PRON': array([8359]),\n",
       "  'PART/PREP+PART': array([6323, 5555, 7859, 4787, 7091, 6096, 8231, 7527, 5502, 7206, 6786,\n",
       "         8627, 6270, 7463, 4019, 7632, 5130, 8999, 1715, 8307, 6576, 7159,\n",
       "         4482, 7861, 7320, 6937, 4906, 7728, 5283, 6908, 6819, 7692, 6423,\n",
       "         7486]),\n",
       "  'DET+ADJ+NSUFF': array([8586, 9444]),\n",
       "  'DET+NOUN+NSUFF': array([7753, 8423]),\n",
       "  'PREP+DET+NOUN+NSUFF+NSUFF': array([9115]),\n",
       "  'ADJ+PRON': array([9115]),\n",
       "  'PUNC': array([1356,  426]),\n",
       "  'PREP+PRON': array([7437]),\n",
       "  'CONJ+DET+NOUN': array([6763, 7531]),\n",
       "  'PREP+DET+NOUN': array([8281]),\n",
       "  'CONJ+V': array([9071, 7376]),\n",
       "  'PREP+V': array([9115, 8347, 9114, 2259, 9027, 8259, 7491, 7578, 8346, 8707, 1491,\n",
       "         8075,  243, 2088, 3040, 8984]),\n",
       "  'FUT_PART': array([9115]),\n",
       "  'DET+ADJ/DET+NOUN': array([9115]),\n",
       "  'CONJ+NOUN+CASE': array([9115]),\n",
       "  'PREP+NOUN+PRON': array([8347]),\n",
       "  'DET': array([7969, 7160, 8679, 8635, 4795, 7201, 1041, 8866, 6011, 8737, 8672,\n",
       "         7664, 6615, 7547, 1809, 8831, 5563]),\n",
       "  'CONJ+FUT_PART+V': array([ 468, 7050, 8436, 8488, 6079, 8892, 7818,  454, 5962, 6282, 7496,\n",
       "         8373,  104, 1333, 8615, 6057,  517, 9146, 9141, 1222, 8124,  598,\n",
       "         6791, 6104,  573, 6550, 6572, 7363, 7340, 7139, 4786, 8260, 8725,\n",
       "         8108]),\n",
       "  'DET+ADJ+NSUFF+NSUFF': array([9115]),\n",
       "  'PREP+PART+PRON': array([8347]),\n",
       "  'NOUN+NSUFF': array([6478, 7537]),\n",
       "  'NOUN+NSUFF/ADJ+NSUFF': array([1735, 6767,  967, 8283, 8303, 2503, 8307, 7748, 4807, 5999, 8350,\n",
       "         8555,  199, 7539, 9118, 7535]),\n",
       "  'NOUN': array([2938,  368, 7514,   30, 3442]),\n",
       "  'PREP+NOUN+NSUFF': array([8983, 5408]),\n",
       "  'CONJ+ADJ+PRON': array([9115]),\n",
       "  'NUM+NSUFF': array([1382, 5766]),\n",
       "  'DET+NUM': array([9115]),\n",
       "  'CONJ+DET+ADJ+NSUFF': array([8347, 7311,  984, 7591, 8359, 7839, 6329, 6987, 7786, 4440, 5561,\n",
       "         6394, 4793, 7097, 9115]),\n",
       "  'DET+ADJ/DET+NUM': array([9115]),\n",
       "  'PREP+DET': array([9115]),\n",
       "  'ADV': array([1267]),\n",
       "  'PREP+NOUN': array([8929,  698]),\n",
       "  'ADJ+NSUFF/NOUN+NSUFF': array([9115]),\n",
       "  'CONJ+DET+NOUN+NSUFF': array([7539]),\n",
       "  'CONJ+PART': array([1276, 7676]),\n",
       "  'DET+NOUN+NSUFF+NSUFF': array([9115]),\n",
       "  'PREP+ADJ+NSUFF': array([9115]),\n",
       "  'PART/NOUN+PART': array([9115, 8728, 7817, 1504, 7523, 7347, 8585,  736, 1386, 1768, 6424,\n",
       "          396, 7106, 6922, 5931, 7960, 1450, 4395, 2099, 8677, 8130, 7742,\n",
       "         2154, 5226, 2272, 8898]),\n",
       "  'PRON': array([5942]),\n",
       "  'ABBREV': array([1901, 5412, 8644, 7857, 8625,  852,  980, 2669, 7876, 8532, 1011,\n",
       "         4644, 1133, 6996, 6180, 1049, 1572, 7108, 8936, 2293]),\n",
       "  'CONJ+PREP+DET+NOUN': array([9115]),\n",
       "  'CONJ+ADJ': array([1494, 3219, 3987, 2451,  726, 5523, 7469, 8237, 4755, 2262]),\n",
       "  'FUT_PART+V': array([7319]),\n",
       "  'CONJ+ADJ+NSUFF': array([9115, 9105,  506, 7834, 7569, 8337, 7289,  533, 1301, 6801, 7129,\n",
       "         8189, 8236,  853, 7370]),\n",
       "  'CONJ+PREP+DET+NOUN+NSUFF': array([9115]),\n",
       "  'NUM': array([7436, 6124]),\n",
       "  'ADJ+NSUFF': array([6380]),\n",
       "  'PREP+V+PRON': array([9115]),\n",
       "  'PREP+DET+NOUN+NSUFF': array([7473, 7068]),\n",
       "  'CONJ+NUM': array([9115]),\n",
       "  'CONJ+NUM+NSUFF+NSUFF': array([9115]),\n",
       "  'PREP+NOUN+NSUFF+PRON': array([9115]),\n",
       "  'FUT_PART+V+PRON': array([9115]),\n",
       "  'PREP': array([262, 992]),\n",
       "  'NOUN+PRON': array([7045, 8150]),\n",
       "  'CONJ+PART/CONJ+PREP+PART': array([9115, 9056, 6288, 8288, 7520, 8247, 7479, 6490, 1319, 1048, 7258,\n",
       "         7056, 7378, 6752,  156, 8083, 7781, 9824, 1136,  238, 8069, 1006,\n",
       "         6711,  346]),\n",
       "  'CONJ+PART+PRON': array([7433, 8253, 8201,   88, 4750, 8005, 6665, 6016, 1362, 5963,  856]),\n",
       "  'CONJ': array([8310,  459]),\n",
       "  'PART+PRON': array([7037]),\n",
       "  'CONJ+ADJ/CONJ+NOUN': array([9115]),\n",
       "  'DET+ADJ+NSUFF/DET+NUM+NSUFF': array([9115]),\n",
       "  'NOUN+NSUFF+NSUFF': array([ 262, 1030]),\n",
       "  'NOUN+NSUFF+PRON': array([5986])})"
      ]
     },
     "execution_count": 14,
     "metadata": {},
     "output_type": "execute_result"
    }
   ],
   "source": [
    "top_neurons"
   ]
  },
  {
   "cell_type": "code",
   "execution_count": 15,
   "metadata": {},
   "outputs": [
    {
     "data": {
      "text/plain": [
       "dict_keys(['CONJ+NUM+NSUFF', 'NUM+CASE', 'V', 'CONJ+NOUN', 'CONJ+PREP+PRON', 'PART/NOUN', 'CONJ+ADV', 'PREP+PART/CONJ', 'DET+NOUN+NSUFF/DET+NUM+NSUFF', 'CONJ+PREP', 'DET+NOUN/DET+ADJ', 'DET+NOUN', 'NOUN+CASE', 'ADJ/NUM', 'CONJ+PREP+NOUN+NSUFF', 'ADJ+NSUFF+NSUFF', 'DET+NUM+NSUFF', 'ADV+CASE', 'PART+PART/PART', 'ADJ', 'PREP+DET+ADJ', 'V+PRON', 'CONJ+PRON', 'CONJ+CONJ', 'PREP+DET+ADJ+NSUFF', 'PREP+NUM', 'CONJ+NOUN+NSUFF', 'CONJ+NOUN+PRON', 'CONJ+DET+NUM+NSUFF', 'PART', 'CONJ+FUT_PART+V+PRON', 'V+PRON+PRON', 'PREP+NUM+NSUFF', 'CONJ+FUT_PART', 'PREP+ADJ+PRON', 'CONJ+DET+ADJ', 'PREP+NOUN+NSUFF+NSUFF', 'CONJ+ADJ+CASE', 'CONJ+ADV+CASE', 'PREP+PART', 'CONJ+PREP+NOUN+NSUFF+PRON', 'PREP+ADJ', 'CONJ+PREP+NOUN', 'ADJ+CASE', 'FOREIGN', 'CONJ+NOUN+NSUFF+PRON', 'DET+ADJ', 'CONJ+V+PRON', 'PART/PREP+PART', 'DET+ADJ+NSUFF', 'DET+NOUN+NSUFF', 'PREP+DET+NOUN+NSUFF+NSUFF', 'ADJ+PRON', 'PUNC', 'PREP+PRON', 'CONJ+DET+NOUN', 'PREP+DET+NOUN', 'CONJ+V', 'PREP+V', 'FUT_PART', 'DET+ADJ/DET+NOUN', 'CONJ+NOUN+CASE', 'PREP+NOUN+PRON', 'DET', 'CONJ+FUT_PART+V', 'DET+ADJ+NSUFF+NSUFF', 'PREP+PART+PRON', 'NOUN+NSUFF', 'NOUN+NSUFF/ADJ+NSUFF', 'NOUN', 'PREP+NOUN+NSUFF', 'CONJ+ADJ+PRON', 'NUM+NSUFF', 'DET+NUM', 'CONJ+DET+ADJ+NSUFF', 'DET+ADJ/DET+NUM', 'PREP+DET', 'ADV', 'PREP+NOUN', 'ADJ+NSUFF/NOUN+NSUFF', 'CONJ+DET+NOUN+NSUFF', 'CONJ+PART', 'DET+NOUN+NSUFF+NSUFF', 'PREP+ADJ+NSUFF', 'PART/NOUN+PART', 'PRON', 'ABBREV', 'CONJ+PREP+DET+NOUN', 'CONJ+ADJ', 'FUT_PART+V', 'CONJ+ADJ+NSUFF', 'CONJ+PREP+DET+NOUN+NSUFF', 'NUM', 'ADJ+NSUFF', 'PREP+V+PRON', 'PREP+DET+NOUN+NSUFF', 'CONJ+NUM', 'CONJ+NUM+NSUFF+NSUFF', 'PREP+NOUN+NSUFF+PRON', 'FUT_PART+V+PRON', 'PREP', 'NOUN+PRON', 'CONJ+PART/CONJ+PREP+PART', 'CONJ+PART+PRON', 'CONJ', 'PART+PRON', 'CONJ+ADJ/CONJ+NOUN', 'DET+ADJ+NSUFF/DET+NUM+NSUFF', 'NOUN+NSUFF+NSUFF', 'NOUN+NSUFF+PRON'])"
      ]
     },
     "execution_count": 15,
     "metadata": {},
     "output_type": "execute_result"
    }
   ],
   "source": [
    "top_neurons[1].keys()"
   ]
  },
  {
   "cell_type": "code",
   "execution_count": 17,
   "metadata": {},
   "outputs": [
    {
     "data": {
      "image/png": "[encoded data removed]",
      "text/plain": [
       "<Figure size 432x288 with 1 Axes>"
      ]
     },
     "metadata": {
      "needs_background": "light"
     },
     "output_type": "display_data"
    },
    {
     "data": {
      "image/png": "[encoded data removed]",
      "text/plain": [
       "<Figure size 432x288 with 1 Axes>"
      ]
     },
     "metadata": {
      "needs_background": "light"
     },
     "output_type": "display_data"
    },
    {
     "data": {
      "image/png": "[encoded data removed]",
      "text/plain": [
       "<Figure size 432x288 with 1 Axes>"
      ]
     },
     "metadata": {
      "needs_background": "light"
     },
     "output_type": "display_data"
    },
    {
     "data": {
      "image/png": "[encoded data removed]",
      "text/plain": [
       "<Figure size 432x288 with 1 Axes>"
      ]
     },
     "metadata": {
      "needs_background": "light"
     },
     "output_type": "display_data"
    },
    {
     "data": {
      "image/png": "[encoded data removed]",
      "text/plain": [
       "<Figure size 432x288 with 1 Axes>"
      ]
     },
     "metadata": {
      "needs_background": "light"
     },
     "output_type": "display_data"
    }
   ],
   "source": [
    "for tag in {'NOUN', 'V', 'PART', 'PREP', 'ADJ'}:\n",
    "    plot_neurons_per_layer(top_neurons[1][tag],title='Labels per layer in araBERT '+tag)"
   ]
  },
  {
   "cell_type": "code",
   "execution_count": null,
   "metadata": {},
   "outputs": [],
   "source": [
    "plot_neurons_per_layer(top_neurons[1]['DET+NOUN'],title='Labels per layer in QARiB DET+NOUN')"
   ]
  },
  {
   "cell_type": "code",
   "execution_count": null,
   "metadata": {},
   "outputs": [],
   "source": [
    "X_zeroed = utils.zero_out_activations_keep_neurons(ordering[:10], X)\n",
    "utils.evaluate_model(model, X_zeroed, y, idx_to_class=idx2label)"
   ]
  },
  {
   "cell_type": "code",
   "execution_count": null,
   "metadata": {},
   "outputs": [],
   "source": [
    "activations"
   ]
  },
  {
   "cell_type": "code",
   "execution_count": null,
   "metadata": {},
   "outputs": [],
   "source": [
    "import aux_classifier.visualization as visualization\n",
    "visualization.visualize_activations(\"في إجراءات استثنائية بسبب وباء كورونا .\", activations[0][:, ordering[0]])"
   ]
  },
  {
   "cell_type": "code",
   "execution_count": null,
   "metadata": {},
   "outputs": [],
   "source": [
    "import svgwrite\n",
    "FONT_SIZE = 20\n",
    "MARGIN = 10\n",
    "CHAR_LIMIT = 61\n",
    "def break_lines(text, limit=50):\n",
    "    lines = []\n",
    "    curr_line = \"\"\n",
    "    for token in text.split(' '):\n",
    "        if len(curr_line) + 1 + len(token) < limit:\n",
    "            curr_line += token + \" \"\n",
    "        else:\n",
    "            lines.append(curr_line[:-1])\n",
    "            curr_line = token + \" \"\n",
    "    lines.append(curr_line[:-1])\n",
    "    return lines\n",
    "\n",
    "def get_rect_style(color, opacity):\n",
    "    return \"\"\"opacity:%0.5f;\n",
    "            fill:%s;\n",
    "            fill-opacity:1;\n",
    "            stroke:none;\n",
    "            stroke-width:0.26499999;\n",
    "            stroke-linecap:round;\n",
    "            stroke-linejoin:miter;\n",
    "            stroke-miterlimit:4;\n",
    "            stroke-dasharray:none;\n",
    "            stroke-dashoffset:0;\n",
    "            stroke-opacity:1\"\"\" % (opacity, color)\n",
    "\n",
    "def get_text_style(font_size):\n",
    "    return \"\"\"font-style:normal;\n",
    "            font-variant:normal;\n",
    "            font-weight:normal;\n",
    "            font-stretch:normal;\n",
    "            font-size:%0.2fpx;\n",
    "            line-height:125%%;\n",
    "            font-family:monospace;\n",
    "            -inkscape-font-specification:'Arial Unicode MS, Normal';\n",
    "            font-variant-ligatures:none;\n",
    "            font-variant-caps:normal;\n",
    "            font-variant-numeric:normal;\n",
    "            text-align:start;\n",
    "            writing-mode:lr-tb;\n",
    "            text-anchor:start;\n",
    "            stroke-width:0.26458332px\"\"\" % (font_size)\n"
   ]
  },
  {
   "cell_type": "code",
   "execution_count": null,
   "metadata": {},
   "outputs": [],
   "source": [
    "text = 'في إجراءات استثنائية بسبب وباء كورونا .'\n",
    "lines = break_lines(text, limit=CHAR_LIMIT)\n",
    "char_width = FONT_SIZE*0.59\n",
    "char_height = FONT_SIZE*1.25"
   ]
  },
  {
   "cell_type": "code",
   "execution_count": null,
   "metadata": {},
   "outputs": [],
   "source": [
    "lines"
   ]
  },
  {
   "cell_type": "code",
   "execution_count": null,
   "metadata": {},
   "outputs": [],
   "source": [
    "image_height = len(lines) * char_height * 1.2\n",
    "image_width = CHAR_LIMIT * char_width\n",
    "\n",
    "dwg = svgwrite.Drawing(\"tmp.svg\", size=(image_width, image_height),\n",
    "                    profile='full')\n",
    "dwg.viewbox(0, 0, image_width, image_height)\n"
   ]
  },
  {
   "cell_type": "code",
   "execution_count": null,
   "metadata": {},
   "outputs": [],
   "source": [
    "darken=2\n",
    "colors=[\"#d35f5f\", \"#00aad4\"]\n",
    "scores = activations[0][:, ordering[0]]\n",
    "offset = 0"
   ]
  },
  {
   "cell_type": "code",
   "execution_count": null,
   "metadata": {},
   "outputs": [],
   "source": [
    "group = dwg.g()\n",
    "for _ in range(darken):\n",
    "    word_idx = 0\n",
    "    for line_idx, line in enumerate(lines):\n",
    "        char_idx = 0\n",
    "        max_score = max(scores)\n",
    "        min_score = abs(min(scores))\n",
    "        limit = max(max_score, min_score)\n",
    "        for word in line.split(' '):\n",
    "            print('W:',word)\n",
    "            score = scores[word_idx]\n",
    "            if score > 0:\n",
    "                color = colors[1]\n",
    "                opacity = score/limit\n",
    "            else:\n",
    "                color = colors[0]\n",
    "                opacity = abs(score)/limit\n",
    "\n",
    "            for _ in word:\n",
    "                rect_insert = (0 + char_idx * char_width, offset + 7 + line_idx * char_height)\n",
    "                rect_size = (\"%.2fpx\"%(char_width), \"%0.2fpx\"%(char_height))\n",
    "                group.add(\n",
    "                    dwg.rect(insert=rect_insert,\n",
    "                            size=rect_size,\n",
    "                            style=get_rect_style(color, opacity)\n",
    "                            )\n",
    "                )\n",
    "                char_idx += 1\n",
    "\n",
    "            final_rect_insert = (0 + char_idx * char_width, offset + 7 + line_idx * char_height)\n",
    "            final_rect_size = (\"%.2fpx\"%(char_width), \"%0.2fpx\"%(char_height))\n",
    "            group.add(\n",
    "                dwg.rect(insert=final_rect_insert,\n",
    "                        size=final_rect_size,\n",
    "                        style=get_rect_style(color, opacity)\n",
    "                        )\n",
    "            )\n",
    "\n",
    "            char_idx += 1\n",
    "            word_idx += 1\n",
    "\n",
    "    for line_idx, line in enumerate(lines):\n",
    "        text_insert = (0, offset + FONT_SIZE*1.25*(line_idx+1))\n",
    "        print(text_insert,text)\n",
    "        text = dwg.text(text,\n",
    "                        insert=text_insert,\n",
    "                        fill='black',\n",
    "                        style=get_text_style(FONT_SIZE))\n",
    "        group.add(text)\n",
    "offset += FONT_SIZE*1.25*len(lines) + MARGIN\n",
    "\n",
    "dwg.add(group)"
   ]
  },
  {
   "cell_type": "code",
   "execution_count": null,
   "metadata": {},
   "outputs": [],
   "source": [
    "dwg"
   ]
  },
  {
   "cell_type": "code",
   "execution_count": null,
   "metadata": {},
   "outputs": [],
   "source": []
  }
 ],
 "metadata": {
  "kernelspec": {
   "display_name": "Python [conda env:neurox-aux_classifier] *",
   "language": "python",
   "name": "conda-env-neurox-aux_classifier-py"
  },
  "language_info": {
   "codemirror_mode": {
    "name": "ipython",
    "version": 3
   },
   "file_extension": ".py",
   "mimetype": "text/x-python",
   "name": "python",
   "nbconvert_exporter": "python",
   "pygments_lexer": "ipython3",
   "version": "3.7.9"
  }
 },
 "nbformat": 4,
 "nbformat_minor": 4
}
