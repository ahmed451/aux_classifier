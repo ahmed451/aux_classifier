{
 "cells": [
  {
   "cell_type": "markdown",
   "metadata": {},
   "source": [
    "# Imports"
   ]
  },
  {
   "cell_type": "code",
   "execution_count": 1,
   "metadata": {},
   "outputs": [],
   "source": [
    "import numpy as np\n",
    "\n",
    "# import sys\n",
    "# sys.path.append(\"/path/to/aux_classifier\")\n",
    "import aux_classifier.extraction as extraction\n",
    "import aux_classifier.data_loader as data_loader\n",
    "import aux_classifier.utils as utils\n",
    "\n",
    "\n",
    "import matplotlib.pyplot as plt\n",
    "\n",
    "def plot_neurons_per_layer(toplayers, title, numberlayers=13, layersize = 768):\n",
    "    nlayers = np.floor_divide(toplayers,layersize)\n",
    "    (unique, counts) = np.unique(nlayers, return_counts=True)\n",
    "    layersLabels = np.arange(numberlayers)\n",
    "    layersCounts = np.zeros(numberlayers)\n",
    "    for i in range(len(unique)):\n",
    "        layersCounts[unique[i]]=counts[i]\n",
    "    plt.bar(layersLabels, layersCounts, align='center', alpha=0.5)\n",
    "    plt.xticks(layersLabels)\n",
    "    plt.ylabel('Counts')\n",
    "    plt.title(title)\n",
    "\n",
    "    plt.show()"
   ]
  },
  {
   "cell_type": "markdown",
   "metadata": {},
   "source": [
    "# Data"
   ]
  },
  {
   "cell_type": "code",
   "execution_count": null,
   "metadata": {},
   "outputs": [],
   "source": [
    "!cat examples/test.ar"
   ]
  },
  {
   "cell_type": "code",
   "execution_count": null,
   "metadata": {},
   "outputs": [],
   "source": [
    "!cat examples/test.ar.label"
   ]
  },
  {
   "cell_type": "markdown",
   "metadata": {},
   "source": [
    "# Extract Representations"
   ]
  },
  {
   "cell_type": "markdown",
   "metadata": {},
   "source": [
    "Models to upload:\n",
    "* [QARiB](https://huggingface.co/qarib/bert-base-qarib) ```'qarib/bert-base-qarib'```\n",
    "* [AraBERT](https://huggingface.co/aubmindlab/bert-base-arabert) ```'aubmindlab/bert-base-arabert'```\n",
    "* [ArabicBERT](https://huggingface.co/asafaya/bert-base-arabic) ```'asafaya/bert-base-arabic'```\n",
    "* [mBERT](https://huggingface.co/bert-base-multilingual-cased) ```'bert-base-multilingual-cased'```"
   ]
  },
  {
   "cell_type": "markdown",
   "metadata": {},
   "source": [
    "1.  QARiB"
   ]
  },
  {
   "cell_type": "code",
   "execution_count": null,
   "metadata": {},
   "outputs": [],
   "source": [
    "\n",
    "extraction.extract_representations('qarib/bert-base-qarib',\n",
    "                                   '/QCRI/Dev/ArabicNLP/NeuroX/data/POS/msa/WikiNewsTruth.txt',\n",
    "                                   '/QCRI/Dev/ArabicNLP/NeuroX/data/POS/msa/WikiNewsTruth.txt.qarib_activations.json',\n",
    "                                   aggregation=\"average\"\n",
    "                                  )"
   ]
  },
  {
   "cell_type": "markdown",
   "metadata": {},
   "source": [
    "2. AraBERT"
   ]
  },
  {
   "cell_type": "code",
   "execution_count": null,
   "metadata": {},
   "outputs": [],
   "source": [
    "extraction.extract_representations('aubmindlab/bert-base-arabert',\n",
    "                                   '/QCRI/Dev/ArabicNLP/NeuroX/data/POS/msa/WikiNewsTruth.txt',\n",
    "                                   '/QCRI/Dev/ArabicNLP/NeuroX/data/POS/msa/WikiNewsTruth.txt.arabert_activations.json',\n",
    "                                   aggregation=\"average\"\n",
    "                                  )"
   ]
  },
  {
   "cell_type": "markdown",
   "metadata": {},
   "source": [
    "3. ArabicBERT"
   ]
  },
  {
   "cell_type": "code",
   "execution_count": null,
   "metadata": {},
   "outputs": [],
   "source": [
    "\n",
    "extraction.extract_representations('asafaya/bert-base-arabic',\n",
    "                                   '/QCRI/Dev/ArabicNLP/NeuroX/data/POS/msa/WikiNewsTruth.txt',\n",
    "                                   '/QCRI/Dev/ArabicNLP/NeuroX/data/POS/msa/WikiNewsTruth.txt.arabicbert_activations.json',\n",
    "                                   aggregation=\"average\"\n",
    "                                  )"
   ]
  },
  {
   "cell_type": "markdown",
   "metadata": {},
   "source": [
    "4. mBERT"
   ]
  },
  {
   "cell_type": "code",
   "execution_count": null,
   "metadata": {},
   "outputs": [],
   "source": [
    "extraction.extract_representations('bert-base-multilingual-cased',\n",
    "                                   '/QCRI/Dev/ArabicNLP/NeuroX/data/POS/msa/WikiNewsTruth.txt',\n",
    "                                   '/QCRI/Dev/ArabicNLP/NeuroX/data/POS/msa/WikiNewsTruth.txt.mbert_activations.json',\n",
    "                                   aggregation=\"average\"\n",
    "                                  )"
   ]
  },
  {
   "cell_type": "code",
   "execution_count": null,
   "metadata": {},
   "outputs": [],
   "source": [
    "!cut -c1-100 < examples/activations.json"
   ]
  },
  {
   "cell_type": "markdown",
   "metadata": {},
   "source": [
    "# Prepare Data"
   ]
  },
  {
   "cell_type": "code",
   "execution_count": null,
   "metadata": {},
   "outputs": [],
   "source": [
    "# Loading QARiB\n",
    "activations_path='/QCRI/Dev/ArabicNLP/NeuroX/data/POS/msa/WikiNewsTruth.txt.qarib_activations.json'\n",
    "activations, num_layers = data_loader.load_activations(activations_path, 768, 512)"
   ]
  },
  {
   "cell_type": "code",
   "execution_count": 2,
   "metadata": {},
   "outputs": [
    {
     "name": "stdout",
     "output_type": "stream",
     "text": [
      "Loading json activations from /QCRI/Dev/ArabicNLP/NeuroX/data/POS/msa/WikiNewsTruth.txt.arabert_activations.json...\n",
      "399 13.0\n"
     ]
    }
   ],
   "source": [
    "# Loading araBERT\n",
    "activations_path='/QCRI/Dev/ArabicNLP/NeuroX/data/POS/msa/WikiNewsTruth.txt.arabert_activations.json'\n",
    "activations, num_layers = data_loader.load_activations(activations_path, 768, 512)"
   ]
  },
  {
   "cell_type": "code",
   "execution_count": null,
   "metadata": {},
   "outputs": [],
   "source": [
    "# Loading arabicBERT\n",
    "activations_path='/QCRI/Dev/ArabicNLP/NeuroX/data/POS/msa/WikiNewsTruth.txt.arabicbert_activations.json'\n",
    "activations, num_layers = data_loader.load_activations(activations_path, 768, 512)"
   ]
  },
  {
   "cell_type": "code",
   "execution_count": null,
   "metadata": {},
   "outputs": [],
   "source": [
    "# Loading mBERT\n",
    "activations_path='/QCRI/Dev/ArabicNLP/NeuroX/data/POS/msa/WikiNewsTruth.txt.mbert_activations.json'\n",
    "activations, num_layers = data_loader.load_activations(activations_path, 768, 512)"
   ]
  },
  {
   "cell_type": "code",
   "execution_count": null,
   "metadata": {},
   "outputs": [],
   "source": [
    "#activations"
   ]
  },
  {
   "cell_type": "code",
   "execution_count": null,
   "metadata": {},
   "outputs": [],
   "source": [
    "activations[1].shape"
   ]
  },
  {
   "cell_type": "code",
   "execution_count": 3,
   "metadata": {},
   "outputs": [
    {
     "name": "stdout",
     "output_type": "stream",
     "text": [
      "Ignored one line 338 line: ['بعد', 'شهر', 'على', 'رحيل', 'المغني', 'الأميركي', 'مايكل', 'جاكسون', 'لا', 'تزال', 'الإشاعات', 'والتكهنات', 'تتناول', 'أسباب', 'وفاته', 'ومصير', 'جثمانه', 'اللذين', 'يبقيان', 'لغزا', '،', 'بالإضافة', 'إلى', 'مستقبل', 'أملاكه', 'ومصير', 'أولاده', '،', 'فيما', 'تتزايد', 'نظريات', 'المؤامرة', '.', 'والتحقيق', 'في', 'وفاة', 'ملك', 'البوب', 'عن', 'خمسين', 'عاما', 'في', '25', 'يونيو', 'في', 'منزله', '،', 'الذي', 'كان', 'يستأجره', 'في', 'لوس', 'أنجلوس', '،', 'تقدم', 'بعض', 'الشيء', 'مع', 'ظهور', 'كلمة', '\"', 'جريمة', 'قتل', '\"', 'للمرة', 'الأولى', 'الأربعاء', '،', 'من', 'قبل', 'شخص', 'ضالع', 'مباشرة', 'في', 'القضية', '،', 'رغم', 'أن', 'العديد', 'من', 'المصادر', 'غير', 'الرسمية', 'أكدت', 'أن', 'شرطة', 'لوس', 'أنجلوس', 'قررت', 'معالجة', 'التحقيقات', 'باعتبار', 'القضية', '\"', 'إجرامية', '\"', '.', 'وزادت', 'الشبهات', 'حول', 'طبيبه', 'كونراد', 'موراي', 'الذي', 'كان', 'متواجدا', 'مع', 'مايكل', 'جاكسون', 'عند', 'وفاته', 'والذي', 'داهمت', 'الشرطة', 'أحد', 'مكاتبه', '.', 'وأكد', 'محامي', 'موراي', 'طبيب', 'القلب', '(', '51', 'عاما', ')', '،', 'الذي', 'كان', 'يتولى', 'منذ', 'مايو', 'متابعة', 'مايكل', 'جاكسون', 'صحيا', 'للتحضير', 'لعودته', 'الكبيرة', 'إلى', 'الساحة', 'الغنائية', 'في', 'لندن', 'في', 'يوليو', '،', 'أن', 'موكله', 'غير', 'مذنب', 'بأي', 'جرم', '.', 'لكن', 'المقربين', 'من', 'المغني', 'يتهمون', 'الأطباء', 'بأنهم', 'تسببوا', 'بوفاته', 'عبر', 'وصف', 'أدوية', 'له', '،', 'فيما', 'قال', 'والده', 'جو', 'إن', 'ابنه', 'كان', '\"', 'ضحية', 'جريمة', 'قتل', '\"', '.', 'وأشارت', 'عدة', 'إفادات', 'إلى', 'إدمان', '\"', 'ملك', 'البوب', '\"', 'على', 'المهدئات', 'والأدوية', 'المسكنة', '.', 'ويركز', 'المحققون', 'في', 'عملهم', 'على', 'الدور', 'الذي', 'قد', 'يكون', 'لعبه', 'مخدر', 'قوي', 'هو', 'ديبريفان', 'الذي', 'عثر', 'عليه', 'في', 'منزل', 'جاكسون', '.', 'والديبريفان', '(', 'الاسم', 'التجاري', 'للبروبفول', ')', 'مخدر', 'قوي', 'للغاية', 'مخصص', 'للاستخدام', 'الطبي', 'ويفترض', 'ألا', 'يكون', 'في', 'منزل', 'مريض', 'ما', '.', 'ولا', 'يزال', 'من', 'غير', 'المعروف', 'ما', 'إذا', 'تم', 'رصد', 'هذا', 'الدواء', 'المخدر', 'خلال', 'تشريح', 'جثة', 'مايكل', 'جاكسون', '.', 'وجثمان', 'المغني', 'الأميركي', '،', 'الذي', 'لم', 'يعرف', 'مكان', 'مثواه', 'الأخير', '،', 'لا', 'يزال', 'مصيره', 'مجهولا', '،', 'وقد', 'خضع', 'لعمليتي', 'تشريح', 'ينتظر', 'أن', 'تظهر', 'نتائجهما', 'في', 'الأيام', 'المقبلة', '.', 'وكل', 'هذه', 'العناصر', 'الغامضة', 'زادت', 'من', 'الإشاعات', '.', 'وعبرت', 'شقيقة', 'جاكسون', 'لاتويا', 'في', 'حديث', 'مع', 'صحيفة', 'بريطانية', 'عن', 'شكوكها', 'وقالت', '\"', 'أعتقد', 'أن', 'مايكل', 'تعرض', 'للقتل', '.', 'لقد', 'ساورتني', 'هذه', 'المشاعر', 'منذ', 'البداية', '\"', '.', 'وأضافت', '\"', 'عدة', 'أشخاص', 'متورطين', 'في', 'هذه', 'المؤامرة', 'وليس', 'شخصا', 'واحدا', '.', 'كان', 'محاطا', 'بأفراد', 'يضمرون', 'له', 'الشر', '.', 'كان', 'مايكل', 'شخصا', 'طيبا', 'ومحبا', 'واستغل', 'أفراد', 'هذا', 'الجانب', 'من', 'شخصيته', '\"', '.', 'وقالت', '\"', 'كانت', 'ثروة', 'مايكل', 'تزيد', 'على', 'مليار', 'دولار', '.', 'عندما', 'يساوي', 'شخص', 'هذا', 'المبلغ', 'الكبير', 'من', 'المال', 'من', 'الطبيعي', 'أن', 'يحوم', 'حوله', 'أشخاص', 'لا', 'يضمرون', 'له', 'الخير', '\"', '.', 'وينتظر', 'المعجبون', 'أيضا', 'أن', 'يعرفوا', 'مكان', 'المثوى', 'الأخير', 'لملك', 'البوب', '،', 'بعدما', 'لم', 'يتمكن', 'أحد', 'من', 'اقتفاء', 'أثر', 'النعش', 'بعد', 'انتهاء', 'حفل', 'تكريم', 'المغني', 'في', '7', 'يوليو', 'في', 'ستايبلس', 'سنتر', 'في', 'لوس', 'أنجلوس', '.', 'ويقول', 'البعض', 'إنه', 'دفن', 'في', 'مزرعته', 'نيفرلاند', 'في', 'كاليفورنيا', '.', 'وفي', 'هذا', 'الوقت', 'تتولى', 'مجموعة', 'كبرى', 'من', 'المحامين', 'محاولة', 'حل', 'المشاكل', 'القانونية', 'التي', 'ظهرت', 'بعد', 'وفاته', '.', 'فقد', 'أوكلت', 'الإدارة', 'المؤقتة', 'لممتلكاته', 'إلى', 'شخصين', 'اختارهما', 'المغني', 'الراحل', 'في', 'وصيته', '.', 'وتعقد', 'جلسة', 'في', '3', 'أغسطس', 'في', 'هذا', 'الصدد', '،', 'فيما', 'ترغب', 'والدته', 'كاثرين', 'في', 'أن', 'تكون', 'بين', 'الورثة', 'الرئيسيين', '.', 'أما', 'أولاد', 'ملك', 'البوب', '،', 'برنس', 'مايكل', '(', '12', 'عاما', ')', 'وباريس', '(', '11', 'عاما', ')', 'وبرنس', 'مايكل', '2', '(', '7', 'أعوام', ')', 'فقد', 'أوكل', 'حق', 'حضانتهم', 'إلى', 'جدتهم', 'كاثرين', 'كما', 'كان', 'يرغب', 'المغني', '.', 'لكن', 'ديبي', 'رو', '،', 'والدة', 'برنس', 'مايكل', 'وباريس', '،', 'لم', 'تقرر', 'بعد', 'ما', 'إذا', 'كانت', 'ستطلب', 'حق', 'حضانة', 'الولدين', '.', 'وسيلتقي', 'محامو', 'المرأتين', 'في', '3', 'أغسطس', 'أمام', 'القضاء', 'بعد', 'إرجاء', 'ثلاث', 'جلسات', 'سابقة', '.']  Max: 512\n",
      "Source tokens: 399\n",
      "Ignored one label 399 line: ['NOUN', 'NOUN', 'PREP', 'NOUN', 'DET+NOUN', 'DET+ADJ', 'NOUN', 'NOUN', 'PART', 'V', 'DET+NOUN+NSUFF', 'CONJ+DET+NOUN+NSUFF', 'V', 'NOUN', 'NOUN+NSUFF+PRON', 'CONJ+NOUN', 'NOUN+PRON', 'PART', 'V+PRON', 'NOUN+CASE', 'PUNC', 'PREP+DET+NOUN+NSUFF', 'PREP', 'NOUN', 'NOUN+PRON', 'CONJ+NOUN', 'NOUN+PRON', 'PUNC', 'PART/PREP+PART', 'V', 'NOUN+NSUFF', 'DET+NOUN+NSUFF', 'PUNC', 'CONJ+DET+NOUN', 'PREP', 'NOUN+NSUFF', 'NOUN', 'DET+NOUN', 'PREP', 'NUM+NSUFF', 'NOUN+CASE', 'PREP', 'NUM', 'NOUN', 'PREP', 'NOUN+PRON', 'PUNC', 'PART', 'V', 'V+PRON', 'PREP', 'NOUN', 'NOUN', 'PUNC', 'V', 'NOUN', 'DET+NOUN', 'NOUN', 'NOUN', 'NOUN+NSUFF', 'PUNC', 'NOUN+NSUFF', 'NOUN', 'PUNC', 'PREP+DET+NOUN+NSUFF', 'DET+ADJ', 'DET+NOUN', 'PUNC', 'PREP', 'NOUN', 'NOUN', 'ADJ', 'NOUN+NSUFF', 'PREP', 'DET+NOUN+NSUFF', 'PUNC', 'NOUN', 'PART', 'DET+ADJ', 'PREP', 'DET+NOUN', 'PART/NOUN', 'DET+ADJ+NSUFF', 'V+PRON', 'PART', 'NOUN+NSUFF', 'NOUN', 'NOUN', 'V+PRON', 'NOUN+NSUFF', 'DET+NOUN+NSUFF', 'PREP+NOUN', 'DET+NOUN+NSUFF', 'PUNC', 'ADJ+NSUFF', 'PUNC', 'PUNC', 'CONJ+V+PRON', 'DET+NOUN+NSUFF', 'NOUN', 'NOUN+PRON', 'NOUN', 'NOUN', 'PART', 'V', 'ADJ+CASE', 'NOUN', 'NOUN', 'NOUN', 'NOUN', 'NOUN+NSUFF+PRON', 'CONJ+PART', 'V+PRON', 'DET+NOUN+NSUFF', 'NOUN', 'NOUN+PRON', 'PUNC', 'CONJ+V', 'NOUN', 'NOUN', 'NOUN', 'DET+NOUN', 'PUNC', 'NUM', 'NOUN+CASE', 'PUNC', 'PUNC', 'PART', 'V', 'V', 'PREP', 'NOUN', 'NOUN+NSUFF', 'NOUN', 'NOUN', 'ADJ+CASE', 'PREP+DET+NOUN', 'PREP+NOUN+NSUFF+PRON', 'DET+ADJ+NSUFF', 'PREP', 'DET+NOUN+NSUFF', 'DET+ADJ+NSUFF', 'PREP', 'NOUN', 'PREP', 'NOUN', 'PUNC', 'PART', 'NOUN+PRON', 'PART/NOUN', 'ADJ', 'PREP+NOUN', 'NOUN', 'PUNC', 'PART', 'DET+NOUN+NSUFF', 'PREP', 'DET+NOUN', 'V+PRON', 'DET+NOUN', 'PREP+PART+PRON', 'V+PRON', 'PREP+NOUN+NSUFF+PRON', 'NOUN', 'NOUN', 'NOUN+NSUFF', 'PREP+PRON', 'PUNC', 'PART/PREP+PART', 'V', 'NOUN+PRON', 'NOUN', 'PART', 'NOUN+PRON', 'V', 'PUNC', 'NOUN+NSUFF', 'NOUN+NSUFF', 'NOUN', 'PUNC', 'PUNC', 'CONJ+V+PRON', 'NOUN+NSUFF/ADJ+NSUFF', 'NOUN+NSUFF', 'PREP', 'NOUN', 'PUNC', 'NOUN', 'DET+NOUN', 'PUNC', 'PREP', 'DET+NOUN+NSUFF', 'CONJ+DET+NOUN+NSUFF', 'DET+ADJ+NSUFF', 'PUNC', 'CONJ+V', 'DET+NOUN+NSUFF', 'PREP', 'NOUN+PRON', 'PREP', 'DET+NOUN', 'PART', 'PART', 'V', 'V+PRON', 'NOUN', 'ADJ', 'PRON', 'NOUN', 'PART', 'V', 'PREP+PRON', 'PREP', 'NOUN', 'NOUN', 'PUNC', 'CONJ+DET+NOUN', 'PUNC', 'DET+NOUN', 'DET+ADJ', 'PREP+DET+NOUN', 'PUNC', 'NOUN', 'ADJ', 'PREP+DET+NOUN+NSUFF', 'ADJ', 'PREP+DET+NOUN', 'DET+ADJ', 'CONJ+V', 'PART+PART/PART', 'V', 'PREP', 'NOUN', 'NOUN', 'PART', 'PUNC', 'CONJ+PART', 'V', 'PREP', 'NOUN', 'DET+ADJ', 'PART', 'PART', 'V', 'NOUN', 'PRON', 'DET+NOUN', 'DET+ADJ', 'NOUN', 'NOUN', 'NOUN+NSUFF', 'NOUN', 'NOUN', 'PUNC', 'CONJ+NOUN', 'DET+NOUN', 'DET+ADJ', 'PUNC', 'PART', 'PART', 'V', 'NOUN', 'NOUN+PRON', 'DET+ADJ', 'PUNC', 'PART', 'V', 'NOUN+PRON', 'ADJ+CASE', 'PUNC', 'CONJ+PART', 'V', 'PREP+NOUN+NSUFF+NSUFF', 'NOUN', 'V', 'PART', 'V', 'NOUN+PRON', 'PREP', 'DET+NOUN', 'DET+ADJ+NSUFF', 'PUNC', 'CONJ+NOUN', 'PRON', 'DET+NOUN', 'DET+ADJ+NSUFF', 'V+PRON', 'PREP', 'DET+NOUN+NSUFF', 'PUNC', 'CONJ+V+PRON', 'NOUN+NSUFF', 'NOUN', 'NOUN', 'PREP', 'NOUN', 'NOUN', 'NOUN+NSUFF', 'ADJ+NSUFF', 'PREP', 'NOUN+PRON', 'CONJ+V+PRON', 'PUNC', 'V', 'PART', 'NOUN', 'V', 'PREP+DET+NOUN', 'PUNC', 'PART', 'V+PRON+PRON', 'PRON', 'DET+NOUN', 'PREP', 'DET+NOUN+NSUFF', 'PUNC', 'PUNC', 'CONJ+V+PRON', 'PUNC', 'NOUN+NSUFF/ADJ+NSUFF', 'NOUN', 'ADJ+NSUFF', 'PREP', 'PRON', 'DET+NOUN+NSUFF', 'CONJ+V', 'NOUN+CASE', 'ADJ+CASE', 'PUNC', 'V', 'ADJ+CASE', 'PREP+NOUN', 'V+PRON', 'PREP+PRON', 'DET+NOUN', 'PUNC', 'V', 'NOUN', 'NOUN+CASE', 'ADJ+CASE', 'CONJ+ADJ+CASE', 'CONJ+V', 'NOUN', 'PRON', 'DET+NOUN', 'PREP', 'NOUN+NSUFF+PRON', 'PUNC', 'PUNC', 'CONJ+V+PRON', 'PUNC', 'V+PRON', 'NOUN+NSUFF', 'NOUN', 'V', 'PREP', 'NUM', 'NOUN', 'PUNC', 'PART/NOUN+PART', 'V', 'NOUN', 'PRON', 'DET+NOUN', 'DET+ADJ', 'PREP', 'DET+NOUN', 'PREP', 'DET+ADJ', 'PART', 'V', 'NOUN+PRON', 'NOUN', 'PART', 'V+PRON', 'PREP+PRON', 'DET+NOUN', 'PUNC', 'PUNC', 'CONJ+V', 'DET+ADJ+NSUFF', 'ADV+CASE', 'PART', 'V+PRON', 'NOUN', 'DET+NOUN', 'DET+ADJ', 'PREP+NOUN', 'DET+NOUN', 'PUNC', 'PART', 'PART', 'V', 'NOUN', 'PREP', 'NOUN', 'NOUN', 'DET+NOUN', 'NOUN', 'NOUN', 'NOUN', 'NOUN', 'DET+NOUN', 'PREP', 'NUM', 'NOUN', 'PREP', 'NOUN', 'NOUN', 'PREP', 'NOUN', 'NOUN', 'PUNC', 'CONJ+V', 'DET+NOUN', 'PART+PRON', 'V', 'PREP', 'NOUN+NSUFF+PRON', 'NOUN', 'PREP', 'NOUN', 'PUNC', 'CONJ+PREP', 'PRON', 'DET+NOUN', 'V', 'NOUN+NSUFF', 'ADJ', 'PREP', 'DET+NOUN+NSUFF', 'NOUN+NSUFF', 'NOUN', 'DET+NOUN', 'DET+ADJ+NSUFF', 'PART', 'V+PRON', 'NOUN', 'NOUN+NSUFF+PRON', 'PUNC', 'CONJ+PART', 'V+PRON', 'DET+NOUN+NSUFF', 'DET+ADJ+NSUFF', 'PREP+NOUN+NSUFF+PRON', 'PREP', 'NOUN+NSUFF', 'V+PRON', 'DET+NOUN', 'DET+ADJ', 'PREP', 'CONJ+NOUN+PRON', 'PUNC', 'CONJ+V', 'NOUN+NSUFF', 'PREP', 'NUM', 'NOUN', 'PREP', 'PRON', 'DET+NOUN', 'PUNC', 'PART/PREP+PART', 'V', 'NOUN+NSUFF+PRON', 'NOUN', 'PREP', 'PART', 'V', 'NOUN', 'DET+NOUN+NSUFF', 'DET+ADJ+NSUFF', 'PUNC', 'PART', 'NOUN', 'NOUN', 'DET+NOUN', 'PUNC', 'NOUN', 'NOUN', 'PUNC', 'NUM', 'NOUN+CASE', 'PUNC', 'CONJ+NOUN', 'PUNC', 'NUM', 'NOUN+CASE', 'PUNC', 'CONJ+NOUN', 'NOUN', 'NUM', 'PUNC', 'NUM', 'NOUN', 'PUNC', 'CONJ+PART', 'V', 'NOUN', 'NOUN+NSUFF+PRON', 'PREP', 'NOUN+NSUFF+PRON', 'NOUN', 'PREP+PART/CONJ', 'V', 'V', 'DET+NOUN', 'PUNC', 'PART', 'NOUN', 'NOUN', 'PUNC', 'NOUN+NSUFF', 'NOUN', 'NOUN', 'CONJ+NOUN', 'PUNC', 'PART', 'V', 'NOUN', 'PART', 'PART', 'V+PRON', 'FUT_PART+V', 'NOUN', 'NOUN+NSUFF', 'DET+NOUN+NSUFF', 'PUNC', 'CONJ+FUT_PART+V', 'NOUN+NSUFF', 'DET+NOUN+NSUFF+NSUFF', 'PREP', 'NUM', 'NOUN', 'NOUN', 'DET+NOUN', 'NOUN', 'NOUN', 'NUM', 'NOUN+NSUFF', 'ADJ+NSUFF', 'PUNC']  Max: 512\n",
      "Target tokens: 399\n"
     ]
    }
   ],
   "source": [
    "tokens = data_loader.load_data('/QCRI/Dev/ArabicNLP/NeuroX/data/POS/msa/WikiNewsTruth.txt',\n",
    "                               '/QCRI/Dev/ArabicNLP/NeuroX/data/POS/msa/WikiNewsTruth.txt.POS',\n",
    "                               activations,\n",
    "                               512\n",
    "                              )"
   ]
  },
  {
   "cell_type": "code",
   "execution_count": 4,
   "metadata": {},
   "outputs": [
    {
     "data": {
      "text/plain": [
       "[['#', 'ثقافة'],\n",
       " ['فيلم',\n",
       "  'جاذبية',\n",
       "  'يتصدر',\n",
       "  'ترشيحات',\n",
       "  'جوائز',\n",
       "  'الأكاديمية',\n",
       "  'البريطانية',\n",
       "  'لفنون',\n",
       "  'الفيلم',\n",
       "  'والتلفزيون']]"
      ]
     },
     "execution_count": 4,
     "metadata": {},
     "output_type": "execute_result"
    }
   ],
   "source": [
    "tokens['source'][:2]"
   ]
  },
  {
   "cell_type": "code",
   "execution_count": 5,
   "metadata": {},
   "outputs": [
    {
     "name": "stdout",
     "output_type": "stream",
     "text": [
      "Number of tokens:  17758\n",
      "length of source dictionary:  6655\n",
      "length of target dictionary:  110\n",
      "17758\n",
      "Total instances: 17758\n",
      "['تعاملات', 'يفحص', 'سم', 'القادسية', 'الماشية', 'الأبحاث', 'السلامة', 'الترجمة', 'الجندول', 'يؤدي', 'اجتماعات', 'مستقلة', 'الموصوف', 'السنوات', 'قناة', 'صرحت', 'ويستند', 'ربع', 'بانضمامه', 'شهرة']\n"
     ]
    }
   ],
   "source": [
    "X, y, mapping = utils.create_tensors(tokens, activations, 'LABEL1')\n",
    "label2idx, idx2label, src2idx, idx2src = mapping"
   ]
  },
  {
   "cell_type": "markdown",
   "metadata": {},
   "source": [
    "# Train Probing Classifier"
   ]
  },
  {
   "cell_type": "code",
   "execution_count": 6,
   "metadata": {},
   "outputs": [
    {
     "name": "stdout",
     "output_type": "stream",
     "text": [
      "Training classification model\n",
      "Creating model...\n",
      "Number of training instances: 17758\n",
      "Number of classes: 110\n"
     ]
    },
    {
     "data": {
      "application/vnd.jupyter.widget-view+json": {
       "model_id": "574ce92655394145b616668f9a8f0f0d",
       "version_major": 2,
       "version_minor": 0
      },
      "text/plain": [
       "HBox(children=(HTML(value='epoch [1/10]'), FloatProgress(value=1.0, bar_style='info', layout=Layout(width='20p…"
      ]
     },
     "metadata": {},
     "output_type": "display_data"
    },
    {
     "name": "stdout",
     "output_type": "stream",
     "text": [
      "\n",
      "Epoch: [1/10], Loss: 0.0897\n"
     ]
    },
    {
     "data": {
      "application/vnd.jupyter.widget-view+json": {
       "model_id": "3119509f38df49fb82dee22df42f7213",
       "version_major": 2,
       "version_minor": 0
      },
      "text/plain": [
       "HBox(children=(HTML(value='epoch [2/10]'), FloatProgress(value=1.0, bar_style='info', layout=Layout(width='20p…"
      ]
     },
     "metadata": {},
     "output_type": "display_data"
    },
    {
     "name": "stdout",
     "output_type": "stream",
     "text": [
      "\n",
      "Epoch: [2/10], Loss: 0.0807\n"
     ]
    },
    {
     "data": {
      "application/vnd.jupyter.widget-view+json": {
       "model_id": "752a7bcca31345ec81a52661fc500aa6",
       "version_major": 2,
       "version_minor": 0
      },
      "text/plain": [
       "HBox(children=(HTML(value='epoch [3/10]'), FloatProgress(value=1.0, bar_style='info', layout=Layout(width='20p…"
      ]
     },
     "metadata": {},
     "output_type": "display_data"
    },
    {
     "name": "stdout",
     "output_type": "stream",
     "text": [
      "\n",
      "Epoch: [3/10], Loss: 0.0796\n"
     ]
    },
    {
     "data": {
      "application/vnd.jupyter.widget-view+json": {
       "model_id": "b8e2cb53e7394948af4a2e544978bc89",
       "version_major": 2,
       "version_minor": 0
      },
      "text/plain": [
       "HBox(children=(HTML(value='epoch [4/10]'), FloatProgress(value=1.0, bar_style='info', layout=Layout(width='20p…"
      ]
     },
     "metadata": {},
     "output_type": "display_data"
    },
    {
     "name": "stdout",
     "output_type": "stream",
     "text": [
      "\n",
      "Epoch: [4/10], Loss: 0.0792\n"
     ]
    },
    {
     "data": {
      "application/vnd.jupyter.widget-view+json": {
       "model_id": "b28b9edec5474728b58e29e969496093",
       "version_major": 2,
       "version_minor": 0
      },
      "text/plain": [
       "HBox(children=(HTML(value='epoch [5/10]'), FloatProgress(value=1.0, bar_style='info', layout=Layout(width='20p…"
      ]
     },
     "metadata": {},
     "output_type": "display_data"
    },
    {
     "name": "stdout",
     "output_type": "stream",
     "text": [
      "\n",
      "Epoch: [5/10], Loss: 0.0788\n"
     ]
    },
    {
     "data": {
      "application/vnd.jupyter.widget-view+json": {
       "model_id": "c08eab9a460f48d2b2183ec2b79abed3",
       "version_major": 2,
       "version_minor": 0
      },
      "text/plain": [
       "HBox(children=(HTML(value='epoch [6/10]'), FloatProgress(value=1.0, bar_style='info', layout=Layout(width='20p…"
      ]
     },
     "metadata": {},
     "output_type": "display_data"
    },
    {
     "name": "stdout",
     "output_type": "stream",
     "text": [
      "\n",
      "Epoch: [6/10], Loss: 0.0786\n"
     ]
    },
    {
     "data": {
      "application/vnd.jupyter.widget-view+json": {
       "model_id": "56caf9d182284cbc87a5c10836d13454",
       "version_major": 2,
       "version_minor": 0
      },
      "text/plain": [
       "HBox(children=(HTML(value='epoch [7/10]'), FloatProgress(value=1.0, bar_style='info', layout=Layout(width='20p…"
      ]
     },
     "metadata": {},
     "output_type": "display_data"
    },
    {
     "name": "stdout",
     "output_type": "stream",
     "text": [
      "\n",
      "Epoch: [7/10], Loss: 0.0785\n"
     ]
    },
    {
     "data": {
      "application/vnd.jupyter.widget-view+json": {
       "model_id": "fb44c67c30ae40f7b16a55995caf20cb",
       "version_major": 2,
       "version_minor": 0
      },
      "text/plain": [
       "HBox(children=(HTML(value='epoch [8/10]'), FloatProgress(value=1.0, bar_style='info', layout=Layout(width='20p…"
      ]
     },
     "metadata": {},
     "output_type": "display_data"
    },
    {
     "name": "stdout",
     "output_type": "stream",
     "text": [
      "\n",
      "Epoch: [8/10], Loss: 0.0784\n"
     ]
    },
    {
     "data": {
      "application/vnd.jupyter.widget-view+json": {
       "model_id": "8434da4312874fd7ab759215c468a62d",
       "version_major": 2,
       "version_minor": 0
      },
      "text/plain": [
       "HBox(children=(HTML(value='epoch [9/10]'), FloatProgress(value=1.0, bar_style='info', layout=Layout(width='20p…"
      ]
     },
     "metadata": {},
     "output_type": "display_data"
    },
    {
     "name": "stdout",
     "output_type": "stream",
     "text": [
      "\n",
      "Epoch: [9/10], Loss: 0.0783\n"
     ]
    },
    {
     "data": {
      "application/vnd.jupyter.widget-view+json": {
       "model_id": "c0dab894c08940c5addd96c7e8da7dd1",
       "version_major": 2,
       "version_minor": 0
      },
      "text/plain": [
       "HBox(children=(HTML(value='epoch [10/10]'), FloatProgress(value=1.0, bar_style='info', layout=Layout(width='20…"
      ]
     },
     "metadata": {},
     "output_type": "display_data"
    },
    {
     "name": "stdout",
     "output_type": "stream",
     "text": [
      "\n",
      "Epoch: [10/10], Loss: 0.0782\n"
     ]
    }
   ],
   "source": [
    "model = utils.train_logreg_model(X, y, lambda_l1=0.001, lambda_l2=0.001)"
   ]
  },
  {
   "cell_type": "markdown",
   "metadata": {},
   "source": [
    "# Evaluate Model"
   ]
  },
  {
   "cell_type": "code",
   "execution_count": 7,
   "metadata": {},
   "outputs": [
    {
     "data": {
      "application/vnd.jupyter.widget-view+json": {
       "model_id": "9238c06b92c3469092df5ed4cc95173a",
       "version_major": 2,
       "version_minor": 0
      },
      "text/plain": [
       "HBox(children=(HTML(value='Evaluating'), FloatProgress(value=1.0, bar_style='info', layout=Layout(width='20px'…"
      ]
     },
     "metadata": {},
     "output_type": "display_data"
    },
    {
     "name": "stdout",
     "output_type": "stream",
     "text": [
      "\n",
      "Score (accuracy) of the model: 0.81\n"
     ]
    },
    {
     "data": {
      "text/plain": [
       "{'__OVERALL__': 0.8128167586439914,\n",
       " 'V+PRON': 0.45098039215686275,\n",
       " 'CONJ+PART/CONJ+PREP+PART': 1.0,\n",
       " 'PREP+PART+PRON': 0.0,\n",
       " 'CONJ+DET+NOUN': 0.36363636363636365,\n",
       " 'NOUN+NSUFF+PRON': 0.38235294117647056,\n",
       " 'CONJ+ADV': 0.0,\n",
       " 'CONJ+PREP+DET+NOUN': 0.0,\n",
       " 'PREP+DET+ADJ+NSUFF': 0.0,\n",
       " 'PREP+ADJ': 0.0,\n",
       " 'NOUN+NSUFF': 0.8996832101372756,\n",
       " 'PREP+DET': 0.0,\n",
       " 'CONJ+NUM': 0.0,\n",
       " 'ADJ': 0.6648199445983379,\n",
       " 'FUT_PART': 0.0,\n",
       " 'CONJ+FUT_PART+V': 0.0,\n",
       " 'PREP+ADJ+NSUFF': 0.0,\n",
       " 'PRON': 0.8152866242038217,\n",
       " 'PREP+V': 0.08695652173913043,\n",
       " 'DET+ADJ': 0.7728026533996684,\n",
       " 'NOUN+CASE': 0.5418994413407822,\n",
       " 'CONJ+PREP+PRON': 0.0,\n",
       " 'CONJ+NUM+NSUFF+NSUFF': 0.0,\n",
       " 'CONJ': 0.05128205128205128,\n",
       " 'CONJ+ADJ+CASE': 0.0,\n",
       " 'FOREIGN': 0.0,\n",
       " 'PREP+DET+ADJ': 0.25,\n",
       " 'FUT_PART+V': 0.0,\n",
       " 'PREP+NOUN+PRON': 0.0,\n",
       " 'DET+ADJ+NSUFF': 0.9683098591549296,\n",
       " 'DET+NOUN+NSUFF+NSUFF': 0.0,\n",
       " 'PREP+NUM+NSUFF': 0.0,\n",
       " 'CONJ+PART': 0.5157894736842106,\n",
       " 'CONJ+ADJ': 0.0,\n",
       " 'DET+ADJ+NSUFF/DET+NUM+NSUFF': 0.0,\n",
       " 'CONJ+PREP+DET+NOUN+NSUFF': 0.0,\n",
       " 'NOUN+PRON': 0.5903614457831325,\n",
       " 'NUM': 0.9080459770114943,\n",
       " 'PREP+NUM': 0.0,\n",
       " 'PREP+DET+NOUN+NSUFF': 0.5,\n",
       " 'PART/NOUN': 0.6842105263157895,\n",
       " 'PREP+PART': 0.02631578947368421,\n",
       " 'PREP+DET+NOUN': 0.7644230769230769,\n",
       " 'PREP+V+PRON': 0.0,\n",
       " 'CONJ+V+PRON': 0.9272727272727272,\n",
       " 'CONJ+CONJ': 0.0,\n",
       " 'PART+PRON': 0.3384615384615385,\n",
       " 'ADJ+CASE': 0.8813559322033898,\n",
       " 'CONJ+ADJ/CONJ+NOUN': 0.0,\n",
       " 'PREP+DET+NOUN+NSUFF+NSUFF': 0.0,\n",
       " 'PREP': 0.9654088050314465,\n",
       " 'V+PRON+PRON': 0.0,\n",
       " 'ADJ+NSUFF/NOUN+NSUFF': 0.0,\n",
       " 'PREP+PART/CONJ': 1.0,\n",
       " 'CONJ+NUM+NSUFF': 0.0,\n",
       " 'DET+NUM+NSUFF': 0.0,\n",
       " 'PUNC': 0.9739336492890995,\n",
       " 'CONJ+NOUN+NSUFF+PRON': 0.0,\n",
       " 'CONJ+NOUN': 0.47368421052631576,\n",
       " 'DET': 0.25,\n",
       " 'CONJ+PART+PRON': 0.0,\n",
       " 'V': 0.9363839285714286,\n",
       " 'NOUN+NSUFF+NSUFF': 0.0,\n",
       " 'CONJ+PREP+NOUN': 0.0,\n",
       " 'NUM+NSUFF': 0.023255813953488372,\n",
       " 'CONJ+PREP+NOUN+NSUFF': 0.0,\n",
       " 'DET+ADJ/DET+NOUN': 0.0,\n",
       " 'CONJ+DET+ADJ': 0.0,\n",
       " 'PART/NOUN+PART': 0.3333333333333333,\n",
       " 'CONJ+NOUN+NSUFF': 0.11363636363636363,\n",
       " 'PREP+NOUN+NSUFF+NSUFF': 0.0,\n",
       " 'CONJ+ADV+CASE': 0.0,\n",
       " 'ADJ+NSUFF+NSUFF': 0.0,\n",
       " 'CONJ+FUT_PART': 0.0,\n",
       " 'PREP+NOUN+NSUFF': 0.7257142857142858,\n",
       " 'DET+ADJ+NSUFF+NSUFF': 0.0,\n",
       " 'PREP+NOUN': 0.3547400611620795,\n",
       " 'ADJ/NUM': 0.0,\n",
       " 'PART+PART/PART': 0.0,\n",
       " 'ABBREV': 0.11764705882352941,\n",
       " 'DET+NOUN/DET+ADJ': 0.0,\n",
       " 'CONJ+ADJ+NSUFF': 0.3333333333333333,\n",
       " 'FUT_PART+V+PRON': 0.0,\n",
       " 'ADJ+NSUFF': 0.8615916955017301,\n",
       " 'ADV+CASE': 0.0,\n",
       " 'ADV': 0.0,\n",
       " 'DET+NUM': 0.0,\n",
       " 'CONJ+ADJ+PRON': 0.0,\n",
       " 'PART': 0.8879432624113475,\n",
       " 'CONJ+NOUN+CASE': 0.0,\n",
       " 'CONJ+PRON': 0.38571428571428573,\n",
       " 'CONJ+V': 0.5339506172839507,\n",
       " 'PREP+NOUN+NSUFF+PRON': 0.0,\n",
       " 'DET+NOUN+NSUFF': 0.5414091470951793,\n",
       " 'PREP+PRON': 0.7961783439490446,\n",
       " 'ADJ+PRON': 0.0,\n",
       " 'DET+NOUN': 0.980060422960725,\n",
       " 'NOUN': 0.9689024390243902,\n",
       " 'CONJ+NOUN+PRON': 0.0,\n",
       " 'CONJ+DET+NOUN+NSUFF': 0.2602739726027397,\n",
       " 'CONJ+PREP': 0.022727272727272728,\n",
       " 'DET+NOUN+NSUFF/DET+NUM+NSUFF': 0.0,\n",
       " 'NOUN+NSUFF/ADJ+NSUFF': 1.0,\n",
       " 'CONJ+PREP+NOUN+NSUFF+PRON': 0.0,\n",
       " 'CONJ+FUT_PART+V+PRON': 0.0,\n",
       " 'PART/PREP+PART': 0.4,\n",
       " 'PREP+ADJ+PRON': 0.0,\n",
       " 'CONJ+DET+ADJ+NSUFF': 0.0,\n",
       " 'NUM+CASE': 0.0,\n",
       " 'CONJ+DET+NUM+NSUFF': 0.0,\n",
       " 'DET+ADJ/DET+NUM': 0.0}"
      ]
     },
     "execution_count": 7,
     "metadata": {},
     "output_type": "execute_result"
    }
   ],
   "source": [
    "utils.evaluate_model(model, X, y, idx_to_class=idx2label)"
   ]
  },
  {
   "cell_type": "markdown",
   "metadata": {},
   "source": [
    "# Layerwise probing"
   ]
  },
  {
   "cell_type": "code",
   "execution_count": null,
   "metadata": {},
   "outputs": [],
   "source": [
    "layer_1_X = utils.filter_activations_keep_neurons(np.arange(768, 768*2), X)"
   ]
  },
  {
   "cell_type": "code",
   "execution_count": null,
   "metadata": {},
   "outputs": [],
   "source": [
    "layer_1_X.shape"
   ]
  },
  {
   "cell_type": "code",
   "execution_count": null,
   "metadata": {},
   "outputs": [],
   "source": [
    "model_layer_1 = utils.train_logreg_model(layer_1_X, y, lambda_l1=0.001, lambda_l2=0.001)"
   ]
  },
  {
   "cell_type": "code",
   "execution_count": null,
   "metadata": {},
   "outputs": [],
   "source": [
    "utils.evaluate_model(model_layer_1, layer_1_X, y, idx_to_class=idx2label)"
   ]
  },
  {
   "cell_type": "markdown",
   "metadata": {},
   "source": [
    "# Get Neuron Ranking"
   ]
  },
  {
   "cell_type": "code",
   "execution_count": 8,
   "metadata": {},
   "outputs": [
    {
     "data": {
      "application/vnd.jupyter.widget-view+json": {
       "model_id": "ac4c856268c94abea3f7b7fe64f4fe18",
       "version_major": 2,
       "version_minor": 0
      },
      "text/plain": [
       "HBox(children=(HTML(value=''), FloatProgress(value=0.0, max=101.0), HTML(value='')))"
      ]
     },
     "metadata": {},
     "output_type": "display_data"
    },
    {
     "name": "stdout",
     "output_type": "stream",
     "text": [
      "\n"
     ]
    }
   ],
   "source": [
    "ordering, cutoffs = utils.get_neuron_ordering(model, label2idx)"
   ]
  },
  {
   "cell_type": "code",
   "execution_count": 9,
   "metadata": {},
   "outputs": [
    {
     "data": {
      "text/plain": [
       "[54, 370, 814, 1325, 1981, 2707, 3535, 4386, 5170, 5946]"
      ]
     },
     "execution_count": 9,
     "metadata": {},
     "output_type": "execute_result"
    }
   ],
   "source": [
    "cutoffs[:10]"
   ]
  },
  {
   "cell_type": "code",
   "execution_count": 10,
   "metadata": {},
   "outputs": [
    {
     "data": {
      "text/plain": [
       "9984"
      ]
     },
     "execution_count": 10,
     "metadata": {},
     "output_type": "execute_result"
    }
   ],
   "source": [
    "len(ordering)"
   ]
  },
  {
   "cell_type": "code",
   "execution_count": null,
   "metadata": {},
   "outputs": [],
   "source": [
    "plot_neurons_per_layer(ordering[:cutoffs[5]],title='Labels per layer in QARiB POS')"
   ]
  },
  {
   "cell_type": "code",
   "execution_count": 11,
   "metadata": {},
   "outputs": [
    {
     "data": {
      "image/png": "[encoded data removed]",
      "text/plain": [
       "<Figure size 432x288 with 1 Axes>"
      ]
     },
     "metadata": {
      "needs_background": "light"
     },
     "output_type": "display_data"
    }
   ],
   "source": [
    "plot_neurons_per_layer(ordering[:cutoffs[5]],title='Labels per layer in araBERT POS')"
   ]
  },
  {
   "cell_type": "code",
   "execution_count": null,
   "metadata": {},
   "outputs": [],
   "source": [
    "plot_neurons_per_layer(ordering[:cutoffs[5]],title='Labels per layer in ArabicBERT POS')"
   ]
  },
  {
   "cell_type": "code",
   "execution_count": null,
   "metadata": {},
   "outputs": [],
   "source": [
    "plot_neurons_per_layer(ordering[:cutoffs[5]],title='Labels per layer in mBERT POS')"
   ]
  },
  {
   "cell_type": "markdown",
   "metadata": {},
   "source": [
    "# Train on top N neurons"
   ]
  },
  {
   "cell_type": "code",
   "execution_count": null,
   "metadata": {},
   "outputs": [],
   "source": [
    "X_selected = utils.filter_activations_keep_neurons(ordering[:1000], X)"
   ]
  },
  {
   "cell_type": "code",
   "execution_count": null,
   "metadata": {},
   "outputs": [],
   "source": [
    "X_selected.shape"
   ]
  },
  {
   "cell_type": "code",
   "execution_count": null,
   "metadata": {},
   "outputs": [],
   "source": [
    "model_selected = utils.train_logreg_model(X_selected, y, lambda_l1=0.001, lambda_l2=0.001)"
   ]
  },
  {
   "cell_type": "code",
   "execution_count": null,
   "metadata": {},
   "outputs": [],
   "source": [
    "utils.evaluate_model(model_selected, X_selected, y, idx_to_class=idx2label)"
   ]
  },
  {
   "cell_type": "markdown",
   "metadata": {},
   "source": [
    "# Further analysis"
   ]
  },
  {
   "cell_type": "code",
   "execution_count": 12,
   "metadata": {},
   "outputs": [],
   "source": [
    "top_neurons = utils.get_top_neurons(model, 0.01, label2idx)"
   ]
  },
  {
   "cell_type": "code",
   "execution_count": 13,
   "metadata": {},
   "outputs": [
    {
     "data": {
      "text/plain": [
       "(array([8193, 8201, 8217,   30, 8226, 6180, 8229, 8231, 4138, 8235, 8237,\n",
       "        8247, 8253, 2114, 8259, 8273, 8279,   88, 8281, 8283, 8288, 8289,\n",
       "        8303, 8307, 8310, 6265, 6270, 8326, 6282, 6287, 6288, 8337, 8338,\n",
       "        8346, 8347, 8350, 8359, 6323, 8373, 6329, 8386,  199, 2259, 6356,\n",
       "        2262, 4318, 8416, 2272, 6380,  243, 8436, 6388, 2293, 4344, 6394,\n",
       "        8444,  262, 8464, 6424, 4408, 8506, 8521, 6478, 8527, 6479, 8532,\n",
       "        4440, 8537, 6490, 6507, 8556, 8555,  368, 8570, 4482, 8585, 2451,\n",
       "        4507, 4515, 8615, 8618,  426, 6576, 8625, 6579, 8627, 8635, 8644,\n",
       "         454, 2503,  459, 8676, 8677, 8679,  506, 8707, 6659,  517, 6671,\n",
       "         533, 8726, 8728, 4644, 6695, 6711,  573, 8783,  594, 8792, 6752,\n",
       "        6759, 6763, 2669,  622, 6767, 6768, 2675, 8820, 8831, 6786, 4750,\n",
       "        6801, 4755, 6810,  667, 6811, 6814, 8866, 6819, 8874, 4787,  698,\n",
       "        4795, 8892, 8896, 8898, 4803,  709, 4807, 8905, 6864, 6869,  726,\n",
       "        8919, 8925, 2782, 8929, 8936, 6896, 8983, 8984, 6940, 6941, 6951,\n",
       "         811, 9003,  815, 9011, 9015, 6969, 9021, 9027,  843, 6987, 9039,\n",
       "         852, 2901, 6996, 9056, 9059, 7013,  872, 7018, 9069, 9071, 2928,\n",
       "        4976, 2938, 9083, 7037, 7038,  895, 7042, 7045, 9098, 7055, 7056,\n",
       "        9105, 9114, 9115, 2971, 7068, 7066, 9118, 7082, 7091, 9141, 7097,\n",
       "        9146, 7106, 7108,  967, 3023,  980,  984,  992, 7140, 1006, 1011,\n",
       "        7157, 7159, 7160, 9212, 1022, 1030, 7183, 7184, 1041, 1048, 1049,\n",
       "        7201, 1069, 7223, 5180, 1086, 7247, 7258, 1133, 1136, 1139, 7289,\n",
       "        7311, 3219, 7319, 5283, 1192, 7340, 1201, 7347, 5311, 7361, 1222,\n",
       "        7370, 7376, 7378, 7382, 9444, 7400, 1267, 1276, 1285, 7433, 7436,\n",
       "        7437, 1299, 5397, 1301, 5408, 5412, 1319, 7463, 7469, 7473, 1333,\n",
       "        7479, 7485, 7486, 7491, 1354, 1356, 1362, 7514, 7520, 7523, 1381,\n",
       "        1382, 7527, 1386, 7531, 1390, 7537, 3442, 7539, 7540, 3443, 7549,\n",
       "        5502, 5514, 7569, 7578, 1435, 7591, 5546, 1450, 5555, 5561, 5563,\n",
       "        7632, 1494, 3550, 1504, 7663, 7671, 7676, 3606, 5656, 3615, 1572,\n",
       "        7720, 7748, 7753, 7762, 1622, 7769, 7786, 3707, 5766, 7817, 7818,\n",
       "        7834, 3739, 7835, 7839, 3746, 7847, 7850, 7857, 7859, 1715, 7876,\n",
       "        1735, 5854, 7908, 7909, 5874, 9980, 1790, 5891, 7951, 1809, 7958,\n",
       "        7969, 5931, 5942, 5952, 5962, 5963, 8015, 1885, 5986, 1901, 5999,\n",
       "        1907, 8054, 6011, 6017, 8069, 8075, 8083, 3987, 8106, 8108, 4019,\n",
       "        6079, 6080, 8130, 6096, 6101, 6104, 6124]),\n",
       " {'V+PRON': array([6951, 4344]),\n",
       "  'CONJ+PART/CONJ+PREP+PART': array([9115, 7378, 7056, 8288, 1319, 9056, 6288, 7479, 7520, 8247, 6752,\n",
       "         1136, 7540, 6490, 1048, 8083, 1006, 7013, 7258, 6265, 5952, 9015,\n",
       "         7157, 8069]),\n",
       "  'PREP+PART+PRON': array([9115]),\n",
       "  'CONJ+DET+NOUN': array([6763, 7531]),\n",
       "  'NOUN+NSUFF+PRON': array([5986]),\n",
       "  'CONJ+ADV': array([9115]),\n",
       "  'CONJ+PREP+DET+NOUN': array([9115]),\n",
       "  'PREP+DET+ADJ+NSUFF': array([9115]),\n",
       "  'PREP+ADJ': array([1435, 9115, 3739, 2971]),\n",
       "  'NOUN+NSUFF': array([6478, 7537]),\n",
       "  'PREP+DET': array([9115]),\n",
       "  'CONJ+NUM': array([9115]),\n",
       "  'ADJ': array([ 895, 3023, 7663]),\n",
       "  'FUT_PART': array([9115]),\n",
       "  'CONJ+FUT_PART+V': array([7818, 1333, 9083, 7720, 8373,  811, 6282, 1885, 5514, 6104, 1222,\n",
       "          454, 8615, 9146, 5180, 9141, 3606, 6356, 4803, 6079, 5311, 6940,\n",
       "         9039, 5962, 1381, 7847, 8905, 9011, 8892, 1622,  872, 8436, 1192,\n",
       "          573]),\n",
       "  'PREP+ADJ+NSUFF': array([9115]),\n",
       "  'PRON': array([5942]),\n",
       "  'PREP+V': array([8347, 9115, 8259, 9114, 9027, 2259, 7578, 7491,  243, 6810, 9059,\n",
       "         8346, 8707, 8984, 7835, 8075]),\n",
       "  'DET+ADJ': array([8106, 8874]),\n",
       "  'NOUN+CASE': array([6080, 8527]),\n",
       "  'CONJ+PREP+PRON': array([9980, 9212, 7055, 6287, 8288]),\n",
       "  'CONJ+NUM+NSUFF+NSUFF': array([9115]),\n",
       "  'CONJ': array([8310,  459]),\n",
       "  'CONJ+ADJ+CASE': array([9115]),\n",
       "  'FOREIGN': array([667]),\n",
       "  'PREP+DET+ADJ': array([9115, 7958, 8108, 8726, 8015, 9069, 7671, 7223, 7247, 8676, 6768,\n",
       "          622, 7908, 8618, 8229, 7140, 5891, 7361, 7762, 7340, 1390, 8792,\n",
       "         6659, 3615, 7082, 8783, 8226, 6479, 6896, 7850, 5397]),\n",
       "  'FUT_PART+V': array([7319]),\n",
       "  'PREP+NOUN+PRON': array([9115]),\n",
       "  'DET+ADJ+NSUFF': array([6388, 9444]),\n",
       "  'DET+NOUN+NSUFF+NSUFF': array([9115]),\n",
       "  'PREP+NUM+NSUFF': array([9115]),\n",
       "  'CONJ+PART': array([1276, 9212]),\n",
       "  'CONJ+ADJ': array([1494, 4755, 2451,  726, 3219, 3987, 7469, 8237, 2262,  811]),\n",
       "  'DET+ADJ+NSUFF/DET+NUM+NSUFF': array([9115]),\n",
       "  'CONJ+PREP+DET+NOUN+NSUFF': array([9115]),\n",
       "  'NOUN+PRON': array([7045, 7382]),\n",
       "  'NUM': array([6124, 7436]),\n",
       "  'PREP+NUM': array([9115,  517, 7951, 1022, 1790, 1285, 7183,  709]),\n",
       "  'PREP+DET+NOUN+NSUFF': array([7473, 7068]),\n",
       "  'PART/NOUN': array([9115, 1139, 1907, 8386, 2928, 6869, 6671, 6101, 2675, 2114, 3443]),\n",
       "  'PREP+PART': array([8273, 9115]),\n",
       "  'PREP+DET+NOUN': array([8281]),\n",
       "  'PREP+V+PRON': array([9115]),\n",
       "  'CONJ+V+PRON': array([8359]),\n",
       "  'CONJ+CONJ': array([9115]),\n",
       "  'PART+PRON': array([7037]),\n",
       "  'ADJ+CASE': array([8464]),\n",
       "  'CONJ+ADJ/CONJ+NOUN': array([9115]),\n",
       "  'PREP+DET+NOUN+NSUFF+NSUFF': array([9115]),\n",
       "  'PREP': array([262, 992]),\n",
       "  'V+PRON+PRON': array([9212, 7676, 8444]),\n",
       "  'ADJ+NSUFF/NOUN+NSUFF': array([9115]),\n",
       "  'PREP+PART/CONJ': array([5546]),\n",
       "  'CONJ+NUM+NSUFF': array([9115, 8347, 6811, 4507]),\n",
       "  'DET+NUM+NSUFF': array([9115]),\n",
       "  'PUNC': array([1356,  426]),\n",
       "  'CONJ+NOUN+NSUFF+PRON': array([9115]),\n",
       "  'CONJ+NOUN': array([1299]),\n",
       "  'DET': array([7969, 5563, 1041, 8831, 7201, 8679, 8556, 8866, 7160, 6011, 1809,\n",
       "         8925, 8635, 4795, 8416, 3707]),\n",
       "  'CONJ+PART+PRON': array([7433, 1362, 7485, 8201, 4750, 8253,   88, 5963, 8054, 9098, 9021]),\n",
       "  'V': array([7549, 6017]),\n",
       "  'NOUN+NSUFF+NSUFF': array([ 262, 1030]),\n",
       "  'CONJ+PREP+NOUN': array([9115]),\n",
       "  'NUM+NSUFF': array([1382, 5766]),\n",
       "  'CONJ+PREP+NOUN+NSUFF': array([9115]),\n",
       "  'DET+ADJ/DET+NOUN': array([9115]),\n",
       "  'CONJ+DET+ADJ': array([3550, 4318, 6969, 5854, 2782, 7184, 8326, 8820]),\n",
       "  'PART/NOUN+PART': array([9115, 7523, 7817, 8338, 8235, 7106, 2272, 8585, 7909, 7347, 8130,\n",
       "         1386, 5931, 1504, 8193, 6424, 8898, 1201, 8728, 1450, 8677, 5656,\n",
       "         2901, 8506, 9003, 1086]),\n",
       "  'CONJ+NOUN+NSUFF': array([7042, 8289, 8896, 8279, 6711]),\n",
       "  'PREP+NOUN+NSUFF+NSUFF': array([9115]),\n",
       "  'CONJ+ADV+CASE': array([9115]),\n",
       "  'ADJ+NSUFF+NSUFF': array([9115]),\n",
       "  'CONJ+FUT_PART': array([9115]),\n",
       "  'PREP+NOUN+NSUFF': array([8983, 5408]),\n",
       "  'DET+ADJ+NSUFF+NSUFF': array([9115]),\n",
       "  'PREP+NOUN': array([8929,  698]),\n",
       "  'ADJ/NUM': array([9115]),\n",
       "  'PART+PART/PART': array([9115]),\n",
       "  'ABBREV': array([1901, 8644,  852, 5412, 7857, 8625,  980, 2669, 8532, 1011, 4644,\n",
       "         1133, 6996, 7876, 1049, 6180, 1572, 8936, 2293, 7108]),\n",
       "  'DET+NOUN/DET+ADJ': array([9115]),\n",
       "  'CONJ+ADJ+NSUFF': array([9115, 7834, 9105, 7569,  506, 8337, 7066, 7289, 6801,  533, 8919,\n",
       "         7347, 7370, 1301, 6579]),\n",
       "  'FUT_PART+V+PRON': array([9115]),\n",
       "  'ADJ+NSUFF': array([6380]),\n",
       "  'ADV+CASE': array([9115,  815]),\n",
       "  'ADV': array([1267]),\n",
       "  'DET+NUM': array([9115]),\n",
       "  'CONJ+ADJ+PRON': array([9115]),\n",
       "  'PART': array([594]),\n",
       "  'CONJ+NOUN+CASE': array([9115]),\n",
       "  'CONJ+PRON': array([4976]),\n",
       "  'CONJ+V': array([9071, 7376]),\n",
       "  'PREP+NOUN+NSUFF+PRON': array([9115]),\n",
       "  'DET+NOUN+NSUFF': array([7753, 8521]),\n",
       "  'PREP+PRON': array([7437]),\n",
       "  'ADJ+PRON': array([9115]),\n",
       "  'DET+NOUN': array([6507, 6814,  843]),\n",
       "  'NOUN': array([2938,  368, 7514, 3442,   30]),\n",
       "  'CONJ+NOUN+PRON': array([9115, 8347, 7400]),\n",
       "  'CONJ+DET+NOUN+NSUFF': array([7539]),\n",
       "  'CONJ+PREP': array([1069]),\n",
       "  'DET+NOUN+NSUFF/DET+NUM+NSUFF': array([9115, 8984, 7769, 8347, 8570, 8537]),\n",
       "  'NOUN+NSUFF/ADJ+NSUFF': array([1735,  967, 6767, 8307, 2503, 8303, 8283, 7748, 4807, 9118, 6941,\n",
       "         8350, 7539, 8555, 5999,  199]),\n",
       "  'CONJ+PREP+NOUN+NSUFF+PRON': array([9115]),\n",
       "  'CONJ+FUT_PART+V+PRON': array([9115]),\n",
       "  'PART/PREP+PART': array([5555, 4787, 6323, 7091, 6270, 8627, 8615, 7859, 6786, 8217, 5283,\n",
       "         6096, 6864, 7632, 8231, 6695, 4408, 5502, 6759, 4019, 6576, 7463,\n",
       "         4482, 7486, 4515, 5874, 7527, 6819, 3746, 4138, 7038, 1354, 7159,\n",
       "         1715]),\n",
       "  'PREP+ADJ+PRON': array([9115]),\n",
       "  'CONJ+DET+ADJ+NSUFF': array([8347, 7311, 7591, 8359,  984, 6329, 7839, 6987, 4440, 7786, 6394,\n",
       "         5561, 7018, 7097, 8792]),\n",
       "  'NUM+CASE': array([9115]),\n",
       "  'CONJ+DET+NUM+NSUFF': array([9115]),\n",
       "  'DET+ADJ/DET+NUM': array([9115])})"
      ]
     },
     "execution_count": 13,
     "metadata": {},
     "output_type": "execute_result"
    }
   ],
   "source": [
    "top_neurons"
   ]
  },
  {
   "cell_type": "code",
   "execution_count": 14,
   "metadata": {},
   "outputs": [
    {
     "data": {
      "text/plain": [
       "dict_keys(['V+PRON', 'CONJ+PART/CONJ+PREP+PART', 'PREP+PART+PRON', 'CONJ+DET+NOUN', 'NOUN+NSUFF+PRON', 'CONJ+ADV', 'CONJ+PREP+DET+NOUN', 'PREP+DET+ADJ+NSUFF', 'PREP+ADJ', 'NOUN+NSUFF', 'PREP+DET', 'CONJ+NUM', 'ADJ', 'FUT_PART', 'CONJ+FUT_PART+V', 'PREP+ADJ+NSUFF', 'PRON', 'PREP+V', 'DET+ADJ', 'NOUN+CASE', 'CONJ+PREP+PRON', 'CONJ+NUM+NSUFF+NSUFF', 'CONJ', 'CONJ+ADJ+CASE', 'FOREIGN', 'PREP+DET+ADJ', 'FUT_PART+V', 'PREP+NOUN+PRON', 'DET+ADJ+NSUFF', 'DET+NOUN+NSUFF+NSUFF', 'PREP+NUM+NSUFF', 'CONJ+PART', 'CONJ+ADJ', 'DET+ADJ+NSUFF/DET+NUM+NSUFF', 'CONJ+PREP+DET+NOUN+NSUFF', 'NOUN+PRON', 'NUM', 'PREP+NUM', 'PREP+DET+NOUN+NSUFF', 'PART/NOUN', 'PREP+PART', 'PREP+DET+NOUN', 'PREP+V+PRON', 'CONJ+V+PRON', 'CONJ+CONJ', 'PART+PRON', 'ADJ+CASE', 'CONJ+ADJ/CONJ+NOUN', 'PREP+DET+NOUN+NSUFF+NSUFF', 'PREP', 'V+PRON+PRON', 'ADJ+NSUFF/NOUN+NSUFF', 'PREP+PART/CONJ', 'CONJ+NUM+NSUFF', 'DET+NUM+NSUFF', 'PUNC', 'CONJ+NOUN+NSUFF+PRON', 'CONJ+NOUN', 'DET', 'CONJ+PART+PRON', 'V', 'NOUN+NSUFF+NSUFF', 'CONJ+PREP+NOUN', 'NUM+NSUFF', 'CONJ+PREP+NOUN+NSUFF', 'DET+ADJ/DET+NOUN', 'CONJ+DET+ADJ', 'PART/NOUN+PART', 'CONJ+NOUN+NSUFF', 'PREP+NOUN+NSUFF+NSUFF', 'CONJ+ADV+CASE', 'ADJ+NSUFF+NSUFF', 'CONJ+FUT_PART', 'PREP+NOUN+NSUFF', 'DET+ADJ+NSUFF+NSUFF', 'PREP+NOUN', 'ADJ/NUM', 'PART+PART/PART', 'ABBREV', 'DET+NOUN/DET+ADJ', 'CONJ+ADJ+NSUFF', 'FUT_PART+V+PRON', 'ADJ+NSUFF', 'ADV+CASE', 'ADV', 'DET+NUM', 'CONJ+ADJ+PRON', 'PART', 'CONJ+NOUN+CASE', 'CONJ+PRON', 'CONJ+V', 'PREP+NOUN+NSUFF+PRON', 'DET+NOUN+NSUFF', 'PREP+PRON', 'ADJ+PRON', 'DET+NOUN', 'NOUN', 'CONJ+NOUN+PRON', 'CONJ+DET+NOUN+NSUFF', 'CONJ+PREP', 'DET+NOUN+NSUFF/DET+NUM+NSUFF', 'NOUN+NSUFF/ADJ+NSUFF', 'CONJ+PREP+NOUN+NSUFF+PRON', 'CONJ+FUT_PART+V+PRON', 'PART/PREP+PART', 'PREP+ADJ+PRON', 'CONJ+DET+ADJ+NSUFF', 'NUM+CASE', 'CONJ+DET+NUM+NSUFF', 'DET+ADJ/DET+NUM'])"
      ]
     },
     "execution_count": 14,
     "metadata": {},
     "output_type": "execute_result"
    }
   ],
   "source": [
    "top_neurons[1].keys()"
   ]
  },
  {
   "cell_type": "code",
   "execution_count": 15,
   "metadata": {},
   "outputs": [
    {
     "data": {
      "image/png": "[encoded data removed]",
      "text/plain": [
       "<Figure size 432x288 with 1 Axes>"
      ]
     },
     "metadata": {
      "needs_background": "light"
     },
     "output_type": "display_data"
    },
    {
     "data": {
      "image/png": "[encoded data removed]",
      "text/plain": [
       "<Figure size 432x288 with 1 Axes>"
      ]
     },
     "metadata": {
      "needs_background": "light"
     },
     "output_type": "display_data"
    },
    {
     "data": {
      "image/png": "[encoded data removed]",
      "text/plain": [
       "<Figure size 432x288 with 1 Axes>"
      ]
     },
     "metadata": {
      "needs_background": "light"
     },
     "output_type": "display_data"
    },
    {
     "data": {
      "image/png": "[encoded data removed]",
      "text/plain": [
       "<Figure size 432x288 with 1 Axes>"
      ]
     },
     "metadata": {
      "needs_background": "light"
     },
     "output_type": "display_data"
    },
    {
     "data": {
      "image/png": "[encoded data removed]",
      "text/plain": [
       "<Figure size 432x288 with 1 Axes>"
      ]
     },
     "metadata": {
      "needs_background": "light"
     },
     "output_type": "display_data"
    },
    {
     "data": {
      "image/png": "[encoded data removed]",
      "text/plain": [
       "<Figure size 432x288 with 1 Axes>"
      ]
     },
     "metadata": {
      "needs_background": "light"
     },
     "output_type": "display_data"
    },
    {
     "data": {
      "image/png": "[encoded data removed]",
      "text/plain": [
       "<Figure size 432x288 with 1 Axes>"
      ]
     },
     "metadata": {
      "needs_background": "light"
     },
     "output_type": "display_data"
    },
    {
     "data": {
      "image/png": "[encoded data removed]",
      "text/plain": [
       "<Figure size 432x288 with 1 Axes>"
      ]
     },
     "metadata": {
      "needs_background": "light"
     },
     "output_type": "display_data"
    }
   ],
   "source": [
    "for tag in ['NOUN', 'PREP+DET+NOUN', 'V', 'V+PRON', 'ADJ', 'DET+ADJ+NSUFF' , 'PART', 'PART+PRON']:\n",
    "    plot_neurons_per_layer(top_neurons[1][tag],title='Labels per layer in araBERT '+tag)"
   ]
  },
  {
   "cell_type": "code",
   "execution_count": null,
   "metadata": {},
   "outputs": [],
   "source": [
    "plot_neurons_per_layer(top_neurons[1]['DET+NOUN'],title='Labels per layer in araBERT DET+NOUN')"
   ]
  },
  {
   "cell_type": "code",
   "execution_count": null,
   "metadata": {},
   "outputs": [],
   "source": [
    "X_zeroed = utils.zero_out_activations_keep_neurons(ordering[:10], X)\n",
    "utils.evaluate_model(model, X_zeroed, y, idx_to_class=idx2label)"
   ]
  },
  {
   "cell_type": "code",
   "execution_count": null,
   "metadata": {},
   "outputs": [],
   "source": [
    "activations"
   ]
  },
  {
   "cell_type": "code",
   "execution_count": null,
   "metadata": {},
   "outputs": [],
   "source": [
    "import aux_classifier.visualization as visualization\n",
    "visualization.visualize_activations(\"في إجراءات استثنائية بسبب وباء كورونا .\", activations[0][:, ordering[0]])"
   ]
  },
  {
   "cell_type": "code",
   "execution_count": null,
   "metadata": {},
   "outputs": [],
   "source": [
    "import svgwrite\n",
    "FONT_SIZE = 20\n",
    "MARGIN = 10\n",
    "CHAR_LIMIT = 61\n",
    "def break_lines(text, limit=50):\n",
    "    lines = []\n",
    "    curr_line = \"\"\n",
    "    for token in text.split(' '):\n",
    "        if len(curr_line) + 1 + len(token) < limit:\n",
    "            curr_line += token + \" \"\n",
    "        else:\n",
    "            lines.append(curr_line[:-1])\n",
    "            curr_line = token + \" \"\n",
    "    lines.append(curr_line[:-1])\n",
    "    return lines\n",
    "\n",
    "def get_rect_style(color, opacity):\n",
    "    return \"\"\"opacity:%0.5f;\n",
    "            fill:%s;\n",
    "            fill-opacity:1;\n",
    "            stroke:none;\n",
    "            stroke-width:0.26499999;\n",
    "            stroke-linecap:round;\n",
    "            stroke-linejoin:miter;\n",
    "            stroke-miterlimit:4;\n",
    "            stroke-dasharray:none;\n",
    "            stroke-dashoffset:0;\n",
    "            stroke-opacity:1\"\"\" % (opacity, color)\n",
    "\n",
    "def get_text_style(font_size):\n",
    "    return \"\"\"font-style:normal;\n",
    "            font-variant:normal;\n",
    "            font-weight:normal;\n",
    "            font-stretch:normal;\n",
    "            font-size:%0.2fpx;\n",
    "            line-height:125%%;\n",
    "            font-family:monospace;\n",
    "            -inkscape-font-specification:'Arial Unicode MS, Normal';\n",
    "            font-variant-ligatures:none;\n",
    "            font-variant-caps:normal;\n",
    "            font-variant-numeric:normal;\n",
    "            text-align:start;\n",
    "            writing-mode:lr-tb;\n",
    "            text-anchor:start;\n",
    "            stroke-width:0.26458332px\"\"\" % (font_size)\n"
   ]
  },
  {
   "cell_type": "code",
   "execution_count": null,
   "metadata": {},
   "outputs": [],
   "source": [
    "text = 'في إجراءات استثنائية بسبب وباء كورونا .'\n",
    "lines = break_lines(text, limit=CHAR_LIMIT)\n",
    "char_width = FONT_SIZE*0.59\n",
    "char_height = FONT_SIZE*1.25"
   ]
  },
  {
   "cell_type": "code",
   "execution_count": null,
   "metadata": {},
   "outputs": [],
   "source": [
    "lines"
   ]
  },
  {
   "cell_type": "code",
   "execution_count": null,
   "metadata": {},
   "outputs": [],
   "source": [
    "image_height = len(lines) * char_height * 1.2\n",
    "image_width = CHAR_LIMIT * char_width\n",
    "\n",
    "dwg = svgwrite.Drawing(\"tmp.svg\", size=(image_width, image_height),\n",
    "                    profile='full')\n",
    "dwg.viewbox(0, 0, image_width, image_height)\n"
   ]
  },
  {
   "cell_type": "code",
   "execution_count": null,
   "metadata": {},
   "outputs": [],
   "source": [
    "darken=2\n",
    "colors=[\"#d35f5f\", \"#00aad4\"]\n",
    "scores = activations[0][:, ordering[0]]\n",
    "offset = 0"
   ]
  },
  {
   "cell_type": "code",
   "execution_count": null,
   "metadata": {},
   "outputs": [],
   "source": [
    "group = dwg.g()\n",
    "for _ in range(darken):\n",
    "    word_idx = 0\n",
    "    for line_idx, line in enumerate(lines):\n",
    "        char_idx = 0\n",
    "        max_score = max(scores)\n",
    "        min_score = abs(min(scores))\n",
    "        limit = max(max_score, min_score)\n",
    "        for word in line.split(' '):\n",
    "            print('W:',word)\n",
    "            score = scores[word_idx]\n",
    "            if score > 0:\n",
    "                color = colors[1]\n",
    "                opacity = score/limit\n",
    "            else:\n",
    "                color = colors[0]\n",
    "                opacity = abs(score)/limit\n",
    "\n",
    "            for _ in word:\n",
    "                rect_insert = (0 + char_idx * char_width, offset + 7 + line_idx * char_height)\n",
    "                rect_size = (\"%.2fpx\"%(char_width), \"%0.2fpx\"%(char_height))\n",
    "                group.add(\n",
    "                    dwg.rect(insert=rect_insert,\n",
    "                            size=rect_size,\n",
    "                            style=get_rect_style(color, opacity)\n",
    "                            )\n",
    "                )\n",
    "                char_idx += 1\n",
    "\n",
    "            final_rect_insert = (0 + char_idx * char_width, offset + 7 + line_idx * char_height)\n",
    "            final_rect_size = (\"%.2fpx\"%(char_width), \"%0.2fpx\"%(char_height))\n",
    "            group.add(\n",
    "                dwg.rect(insert=final_rect_insert,\n",
    "                        size=final_rect_size,\n",
    "                        style=get_rect_style(color, opacity)\n",
    "                        )\n",
    "            )\n",
    "\n",
    "            char_idx += 1\n",
    "            word_idx += 1\n",
    "\n",
    "    for line_idx, line in enumerate(lines):\n",
    "        text_insert = (0, offset + FONT_SIZE*1.25*(line_idx+1))\n",
    "        print(text_insert,text)\n",
    "        text = dwg.text(text,\n",
    "                        insert=text_insert,\n",
    "                        fill='black',\n",
    "                        style=get_text_style(FONT_SIZE))\n",
    "        group.add(text)\n",
    "offset += FONT_SIZE*1.25*len(lines) + MARGIN\n",
    "\n",
    "dwg.add(group)"
   ]
  },
  {
   "cell_type": "code",
   "execution_count": null,
   "metadata": {},
   "outputs": [],
   "source": [
    "dwg"
   ]
  },
  {
   "cell_type": "code",
   "execution_count": null,
   "metadata": {},
   "outputs": [],
   "source": []
  }
 ],
 "metadata": {
  "kernelspec": {
   "display_name": "Python [conda env:neurox-aux_classifier] *",
   "language": "python",
   "name": "conda-env-neurox-aux_classifier-py"
  },
  "language_info": {
   "codemirror_mode": {
    "name": "ipython",
    "version": 3
   },
   "file_extension": ".py",
   "mimetype": "text/x-python",
   "name": "python",
   "nbconvert_exporter": "python",
   "pygments_lexer": "ipython3",
   "version": "3.7.9"
  }
 },
 "nbformat": 4,
 "nbformat_minor": 4
}
