{
 "cells": [
  {
   "cell_type": "markdown",
   "metadata": {},
   "source": [
    "# Imports"
   ]
  },
  {
   "cell_type": "code",
   "execution_count": 30,
   "metadata": {},
   "outputs": [],
   "source": [
    "import numpy as np\n",
    "\n",
    "# import sys\n",
    "# sys.path.append(\"/path/to/aux_classifier\")\n",
    "import aux_classifier.extraction as extraction\n",
    "import aux_classifier.data_loader as data_loader\n",
    "import aux_classifier.utils as utils\n",
    "\n",
    "\n",
    "import matplotlib.pyplot as plt\n",
    "\n",
    "def plot_neurons_per_layer(toplayers, title, numberlayers=13, layersize = 768):\n",
    "    nlayers = np.floor_divide(toplayers,layersize)\n",
    "    (unique, counts) = np.unique(nlayers, return_counts=True)\n",
    "    layersLabels = np.arange(numberlayers)\n",
    "    layersCounts = np.zeros(numberlayers)\n",
    "    for i in range(len(unique)):\n",
    "        layersCounts[unique[i]]=counts[i]\n",
    "    plt.bar(layersLabels, layersCounts, align='center', alpha=0.5)\n",
    "    plt.xticks(layersLabels)\n",
    "    plt.ylabel('Counts')\n",
    "    plt.title(title)\n",
    "\n",
    "    plt.show()"
   ]
  },
  {
   "cell_type": "markdown",
   "metadata": {},
   "source": [
    "# Data"
   ]
  },
  {
   "cell_type": "code",
   "execution_count": null,
   "metadata": {},
   "outputs": [],
   "source": [
    "!cat examples/test.ar"
   ]
  },
  {
   "cell_type": "code",
   "execution_count": null,
   "metadata": {},
   "outputs": [],
   "source": [
    "!cat examples/test.ar.label"
   ]
  },
  {
   "cell_type": "markdown",
   "metadata": {},
   "source": [
    "# Extract Representations"
   ]
  },
  {
   "cell_type": "markdown",
   "metadata": {},
   "source": [
    "Models to upload:\n",
    "* [QARiB](https://huggingface.co/qarib/bert-base-qarib) ```'qarib/bert-base-qarib'```\n",
    "* [AraBERT](https://huggingface.co/aubmindlab/bert-base-arabert) ```'aubmindlab/bert-base-arabert'```\n",
    "* [ArabicBERT](https://huggingface.co/asafaya/bert-base-arabic) ```'asafaya/bert-base-arabic'```\n",
    "* [mBERT](https://huggingface.co/bert-base-multilingual-cased) ```'bert-base-multilingual-cased'```"
   ]
  },
  {
   "cell_type": "markdown",
   "metadata": {},
   "source": [
    "1.  QARiB"
   ]
  },
  {
   "cell_type": "code",
   "execution_count": null,
   "metadata": {},
   "outputs": [],
   "source": [
    "\n",
    "extraction.extract_representations('qarib/bert-base-qarib',\n",
    "                                   '/QCRI/Dev/ArabicNLP/NeuroX/data/POS/msa/WikiNewsTruth.txt',\n",
    "                                   '/QCRI/Dev/ArabicNLP/NeuroX/data/POS/msa/WikiNewsTruth.txt.qarib_activations.json',\n",
    "                                   aggregation=\"average\"\n",
    "                                  )"
   ]
  },
  {
   "cell_type": "markdown",
   "metadata": {},
   "source": [
    "2. AraBERT"
   ]
  },
  {
   "cell_type": "code",
   "execution_count": null,
   "metadata": {},
   "outputs": [],
   "source": [
    "extraction.extract_representations('aubmindlab/bert-base-arabert',\n",
    "                                   '/QCRI/Dev/ArabicNLP/NeuroX/data/POS/msa/WikiNewsTruth.txt',\n",
    "                                   '/QCRI/Dev/ArabicNLP/NeuroX/data/POS/msa/WikiNewsTruth.txt.arabert_activations.json',\n",
    "                                   aggregation=\"average\"\n",
    "                                  )"
   ]
  },
  {
   "cell_type": "markdown",
   "metadata": {},
   "source": [
    "3. ArabicBERT"
   ]
  },
  {
   "cell_type": "code",
   "execution_count": null,
   "metadata": {},
   "outputs": [],
   "source": [
    "\n",
    "extraction.extract_representations('asafaya/bert-base-arabic',\n",
    "                                   '/QCRI/Dev/ArabicNLP/NeuroX/data/POS/msa/WikiNewsTruth.txt',\n",
    "                                   '/QCRI/Dev/ArabicNLP/NeuroX/data/POS/msa/WikiNewsTruth.txt.arabicbert_activations.json',\n",
    "                                   aggregation=\"average\"\n",
    "                                  )"
   ]
  },
  {
   "cell_type": "markdown",
   "metadata": {},
   "source": [
    "4. mBERT"
   ]
  },
  {
   "cell_type": "code",
   "execution_count": null,
   "metadata": {},
   "outputs": [],
   "source": [
    "extraction.extract_representations('bert-base-multilingual-cased',\n",
    "                                   '/QCRI/Dev/ArabicNLP/NeuroX/data/POS/msa/WikiNewsTruth.txt',\n",
    "                                   '/QCRI/Dev/ArabicNLP/NeuroX/data/POS/msa/WikiNewsTruth.txt.mbert_activations.json',\n",
    "                                   aggregation=\"average\"\n",
    "                                  )"
   ]
  },
  {
   "cell_type": "code",
   "execution_count": null,
   "metadata": {},
   "outputs": [],
   "source": [
    "!cut -c1-100 < examples/activations.json"
   ]
  },
  {
   "cell_type": "markdown",
   "metadata": {},
   "source": [
    "# Prepare Data"
   ]
  },
  {
   "cell_type": "code",
   "execution_count": null,
   "metadata": {},
   "outputs": [],
   "source": [
    "# Loading QARiB\n",
    "activations_path='/QCRI/Dev/ArabicNLP/NeuroX/data/POS/msa/WikiNewsTruth.txt.qarib_activations.json'\n",
    "activations, num_layers = data_loader.load_activations(activations_path, 768, 512)"
   ]
  },
  {
   "cell_type": "code",
   "execution_count": null,
   "metadata": {},
   "outputs": [],
   "source": [
    "# Loading araBERT\n",
    "activations_path='/QCRI/Dev/ArabicNLP/NeuroX/data/POS/msa/WikiNewsTruth.txt.arabert_activations.json'\n",
    "activations, num_layers = data_loader.load_activations(activations_path, 768, 512)"
   ]
  },
  {
   "cell_type": "code",
   "execution_count": 31,
   "metadata": {},
   "outputs": [
    {
     "name": "stdout",
     "output_type": "stream",
     "text": [
      "Loading json activations from /QCRI/Dev/ArabicNLP/NeuroX/data/POS/msa/WikiNewsTruth.txt.arabicbert_activations.json...\n",
      "399 13.0\n"
     ]
    }
   ],
   "source": [
    "# Loading arabicBERT\n",
    "activations_path='/QCRI/Dev/ArabicNLP/NeuroX/data/POS/msa/WikiNewsTruth.txt.arabicbert_activations.json'\n",
    "activations, num_layers = data_loader.load_activations(activations_path, 768, 512)"
   ]
  },
  {
   "cell_type": "code",
   "execution_count": null,
   "metadata": {},
   "outputs": [],
   "source": [
    "# Loading mBERT\n",
    "activations_path='/QCRI/Dev/ArabicNLP/NeuroX/data/POS/msa/WikiNewsTruth.txt.mbert_activations.json'\n",
    "activations, num_layers = data_loader.load_activations(activations_path, 768, 512)"
   ]
  },
  {
   "cell_type": "code",
   "execution_count": null,
   "metadata": {},
   "outputs": [],
   "source": [
    "#activations"
   ]
  },
  {
   "cell_type": "code",
   "execution_count": 3,
   "metadata": {},
   "outputs": [
    {
     "data": {
      "text/plain": [
       "(10, 9984)"
      ]
     },
     "execution_count": 3,
     "metadata": {},
     "output_type": "execute_result"
    }
   ],
   "source": [
    "activations[1].shape"
   ]
  },
  {
   "cell_type": "code",
   "execution_count": 32,
   "metadata": {},
   "outputs": [
    {
     "name": "stdout",
     "output_type": "stream",
     "text": [
      "Ignored one line 338 line: ['بعد', 'شهر', 'على', 'رحيل', 'المغني', 'الأميركي', 'مايكل', 'جاكسون', 'لا', 'تزال', 'الإشاعات', 'والتكهنات', 'تتناول', 'أسباب', 'وفاته', 'ومصير', 'جثمانه', 'اللذين', 'يبقيان', 'لغزا', '،', 'بالإضافة', 'إلى', 'مستقبل', 'أملاكه', 'ومصير', 'أولاده', '،', 'فيما', 'تتزايد', 'نظريات', 'المؤامرة', '.', 'والتحقيق', 'في', 'وفاة', 'ملك', 'البوب', 'عن', 'خمسين', 'عاما', 'في', '25', 'يونيو', 'في', 'منزله', '،', 'الذي', 'كان', 'يستأجره', 'في', 'لوس', 'أنجلوس', '،', 'تقدم', 'بعض', 'الشيء', 'مع', 'ظهور', 'كلمة', '\"', 'جريمة', 'قتل', '\"', 'للمرة', 'الأولى', 'الأربعاء', '،', 'من', 'قبل', 'شخص', 'ضالع', 'مباشرة', 'في', 'القضية', '،', 'رغم', 'أن', 'العديد', 'من', 'المصادر', 'غير', 'الرسمية', 'أكدت', 'أن', 'شرطة', 'لوس', 'أنجلوس', 'قررت', 'معالجة', 'التحقيقات', 'باعتبار', 'القضية', '\"', 'إجرامية', '\"', '.', 'وزادت', 'الشبهات', 'حول', 'طبيبه', 'كونراد', 'موراي', 'الذي', 'كان', 'متواجدا', 'مع', 'مايكل', 'جاكسون', 'عند', 'وفاته', 'والذي', 'داهمت', 'الشرطة', 'أحد', 'مكاتبه', '.', 'وأكد', 'محامي', 'موراي', 'طبيب', 'القلب', '(', '51', 'عاما', ')', '،', 'الذي', 'كان', 'يتولى', 'منذ', 'مايو', 'متابعة', 'مايكل', 'جاكسون', 'صحيا', 'للتحضير', 'لعودته', 'الكبيرة', 'إلى', 'الساحة', 'الغنائية', 'في', 'لندن', 'في', 'يوليو', '،', 'أن', 'موكله', 'غير', 'مذنب', 'بأي', 'جرم', '.', 'لكن', 'المقربين', 'من', 'المغني', 'يتهمون', 'الأطباء', 'بأنهم', 'تسببوا', 'بوفاته', 'عبر', 'وصف', 'أدوية', 'له', '،', 'فيما', 'قال', 'والده', 'جو', 'إن', 'ابنه', 'كان', '\"', 'ضحية', 'جريمة', 'قتل', '\"', '.', 'وأشارت', 'عدة', 'إفادات', 'إلى', 'إدمان', '\"', 'ملك', 'البوب', '\"', 'على', 'المهدئات', 'والأدوية', 'المسكنة', '.', 'ويركز', 'المحققون', 'في', 'عملهم', 'على', 'الدور', 'الذي', 'قد', 'يكون', 'لعبه', 'مخدر', 'قوي', 'هو', 'ديبريفان', 'الذي', 'عثر', 'عليه', 'في', 'منزل', 'جاكسون', '.', 'والديبريفان', '(', 'الاسم', 'التجاري', 'للبروبفول', ')', 'مخدر', 'قوي', 'للغاية', 'مخصص', 'للاستخدام', 'الطبي', 'ويفترض', 'ألا', 'يكون', 'في', 'منزل', 'مريض', 'ما', '.', 'ولا', 'يزال', 'من', 'غير', 'المعروف', 'ما', 'إذا', 'تم', 'رصد', 'هذا', 'الدواء', 'المخدر', 'خلال', 'تشريح', 'جثة', 'مايكل', 'جاكسون', '.', 'وجثمان', 'المغني', 'الأميركي', '،', 'الذي', 'لم', 'يعرف', 'مكان', 'مثواه', 'الأخير', '،', 'لا', 'يزال', 'مصيره', 'مجهولا', '،', 'وقد', 'خضع', 'لعمليتي', 'تشريح', 'ينتظر', 'أن', 'تظهر', 'نتائجهما', 'في', 'الأيام', 'المقبلة', '.', 'وكل', 'هذه', 'العناصر', 'الغامضة', 'زادت', 'من', 'الإشاعات', '.', 'وعبرت', 'شقيقة', 'جاكسون', 'لاتويا', 'في', 'حديث', 'مع', 'صحيفة', 'بريطانية', 'عن', 'شكوكها', 'وقالت', '\"', 'أعتقد', 'أن', 'مايكل', 'تعرض', 'للقتل', '.', 'لقد', 'ساورتني', 'هذه', 'المشاعر', 'منذ', 'البداية', '\"', '.', 'وأضافت', '\"', 'عدة', 'أشخاص', 'متورطين', 'في', 'هذه', 'المؤامرة', 'وليس', 'شخصا', 'واحدا', '.', 'كان', 'محاطا', 'بأفراد', 'يضمرون', 'له', 'الشر', '.', 'كان', 'مايكل', 'شخصا', 'طيبا', 'ومحبا', 'واستغل', 'أفراد', 'هذا', 'الجانب', 'من', 'شخصيته', '\"', '.', 'وقالت', '\"', 'كانت', 'ثروة', 'مايكل', 'تزيد', 'على', 'مليار', 'دولار', '.', 'عندما', 'يساوي', 'شخص', 'هذا', 'المبلغ', 'الكبير', 'من', 'المال', 'من', 'الطبيعي', 'أن', 'يحوم', 'حوله', 'أشخاص', 'لا', 'يضمرون', 'له', 'الخير', '\"', '.', 'وينتظر', 'المعجبون', 'أيضا', 'أن', 'يعرفوا', 'مكان', 'المثوى', 'الأخير', 'لملك', 'البوب', '،', 'بعدما', 'لم', 'يتمكن', 'أحد', 'من', 'اقتفاء', 'أثر', 'النعش', 'بعد', 'انتهاء', 'حفل', 'تكريم', 'المغني', 'في', '7', 'يوليو', 'في', 'ستايبلس', 'سنتر', 'في', 'لوس', 'أنجلوس', '.', 'ويقول', 'البعض', 'إنه', 'دفن', 'في', 'مزرعته', 'نيفرلاند', 'في', 'كاليفورنيا', '.', 'وفي', 'هذا', 'الوقت', 'تتولى', 'مجموعة', 'كبرى', 'من', 'المحامين', 'محاولة', 'حل', 'المشاكل', 'القانونية', 'التي', 'ظهرت', 'بعد', 'وفاته', '.', 'فقد', 'أوكلت', 'الإدارة', 'المؤقتة', 'لممتلكاته', 'إلى', 'شخصين', 'اختارهما', 'المغني', 'الراحل', 'في', 'وصيته', '.', 'وتعقد', 'جلسة', 'في', '3', 'أغسطس', 'في', 'هذا', 'الصدد', '،', 'فيما', 'ترغب', 'والدته', 'كاثرين', 'في', 'أن', 'تكون', 'بين', 'الورثة', 'الرئيسيين', '.', 'أما', 'أولاد', 'ملك', 'البوب', '،', 'برنس', 'مايكل', '(', '12', 'عاما', ')', 'وباريس', '(', '11', 'عاما', ')', 'وبرنس', 'مايكل', '2', '(', '7', 'أعوام', ')', 'فقد', 'أوكل', 'حق', 'حضانتهم', 'إلى', 'جدتهم', 'كاثرين', 'كما', 'كان', 'يرغب', 'المغني', '.', 'لكن', 'ديبي', 'رو', '،', 'والدة', 'برنس', 'مايكل', 'وباريس', '،', 'لم', 'تقرر', 'بعد', 'ما', 'إذا', 'كانت', 'ستطلب', 'حق', 'حضانة', 'الولدين', '.', 'وسيلتقي', 'محامو', 'المرأتين', 'في', '3', 'أغسطس', 'أمام', 'القضاء', 'بعد', 'إرجاء', 'ثلاث', 'جلسات', 'سابقة', '.']  Max: 512\n",
      "Source tokens: 399\n",
      "Ignored one label 399 line: ['NOUN', 'NOUN', 'PREP', 'NOUN', 'DET+NOUN', 'DET+ADJ', 'NOUN', 'NOUN', 'PART', 'V', 'DET+NOUN+NSUFF', 'CONJ+DET+NOUN+NSUFF', 'V', 'NOUN', 'NOUN+NSUFF+PRON', 'CONJ+NOUN', 'NOUN+PRON', 'PART', 'V+PRON', 'NOUN+CASE', 'PUNC', 'PREP+DET+NOUN+NSUFF', 'PREP', 'NOUN', 'NOUN+PRON', 'CONJ+NOUN', 'NOUN+PRON', 'PUNC', 'PART/PREP+PART', 'V', 'NOUN+NSUFF', 'DET+NOUN+NSUFF', 'PUNC', 'CONJ+DET+NOUN', 'PREP', 'NOUN+NSUFF', 'NOUN', 'DET+NOUN', 'PREP', 'NUM+NSUFF', 'NOUN+CASE', 'PREP', 'NUM', 'NOUN', 'PREP', 'NOUN+PRON', 'PUNC', 'PART', 'V', 'V+PRON', 'PREP', 'NOUN', 'NOUN', 'PUNC', 'V', 'NOUN', 'DET+NOUN', 'NOUN', 'NOUN', 'NOUN+NSUFF', 'PUNC', 'NOUN+NSUFF', 'NOUN', 'PUNC', 'PREP+DET+NOUN+NSUFF', 'DET+ADJ', 'DET+NOUN', 'PUNC', 'PREP', 'NOUN', 'NOUN', 'ADJ', 'NOUN+NSUFF', 'PREP', 'DET+NOUN+NSUFF', 'PUNC', 'NOUN', 'PART', 'DET+ADJ', 'PREP', 'DET+NOUN', 'PART/NOUN', 'DET+ADJ+NSUFF', 'V+PRON', 'PART', 'NOUN+NSUFF', 'NOUN', 'NOUN', 'V+PRON', 'NOUN+NSUFF', 'DET+NOUN+NSUFF', 'PREP+NOUN', 'DET+NOUN+NSUFF', 'PUNC', 'ADJ+NSUFF', 'PUNC', 'PUNC', 'CONJ+V+PRON', 'DET+NOUN+NSUFF', 'NOUN', 'NOUN+PRON', 'NOUN', 'NOUN', 'PART', 'V', 'ADJ+CASE', 'NOUN', 'NOUN', 'NOUN', 'NOUN', 'NOUN+NSUFF+PRON', 'CONJ+PART', 'V+PRON', 'DET+NOUN+NSUFF', 'NOUN', 'NOUN+PRON', 'PUNC', 'CONJ+V', 'NOUN', 'NOUN', 'NOUN', 'DET+NOUN', 'PUNC', 'NUM', 'NOUN+CASE', 'PUNC', 'PUNC', 'PART', 'V', 'V', 'PREP', 'NOUN', 'NOUN+NSUFF', 'NOUN', 'NOUN', 'ADJ+CASE', 'PREP+DET+NOUN', 'PREP+NOUN+NSUFF+PRON', 'DET+ADJ+NSUFF', 'PREP', 'DET+NOUN+NSUFF', 'DET+ADJ+NSUFF', 'PREP', 'NOUN', 'PREP', 'NOUN', 'PUNC', 'PART', 'NOUN+PRON', 'PART/NOUN', 'ADJ', 'PREP+NOUN', 'NOUN', 'PUNC', 'PART', 'DET+NOUN+NSUFF', 'PREP', 'DET+NOUN', 'V+PRON', 'DET+NOUN', 'PREP+PART+PRON', 'V+PRON', 'PREP+NOUN+NSUFF+PRON', 'NOUN', 'NOUN', 'NOUN+NSUFF', 'PREP+PRON', 'PUNC', 'PART/PREP+PART', 'V', 'NOUN+PRON', 'NOUN', 'PART', 'NOUN+PRON', 'V', 'PUNC', 'NOUN+NSUFF', 'NOUN+NSUFF', 'NOUN', 'PUNC', 'PUNC', 'CONJ+V+PRON', 'NOUN+NSUFF/ADJ+NSUFF', 'NOUN+NSUFF', 'PREP', 'NOUN', 'PUNC', 'NOUN', 'DET+NOUN', 'PUNC', 'PREP', 'DET+NOUN+NSUFF', 'CONJ+DET+NOUN+NSUFF', 'DET+ADJ+NSUFF', 'PUNC', 'CONJ+V', 'DET+NOUN+NSUFF', 'PREP', 'NOUN+PRON', 'PREP', 'DET+NOUN', 'PART', 'PART', 'V', 'V+PRON', 'NOUN', 'ADJ', 'PRON', 'NOUN', 'PART', 'V', 'PREP+PRON', 'PREP', 'NOUN', 'NOUN', 'PUNC', 'CONJ+DET+NOUN', 'PUNC', 'DET+NOUN', 'DET+ADJ', 'PREP+DET+NOUN', 'PUNC', 'NOUN', 'ADJ', 'PREP+DET+NOUN+NSUFF', 'ADJ', 'PREP+DET+NOUN', 'DET+ADJ', 'CONJ+V', 'PART+PART/PART', 'V', 'PREP', 'NOUN', 'NOUN', 'PART', 'PUNC', 'CONJ+PART', 'V', 'PREP', 'NOUN', 'DET+ADJ', 'PART', 'PART', 'V', 'NOUN', 'PRON', 'DET+NOUN', 'DET+ADJ', 'NOUN', 'NOUN', 'NOUN+NSUFF', 'NOUN', 'NOUN', 'PUNC', 'CONJ+NOUN', 'DET+NOUN', 'DET+ADJ', 'PUNC', 'PART', 'PART', 'V', 'NOUN', 'NOUN+PRON', 'DET+ADJ', 'PUNC', 'PART', 'V', 'NOUN+PRON', 'ADJ+CASE', 'PUNC', 'CONJ+PART', 'V', 'PREP+NOUN+NSUFF+NSUFF', 'NOUN', 'V', 'PART', 'V', 'NOUN+PRON', 'PREP', 'DET+NOUN', 'DET+ADJ+NSUFF', 'PUNC', 'CONJ+NOUN', 'PRON', 'DET+NOUN', 'DET+ADJ+NSUFF', 'V+PRON', 'PREP', 'DET+NOUN+NSUFF', 'PUNC', 'CONJ+V+PRON', 'NOUN+NSUFF', 'NOUN', 'NOUN', 'PREP', 'NOUN', 'NOUN', 'NOUN+NSUFF', 'ADJ+NSUFF', 'PREP', 'NOUN+PRON', 'CONJ+V+PRON', 'PUNC', 'V', 'PART', 'NOUN', 'V', 'PREP+DET+NOUN', 'PUNC', 'PART', 'V+PRON+PRON', 'PRON', 'DET+NOUN', 'PREP', 'DET+NOUN+NSUFF', 'PUNC', 'PUNC', 'CONJ+V+PRON', 'PUNC', 'NOUN+NSUFF/ADJ+NSUFF', 'NOUN', 'ADJ+NSUFF', 'PREP', 'PRON', 'DET+NOUN+NSUFF', 'CONJ+V', 'NOUN+CASE', 'ADJ+CASE', 'PUNC', 'V', 'ADJ+CASE', 'PREP+NOUN', 'V+PRON', 'PREP+PRON', 'DET+NOUN', 'PUNC', 'V', 'NOUN', 'NOUN+CASE', 'ADJ+CASE', 'CONJ+ADJ+CASE', 'CONJ+V', 'NOUN', 'PRON', 'DET+NOUN', 'PREP', 'NOUN+NSUFF+PRON', 'PUNC', 'PUNC', 'CONJ+V+PRON', 'PUNC', 'V+PRON', 'NOUN+NSUFF', 'NOUN', 'V', 'PREP', 'NUM', 'NOUN', 'PUNC', 'PART/NOUN+PART', 'V', 'NOUN', 'PRON', 'DET+NOUN', 'DET+ADJ', 'PREP', 'DET+NOUN', 'PREP', 'DET+ADJ', 'PART', 'V', 'NOUN+PRON', 'NOUN', 'PART', 'V+PRON', 'PREP+PRON', 'DET+NOUN', 'PUNC', 'PUNC', 'CONJ+V', 'DET+ADJ+NSUFF', 'ADV+CASE', 'PART', 'V+PRON', 'NOUN', 'DET+NOUN', 'DET+ADJ', 'PREP+NOUN', 'DET+NOUN', 'PUNC', 'PART', 'PART', 'V', 'NOUN', 'PREP', 'NOUN', 'NOUN', 'DET+NOUN', 'NOUN', 'NOUN', 'NOUN', 'NOUN', 'DET+NOUN', 'PREP', 'NUM', 'NOUN', 'PREP', 'NOUN', 'NOUN', 'PREP', 'NOUN', 'NOUN', 'PUNC', 'CONJ+V', 'DET+NOUN', 'PART+PRON', 'V', 'PREP', 'NOUN+NSUFF+PRON', 'NOUN', 'PREP', 'NOUN', 'PUNC', 'CONJ+PREP', 'PRON', 'DET+NOUN', 'V', 'NOUN+NSUFF', 'ADJ', 'PREP', 'DET+NOUN+NSUFF', 'NOUN+NSUFF', 'NOUN', 'DET+NOUN', 'DET+ADJ+NSUFF', 'PART', 'V+PRON', 'NOUN', 'NOUN+NSUFF+PRON', 'PUNC', 'CONJ+PART', 'V+PRON', 'DET+NOUN+NSUFF', 'DET+ADJ+NSUFF', 'PREP+NOUN+NSUFF+PRON', 'PREP', 'NOUN+NSUFF', 'V+PRON', 'DET+NOUN', 'DET+ADJ', 'PREP', 'CONJ+NOUN+PRON', 'PUNC', 'CONJ+V', 'NOUN+NSUFF', 'PREP', 'NUM', 'NOUN', 'PREP', 'PRON', 'DET+NOUN', 'PUNC', 'PART/PREP+PART', 'V', 'NOUN+NSUFF+PRON', 'NOUN', 'PREP', 'PART', 'V', 'NOUN', 'DET+NOUN+NSUFF', 'DET+ADJ+NSUFF', 'PUNC', 'PART', 'NOUN', 'NOUN', 'DET+NOUN', 'PUNC', 'NOUN', 'NOUN', 'PUNC', 'NUM', 'NOUN+CASE', 'PUNC', 'CONJ+NOUN', 'PUNC', 'NUM', 'NOUN+CASE', 'PUNC', 'CONJ+NOUN', 'NOUN', 'NUM', 'PUNC', 'NUM', 'NOUN', 'PUNC', 'CONJ+PART', 'V', 'NOUN', 'NOUN+NSUFF+PRON', 'PREP', 'NOUN+NSUFF+PRON', 'NOUN', 'PREP+PART/CONJ', 'V', 'V', 'DET+NOUN', 'PUNC', 'PART', 'NOUN', 'NOUN', 'PUNC', 'NOUN+NSUFF', 'NOUN', 'NOUN', 'CONJ+NOUN', 'PUNC', 'PART', 'V', 'NOUN', 'PART', 'PART', 'V+PRON', 'FUT_PART+V', 'NOUN', 'NOUN+NSUFF', 'DET+NOUN+NSUFF', 'PUNC', 'CONJ+FUT_PART+V', 'NOUN+NSUFF', 'DET+NOUN+NSUFF+NSUFF', 'PREP', 'NUM', 'NOUN', 'NOUN', 'DET+NOUN', 'NOUN', 'NOUN', 'NUM', 'NOUN+NSUFF', 'ADJ+NSUFF', 'PUNC']  Max: 512\n",
      "Target tokens: 399\n"
     ]
    }
   ],
   "source": [
    "tokens = data_loader.load_data('/QCRI/Dev/ArabicNLP/NeuroX/data/POS/msa/WikiNewsTruth.txt',\n",
    "                               '/QCRI/Dev/ArabicNLP/NeuroX/data/POS/msa/WikiNewsTruth.txt.POS',\n",
    "                               activations,\n",
    "                               512\n",
    "                              )"
   ]
  },
  {
   "cell_type": "code",
   "execution_count": 33,
   "metadata": {},
   "outputs": [
    {
     "data": {
      "text/plain": [
       "[['#', 'ثقافة'],\n",
       " ['فيلم',\n",
       "  'جاذبية',\n",
       "  'يتصدر',\n",
       "  'ترشيحات',\n",
       "  'جوائز',\n",
       "  'الأكاديمية',\n",
       "  'البريطانية',\n",
       "  'لفنون',\n",
       "  'الفيلم',\n",
       "  'والتلفزيون']]"
      ]
     },
     "execution_count": 33,
     "metadata": {},
     "output_type": "execute_result"
    }
   ],
   "source": [
    "tokens['source'][:2]"
   ]
  },
  {
   "cell_type": "code",
   "execution_count": 34,
   "metadata": {},
   "outputs": [
    {
     "name": "stdout",
     "output_type": "stream",
     "text": [
      "Number of tokens:  17758\n",
      "length of source dictionary:  6655\n",
      "length of target dictionary:  110\n",
      "17758\n",
      "Total instances: 17758\n",
      "['أخطر', 'إرنستو', 'بازدرائه', 'غنى', 'التونسيين', 'محادثات', 'طبية', 'بعدها', 'واكاتا', 'مياتزا', 'مناطق', 'هونغ', 'التوصيات', 'كبرى', 'تحسنت', 'للأسرى', 'سكاي', 'تغير', 'تحطم', 'شاهدنا']\n"
     ]
    }
   ],
   "source": [
    "X, y, mapping = utils.create_tensors(tokens, activations, 'LABEL1')\n",
    "label2idx, idx2label, src2idx, idx2src = mapping"
   ]
  },
  {
   "cell_type": "markdown",
   "metadata": {},
   "source": [
    "# Train Probing Classifier"
   ]
  },
  {
   "cell_type": "code",
   "execution_count": 35,
   "metadata": {},
   "outputs": [
    {
     "name": "stdout",
     "output_type": "stream",
     "text": [
      "Training classification model\n",
      "Creating model...\n",
      "Number of training instances: 17758\n",
      "Number of classes: 110\n"
     ]
    },
    {
     "data": {
      "application/vnd.jupyter.widget-view+json": {
       "model_id": "d77a72110caa45f698c1cccaa234cd1b",
       "version_major": 2,
       "version_minor": 0
      },
      "text/plain": [
       "HBox(children=(HTML(value='epoch [1/10]'), FloatProgress(value=1.0, bar_style='info', layout=Layout(width='20p…"
      ]
     },
     "metadata": {},
     "output_type": "display_data"
    },
    {
     "name": "stdout",
     "output_type": "stream",
     "text": [
      "\n",
      "Epoch: [1/10], Loss: 0.1196\n"
     ]
    },
    {
     "data": {
      "application/vnd.jupyter.widget-view+json": {
       "model_id": "6c75e85520684d25b16abc4612e06fef",
       "version_major": 2,
       "version_minor": 0
      },
      "text/plain": [
       "HBox(children=(HTML(value='epoch [2/10]'), FloatProgress(value=1.0, bar_style='info', layout=Layout(width='20p…"
      ]
     },
     "metadata": {},
     "output_type": "display_data"
    },
    {
     "name": "stdout",
     "output_type": "stream",
     "text": [
      "\n",
      "Epoch: [2/10], Loss: 0.1098\n"
     ]
    },
    {
     "data": {
      "application/vnd.jupyter.widget-view+json": {
       "model_id": "33b56743ab7e491896f67539962c3561",
       "version_major": 2,
       "version_minor": 0
      },
      "text/plain": [
       "HBox(children=(HTML(value='epoch [3/10]'), FloatProgress(value=1.0, bar_style='info', layout=Layout(width='20p…"
      ]
     },
     "metadata": {},
     "output_type": "display_data"
    },
    {
     "name": "stdout",
     "output_type": "stream",
     "text": [
      "\n",
      "Epoch: [3/10], Loss: 0.1082\n"
     ]
    },
    {
     "data": {
      "application/vnd.jupyter.widget-view+json": {
       "model_id": "9912084ae8da45f3860e9ed5b4778d03",
       "version_major": 2,
       "version_minor": 0
      },
      "text/plain": [
       "HBox(children=(HTML(value='epoch [4/10]'), FloatProgress(value=1.0, bar_style='info', layout=Layout(width='20p…"
      ]
     },
     "metadata": {},
     "output_type": "display_data"
    },
    {
     "name": "stdout",
     "output_type": "stream",
     "text": [
      "\n",
      "Epoch: [4/10], Loss: 0.1063\n"
     ]
    },
    {
     "data": {
      "application/vnd.jupyter.widget-view+json": {
       "model_id": "f83eaa5ae581443da17d0cc0cab34568",
       "version_major": 2,
       "version_minor": 0
      },
      "text/plain": [
       "HBox(children=(HTML(value='epoch [5/10]'), FloatProgress(value=1.0, bar_style='info', layout=Layout(width='20p…"
      ]
     },
     "metadata": {},
     "output_type": "display_data"
    },
    {
     "name": "stdout",
     "output_type": "stream",
     "text": [
      "\n",
      "Epoch: [5/10], Loss: 0.1063\n"
     ]
    },
    {
     "data": {
      "application/vnd.jupyter.widget-view+json": {
       "model_id": "25abb038eea34726af84662eb37181ba",
       "version_major": 2,
       "version_minor": 0
      },
      "text/plain": [
       "HBox(children=(HTML(value='epoch [6/10]'), FloatProgress(value=1.0, bar_style='info', layout=Layout(width='20p…"
      ]
     },
     "metadata": {},
     "output_type": "display_data"
    },
    {
     "name": "stdout",
     "output_type": "stream",
     "text": [
      "\n",
      "Epoch: [6/10], Loss: 0.1065\n"
     ]
    },
    {
     "data": {
      "application/vnd.jupyter.widget-view+json": {
       "model_id": "59ba001ab10b4b79b93c3cf9c3622a67",
       "version_major": 2,
       "version_minor": 0
      },
      "text/plain": [
       "HBox(children=(HTML(value='epoch [7/10]'), FloatProgress(value=1.0, bar_style='info', layout=Layout(width='20p…"
      ]
     },
     "metadata": {},
     "output_type": "display_data"
    },
    {
     "name": "stdout",
     "output_type": "stream",
     "text": [
      "\n",
      "Epoch: [7/10], Loss: 0.1063\n"
     ]
    },
    {
     "data": {
      "application/vnd.jupyter.widget-view+json": {
       "model_id": "38ca2ae524e94fab9c598cc52564336f",
       "version_major": 2,
       "version_minor": 0
      },
      "text/plain": [
       "HBox(children=(HTML(value='epoch [8/10]'), FloatProgress(value=1.0, bar_style='info', layout=Layout(width='20p…"
      ]
     },
     "metadata": {},
     "output_type": "display_data"
    },
    {
     "name": "stdout",
     "output_type": "stream",
     "text": [
      "\n",
      "Epoch: [8/10], Loss: 0.1064\n"
     ]
    },
    {
     "data": {
      "application/vnd.jupyter.widget-view+json": {
       "model_id": "bad8d6f4b8214e189645246adc20239b",
       "version_major": 2,
       "version_minor": 0
      },
      "text/plain": [
       "HBox(children=(HTML(value='epoch [9/10]'), FloatProgress(value=1.0, bar_style='info', layout=Layout(width='20p…"
      ]
     },
     "metadata": {},
     "output_type": "display_data"
    },
    {
     "name": "stdout",
     "output_type": "stream",
     "text": [
      "\n",
      "Epoch: [9/10], Loss: 0.1065\n"
     ]
    },
    {
     "data": {
      "application/vnd.jupyter.widget-view+json": {
       "model_id": "9faaf9adb9444190bda05457d062469c",
       "version_major": 2,
       "version_minor": 0
      },
      "text/plain": [
       "HBox(children=(HTML(value='epoch [10/10]'), FloatProgress(value=1.0, bar_style='info', layout=Layout(width='20…"
      ]
     },
     "metadata": {},
     "output_type": "display_data"
    },
    {
     "name": "stdout",
     "output_type": "stream",
     "text": [
      "\n",
      "Epoch: [10/10], Loss: 0.1055\n"
     ]
    }
   ],
   "source": [
    "model = utils.train_logreg_model(X, y, lambda_l1=0.001, lambda_l2=0.001)"
   ]
  },
  {
   "cell_type": "markdown",
   "metadata": {},
   "source": [
    "# Evaluate Model"
   ]
  },
  {
   "cell_type": "code",
   "execution_count": 36,
   "metadata": {},
   "outputs": [
    {
     "data": {
      "application/vnd.jupyter.widget-view+json": {
       "model_id": "c35064b0152b4b9296b9da11dcc84ce1",
       "version_major": 2,
       "version_minor": 0
      },
      "text/plain": [
       "HBox(children=(HTML(value='Evaluating'), FloatProgress(value=1.0, bar_style='info', layout=Layout(width='20px'…"
      ]
     },
     "metadata": {},
     "output_type": "display_data"
    },
    {
     "name": "stdout",
     "output_type": "stream",
     "text": [
      "\n",
      "Score (accuracy) of the model: 0.76\n"
     ]
    },
    {
     "data": {
      "text/plain": [
       "{'__OVERALL__': 0.7570109246536773,\n",
       " 'PREP+NOUN+NSUFF+NSUFF': 0.0,\n",
       " 'PREP+ADJ': 0.0,\n",
       " 'CONJ+PREP+NOUN+NSUFF+PRON': 0.0,\n",
       " 'FOREIGN': 0.022222222222222223,\n",
       " 'CONJ+NOUN+NSUFF': 0.06818181818181818,\n",
       " 'CONJ+PRON': 0.45714285714285713,\n",
       " 'DET+NUM': 0.0,\n",
       " 'PREP+PART': 0.07894736842105263,\n",
       " 'CONJ+ADJ+PRON': 0.0,\n",
       " 'PREP+DET': 0.0,\n",
       " 'ADV': 0.0,\n",
       " 'DET+NOUN+NSUFF': 0.8257107540173053,\n",
       " 'DET': 0.25,\n",
       " 'CONJ+FUT_PART': 0.0,\n",
       " 'CONJ+PREP+NOUN': 0.0,\n",
       " 'PREP+NUM+NSUFF': 0.0,\n",
       " 'NUM+CASE': 0.0,\n",
       " 'CONJ+CONJ': 0.0,\n",
       " 'DET+NOUN+NSUFF+NSUFF': 0.0,\n",
       " 'CONJ+PREP': 0.4090909090909091,\n",
       " 'CONJ+PART/CONJ+PREP+PART': 1.0,\n",
       " 'NOUN+NSUFF': 0.49208025343189016,\n",
       " 'PREP': 0.9540880503144654,\n",
       " 'DET+ADJ/DET+NUM': 0.0,\n",
       " 'NOUN': 0.9411585365853659,\n",
       " 'CONJ+PREP+DET+NOUN': 0.0,\n",
       " 'ADJ+CASE': 0.7796610169491526,\n",
       " 'CONJ+V+PRON': 0.7909090909090909,\n",
       " 'PREP+PART/CONJ': 1.0,\n",
       " 'NUM': 0.8850574712643678,\n",
       " 'NOUN+NSUFF+PRON': 0.11764705882352941,\n",
       " 'PREP+DET+NOUN+NSUFF': 0.14393939393939395,\n",
       " 'CONJ+ADJ+CASE': 0.0,\n",
       " 'ADJ+NSUFF/NOUN+NSUFF': 0.0,\n",
       " 'CONJ+NOUN+CASE': 0.0,\n",
       " 'PREP+ADJ+NSUFF': 0.0,\n",
       " 'ADJ+NSUFF': 0.8304498269896193,\n",
       " 'PREP+DET+NOUN+NSUFF+NSUFF': 0.0,\n",
       " 'PUNC': 0.9075829383886256,\n",
       " 'NOUN+CASE': 0.30726256983240224,\n",
       " 'FUT_PART': 0.0,\n",
       " 'PART/NOUN': 0.47368421052631576,\n",
       " 'CONJ+NUM+NSUFF': 0.2,\n",
       " 'CONJ+NOUN+PRON': 0.029411764705882353,\n",
       " 'NOUN+NSUFF/ADJ+NSUFF': 0.8571428571428571,\n",
       " 'PART/PREP+PART': 0.8,\n",
       " 'PREP+V+PRON': 0.0,\n",
       " 'PART': 0.8638297872340426,\n",
       " 'DET+ADJ': 0.8689883913764511,\n",
       " 'CONJ+PART+PRON': 0.3,\n",
       " 'CONJ+ADJ+NSUFF': 0.5,\n",
       " 'FUT_PART+V': 0.07894736842105263,\n",
       " 'V+PRON+PRON': 0.041666666666666664,\n",
       " 'ADJ': 0.8559556786703602,\n",
       " 'ABBREV': 0.17647058823529413,\n",
       " 'DET+NOUN': 0.6519637462235649,\n",
       " 'CONJ+ADV': 0.0,\n",
       " 'DET+NUM+NSUFF': 0.0,\n",
       " 'V': 0.7287946428571429,\n",
       " 'CONJ+DET+NUM+NSUFF': 0.0,\n",
       " 'PART/NOUN+PART': 0.3333333333333333,\n",
       " 'DET+ADJ/DET+NOUN': 0.0,\n",
       " 'NUM+NSUFF': 0.2558139534883721,\n",
       " 'ADJ+NSUFF+NSUFF': 0.0,\n",
       " 'PREP+V': 0.4782608695652174,\n",
       " 'PREP+NOUN+NSUFF': 0.8285714285714286,\n",
       " 'PREP+ADJ+PRON': 0.0,\n",
       " 'ADV+CASE': 0.0,\n",
       " 'CONJ+FUT_PART+V': 0.0,\n",
       " 'DET+NOUN+NSUFF/DET+NUM+NSUFF': 1.0,\n",
       " 'PREP+NOUN+NSUFF+PRON': 0.0,\n",
       " 'PREP+DET+ADJ': 0.25,\n",
       " 'CONJ+DET+NOUN': 0.3181818181818182,\n",
       " 'DET+ADJ+NSUFF/DET+NUM+NSUFF': 0.0,\n",
       " 'ADJ+PRON': 0.0,\n",
       " 'PREP+NOUN': 0.47706422018348627,\n",
       " 'PREP+DET+ADJ+NSUFF': 0.0,\n",
       " 'CONJ+V': 0.7530864197530864,\n",
       " 'ADJ/NUM': 0.0,\n",
       " 'CONJ+DET+ADJ': 0.0625,\n",
       " 'NOUN+PRON': 0.5060240963855421,\n",
       " 'PREP+DET+NOUN': 0.6442307692307693,\n",
       " 'PREP+NUM': 0.3333333333333333,\n",
       " 'CONJ+NOUN': 0.39766081871345027,\n",
       " 'PRON': 0.6305732484076433,\n",
       " 'NOUN+NSUFF+NSUFF': 0.0,\n",
       " 'CONJ+PREP+PRON': 0.0,\n",
       " 'DET+ADJ+NSUFF+NSUFF': 0.0,\n",
       " 'FUT_PART+V+PRON': 0.0,\n",
       " 'CONJ+PREP+DET+NOUN+NSUFF': 0.0,\n",
       " 'CONJ+DET+NOUN+NSUFF': 0.5616438356164384,\n",
       " 'CONJ+PREP+NOUN+NSUFF': 0.0,\n",
       " 'DET+NOUN/DET+ADJ': 0.0,\n",
       " 'PREP+PRON': 0.8598726114649682,\n",
       " 'CONJ+PART': 0.30526315789473685,\n",
       " 'CONJ+ADJ': 0.07142857142857142,\n",
       " 'PART+PART/PART': 0.0,\n",
       " 'DET+ADJ+NSUFF': 0.8732394366197183,\n",
       " 'CONJ': 0.38461538461538464,\n",
       " 'V+PRON': 0.7591036414565826,\n",
       " 'CONJ+ADJ/CONJ+NOUN': 0.0,\n",
       " 'PART+PRON': 0.0,\n",
       " 'CONJ+NUM': 0.0,\n",
       " 'PREP+NOUN+PRON': 0.0,\n",
       " 'CONJ+FUT_PART+V+PRON': 0.0,\n",
       " 'CONJ+NOUN+NSUFF+PRON': 0.0,\n",
       " 'CONJ+DET+ADJ+NSUFF': 0.13043478260869565,\n",
       " 'CONJ+NUM+NSUFF+NSUFF': 0.0,\n",
       " 'PREP+PART+PRON': 0.0,\n",
       " 'CONJ+ADV+CASE': 0.0}"
      ]
     },
     "execution_count": 36,
     "metadata": {},
     "output_type": "execute_result"
    }
   ],
   "source": [
    "utils.evaluate_model(model, X, y, idx_to_class=idx2label)"
   ]
  },
  {
   "cell_type": "markdown",
   "metadata": {},
   "source": [
    "# Layerwise probing"
   ]
  },
  {
   "cell_type": "code",
   "execution_count": null,
   "metadata": {},
   "outputs": [],
   "source": [
    "layer_1_X = utils.filter_activations_keep_neurons(np.arange(768, 768*2), X)"
   ]
  },
  {
   "cell_type": "code",
   "execution_count": null,
   "metadata": {},
   "outputs": [],
   "source": [
    "layer_1_X.shape"
   ]
  },
  {
   "cell_type": "code",
   "execution_count": null,
   "metadata": {},
   "outputs": [],
   "source": [
    "model_layer_1 = utils.train_logreg_model(layer_1_X, y, lambda_l1=0.001, lambda_l2=0.001)"
   ]
  },
  {
   "cell_type": "code",
   "execution_count": null,
   "metadata": {},
   "outputs": [],
   "source": [
    "utils.evaluate_model(model_layer_1, layer_1_X, y, idx_to_class=idx2label)"
   ]
  },
  {
   "cell_type": "markdown",
   "metadata": {},
   "source": [
    "# Get Neuron Ranking"
   ]
  },
  {
   "cell_type": "code",
   "execution_count": 37,
   "metadata": {},
   "outputs": [
    {
     "data": {
      "application/vnd.jupyter.widget-view+json": {
       "model_id": "9f3e1ef00a464aeb997ab8c0e47633f1",
       "version_major": 2,
       "version_minor": 0
      },
      "text/plain": [
       "HBox(children=(HTML(value=''), FloatProgress(value=0.0, max=101.0), HTML(value='')))"
      ]
     },
     "metadata": {},
     "output_type": "display_data"
    },
    {
     "name": "stdout",
     "output_type": "stream",
     "text": [
      "\n"
     ]
    }
   ],
   "source": [
    "ordering, cutoffs = utils.get_neuron_ordering(model, label2idx)"
   ]
  },
  {
   "cell_type": "code",
   "execution_count": 38,
   "metadata": {},
   "outputs": [
    {
     "data": {
      "text/plain": [
       "[79, 833, 1783, 2747, 3640, 4483, 5287, 5998, 6637, 7196]"
      ]
     },
     "execution_count": 38,
     "metadata": {},
     "output_type": "execute_result"
    }
   ],
   "source": [
    "cutoffs[:10]"
   ]
  },
  {
   "cell_type": "code",
   "execution_count": 39,
   "metadata": {},
   "outputs": [
    {
     "data": {
      "text/plain": [
       "9984"
      ]
     },
     "execution_count": 39,
     "metadata": {},
     "output_type": "execute_result"
    }
   ],
   "source": [
    "len(ordering)"
   ]
  },
  {
   "cell_type": "code",
   "execution_count": null,
   "metadata": {},
   "outputs": [],
   "source": [
    "plot_neurons_per_layer(ordering[:cutoffs[5]],title='Labels per layer in QARiB POS')"
   ]
  },
  {
   "cell_type": "code",
   "execution_count": null,
   "metadata": {},
   "outputs": [],
   "source": [
    "plot_neurons_per_layer(ordering[:cutoffs[5]],title='Labels per layer in araBERT POS')"
   ]
  },
  {
   "cell_type": "code",
   "execution_count": 47,
   "metadata": {},
   "outputs": [
    {
     "data": {
      "image/png": "[encoded data removed]",
      "text/plain": [
       "<Figure size 432x288 with 1 Axes>"
      ]
     },
     "metadata": {
      "needs_background": "light"
     },
     "output_type": "display_data"
    }
   ],
   "source": [
    "plot_neurons_per_layer(ordering[:400],title='Labels per layer in ArabicBERT POS')"
   ]
  },
  {
   "cell_type": "code",
   "execution_count": null,
   "metadata": {},
   "outputs": [],
   "source": [
    "plot_neurons_per_layer(ordering[:cutoffs[5]],title='Labels per layer in mBERT POS')"
   ]
  },
  {
   "cell_type": "markdown",
   "metadata": {},
   "source": [
    "# Train on top N neurons"
   ]
  },
  {
   "cell_type": "code",
   "execution_count": 48,
   "metadata": {},
   "outputs": [],
   "source": [
    "X_selected = utils.filter_activations_keep_neurons(ordering[:400], X)"
   ]
  },
  {
   "cell_type": "code",
   "execution_count": 49,
   "metadata": {},
   "outputs": [
    {
     "data": {
      "text/plain": [
       "(17758, 400)"
      ]
     },
     "execution_count": 49,
     "metadata": {},
     "output_type": "execute_result"
    }
   ],
   "source": [
    "X_selected.shape"
   ]
  },
  {
   "cell_type": "markdown",
   "metadata": {},
   "source": [
    "Train "
   ]
  },
  {
   "cell_type": "code",
   "execution_count": 45,
   "metadata": {},
   "outputs": [
    {
     "name": "stdout",
     "output_type": "stream",
     "text": [
      "Training classification model\n",
      "Creating model...\n",
      "Number of training instances: 17758\n",
      "Number of classes: 110\n"
     ]
    },
    {
     "data": {
      "application/vnd.jupyter.widget-view+json": {
       "model_id": "05814861ceeb451891caf4b3f6a8d054",
       "version_major": 2,
       "version_minor": 0
      },
      "text/plain": [
       "HBox(children=(HTML(value='epoch [1/10]'), FloatProgress(value=1.0, bar_style='info', layout=Layout(width='20p…"
      ]
     },
     "metadata": {},
     "output_type": "display_data"
    },
    {
     "name": "stdout",
     "output_type": "stream",
     "text": [
      "\n",
      "Epoch: [1/10], Loss: 0.0869\n"
     ]
    },
    {
     "data": {
      "application/vnd.jupyter.widget-view+json": {
       "model_id": "e65c9712dbfe47498fb619dae0410238",
       "version_major": 2,
       "version_minor": 0
      },
      "text/plain": [
       "HBox(children=(HTML(value='epoch [2/10]'), FloatProgress(value=1.0, bar_style='info', layout=Layout(width='20p…"
      ]
     },
     "metadata": {},
     "output_type": "display_data"
    },
    {
     "name": "stdout",
     "output_type": "stream",
     "text": [
      "\n",
      "Epoch: [2/10], Loss: 0.0681\n"
     ]
    },
    {
     "data": {
      "application/vnd.jupyter.widget-view+json": {
       "model_id": "6721b4d0b6704d79a7a59f438d5928b0",
       "version_major": 2,
       "version_minor": 0
      },
      "text/plain": [
       "HBox(children=(HTML(value='epoch [3/10]'), FloatProgress(value=1.0, bar_style='info', layout=Layout(width='20p…"
      ]
     },
     "metadata": {},
     "output_type": "display_data"
    },
    {
     "name": "stdout",
     "output_type": "stream",
     "text": [
      "\n",
      "Epoch: [3/10], Loss: 0.0642\n"
     ]
    },
    {
     "data": {
      "application/vnd.jupyter.widget-view+json": {
       "model_id": "6f814017020f485fb6a6f1cc202368e9",
       "version_major": 2,
       "version_minor": 0
      },
      "text/plain": [
       "HBox(children=(HTML(value='epoch [4/10]'), FloatProgress(value=1.0, bar_style='info', layout=Layout(width='20p…"
      ]
     },
     "metadata": {},
     "output_type": "display_data"
    },
    {
     "name": "stdout",
     "output_type": "stream",
     "text": [
      "\n",
      "Epoch: [4/10], Loss: 0.0623\n"
     ]
    },
    {
     "data": {
      "application/vnd.jupyter.widget-view+json": {
       "model_id": "4a08df28214245babb8b8dbc6015da77",
       "version_major": 2,
       "version_minor": 0
      },
      "text/plain": [
       "HBox(children=(HTML(value='epoch [5/10]'), FloatProgress(value=1.0, bar_style='info', layout=Layout(width='20p…"
      ]
     },
     "metadata": {},
     "output_type": "display_data"
    },
    {
     "name": "stdout",
     "output_type": "stream",
     "text": [
      "\n",
      "Epoch: [5/10], Loss: 0.0613\n"
     ]
    },
    {
     "data": {
      "application/vnd.jupyter.widget-view+json": {
       "model_id": "098c5cc2e40d42f5ad9551ea173c1d7e",
       "version_major": 2,
       "version_minor": 0
      },
      "text/plain": [
       "HBox(children=(HTML(value='epoch [6/10]'), FloatProgress(value=1.0, bar_style='info', layout=Layout(width='20p…"
      ]
     },
     "metadata": {},
     "output_type": "display_data"
    },
    {
     "name": "stdout",
     "output_type": "stream",
     "text": [
      "\n",
      "Epoch: [6/10], Loss: 0.0606\n"
     ]
    },
    {
     "data": {
      "application/vnd.jupyter.widget-view+json": {
       "model_id": "c28be78ad5134da481258191820b336e",
       "version_major": 2,
       "version_minor": 0
      },
      "text/plain": [
       "HBox(children=(HTML(value='epoch [7/10]'), FloatProgress(value=1.0, bar_style='info', layout=Layout(width='20p…"
      ]
     },
     "metadata": {},
     "output_type": "display_data"
    },
    {
     "name": "stdout",
     "output_type": "stream",
     "text": [
      "\n",
      "Epoch: [7/10], Loss: 0.0602\n"
     ]
    },
    {
     "data": {
      "application/vnd.jupyter.widget-view+json": {
       "model_id": "c5d70721b42c4a1394719e234be69354",
       "version_major": 2,
       "version_minor": 0
      },
      "text/plain": [
       "HBox(children=(HTML(value='epoch [8/10]'), FloatProgress(value=1.0, bar_style='info', layout=Layout(width='20p…"
      ]
     },
     "metadata": {},
     "output_type": "display_data"
    },
    {
     "name": "stdout",
     "output_type": "stream",
     "text": [
      "\n",
      "Epoch: [8/10], Loss: 0.0599\n"
     ]
    },
    {
     "data": {
      "application/vnd.jupyter.widget-view+json": {
       "model_id": "4283484639d24457be8391cc27925bdc",
       "version_major": 2,
       "version_minor": 0
      },
      "text/plain": [
       "HBox(children=(HTML(value='epoch [9/10]'), FloatProgress(value=1.0, bar_style='info', layout=Layout(width='20p…"
      ]
     },
     "metadata": {},
     "output_type": "display_data"
    },
    {
     "name": "stdout",
     "output_type": "stream",
     "text": [
      "\n",
      "Epoch: [9/10], Loss: 0.0596\n"
     ]
    },
    {
     "data": {
      "application/vnd.jupyter.widget-view+json": {
       "model_id": "6ff4755eb3f24b2ea0a12abcb191b74b",
       "version_major": 2,
       "version_minor": 0
      },
      "text/plain": [
       "HBox(children=(HTML(value='epoch [10/10]'), FloatProgress(value=1.0, bar_style='info', layout=Layout(width='20…"
      ]
     },
     "metadata": {},
     "output_type": "display_data"
    },
    {
     "name": "stdout",
     "output_type": "stream",
     "text": [
      "\n",
      "Epoch: [10/10], Loss: 0.0595\n"
     ]
    }
   ],
   "source": [
    "model_selected = utils.train_logreg_model(X_selected, y, lambda_l1=0.00001, lambda_l2=0.00001)"
   ]
  },
  {
   "cell_type": "code",
   "execution_count": 46,
   "metadata": {},
   "outputs": [
    {
     "data": {
      "application/vnd.jupyter.widget-view+json": {
       "model_id": "295a37bc60d04fe28fd77ee91b463084",
       "version_major": 2,
       "version_minor": 0
      },
      "text/plain": [
       "HBox(children=(HTML(value='Evaluating'), FloatProgress(value=1.0, bar_style='info', layout=Layout(width='20px'…"
      ]
     },
     "metadata": {},
     "output_type": "display_data"
    },
    {
     "name": "stdout",
     "output_type": "stream",
     "text": [
      "\n",
      "Score (accuracy) of the model: 0.61\n"
     ]
    },
    {
     "data": {
      "text/plain": [
       "{'__OVERALL__': 0.6143709877238428,\n",
       " 'PREP+NOUN+NSUFF+NSUFF': 0.0,\n",
       " 'PREP+ADJ': 0.0,\n",
       " 'CONJ+PREP+NOUN+NSUFF+PRON': 0.0,\n",
       " 'FOREIGN': 0.37777777777777777,\n",
       " 'CONJ+NOUN+NSUFF': 0.0,\n",
       " 'CONJ+PRON': 0.8428571428571429,\n",
       " 'DET+NUM': 0.0,\n",
       " 'PREP+PART': 0.0,\n",
       " 'CONJ+ADJ+PRON': 0.0,\n",
       " 'PREP+DET': 0.0,\n",
       " 'ADV': 0.0,\n",
       " 'DET+NOUN+NSUFF': 0.43016069221260816,\n",
       " 'DET': 0.0,\n",
       " 'CONJ+FUT_PART': 0.0,\n",
       " 'CONJ+PREP+NOUN': 0.0,\n",
       " 'PREP+NUM+NSUFF': 0.0,\n",
       " 'NUM+CASE': 0.0,\n",
       " 'CONJ+CONJ': 0.0,\n",
       " 'DET+NOUN+NSUFF+NSUFF': 0.0,\n",
       " 'CONJ+PREP': 0.0,\n",
       " 'CONJ+PART/CONJ+PREP+PART': 0.0,\n",
       " 'NOUN+NSUFF': 0.27771911298838436,\n",
       " 'PREP': 0.8773584905660378,\n",
       " 'DET+ADJ/DET+NUM': 0.0,\n",
       " 'NOUN': 0.7649390243902439,\n",
       " 'CONJ+PREP+DET+NOUN': 0.0,\n",
       " 'ADJ+CASE': 0.1271186440677966,\n",
       " 'CONJ+V+PRON': 0.5727272727272728,\n",
       " 'PREP+PART/CONJ': 0.7391304347826086,\n",
       " 'NUM': 0.7442528735632183,\n",
       " 'NOUN+NSUFF+PRON': 0.08823529411764706,\n",
       " 'PREP+DET+NOUN+NSUFF': 0.19696969696969696,\n",
       " 'CONJ+ADJ+CASE': 0.0,\n",
       " 'ADJ+NSUFF/NOUN+NSUFF': 0.0,\n",
       " 'CONJ+NOUN+CASE': 0.0,\n",
       " 'PREP+ADJ+NSUFF': 0.0,\n",
       " 'ADJ+NSUFF': 0.6332179930795848,\n",
       " 'PREP+DET+NOUN+NSUFF+NSUFF': 0.0,\n",
       " 'PUNC': 0.8761848341232228,\n",
       " 'NOUN+CASE': 0.4692737430167598,\n",
       " 'FUT_PART': 0.0,\n",
       " 'PART/NOUN': 0.0,\n",
       " 'CONJ+NUM+NSUFF': 0.0,\n",
       " 'CONJ+NOUN+PRON': 0.0,\n",
       " 'NOUN+NSUFF/ADJ+NSUFF': 0.0,\n",
       " 'PART/PREP+PART': 0.0,\n",
       " 'PREP+V+PRON': 0.0,\n",
       " 'PART': 0.6326241134751773,\n",
       " 'DET+ADJ': 0.7313432835820896,\n",
       " 'CONJ+PART+PRON': 0.0,\n",
       " 'CONJ+ADJ+NSUFF': 0.0,\n",
       " 'FUT_PART+V': 0.0,\n",
       " 'V+PRON+PRON': 0.0,\n",
       " 'ADJ': 0.46814404432132967,\n",
       " 'ABBREV': 0.0,\n",
       " 'DET+NOUN': 0.592749244712991,\n",
       " 'CONJ+ADV': 0.0,\n",
       " 'DET+NUM+NSUFF': 0.0,\n",
       " 'V': 0.7611607142857143,\n",
       " 'CONJ+DET+NUM+NSUFF': 0.0,\n",
       " 'PART/NOUN+PART': 0.0,\n",
       " 'DET+ADJ/DET+NOUN': 0.0,\n",
       " 'NUM+NSUFF': 0.11627906976744186,\n",
       " 'ADJ+NSUFF+NSUFF': 0.0,\n",
       " 'PREP+V': 0.0,\n",
       " 'PREP+NOUN+NSUFF': 0.06857142857142857,\n",
       " 'PREP+ADJ+PRON': 0.0,\n",
       " 'ADV+CASE': 0.0,\n",
       " 'CONJ+FUT_PART+V': 0.0,\n",
       " 'DET+NOUN+NSUFF/DET+NUM+NSUFF': 0.0,\n",
       " 'PREP+NOUN+NSUFF+PRON': 0.0,\n",
       " 'PREP+DET+ADJ': 0.0,\n",
       " 'CONJ+DET+NOUN': 0.18181818181818182,\n",
       " 'DET+ADJ+NSUFF/DET+NUM+NSUFF': 0.0,\n",
       " 'ADJ+PRON': 0.0,\n",
       " 'PREP+NOUN': 0.14678899082568808,\n",
       " 'PREP+DET+ADJ+NSUFF': 0.0,\n",
       " 'CONJ+V': 0.7253086419753086,\n",
       " 'ADJ/NUM': 0.0,\n",
       " 'CONJ+DET+ADJ': 0.0,\n",
       " 'NOUN+PRON': 0.3132530120481928,\n",
       " 'PREP+DET+NOUN': 0.2548076923076923,\n",
       " 'PREP+NUM': 0.0,\n",
       " 'CONJ+NOUN': 0.1871345029239766,\n",
       " 'PRON': 0.5796178343949044,\n",
       " 'NOUN+NSUFF+NSUFF': 0.0,\n",
       " 'CONJ+PREP+PRON': 0.0,\n",
       " 'DET+ADJ+NSUFF+NSUFF': 0.0,\n",
       " 'FUT_PART+V+PRON': 0.0,\n",
       " 'CONJ+PREP+DET+NOUN+NSUFF': 0.0,\n",
       " 'CONJ+DET+NOUN+NSUFF': 0.1780821917808219,\n",
       " 'CONJ+PREP+NOUN+NSUFF': 0.0,\n",
       " 'DET+NOUN/DET+ADJ': 0.0,\n",
       " 'PREP+PRON': 0.45222929936305734,\n",
       " 'CONJ+PART': 0.6526315789473685,\n",
       " 'CONJ+ADJ': 0.0,\n",
       " 'PART+PART/PART': 0.0,\n",
       " 'DET+ADJ+NSUFF': 0.8204225352112676,\n",
       " 'CONJ': 0.41025641025641024,\n",
       " 'V+PRON': 0.5574229691876751,\n",
       " 'CONJ+ADJ/CONJ+NOUN': 0.0,\n",
       " 'PART+PRON': 0.47692307692307695,\n",
       " 'CONJ+NUM': 0.0,\n",
       " 'PREP+NOUN+PRON': 0.0,\n",
       " 'CONJ+FUT_PART+V+PRON': 0.0,\n",
       " 'CONJ+NOUN+NSUFF+PRON': 0.0,\n",
       " 'CONJ+DET+ADJ+NSUFF': 0.0,\n",
       " 'CONJ+NUM+NSUFF+NSUFF': 0.0,\n",
       " 'PREP+PART+PRON': 0.0,\n",
       " 'CONJ+ADV+CASE': 0.0}"
      ]
     },
     "execution_count": 46,
     "metadata": {},
     "output_type": "execute_result"
    }
   ],
   "source": [
    "utils.evaluate_model(model_selected, X_selected, y, idx_to_class=idx2label)"
   ]
  },
  {
   "cell_type": "markdown",
   "metadata": {},
   "source": [
    "# Further analysis"
   ]
  },
  {
   "cell_type": "code",
   "execution_count": 13,
   "metadata": {},
   "outputs": [],
   "source": [
    "top_neurons = utils.get_top_neurons(model, 0.01, label2idx)"
   ]
  },
  {
   "cell_type": "code",
   "execution_count": 14,
   "metadata": {},
   "outputs": [
    {
     "data": {
      "text/plain": [
       "(array([6146, 2053, 6150, 4103, 2057, 2058,   10, 8206, 8207, 2065, 6166,\n",
       "        2073,   37,   40, 8233, 6186,   47, 2045, 6194,   51, 2102, 6199,\n",
       "        8248, 6201, 6208,   68, 4166, 8263, 2119, 6217, 6218, 2123, 6222,\n",
       "          79, 8271, 6227, 6228, 2133, 6230, 8282, 6235,   98, 6242,  101,\n",
       "        6248, 8298, 2154, 2156, 6252, 8302, 4207,  112, 6257, 4210,  106,\n",
       "        2164, 8310, 6263, 8311, 2169, 6266,  125, 6272, 2176,  134, 8328,\n",
       "        8332, 8336, 4244, 6295, 6303, 2209, 8356,  164, 6311, 6312, 6315,\n",
       "        2220, 2221, 8366, 8367, 6320, 6327, 6328, 4280,  186, 8381, 2241,\n",
       "        2244, 8388,  199, 6344, 4303,  208,  210, 2260, 8406, 6358, 6362,\n",
       "         219, 8413, 2270, 6366, 2273, 4322, 8420, 4324, 8423,  233, 2286,\n",
       "         238, 4337, 8189,  244, 2296,  251, 2300,  253, 6401, 6412, 6414,\n",
       "        2319, 8464, 4370, 8466, 6420, 6428,  286,  289, 8482, 8483, 8486,\n",
       "        2344, 4396, 6449, 6450, 2354,  307, 4405,  310, 6455, 4402, 6458,\n",
       "         315,  317, 6462, 2366, 6465, 6471, 6472, 8519, 6480,  336, 4434,\n",
       "        8530, 2396, 2397, 8540, 8546, 4451, 6498, 6501,  361, 8554, 6511,\n",
       "         368, 6513,  370,  373, 2426, 8571,  380, 6524, 6522,  384, 2433,\n",
       "         387, 6535, 8584, 8585, 4492, 4493,  397, 6540, 4504, 4507,  411,\n",
       "        8616, 8617, 4522,  433,  434, 4530, 6580,  440,  444, 2498, 4547,\n",
       "        4548, 8650, 6607, 8656, 6608, 6610, 8661,  473, 4572, 4573, 4576,\n",
       "        4577, 6626,  491, 8688, 8701, 6655, 8704, 2559, 4613, 8716, 6669,\n",
       "        6668, 2575, 8725,  542, 2591, 8740, 6697, 4649, 8747,  556, 8749,\n",
       "        2605, 8751, 8752, 8755, 2612,  565, 6711, 8766, 8768, 8769, 8770,\n",
       "        6721,  590, 2643, 6739, 8789,  599, 4701, 4706, 8803, 6756, 2666,\n",
       "        8811, 4717, 2671, 4721, 8819, 6771, 8830, 4742, 6792, 6796, 6806,\n",
       "        6808, 8856,  669, 8863, 6820, 8868, 8876, 2733, 2734, 2737, 6833,\n",
       "        6835, 8883, 2744, 4793,  696,  702,  709, 4806, 8905, 8907, 2768,\n",
       "        8914, 8919, 2776,  728, 6877,  734, 6880,  737, 8930, 8931, 2788,\n",
       "        8934, 8935,  744, 6887,  746, 8939, 4845, 6896, 2803, 6904, 8953,\n",
       "        6906,  760,  764, 6909, 4861, 2815, 8960, 6918, 2826, 8974, 6930,\n",
       "        8981, 4892, 2845, 4897, 8996,  805, 8998, 4902,  807, 4905, 9001,\n",
       "         811, 4914, 6982, 2887, 6986,  846, 4942, 4945, 4952, 2908, 4958,\n",
       "         866, 4965,  870, 9066,  880, 2933, 9079, 4986, 4993,  901, 9100,\n",
       "        9101, 2956, 9108, 7061, 7063, 5018,  924,  928, 7075, 9124, 5027,\n",
       "        9127,  939,  941, 9134, 9133, 7088, 7090, 2994,  956, 9149, 7102,\n",
       "         957, 3010,  967, 7113,  971, 7117,  973, 5071, 3025,  977, 3027,\n",
       "         980, 9174, 7129, 3036, 9181, 7134, 3037,  992, 3041, 9183, 9187,\n",
       "        7144, 1001, 9194, 9192, 1007, 7154, 7156, 1012, 7164, 3068, 9212,\n",
       "        9215, 9217, 9218, 9220, 5128, 3081, 7178, 7180, 5133, 5138, 1043,\n",
       "        7187, 3097, 7196, 5150, 7201, 9251, 5164, 1069, 3118, 9262, 9261,\n",
       "        7214, 7218, 7219, 7225, 5179, 9276, 1084, 7230, 3134, 1088, 3136,\n",
       "        9284, 7239, 7240, 7243, 7246, 1104, 5205, 7254, 7256, 7258, 7265,\n",
       "        1129, 3178, 5227, 9324, 7276, 7275, 1130, 1139, 7283, 5237, 3189,\n",
       "        9338, 9339, 1148, 5242, 3206, 7303, 9352, 7305, 5265, 9363, 5272,\n",
       "        5276, 9373, 9379, 3238, 1198, 7345, 5298, 1201, 5301, 9398, 7349,\n",
       "        1208, 9400, 1210, 5307, 7352, 7355, 5304, 3266, 5315, 5316, 7369,\n",
       "        7372, 1229, 1228, 9420, 9424, 9425, 7376, 7378, 9429, 9432, 5338,\n",
       "        5339, 7389, 5341, 3298, 9444, 7401, 7408, 1271, 7415, 5371, 5372,\n",
       "        7421, 5374, 5383, 3337, 9484, 1293, 1295, 7439, 7442, 9490, 9492,\n",
       "        3350, 1307, 1309, 7456, 7458, 7465, 5418, 7468, 9517, 3373, 1327,\n",
       "        1330, 3382, 5431, 5432, 1342, 9534, 9536, 7488, 1349, 9542, 3399,\n",
       "        1351, 9548, 1358, 7506, 5459, 9556, 3412, 7511, 3418, 1371, 9574,\n",
       "        1385, 7530, 1387, 9582, 3439, 3443, 9588, 7539, 5497, 5500, 1412,\n",
       "        1413, 7559, 7560, 7564, 5517, 7568, 5527, 1432, 1433, 3486, 9632,\n",
       "        5539, 7588, 7589, 9644, 1452, 7598, 9648, 9655, 3512, 1463, 5561,\n",
       "        9659, 7610, 9661, 7615, 3520, 3524, 5576, 9672, 1481, 9677, 5594,\n",
       "        7645, 7648, 1505, 7651, 3556, 9700, 9702, 1514, 5612, 3566, 1527,\n",
       "        1528, 7672, 1532, 1540, 1545, 9737, 1551, 7698, 5653, 3605, 3613,\n",
       "        9758, 1575, 1576, 1577, 3627, 1582, 5682, 1586, 7733, 1589, 3641,\n",
       "        7738, 1597, 3646, 1598, 1600, 1607, 1611, 9806, 5710, 7760, 9808,\n",
       "        5713, 9813, 5720, 7772, 5726, 9824, 7776, 1634, 9838, 5742, 5743,\n",
       "        5746, 7795, 9847, 7800, 5751, 3712, 5761, 3717, 5767, 9868, 5773,\n",
       "        1676, 1680, 5789, 9888, 9891, 1702, 7848, 7849, 1706, 9899, 1709,\n",
       "        1710, 5807, 7856, 7857, 3762, 9903, 3765, 7866, 3775, 1730, 1731,\n",
       "        7876, 1734, 3784, 7881, 7882, 5835, 1742, 5839, 5842, 3804, 3805,\n",
       "        1758, 7902, 9949, 1761, 5858, 9955, 3809, 7914, 5868, 5877, 3830,\n",
       "        9975, 1786, 3841, 7939, 7945, 7948, 5902, 3855, 5906, 7955, 3865,\n",
       "        7962, 3871, 5921, 1831, 1837, 7982, 3901, 7998, 8002, 1859, 5956,\n",
       "        8010, 3915, 8011, 5966, 8014, 1872, 5970, 8021, 3926, 3930, 5983,\n",
       "        1887, 1889, 8032, 1897, 5997, 8046, 1903, 8045, 8052, 6008, 1913,\n",
       "        8058, 8062, 6019, 1924, 3976, 6024, 8072, 3979, 6028, 8076, 1929,\n",
       "        1939, 1944, 8090, 6044, 1952, 6052, 4008, 8107, 1965, 1966, 1967,\n",
       "        8115, 6069, 4023, 1976, 8120, 6073, 6075, 6079, 6080, 6084, 8137,\n",
       "        6091, 4046, 8143, 8146, 2004, 8153, 6109, 4062, 8159, 2032, 4082,\n",
       "        2035, 6136, 6141]),\n",
       " {'PREP+NOUN+NSUFF+NSUFF': array([9181]),\n",
       "  'PREP+ADJ': array([8769, 2164, 6465]),\n",
       "  'CONJ+PREP+NOUN+NSUFF+PRON': array([9181, 1607, 6328, 9632, 4322, 1758, 8310, 6669, 4062, 6235,  125]),\n",
       "  'FOREIGN': array([2575]),\n",
       "  'CONJ+NOUN+NSUFF': array([8381, 9149, 7881]),\n",
       "  'CONJ+PRON': array([2058,  186]),\n",
       "  'DET+NUM': array([6792, 3976, 9324, 7560, 8328, 7134, 7982, 6024, 7902]),\n",
       "  'PREP+PART': array([ 590, 2643,  870]),\n",
       "  'CONJ+ADJ+PRON': array([6877, 7645]),\n",
       "  'PREP+DET': array([9181]),\n",
       "  'ADV': array([ 384, 8546,  737, 8863, 1505, 9373, 6835]),\n",
       "  'DET+NOUN+NSUFF': array([5653,  556, 1939,  208, 6166]),\n",
       "  'DET': array([9339, 5276, 9955, 1742, 6450, 5682, 9187, 4914, 5432, 6044, 9215,\n",
       "         8366, 5138, 9134, 6248, 3979, 8482, 6312, 8571, 4370]),\n",
       "  'CONJ+FUT_PART': array([5576, 1710, 1611, 7530, 3830, 7648, 4046, 8302, 3641, 3298, 1545,\n",
       "         7738, 7061, 4023, 9444, 1597, 1952, 5761,  746]),\n",
       "  'CONJ+PREP+NOUN': array([9181, 8656, 6414, 8747]),\n",
       "  'PREP+NUM+NSUFF': array([8935, 8107, 2156, 9672, 2933, 3443, 9588, 2666, 6655, 1412,  253,\n",
       "         6091, 5594, 1271, 9899, 9542,  210, 3605, 2426]),\n",
       "  'NUM+CASE': array([9659, 5431,   51, 9806, 1433, 1139, 7881, 6906, 2433, 5517, 8919,\n",
       "         1385, 9363, 6401, 3238, 9838, 2045, 8819, 4706]),\n",
       "  'CONJ+CONJ': array([8263, 8248, 1859, 4576, 4507, 4493, 8935, 2244, 3178, 6449, 4986,\n",
       "         9101,  939, 7164, 7345, 1600, 3097,  373, 1043, 8282, 1734,   68]),\n",
       "  'DET+NOUN+NSUFF+NSUFF': array([9181]),\n",
       "  'CONJ+PREP': array([286]),\n",
       "  'CONJ+PART/CONJ+PREP+PART': array([6820, 6909, 7588, 6295, 8356, 7063, 7401, 1976, 4280, 8388, 1208,\n",
       "         8939, 6141, 9124, 7090, 5272, 8153, 3512, 1527, 5315, 4547, 7102,\n",
       "          440, 4504,   10, 7760, 6756, 4965, 1210, 5527, 2744, 6808]),\n",
       "  'NOUN+NSUFF': array([9677,  387, 1088,  956, 3915, 1330]),\n",
       "  'PREP': array([3025,  219,  317]),\n",
       "  'DET+ADJ/DET+NUM': array([ 491, 1007, 7939, 7800, 9217, 9276,  709,  811,  542,  368, 2994,\n",
       "         6263, 8584, 9284, 2260, 3627, 1761, 7442, 2220, 7113]),\n",
       "  'NOUN': array([6150, 1528, 1702, 2296, 4905, 2612, 6208]),\n",
       "  'CONJ+PREP+DET+NOUN': array([6904, 5789, 7372, 8704, 9824, 3901, 7857, 3399, 7408,  866, 3775,\n",
       "         8090, 8998, 3717, 5205, 5902, 1413, 2123,  397, 1577, 2396, 6472]),\n",
       "  'ADJ+CASE': array([2035, 4897]),\n",
       "  'CONJ+V+PRON': array([6266, 5742]),\n",
       "  'PREP+PART/CONJ': array([590, 702]),\n",
       "  'NUM': array([1342, 2057, 8298, 3646]),\n",
       "  'NOUN+NSUFF+PRON': array([6501, 5858]),\n",
       "  'PREP+DET+NOUN+NSUFF': array([2065, 2209, 4303]),\n",
       "  'CONJ+ADJ+CASE': array([9813, 9352, 3784, 8960, 4721, 8423, 1540, 7598, 3081, 5237, 6069,\n",
       "         1295, 4902, 5383,  101,   79, 3010, 2133, 4280]),\n",
       "  'ADJ+NSUFF/NOUN+NSUFF': array([9181, 8413, 4522, 3520, 4337, 4861]),\n",
       "  'CONJ+NOUN+CASE': array([8143, 7955, 7187, 4573]),\n",
       "  'PREP+ADJ+NSUFF': array([9181, 8413, 7645]),\n",
       "  'ADJ+NSUFF': array([1358, 6272, 5227]),\n",
       "  'PREP+DET+NOUN+NSUFF+NSUFF': array([9181, 7948, 8716, 7180, 6540, 8076, 6412, 9484, 9194]),\n",
       "  'PUNC': array([2737, 2733]),\n",
       "  'NOUN+CASE': array([6146, 7201]),\n",
       "  'FUT_PART': array([8413]),\n",
       "  'PART/NOUN': array([2241, 7564, 9181, 9100, 9868, 8332, 6028, 1924, 6796,  924, 4492,\n",
       "         5720, 4952]),\n",
       "  'CONJ+NUM+NSUFF': array([3613,  737, 6535, 7511, 2845, 5298,  734, 6222, 6218, 2908, 5773,\n",
       "          744, 6986, 5767, 6217, 7303, 7539, 2270, 6771, 9847, 7415, 8311,\n",
       "         3025, 9079, 8554]),\n",
       "  'CONJ+NOUN+PRON': array([3805, 3037,  807, 8996]),\n",
       "  'NOUN+NSUFF/ADJ+NSUFF': array([6075, 5307, 1307,   98, 1481, 1351, 6887, 6227, 5071, 2119,   37,\n",
       "         3556, 5459, 9700, 8930,  805, 6362, 2887,  310]),\n",
       "  'PART/PREP+PART': array([9181, 8413, 8021, 9400, 8803, 3512, 7849, 8120, 8789, 8406, 8883,\n",
       "         9379, 2744, 8751, 8749, 6201, 8617, 3566, 7283, 8420, 4280, 7352,\n",
       "         7589, 6358, 4892, 9808, 8483, 9251, 9517, 9174, 9492, 9425]),\n",
       "  'PREP+V+PRON': array([9181]),\n",
       "  'PART': array([ 289, 7117, 2803]),\n",
       "  'DET+ADJ': array([7672, 5983, 8486, 4806]),\n",
       "  'CONJ+PART+PRON': array([7088, 7856, 4210, 6320, 9661, 1709, 8905, 7439, 7568, 7369, 8052,\n",
       "         8137,  941, 8336, 6315, 7866]),\n",
       "  'CONJ+ADJ+NSUFF': array([9181, 8413, 5835, 1148, 6471, 1731, 9536,  880,  112,  380, 7305,\n",
       "         8768, 4324, 6668, 2788]),\n",
       "  'FUT_PART+V': array([7848, 8616]),\n",
       "  'V+PRON+PRON': array([ 807, 1575, 2354, 7156,  901, 1586, 8058]),\n",
       "  'ADJ': array([6073, 6242, 8046, 1432]),\n",
       "  'ABBREV': array([2300, 1532, 2319, 5301, 3068, 1786, 6069, 3855, 5372, 1309, 6480,\n",
       "         1551, 8519, 1358, 9212, 5877,  764]),\n",
       "  'DET+NOUN': array([ 992, 3930, 6052, 4244,   40, 2397]),\n",
       "  'CONJ+ADV': array([5966, 8159, 6303, 4717, 3238, 5497, 5710, 3926, 9556, 5807, 3871,\n",
       "          199, 6711, 9655, 7389,  980, 2815, 4434, 2776, 4405, 3382, 1327]),\n",
       "  'DET+NUM+NSUFF': array([9181]),\n",
       "  'V': array([7506, 5500, 6257, 7945]),\n",
       "  'CONJ+DET+NUM+NSUFF': array([807]),\n",
       "  'PART/NOUN+PART': array([9181, 8766, 7230, 6462, 1505, 2273, 9429, 9534, 7998, 8661, 8206,\n",
       "         8974, 1201,  433, 1967, 7219, 7962, 7240, 3206, 3041, 9975, 3524,\n",
       "         8755, 7239, 7559, 3809, 1634, 6327]),\n",
       "  'DET+ADJ/DET+NOUN': array([3037]),\n",
       "  'NUM+NSUFF': array([  10, 7243, 8011]),\n",
       "  'ADJ+NSUFF+NSUFF': array([9181, 8413, 7645, 9758, 8072]),\n",
       "  'PREP+V': array([1887, 4573, 9066, 5341, 7645, 8298, 2366, 1576, 7733, 3134, 1598,\n",
       "         2826, 2058, 2344]),\n",
       "  'PREP+NOUN+NSUFF': array([6607, 3118, 5839]),\n",
       "  'PREP+ADJ+PRON': array([5265,  434, 7129,   47, 6455,  411, 3930, 5906,  473, 8010, 5128,\n",
       "         6019, 4986,  286, 8271, 5997, 9432, 1514, 6080]),\n",
       "  'ADV+CASE': array([807]),\n",
       "  'CONJ+FUT_PART+V': array([9949, 9181, 8413, 1069, 7645, 1837, 7914, 8002, 2605, 8466,  244,\n",
       "         8540, 3373, 1913, 8770, 9484, 7772,  973, 1012, 9424, 1965, 7698,\n",
       "         1387,  846, 8367, 8207, 1084, 9490, 1463, 4082, 9888, 6580, 9548]),\n",
       "  'DET+NOUN+NSUFF/DET+NUM+NSUFF': array([7376, 8876, 7882, 7456, 7178, 6930, 7276, 8953, 8701, 6608, 7075,\n",
       "         9174, 8406, 7225, 9101, 9398, 6228, 8650, 9644]),\n",
       "  'PREP+NOUN+NSUFF+PRON': array([9181]),\n",
       "  'PREP+DET+ADJ': array([8233, 6511, 2671, 9001, 8014, 3439, 1903, 8062, 5682, 2734, 5418,\n",
       "         4396, 7465, 1966, 4572, 5743, 7218, 6697, 4207,  728, 6806, 8830,\n",
       "         5164, 7488, 6186, 6833, 5339, 9379, 4451, 3036, 6524, 5751, 6982,\n",
       "         3804, 1452, 1198, 6498, 7246]),\n",
       "  'CONJ+DET+NOUN': array([3762, 4530, 8045]),\n",
       "  'DET+ADJ+NSUFF/DET+NUM+NSUFF': array([9181, 3418, 9338, 1676, 5970]),\n",
       "  'ADJ+PRON': array([9181]),\n",
       "  'PREP+NOUN': array([ 251, 1589, 4613, 4793]),\n",
       "  'PREP+DET+ADJ+NSUFF': array([8688, 2956, 5150, 3350, 1229, 7258, 7876, 7256, 7355, 4166, 7776,\n",
       "         6199, 1680, 5018, 9127, 5027, 6420, 6315, 5179, 7795, 5539, 9903,\n",
       "         7154,  967]),\n",
       "  'CONJ+V': array([4945, 2032, 6311]),\n",
       "  'ADJ/NUM': array([9181, 1043, 3189, 9262, 6079, 4008, 5133, 9737, 9108, 7144, 5304,\n",
       "         8868,  971, 6739, 5242, 1293]),\n",
       "  'CONJ+DET+ADJ': array([9181, 1001, 6428, 7196,  957,  233, 2102, 5612, 1371,  164, 2176]),\n",
       "  'NOUN+PRON': array([ 590, 1889]),\n",
       "  'PREP+DET+NOUN': array([1944, 2053, 6458]),\n",
       "  'PREP+NUM': array([9181, 8413, 6610, 8914, 8146, 7378, 8406, 5561, 9183,  928, 5842]),\n",
       "  'CONJ+NOUN': array([6008, 7468, 3712]),\n",
       "  'PRON': array([977]),\n",
       "  'NOUN+NSUFF+NSUFF': array([9181]),\n",
       "  'CONJ+PREP+PRON': array([1730, 8189,  760, 9648, 2498, 8585, 7421, 3266, 4577]),\n",
       "  'DET+ADJ+NSUFF+NSUFF': array([9181, 8413, 6109, 6877, 9949, 7144]),\n",
       "  'FUT_PART+V+PRON': array([9181]),\n",
       "  'CONJ+PREP+DET+NOUN+NSUFF': array([9181]),\n",
       "  'CONJ+DET+NOUN+NSUFF': array([7275, 3412, 6366]),\n",
       "  'CONJ+PREP+NOUN+NSUFF': array([8856, 8752, 6626, 8907, 8464]),\n",
       "  'DET+NOUN/DET+ADJ': array([9949, 8413, 6877]),\n",
       "  'PREP+PRON': array([3027, 4701]),\n",
       "  'CONJ+PART': array([696, 599]),\n",
       "  'CONJ+ADJ': array([5746, 1872, 5726, 8032, 1897, 1929, 4958, 6462,  336, 2221, 6896,\n",
       "         1104, 4845,  361, 6194, 1129]),\n",
       "  'PART+PART/PART': array([9181, 1831, 7458]),\n",
       "  'DET+ADJ+NSUFF': array([7276, 2154, 4742, 6252]),\n",
       "  'CONJ': array([ 106, 1210]),\n",
       "  'V+PRON': array([1228, 6344, 7651]),\n",
       "  'CONJ+ADJ/CONJ+NOUN': array([9181]),\n",
       "  'PART+PRON': array([941]),\n",
       "  'CONJ+NUM': array([9181, 8413,  565, 1582, 5338, 3765,  444, 2073,  315,  669, 2591,\n",
       "         3025, 3136, 8207]),\n",
       "  'PREP+NOUN+PRON': array([9181]),\n",
       "  'CONJ+FUT_PART+V+PRON': array([4573, 3037, 5341, 3805, 6109, 5868, 1349, 2169, 7254, 6880, 7349,\n",
       "         6721, 1130, 4103]),\n",
       "  'CONJ+NOUN+NSUFF+PRON': array([8981]),\n",
       "  'CONJ+DET+ADJ+NSUFF': array([6084, 4548, 5316, 9192, 6230, 4993, 4942, 9133, 9702, 8934, 9420]),\n",
       "  'CONJ+NUM+NSUFF+NSUFF': array([2768, 9218, 7265, 5374,  134, 1706,  307, 6522, 9261, 7214, 3486,\n",
       "         5921, 5956, 3337, 2733, 9582,  370, 3841, 8725, 2004, 9574, 4649]),\n",
       "  'PREP+PART+PRON': array([9181, 8413]),\n",
       "  'CONJ+ADV+CASE': array([8530, 8931, 2286,  238, 2559, 9891, 6513, 6918, 4402, 7610, 6136,\n",
       "         9220, 5713, 8115, 8811, 3865, 5371, 1349, 8740, 7615])})"
      ]
     },
     "execution_count": 14,
     "metadata": {},
     "output_type": "execute_result"
    }
   ],
   "source": [
    "top_neurons"
   ]
  },
  {
   "cell_type": "code",
   "execution_count": 27,
   "metadata": {},
   "outputs": [
    {
     "name": "stdout",
     "output_type": "stream",
     "text": [
      "PREP+NOUN+NSUFF+NSUFF 1\n",
      "PREP+ADJ 3\n",
      "CONJ+PREP+NOUN+NSUFF+PRON 11\n",
      "FOREIGN 1\n",
      "CONJ+NOUN+NSUFF 3\n",
      "CONJ+PRON 2\n",
      "DET+NUM 9\n",
      "PREP+PART 3\n",
      "CONJ+ADJ+PRON 2\n",
      "PREP+DET 1\n",
      "ADV 7\n",
      "DET+NOUN+NSUFF 5\n",
      "DET 20\n",
      "CONJ+FUT_PART 19\n",
      "CONJ+PREP+NOUN 4\n",
      "PREP+NUM+NSUFF 19\n",
      "NUM+CASE 19\n",
      "CONJ+CONJ 22\n",
      "DET+NOUN+NSUFF+NSUFF 1\n",
      "CONJ+PREP 1\n",
      "CONJ+PART/CONJ+PREP+PART 32\n",
      "NOUN+NSUFF 6\n",
      "PREP 3\n",
      "DET+ADJ/DET+NUM 20\n",
      "NOUN 7\n",
      "CONJ+PREP+DET+NOUN 22\n",
      "ADJ+CASE 2\n",
      "CONJ+V+PRON 2\n",
      "PREP+PART/CONJ 2\n",
      "NUM 4\n",
      "NOUN+NSUFF+PRON 2\n",
      "PREP+DET+NOUN+NSUFF 3\n",
      "CONJ+ADJ+CASE 19\n",
      "ADJ+NSUFF/NOUN+NSUFF 6\n",
      "CONJ+NOUN+CASE 4\n",
      "PREP+ADJ+NSUFF 3\n",
      "ADJ+NSUFF 3\n",
      "PREP+DET+NOUN+NSUFF+NSUFF 9\n",
      "PUNC 2\n",
      "NOUN+CASE 2\n",
      "FUT_PART 1\n",
      "PART/NOUN 13\n",
      "CONJ+NUM+NSUFF 25\n",
      "CONJ+NOUN+PRON 4\n",
      "NOUN+NSUFF/ADJ+NSUFF 19\n",
      "PART/PREP+PART 32\n",
      "PREP+V+PRON 1\n",
      "PART 3\n",
      "DET+ADJ 4\n",
      "CONJ+PART+PRON 16\n",
      "CONJ+ADJ+NSUFF 15\n",
      "FUT_PART+V 2\n",
      "V+PRON+PRON 7\n",
      "ADJ 4\n",
      "ABBREV 17\n",
      "DET+NOUN 6\n",
      "CONJ+ADV 22\n",
      "DET+NUM+NSUFF 1\n",
      "V 4\n",
      "CONJ+DET+NUM+NSUFF 1\n",
      "PART/NOUN+PART 28\n",
      "DET+ADJ/DET+NOUN 1\n",
      "NUM+NSUFF 3\n",
      "ADJ+NSUFF+NSUFF 5\n",
      "PREP+V 14\n",
      "PREP+NOUN+NSUFF 3\n",
      "PREP+ADJ+PRON 19\n",
      "ADV+CASE 1\n",
      "CONJ+FUT_PART+V 33\n",
      "DET+NOUN+NSUFF/DET+NUM+NSUFF 19\n",
      "PREP+NOUN+NSUFF+PRON 1\n",
      "PREP+DET+ADJ 38\n",
      "CONJ+DET+NOUN 3\n",
      "DET+ADJ+NSUFF/DET+NUM+NSUFF 5\n",
      "ADJ+PRON 1\n",
      "PREP+NOUN 4\n",
      "PREP+DET+ADJ+NSUFF 24\n",
      "CONJ+V 3\n",
      "ADJ/NUM 16\n",
      "CONJ+DET+ADJ 11\n",
      "NOUN+PRON 2\n",
      "PREP+DET+NOUN 3\n",
      "PREP+NUM 11\n",
      "CONJ+NOUN 3\n",
      "PRON 1\n",
      "NOUN+NSUFF+NSUFF 1\n",
      "CONJ+PREP+PRON 9\n",
      "DET+ADJ+NSUFF+NSUFF 6\n",
      "FUT_PART+V+PRON 1\n",
      "CONJ+PREP+DET+NOUN+NSUFF 1\n",
      "CONJ+DET+NOUN+NSUFF 3\n",
      "CONJ+PREP+NOUN+NSUFF 5\n",
      "DET+NOUN/DET+ADJ 3\n",
      "PREP+PRON 2\n",
      "CONJ+PART 2\n",
      "CONJ+ADJ 16\n",
      "PART+PART/PART 3\n",
      "DET+ADJ+NSUFF 4\n",
      "CONJ 2\n",
      "V+PRON 3\n",
      "CONJ+ADJ/CONJ+NOUN 1\n",
      "PART+PRON 1\n",
      "CONJ+NUM 14\n",
      "PREP+NOUN+PRON 1\n",
      "CONJ+FUT_PART+V+PRON 14\n",
      "CONJ+NOUN+NSUFF+PRON 1\n",
      "CONJ+DET+ADJ+NSUFF 11\n",
      "CONJ+NUM+NSUFF+NSUFF 22\n",
      "PREP+PART+PRON 2\n",
      "CONJ+ADV+CASE 20\n"
     ]
    }
   ],
   "source": [
    "for tag in top_neurons[1].keys():\n",
    "    print(tag, len(top_neurons[1][tag]))"
   ]
  },
  {
   "cell_type": "code",
   "execution_count": 26,
   "metadata": {},
   "outputs": [
    {
     "data": {
      "text/plain": [
       "array([1944, 2053, 6458])"
      ]
     },
     "execution_count": 26,
     "metadata": {},
     "output_type": "execute_result"
    }
   ],
   "source": [
    "top_neurons[1]['PREP+DET+NOUN']"
   ]
  },
  {
   "cell_type": "code",
   "execution_count": 23,
   "metadata": {},
   "outputs": [],
   "source": [
    "nlayers = np.floor_divide(top_neurons[1]['NOUN'],768)"
   ]
  },
  {
   "cell_type": "code",
   "execution_count": 25,
   "metadata": {},
   "outputs": [
    {
     "data": {
      "text/plain": [
       "(array([1, 2, 3, 6, 8]), array([1, 2, 1, 1, 2]))"
      ]
     },
     "execution_count": 25,
     "metadata": {},
     "output_type": "execute_result"
    }
   ],
   "source": [
    "np.unique(nlayers, return_counts=True)"
   ]
  },
  {
   "cell_type": "code",
   "execution_count": null,
   "metadata": {},
   "outputs": [],
   "source": [
    "nlayers = np.floor_divide(toplayers,layersize)\n",
    "(unique, counts) = np.unique(nlayers, return_counts=True)\n",
    "layersLabels = np.arange(numberlayers)\n",
    "layersCounts = np.zeros(numberlayers)"
   ]
  },
  {
   "cell_type": "code",
   "execution_count": 20,
   "metadata": {},
   "outputs": [
    {
     "data": {
      "image/png": "[encoded data removed]",
      "text/plain": [
       "<Figure size 432x288 with 1 Axes>"
      ]
     },
     "metadata": {
      "needs_background": "light"
     },
     "output_type": "display_data"
    },
    {
     "data": {
      "image/png": "[encoded data removed]",
      "text/plain": [
       "<Figure size 432x288 with 1 Axes>"
      ]
     },
     "metadata": {
      "needs_background": "light"
     },
     "output_type": "display_data"
    },
    {
     "data": {
      "image/png": "[encoded data removed]",
      "text/plain": [
       "<Figure size 432x288 with 1 Axes>"
      ]
     },
     "metadata": {
      "needs_background": "light"
     },
     "output_type": "display_data"
    },
    {
     "data": {
      "image/png": "[encoded data removed]",
      "text/plain": [
       "<Figure size 432x288 with 1 Axes>"
      ]
     },
     "metadata": {
      "needs_background": "light"
     },
     "output_type": "display_data"
    },
    {
     "data": {
      "image/png": "[encoded data removed]",
      "text/plain": [
       "<Figure size 432x288 with 1 Axes>"
      ]
     },
     "metadata": {
      "needs_background": "light"
     },
     "output_type": "display_data"
    },
    {
     "data": {
      "image/png": "[encoded data removed]",
      "text/plain": [
       "<Figure size 432x288 with 1 Axes>"
      ]
     },
     "metadata": {
      "needs_background": "light"
     },
     "output_type": "display_data"
    },
    {
     "data": {
      "image/png": "[encoded data removed]",
      "text/plain": [
       "<Figure size 432x288 with 1 Axes>"
      ]
     },
     "metadata": {
      "needs_background": "light"
     },
     "output_type": "display_data"
    },
    {
     "data": {
      "image/png": "[encoded data removed]",
      "text/plain": [
       "<Figure size 432x288 with 1 Axes>"
      ]
     },
     "metadata": {
      "needs_background": "light"
     },
     "output_type": "display_data"
    }
   ],
   "source": [
    "for tag in ['NOUN', 'PREP+DET+NOUN', 'V', 'V+PRON', 'ADJ', 'DET+ADJ+NSUFF' , 'PART', 'PART+PRON']:\n",
    "    plot_neurons_per_layer(top_neurons[1][tag],title='Labels per layer in ArabicBERT '+tag)"
   ]
  },
  {
   "cell_type": "code",
   "execution_count": null,
   "metadata": {},
   "outputs": [],
   "source": [
    "plot_neurons_per_layer(top_neurons[1]['DET+NOUN'],title='Labels per layer in QARiB DET+NOUN')"
   ]
  },
  {
   "cell_type": "code",
   "execution_count": null,
   "metadata": {},
   "outputs": [],
   "source": [
    "X_zeroed = utils.zero_out_activations_keep_neurons(ordering[:10], X)\n",
    "utils.evaluate_model(model, X_zeroed, y, idx_to_class=idx2label)"
   ]
  },
  {
   "cell_type": "code",
   "execution_count": null,
   "metadata": {},
   "outputs": [],
   "source": [
    "activations"
   ]
  },
  {
   "cell_type": "code",
   "execution_count": null,
   "metadata": {},
   "outputs": [],
   "source": [
    "import aux_classifier.visualization as visualization\n",
    "visualization.visualize_activations(\"في إجراءات استثنائية بسبب وباء كورونا .\", activations[0][:, ordering[0]])"
   ]
  },
  {
   "cell_type": "code",
   "execution_count": null,
   "metadata": {},
   "outputs": [],
   "source": [
    "import svgwrite\n",
    "FONT_SIZE = 20\n",
    "MARGIN = 10\n",
    "CHAR_LIMIT = 61\n",
    "def break_lines(text, limit=50):\n",
    "    lines = []\n",
    "    curr_line = \"\"\n",
    "    for token in text.split(' '):\n",
    "        if len(curr_line) + 1 + len(token) < limit:\n",
    "            curr_line += token + \" \"\n",
    "        else:\n",
    "            lines.append(curr_line[:-1])\n",
    "            curr_line = token + \" \"\n",
    "    lines.append(curr_line[:-1])\n",
    "    return lines\n",
    "\n",
    "def get_rect_style(color, opacity):\n",
    "    return \"\"\"opacity:%0.5f;\n",
    "            fill:%s;\n",
    "            fill-opacity:1;\n",
    "            stroke:none;\n",
    "            stroke-width:0.26499999;\n",
    "            stroke-linecap:round;\n",
    "            stroke-linejoin:miter;\n",
    "            stroke-miterlimit:4;\n",
    "            stroke-dasharray:none;\n",
    "            stroke-dashoffset:0;\n",
    "            stroke-opacity:1\"\"\" % (opacity, color)\n",
    "\n",
    "def get_text_style(font_size):\n",
    "    return \"\"\"font-style:normal;\n",
    "            font-variant:normal;\n",
    "            font-weight:normal;\n",
    "            font-stretch:normal;\n",
    "            font-size:%0.2fpx;\n",
    "            line-height:125%%;\n",
    "            font-family:monospace;\n",
    "            -inkscape-font-specification:'Arial Unicode MS, Normal';\n",
    "            font-variant-ligatures:none;\n",
    "            font-variant-caps:normal;\n",
    "            font-variant-numeric:normal;\n",
    "            text-align:start;\n",
    "            writing-mode:lr-tb;\n",
    "            text-anchor:start;\n",
    "            stroke-width:0.26458332px\"\"\" % (font_size)\n"
   ]
  },
  {
   "cell_type": "code",
   "execution_count": null,
   "metadata": {},
   "outputs": [],
   "source": [
    "text = 'في إجراءات استثنائية بسبب وباء كورونا .'\n",
    "lines = break_lines(text, limit=CHAR_LIMIT)\n",
    "char_width = FONT_SIZE*0.59\n",
    "char_height = FONT_SIZE*1.25"
   ]
  },
  {
   "cell_type": "code",
   "execution_count": null,
   "metadata": {},
   "outputs": [],
   "source": [
    "lines"
   ]
  },
  {
   "cell_type": "code",
   "execution_count": null,
   "metadata": {},
   "outputs": [],
   "source": [
    "image_height = len(lines) * char_height * 1.2\n",
    "image_width = CHAR_LIMIT * char_width\n",
    "\n",
    "dwg = svgwrite.Drawing(\"tmp.svg\", size=(image_width, image_height),\n",
    "                    profile='full')\n",
    "dwg.viewbox(0, 0, image_width, image_height)\n"
   ]
  },
  {
   "cell_type": "code",
   "execution_count": null,
   "metadata": {},
   "outputs": [],
   "source": [
    "darken=2\n",
    "colors=[\"#d35f5f\", \"#00aad4\"]\n",
    "scores = activations[0][:, ordering[0]]\n",
    "offset = 0"
   ]
  },
  {
   "cell_type": "code",
   "execution_count": null,
   "metadata": {},
   "outputs": [],
   "source": [
    "group = dwg.g()\n",
    "for _ in range(darken):\n",
    "    word_idx = 0\n",
    "    for line_idx, line in enumerate(lines):\n",
    "        char_idx = 0\n",
    "        max_score = max(scores)\n",
    "        min_score = abs(min(scores))\n",
    "        limit = max(max_score, min_score)\n",
    "        for word in line.split(' '):\n",
    "            print('W:',word)\n",
    "            score = scores[word_idx]\n",
    "            if score > 0:\n",
    "                color = colors[1]\n",
    "                opacity = score/limit\n",
    "            else:\n",
    "                color = colors[0]\n",
    "                opacity = abs(score)/limit\n",
    "\n",
    "            for _ in word:\n",
    "                rect_insert = (0 + char_idx * char_width, offset + 7 + line_idx * char_height)\n",
    "                rect_size = (\"%.2fpx\"%(char_width), \"%0.2fpx\"%(char_height))\n",
    "                group.add(\n",
    "                    dwg.rect(insert=rect_insert,\n",
    "                            size=rect_size,\n",
    "                            style=get_rect_style(color, opacity)\n",
    "                            )\n",
    "                )\n",
    "                char_idx += 1\n",
    "\n",
    "            final_rect_insert = (0 + char_idx * char_width, offset + 7 + line_idx * char_height)\n",
    "            final_rect_size = (\"%.2fpx\"%(char_width), \"%0.2fpx\"%(char_height))\n",
    "            group.add(\n",
    "                dwg.rect(insert=final_rect_insert,\n",
    "                        size=final_rect_size,\n",
    "                        style=get_rect_style(color, opacity)\n",
    "                        )\n",
    "            )\n",
    "\n",
    "            char_idx += 1\n",
    "            word_idx += 1\n",
    "\n",
    "    for line_idx, line in enumerate(lines):\n",
    "        text_insert = (0, offset + FONT_SIZE*1.25*(line_idx+1))\n",
    "        print(text_insert,text)\n",
    "        text = dwg.text(text,\n",
    "                        insert=text_insert,\n",
    "                        fill='black',\n",
    "                        style=get_text_style(FONT_SIZE))\n",
    "        group.add(text)\n",
    "offset += FONT_SIZE*1.25*len(lines) + MARGIN\n",
    "\n",
    "dwg.add(group)"
   ]
  },
  {
   "cell_type": "code",
   "execution_count": null,
   "metadata": {},
   "outputs": [],
   "source": [
    "dwg"
   ]
  },
  {
   "cell_type": "code",
   "execution_count": null,
   "metadata": {},
   "outputs": [],
   "source": []
  }
 ],
 "metadata": {
  "kernelspec": {
   "display_name": "Python [conda env:neurox-aux_classifier] *",
   "language": "python",
   "name": "conda-env-neurox-aux_classifier-py"
  },
  "language_info": {
   "codemirror_mode": {
    "name": "ipython",
    "version": 3
   },
   "file_extension": ".py",
   "mimetype": "text/x-python",
   "name": "python",
   "nbconvert_exporter": "python",
   "pygments_lexer": "ipython3",
   "version": "3.7.9"
  }
 },
 "nbformat": 4,
 "nbformat_minor": 4
}
