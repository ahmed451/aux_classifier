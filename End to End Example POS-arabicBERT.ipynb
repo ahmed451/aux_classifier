{
 "cells": [
  {
   "cell_type": "markdown",
   "metadata": {},
   "source": [
    "# Imports"
   ]
  },
  {
   "cell_type": "code",
   "execution_count": 1,
   "metadata": {},
   "outputs": [],
   "source": [
    "import numpy as np\n",
    "\n",
    "# import sys\n",
    "# sys.path.append(\"/path/to/aux_classifier\")\n",
    "import aux_classifier.extraction as extraction\n",
    "import aux_classifier.data_loader as data_loader\n",
    "import aux_classifier.utils as utils\n",
    "\n",
    "\n",
    "import matplotlib.pyplot as plt\n",
    "\n",
    "def plot_neurons_per_layer(toplayers, title, numberlayers=13, layersize = 768):\n",
    "    nlayers = np.floor_divide(toplayers,layersize)\n",
    "    (unique, counts) = np.unique(nlayers, return_counts=True)\n",
    "    layersLabels = np.arange(numberlayers)\n",
    "    layersCounts = np.zeros(numberlayers)\n",
    "    for i in range(len(unique)):\n",
    "        layersCounts[unique[i]]=counts[i]\n",
    "    plt.bar(layersLabels, layersCounts, align='center', alpha=0.5)\n",
    "    plt.xticks(layersLabels)\n",
    "    plt.ylabel('Counts')\n",
    "    plt.title(title)\n",
    "\n",
    "    plt.show()"
   ]
  },
  {
   "cell_type": "markdown",
   "metadata": {},
   "source": [
    "# Data"
   ]
  },
  {
   "cell_type": "code",
   "execution_count": null,
   "metadata": {},
   "outputs": [],
   "source": [
    "!cat examples/test.ar"
   ]
  },
  {
   "cell_type": "code",
   "execution_count": null,
   "metadata": {},
   "outputs": [],
   "source": [
    "!cat examples/test.ar.label"
   ]
  },
  {
   "cell_type": "markdown",
   "metadata": {},
   "source": [
    "# Extract Representations"
   ]
  },
  {
   "cell_type": "markdown",
   "metadata": {},
   "source": [
    "Models to upload:\n",
    "* [QARiB](https://huggingface.co/qarib/bert-base-qarib) ```'qarib/bert-base-qarib'```\n",
    "* [AraBERT](https://huggingface.co/aubmindlab/bert-base-arabert) ```'aubmindlab/bert-base-arabert'```\n",
    "* [ArabicBERT](https://huggingface.co/asafaya/bert-base-arabic) ```'asafaya/bert-base-arabic'```\n",
    "* [mBERT](https://huggingface.co/bert-base-multilingual-cased) ```'bert-base-multilingual-cased'```"
   ]
  },
  {
   "cell_type": "markdown",
   "metadata": {},
   "source": [
    "1.  QARiB"
   ]
  },
  {
   "cell_type": "code",
   "execution_count": null,
   "metadata": {},
   "outputs": [],
   "source": [
    "\n",
    "extraction.extract_representations('qarib/bert-base-qarib',\n",
    "                                   '/QCRI/Dev/ArabicNLP/NeuroX/data/POS/msa/WikiNewsTruth.txt',\n",
    "                                   '/QCRI/Dev/ArabicNLP/NeuroX/data/POS/msa/WikiNewsTruth.txt.qarib_activations.json',\n",
    "                                   aggregation=\"average\"\n",
    "                                  )"
   ]
  },
  {
   "cell_type": "markdown",
   "metadata": {},
   "source": [
    "2. AraBERT"
   ]
  },
  {
   "cell_type": "code",
   "execution_count": null,
   "metadata": {},
   "outputs": [],
   "source": [
    "extraction.extract_representations('aubmindlab/bert-base-arabert',\n",
    "                                   '/QCRI/Dev/ArabicNLP/NeuroX/data/POS/msa/WikiNewsTruth.txt',\n",
    "                                   '/QCRI/Dev/ArabicNLP/NeuroX/data/POS/msa/WikiNewsTruth.txt.arabert_activations.json',\n",
    "                                   aggregation=\"average\"\n",
    "                                  )"
   ]
  },
  {
   "cell_type": "markdown",
   "metadata": {},
   "source": [
    "3. ArabicBERT"
   ]
  },
  {
   "cell_type": "code",
   "execution_count": null,
   "metadata": {},
   "outputs": [],
   "source": [
    "\n",
    "extraction.extract_representations('asafaya/bert-base-arabic',\n",
    "                                   '/QCRI/Dev/ArabicNLP/NeuroX/data/POS/msa/WikiNewsTruth.txt',\n",
    "                                   '/QCRI/Dev/ArabicNLP/NeuroX/data/POS/msa/WikiNewsTruth.txt.arabicbert_activations.json',\n",
    "                                   aggregation=\"average\"\n",
    "                                  )"
   ]
  },
  {
   "cell_type": "markdown",
   "metadata": {},
   "source": [
    "4. mBERT"
   ]
  },
  {
   "cell_type": "code",
   "execution_count": null,
   "metadata": {},
   "outputs": [],
   "source": [
    "extraction.extract_representations('bert-base-multilingual-cased',\n",
    "                                   '/QCRI/Dev/ArabicNLP/NeuroX/data/POS/msa/WikiNewsTruth.txt',\n",
    "                                   '/QCRI/Dev/ArabicNLP/NeuroX/data/POS/msa/WikiNewsTruth.txt.mbert_activations.json',\n",
    "                                   aggregation=\"average\"\n",
    "                                  )"
   ]
  },
  {
   "cell_type": "code",
   "execution_count": null,
   "metadata": {},
   "outputs": [],
   "source": [
    "!cut -c1-100 < examples/activations.json"
   ]
  },
  {
   "cell_type": "markdown",
   "metadata": {},
   "source": [
    "# Prepare Data"
   ]
  },
  {
   "cell_type": "code",
   "execution_count": null,
   "metadata": {},
   "outputs": [],
   "source": [
    "# Loading QARiB\n",
    "activations_path='/QCRI/Dev/ArabicNLP/NeuroX/data/POS/msa/WikiNewsTruth.txt.qarib_activations.json'\n",
    "activations, num_layers = data_loader.load_activations(activations_path, 768, 512)"
   ]
  },
  {
   "cell_type": "code",
   "execution_count": null,
   "metadata": {},
   "outputs": [],
   "source": [
    "# Loading araBERT\n",
    "activations_path='/QCRI/Dev/ArabicNLP/NeuroX/data/POS/msa/WikiNewsTruth.txt.arabert_activations.json'\n",
    "activations, num_layers = data_loader.load_activations(activations_path, 768, 512)"
   ]
  },
  {
   "cell_type": "code",
   "execution_count": 2,
   "metadata": {},
   "outputs": [
    {
     "name": "stdout",
     "output_type": "stream",
     "text": [
      "Loading json activations from /QCRI/Dev/ArabicNLP/NeuroX/data/POS/msa/WikiNewsTruth.txt.arabicbert_activations.json...\n",
      "399 13.0\n"
     ]
    }
   ],
   "source": [
    "# Loading arabicBERT\n",
    "activations_path='/QCRI/Dev/ArabicNLP/NeuroX/data/POS/msa/WikiNewsTruth.txt.arabicbert_activations.json'\n",
    "activations, num_layers = data_loader.load_activations(activations_path, 768, 512)"
   ]
  },
  {
   "cell_type": "code",
   "execution_count": null,
   "metadata": {},
   "outputs": [],
   "source": [
    "# Loading mBERT\n",
    "activations_path='/QCRI/Dev/ArabicNLP/NeuroX/data/POS/msa/WikiNewsTruth.txt.mbert_activations.json'\n",
    "activations, num_layers = data_loader.load_activations(activations_path, 768, 512)"
   ]
  },
  {
   "cell_type": "code",
   "execution_count": null,
   "metadata": {},
   "outputs": [],
   "source": [
    "#activations"
   ]
  },
  {
   "cell_type": "code",
   "execution_count": null,
   "metadata": {},
   "outputs": [],
   "source": [
    "activations[1].shape"
   ]
  },
  {
   "cell_type": "code",
   "execution_count": 3,
   "metadata": {},
   "outputs": [
    {
     "name": "stdout",
     "output_type": "stream",
     "text": [
      "Ignored one line 338 line: ['بعد', 'شهر', 'على', 'رحيل', 'المغني', 'الأميركي', 'مايكل', 'جاكسون', 'لا', 'تزال', 'الإشاعات', 'والتكهنات', 'تتناول', 'أسباب', 'وفاته', 'ومصير', 'جثمانه', 'اللذين', 'يبقيان', 'لغزا', '،', 'بالإضافة', 'إلى', 'مستقبل', 'أملاكه', 'ومصير', 'أولاده', '،', 'فيما', 'تتزايد', 'نظريات', 'المؤامرة', '.', 'والتحقيق', 'في', 'وفاة', 'ملك', 'البوب', 'عن', 'خمسين', 'عاما', 'في', '25', 'يونيو', 'في', 'منزله', '،', 'الذي', 'كان', 'يستأجره', 'في', 'لوس', 'أنجلوس', '،', 'تقدم', 'بعض', 'الشيء', 'مع', 'ظهور', 'كلمة', '\"', 'جريمة', 'قتل', '\"', 'للمرة', 'الأولى', 'الأربعاء', '،', 'من', 'قبل', 'شخص', 'ضالع', 'مباشرة', 'في', 'القضية', '،', 'رغم', 'أن', 'العديد', 'من', 'المصادر', 'غير', 'الرسمية', 'أكدت', 'أن', 'شرطة', 'لوس', 'أنجلوس', 'قررت', 'معالجة', 'التحقيقات', 'باعتبار', 'القضية', '\"', 'إجرامية', '\"', '.', 'وزادت', 'الشبهات', 'حول', 'طبيبه', 'كونراد', 'موراي', 'الذي', 'كان', 'متواجدا', 'مع', 'مايكل', 'جاكسون', 'عند', 'وفاته', 'والذي', 'داهمت', 'الشرطة', 'أحد', 'مكاتبه', '.', 'وأكد', 'محامي', 'موراي', 'طبيب', 'القلب', '(', '51', 'عاما', ')', '،', 'الذي', 'كان', 'يتولى', 'منذ', 'مايو', 'متابعة', 'مايكل', 'جاكسون', 'صحيا', 'للتحضير', 'لعودته', 'الكبيرة', 'إلى', 'الساحة', 'الغنائية', 'في', 'لندن', 'في', 'يوليو', '،', 'أن', 'موكله', 'غير', 'مذنب', 'بأي', 'جرم', '.', 'لكن', 'المقربين', 'من', 'المغني', 'يتهمون', 'الأطباء', 'بأنهم', 'تسببوا', 'بوفاته', 'عبر', 'وصف', 'أدوية', 'له', '،', 'فيما', 'قال', 'والده', 'جو', 'إن', 'ابنه', 'كان', '\"', 'ضحية', 'جريمة', 'قتل', '\"', '.', 'وأشارت', 'عدة', 'إفادات', 'إلى', 'إدمان', '\"', 'ملك', 'البوب', '\"', 'على', 'المهدئات', 'والأدوية', 'المسكنة', '.', 'ويركز', 'المحققون', 'في', 'عملهم', 'على', 'الدور', 'الذي', 'قد', 'يكون', 'لعبه', 'مخدر', 'قوي', 'هو', 'ديبريفان', 'الذي', 'عثر', 'عليه', 'في', 'منزل', 'جاكسون', '.', 'والديبريفان', '(', 'الاسم', 'التجاري', 'للبروبفول', ')', 'مخدر', 'قوي', 'للغاية', 'مخصص', 'للاستخدام', 'الطبي', 'ويفترض', 'ألا', 'يكون', 'في', 'منزل', 'مريض', 'ما', '.', 'ولا', 'يزال', 'من', 'غير', 'المعروف', 'ما', 'إذا', 'تم', 'رصد', 'هذا', 'الدواء', 'المخدر', 'خلال', 'تشريح', 'جثة', 'مايكل', 'جاكسون', '.', 'وجثمان', 'المغني', 'الأميركي', '،', 'الذي', 'لم', 'يعرف', 'مكان', 'مثواه', 'الأخير', '،', 'لا', 'يزال', 'مصيره', 'مجهولا', '،', 'وقد', 'خضع', 'لعمليتي', 'تشريح', 'ينتظر', 'أن', 'تظهر', 'نتائجهما', 'في', 'الأيام', 'المقبلة', '.', 'وكل', 'هذه', 'العناصر', 'الغامضة', 'زادت', 'من', 'الإشاعات', '.', 'وعبرت', 'شقيقة', 'جاكسون', 'لاتويا', 'في', 'حديث', 'مع', 'صحيفة', 'بريطانية', 'عن', 'شكوكها', 'وقالت', '\"', 'أعتقد', 'أن', 'مايكل', 'تعرض', 'للقتل', '.', 'لقد', 'ساورتني', 'هذه', 'المشاعر', 'منذ', 'البداية', '\"', '.', 'وأضافت', '\"', 'عدة', 'أشخاص', 'متورطين', 'في', 'هذه', 'المؤامرة', 'وليس', 'شخصا', 'واحدا', '.', 'كان', 'محاطا', 'بأفراد', 'يضمرون', 'له', 'الشر', '.', 'كان', 'مايكل', 'شخصا', 'طيبا', 'ومحبا', 'واستغل', 'أفراد', 'هذا', 'الجانب', 'من', 'شخصيته', '\"', '.', 'وقالت', '\"', 'كانت', 'ثروة', 'مايكل', 'تزيد', 'على', 'مليار', 'دولار', '.', 'عندما', 'يساوي', 'شخص', 'هذا', 'المبلغ', 'الكبير', 'من', 'المال', 'من', 'الطبيعي', 'أن', 'يحوم', 'حوله', 'أشخاص', 'لا', 'يضمرون', 'له', 'الخير', '\"', '.', 'وينتظر', 'المعجبون', 'أيضا', 'أن', 'يعرفوا', 'مكان', 'المثوى', 'الأخير', 'لملك', 'البوب', '،', 'بعدما', 'لم', 'يتمكن', 'أحد', 'من', 'اقتفاء', 'أثر', 'النعش', 'بعد', 'انتهاء', 'حفل', 'تكريم', 'المغني', 'في', '7', 'يوليو', 'في', 'ستايبلس', 'سنتر', 'في', 'لوس', 'أنجلوس', '.', 'ويقول', 'البعض', 'إنه', 'دفن', 'في', 'مزرعته', 'نيفرلاند', 'في', 'كاليفورنيا', '.', 'وفي', 'هذا', 'الوقت', 'تتولى', 'مجموعة', 'كبرى', 'من', 'المحامين', 'محاولة', 'حل', 'المشاكل', 'القانونية', 'التي', 'ظهرت', 'بعد', 'وفاته', '.', 'فقد', 'أوكلت', 'الإدارة', 'المؤقتة', 'لممتلكاته', 'إلى', 'شخصين', 'اختارهما', 'المغني', 'الراحل', 'في', 'وصيته', '.', 'وتعقد', 'جلسة', 'في', '3', 'أغسطس', 'في', 'هذا', 'الصدد', '،', 'فيما', 'ترغب', 'والدته', 'كاثرين', 'في', 'أن', 'تكون', 'بين', 'الورثة', 'الرئيسيين', '.', 'أما', 'أولاد', 'ملك', 'البوب', '،', 'برنس', 'مايكل', '(', '12', 'عاما', ')', 'وباريس', '(', '11', 'عاما', ')', 'وبرنس', 'مايكل', '2', '(', '7', 'أعوام', ')', 'فقد', 'أوكل', 'حق', 'حضانتهم', 'إلى', 'جدتهم', 'كاثرين', 'كما', 'كان', 'يرغب', 'المغني', '.', 'لكن', 'ديبي', 'رو', '،', 'والدة', 'برنس', 'مايكل', 'وباريس', '،', 'لم', 'تقرر', 'بعد', 'ما', 'إذا', 'كانت', 'ستطلب', 'حق', 'حضانة', 'الولدين', '.', 'وسيلتقي', 'محامو', 'المرأتين', 'في', '3', 'أغسطس', 'أمام', 'القضاء', 'بعد', 'إرجاء', 'ثلاث', 'جلسات', 'سابقة', '.']  Max: 512\n",
      "Source tokens: 399\n",
      "Ignored one label 399 line: ['NOUN', 'NOUN', 'PREP', 'NOUN', 'DET+NOUN', 'DET+ADJ', 'NOUN', 'NOUN', 'PART', 'V', 'DET+NOUN+NSUFF', 'CONJ+DET+NOUN+NSUFF', 'V', 'NOUN', 'NOUN+NSUFF+PRON', 'CONJ+NOUN', 'NOUN+PRON', 'PART', 'V+PRON', 'NOUN+CASE', 'PUNC', 'PREP+DET+NOUN+NSUFF', 'PREP', 'NOUN', 'NOUN+PRON', 'CONJ+NOUN', 'NOUN+PRON', 'PUNC', 'PART/PREP+PART', 'V', 'NOUN+NSUFF', 'DET+NOUN+NSUFF', 'PUNC', 'CONJ+DET+NOUN', 'PREP', 'NOUN+NSUFF', 'NOUN', 'DET+NOUN', 'PREP', 'NUM+NSUFF', 'NOUN+CASE', 'PREP', 'NUM', 'NOUN', 'PREP', 'NOUN+PRON', 'PUNC', 'PART', 'V', 'V+PRON', 'PREP', 'NOUN', 'NOUN', 'PUNC', 'V', 'NOUN', 'DET+NOUN', 'NOUN', 'NOUN', 'NOUN+NSUFF', 'PUNC', 'NOUN+NSUFF', 'NOUN', 'PUNC', 'PREP+DET+NOUN+NSUFF', 'DET+ADJ', 'DET+NOUN', 'PUNC', 'PREP', 'NOUN', 'NOUN', 'ADJ', 'NOUN+NSUFF', 'PREP', 'DET+NOUN+NSUFF', 'PUNC', 'NOUN', 'PART', 'DET+ADJ', 'PREP', 'DET+NOUN', 'PART/NOUN', 'DET+ADJ+NSUFF', 'V+PRON', 'PART', 'NOUN+NSUFF', 'NOUN', 'NOUN', 'V+PRON', 'NOUN+NSUFF', 'DET+NOUN+NSUFF', 'PREP+NOUN', 'DET+NOUN+NSUFF', 'PUNC', 'ADJ+NSUFF', 'PUNC', 'PUNC', 'CONJ+V+PRON', 'DET+NOUN+NSUFF', 'NOUN', 'NOUN+PRON', 'NOUN', 'NOUN', 'PART', 'V', 'ADJ+CASE', 'NOUN', 'NOUN', 'NOUN', 'NOUN', 'NOUN+NSUFF+PRON', 'CONJ+PART', 'V+PRON', 'DET+NOUN+NSUFF', 'NOUN', 'NOUN+PRON', 'PUNC', 'CONJ+V', 'NOUN', 'NOUN', 'NOUN', 'DET+NOUN', 'PUNC', 'NUM', 'NOUN+CASE', 'PUNC', 'PUNC', 'PART', 'V', 'V', 'PREP', 'NOUN', 'NOUN+NSUFF', 'NOUN', 'NOUN', 'ADJ+CASE', 'PREP+DET+NOUN', 'PREP+NOUN+NSUFF+PRON', 'DET+ADJ+NSUFF', 'PREP', 'DET+NOUN+NSUFF', 'DET+ADJ+NSUFF', 'PREP', 'NOUN', 'PREP', 'NOUN', 'PUNC', 'PART', 'NOUN+PRON', 'PART/NOUN', 'ADJ', 'PREP+NOUN', 'NOUN', 'PUNC', 'PART', 'DET+NOUN+NSUFF', 'PREP', 'DET+NOUN', 'V+PRON', 'DET+NOUN', 'PREP+PART+PRON', 'V+PRON', 'PREP+NOUN+NSUFF+PRON', 'NOUN', 'NOUN', 'NOUN+NSUFF', 'PREP+PRON', 'PUNC', 'PART/PREP+PART', 'V', 'NOUN+PRON', 'NOUN', 'PART', 'NOUN+PRON', 'V', 'PUNC', 'NOUN+NSUFF', 'NOUN+NSUFF', 'NOUN', 'PUNC', 'PUNC', 'CONJ+V+PRON', 'NOUN+NSUFF/ADJ+NSUFF', 'NOUN+NSUFF', 'PREP', 'NOUN', 'PUNC', 'NOUN', 'DET+NOUN', 'PUNC', 'PREP', 'DET+NOUN+NSUFF', 'CONJ+DET+NOUN+NSUFF', 'DET+ADJ+NSUFF', 'PUNC', 'CONJ+V', 'DET+NOUN+NSUFF', 'PREP', 'NOUN+PRON', 'PREP', 'DET+NOUN', 'PART', 'PART', 'V', 'V+PRON', 'NOUN', 'ADJ', 'PRON', 'NOUN', 'PART', 'V', 'PREP+PRON', 'PREP', 'NOUN', 'NOUN', 'PUNC', 'CONJ+DET+NOUN', 'PUNC', 'DET+NOUN', 'DET+ADJ', 'PREP+DET+NOUN', 'PUNC', 'NOUN', 'ADJ', 'PREP+DET+NOUN+NSUFF', 'ADJ', 'PREP+DET+NOUN', 'DET+ADJ', 'CONJ+V', 'PART+PART/PART', 'V', 'PREP', 'NOUN', 'NOUN', 'PART', 'PUNC', 'CONJ+PART', 'V', 'PREP', 'NOUN', 'DET+ADJ', 'PART', 'PART', 'V', 'NOUN', 'PRON', 'DET+NOUN', 'DET+ADJ', 'NOUN', 'NOUN', 'NOUN+NSUFF', 'NOUN', 'NOUN', 'PUNC', 'CONJ+NOUN', 'DET+NOUN', 'DET+ADJ', 'PUNC', 'PART', 'PART', 'V', 'NOUN', 'NOUN+PRON', 'DET+ADJ', 'PUNC', 'PART', 'V', 'NOUN+PRON', 'ADJ+CASE', 'PUNC', 'CONJ+PART', 'V', 'PREP+NOUN+NSUFF+NSUFF', 'NOUN', 'V', 'PART', 'V', 'NOUN+PRON', 'PREP', 'DET+NOUN', 'DET+ADJ+NSUFF', 'PUNC', 'CONJ+NOUN', 'PRON', 'DET+NOUN', 'DET+ADJ+NSUFF', 'V+PRON', 'PREP', 'DET+NOUN+NSUFF', 'PUNC', 'CONJ+V+PRON', 'NOUN+NSUFF', 'NOUN', 'NOUN', 'PREP', 'NOUN', 'NOUN', 'NOUN+NSUFF', 'ADJ+NSUFF', 'PREP', 'NOUN+PRON', 'CONJ+V+PRON', 'PUNC', 'V', 'PART', 'NOUN', 'V', 'PREP+DET+NOUN', 'PUNC', 'PART', 'V+PRON+PRON', 'PRON', 'DET+NOUN', 'PREP', 'DET+NOUN+NSUFF', 'PUNC', 'PUNC', 'CONJ+V+PRON', 'PUNC', 'NOUN+NSUFF/ADJ+NSUFF', 'NOUN', 'ADJ+NSUFF', 'PREP', 'PRON', 'DET+NOUN+NSUFF', 'CONJ+V', 'NOUN+CASE', 'ADJ+CASE', 'PUNC', 'V', 'ADJ+CASE', 'PREP+NOUN', 'V+PRON', 'PREP+PRON', 'DET+NOUN', 'PUNC', 'V', 'NOUN', 'NOUN+CASE', 'ADJ+CASE', 'CONJ+ADJ+CASE', 'CONJ+V', 'NOUN', 'PRON', 'DET+NOUN', 'PREP', 'NOUN+NSUFF+PRON', 'PUNC', 'PUNC', 'CONJ+V+PRON', 'PUNC', 'V+PRON', 'NOUN+NSUFF', 'NOUN', 'V', 'PREP', 'NUM', 'NOUN', 'PUNC', 'PART/NOUN+PART', 'V', 'NOUN', 'PRON', 'DET+NOUN', 'DET+ADJ', 'PREP', 'DET+NOUN', 'PREP', 'DET+ADJ', 'PART', 'V', 'NOUN+PRON', 'NOUN', 'PART', 'V+PRON', 'PREP+PRON', 'DET+NOUN', 'PUNC', 'PUNC', 'CONJ+V', 'DET+ADJ+NSUFF', 'ADV+CASE', 'PART', 'V+PRON', 'NOUN', 'DET+NOUN', 'DET+ADJ', 'PREP+NOUN', 'DET+NOUN', 'PUNC', 'PART', 'PART', 'V', 'NOUN', 'PREP', 'NOUN', 'NOUN', 'DET+NOUN', 'NOUN', 'NOUN', 'NOUN', 'NOUN', 'DET+NOUN', 'PREP', 'NUM', 'NOUN', 'PREP', 'NOUN', 'NOUN', 'PREP', 'NOUN', 'NOUN', 'PUNC', 'CONJ+V', 'DET+NOUN', 'PART+PRON', 'V', 'PREP', 'NOUN+NSUFF+PRON', 'NOUN', 'PREP', 'NOUN', 'PUNC', 'CONJ+PREP', 'PRON', 'DET+NOUN', 'V', 'NOUN+NSUFF', 'ADJ', 'PREP', 'DET+NOUN+NSUFF', 'NOUN+NSUFF', 'NOUN', 'DET+NOUN', 'DET+ADJ+NSUFF', 'PART', 'V+PRON', 'NOUN', 'NOUN+NSUFF+PRON', 'PUNC', 'CONJ+PART', 'V+PRON', 'DET+NOUN+NSUFF', 'DET+ADJ+NSUFF', 'PREP+NOUN+NSUFF+PRON', 'PREP', 'NOUN+NSUFF', 'V+PRON', 'DET+NOUN', 'DET+ADJ', 'PREP', 'CONJ+NOUN+PRON', 'PUNC', 'CONJ+V', 'NOUN+NSUFF', 'PREP', 'NUM', 'NOUN', 'PREP', 'PRON', 'DET+NOUN', 'PUNC', 'PART/PREP+PART', 'V', 'NOUN+NSUFF+PRON', 'NOUN', 'PREP', 'PART', 'V', 'NOUN', 'DET+NOUN+NSUFF', 'DET+ADJ+NSUFF', 'PUNC', 'PART', 'NOUN', 'NOUN', 'DET+NOUN', 'PUNC', 'NOUN', 'NOUN', 'PUNC', 'NUM', 'NOUN+CASE', 'PUNC', 'CONJ+NOUN', 'PUNC', 'NUM', 'NOUN+CASE', 'PUNC', 'CONJ+NOUN', 'NOUN', 'NUM', 'PUNC', 'NUM', 'NOUN', 'PUNC', 'CONJ+PART', 'V', 'NOUN', 'NOUN+NSUFF+PRON', 'PREP', 'NOUN+NSUFF+PRON', 'NOUN', 'PREP+PART/CONJ', 'V', 'V', 'DET+NOUN', 'PUNC', 'PART', 'NOUN', 'NOUN', 'PUNC', 'NOUN+NSUFF', 'NOUN', 'NOUN', 'CONJ+NOUN', 'PUNC', 'PART', 'V', 'NOUN', 'PART', 'PART', 'V+PRON', 'FUT_PART+V', 'NOUN', 'NOUN+NSUFF', 'DET+NOUN+NSUFF', 'PUNC', 'CONJ+FUT_PART+V', 'NOUN+NSUFF', 'DET+NOUN+NSUFF+NSUFF', 'PREP', 'NUM', 'NOUN', 'NOUN', 'DET+NOUN', 'NOUN', 'NOUN', 'NUM', 'NOUN+NSUFF', 'ADJ+NSUFF', 'PUNC']  Max: 512\n",
      "Target tokens: 399\n"
     ]
    }
   ],
   "source": [
    "tokens = data_loader.load_data('/QCRI/Dev/ArabicNLP/NeuroX/data/POS/msa/WikiNewsTruth.txt',\n",
    "                               '/QCRI/Dev/ArabicNLP/NeuroX/data/POS/msa/WikiNewsTruth.txt.POS',\n",
    "                               activations,\n",
    "                               512\n",
    "                              )"
   ]
  },
  {
   "cell_type": "code",
   "execution_count": 4,
   "metadata": {},
   "outputs": [
    {
     "data": {
      "text/plain": [
       "[['#', 'ثقافة'],\n",
       " ['فيلم',\n",
       "  'جاذبية',\n",
       "  'يتصدر',\n",
       "  'ترشيحات',\n",
       "  'جوائز',\n",
       "  'الأكاديمية',\n",
       "  'البريطانية',\n",
       "  'لفنون',\n",
       "  'الفيلم',\n",
       "  'والتلفزيون']]"
      ]
     },
     "execution_count": 4,
     "metadata": {},
     "output_type": "execute_result"
    }
   ],
   "source": [
    "tokens['source'][:2]"
   ]
  },
  {
   "cell_type": "code",
   "execution_count": 5,
   "metadata": {},
   "outputs": [
    {
     "name": "stdout",
     "output_type": "stream",
     "text": [
      "Number of tokens:  17758\n",
      "length of source dictionary:  6655\n",
      "length of target dictionary:  110\n",
      "17758\n",
      "Total instances: 17758\n",
      "['للهبوط', 'والمجر', 'شمل', 'أيام', 'ريتا', 'القلب', 'ميزيرابل', 'واللقاحات', 'بورصة', 'مصير', 'نظام', 'منتخب', 'المغربية', 'شواهد', 'اللغات', 'وزير', 'الأصوات', 'مر', 'ولكنه', 'الوزارية']\n"
     ]
    }
   ],
   "source": [
    "X, y, mapping = utils.create_tensors(tokens, activations, 'LABEL1')\n",
    "label2idx, idx2label, src2idx, idx2src = mapping"
   ]
  },
  {
   "cell_type": "markdown",
   "metadata": {},
   "source": [
    "# Train Probing Classifier"
   ]
  },
  {
   "cell_type": "code",
   "execution_count": 6,
   "metadata": {},
   "outputs": [
    {
     "name": "stdout",
     "output_type": "stream",
     "text": [
      "Training classification model\n",
      "Creating model...\n",
      "Number of training instances: 17758\n",
      "Number of classes: 110\n"
     ]
    },
    {
     "data": {
      "application/vnd.jupyter.widget-view+json": {
       "model_id": "1a81afad5f12494aa8378269f3e12070",
       "version_major": 2,
       "version_minor": 0
      },
      "text/plain": [
       "HBox(children=(HTML(value='epoch [1/10]'), FloatProgress(value=1.0, bar_style='info', layout=Layout(width='20p…"
      ]
     },
     "metadata": {},
     "output_type": "display_data"
    },
    {
     "name": "stdout",
     "output_type": "stream",
     "text": [
      "\n",
      "Epoch: [1/10], Loss: 0.1195\n"
     ]
    },
    {
     "data": {
      "application/vnd.jupyter.widget-view+json": {
       "model_id": "692d308c502b41a6bbb90f06db990164",
       "version_major": 2,
       "version_minor": 0
      },
      "text/plain": [
       "HBox(children=(HTML(value='epoch [2/10]'), FloatProgress(value=1.0, bar_style='info', layout=Layout(width='20p…"
      ]
     },
     "metadata": {},
     "output_type": "display_data"
    },
    {
     "name": "stdout",
     "output_type": "stream",
     "text": [
      "\n",
      "Epoch: [2/10], Loss: 0.1100\n"
     ]
    },
    {
     "data": {
      "application/vnd.jupyter.widget-view+json": {
       "model_id": "ae42cfb780be4d3eaa2e0497ada91f77",
       "version_major": 2,
       "version_minor": 0
      },
      "text/plain": [
       "HBox(children=(HTML(value='epoch [3/10]'), FloatProgress(value=1.0, bar_style='info', layout=Layout(width='20p…"
      ]
     },
     "metadata": {},
     "output_type": "display_data"
    },
    {
     "name": "stdout",
     "output_type": "stream",
     "text": [
      "\n",
      "Epoch: [3/10], Loss: 0.1083\n"
     ]
    },
    {
     "data": {
      "application/vnd.jupyter.widget-view+json": {
       "model_id": "5536bffa5f4c47438272d0513cedb2f8",
       "version_major": 2,
       "version_minor": 0
      },
      "text/plain": [
       "HBox(children=(HTML(value='epoch [4/10]'), FloatProgress(value=1.0, bar_style='info', layout=Layout(width='20p…"
      ]
     },
     "metadata": {},
     "output_type": "display_data"
    },
    {
     "name": "stdout",
     "output_type": "stream",
     "text": [
      "\n",
      "Epoch: [4/10], Loss: 0.1061\n"
     ]
    },
    {
     "data": {
      "application/vnd.jupyter.widget-view+json": {
       "model_id": "d49f8f471c314046a9e94863c2b1c9fe",
       "version_major": 2,
       "version_minor": 0
      },
      "text/plain": [
       "HBox(children=(HTML(value='epoch [5/10]'), FloatProgress(value=1.0, bar_style='info', layout=Layout(width='20p…"
      ]
     },
     "metadata": {},
     "output_type": "display_data"
    },
    {
     "name": "stdout",
     "output_type": "stream",
     "text": [
      "\n",
      "Epoch: [5/10], Loss: 0.1060\n"
     ]
    },
    {
     "data": {
      "application/vnd.jupyter.widget-view+json": {
       "model_id": "e79158fb7782431fa85f05b8404ff651",
       "version_major": 2,
       "version_minor": 0
      },
      "text/plain": [
       "HBox(children=(HTML(value='epoch [6/10]'), FloatProgress(value=1.0, bar_style='info', layout=Layout(width='20p…"
      ]
     },
     "metadata": {},
     "output_type": "display_data"
    },
    {
     "name": "stdout",
     "output_type": "stream",
     "text": [
      "\n",
      "Epoch: [6/10], Loss: 0.1070\n"
     ]
    },
    {
     "data": {
      "application/vnd.jupyter.widget-view+json": {
       "model_id": "30ed56c00f174d1abc47d9a00ef6854d",
       "version_major": 2,
       "version_minor": 0
      },
      "text/plain": [
       "HBox(children=(HTML(value='epoch [7/10]'), FloatProgress(value=1.0, bar_style='info', layout=Layout(width='20p…"
      ]
     },
     "metadata": {},
     "output_type": "display_data"
    },
    {
     "name": "stdout",
     "output_type": "stream",
     "text": [
      "\n",
      "Epoch: [7/10], Loss: 0.1066\n"
     ]
    },
    {
     "data": {
      "application/vnd.jupyter.widget-view+json": {
       "model_id": "327e7e3baa4f46a7a03a7dbb8b5772aa",
       "version_major": 2,
       "version_minor": 0
      },
      "text/plain": [
       "HBox(children=(HTML(value='epoch [8/10]'), FloatProgress(value=1.0, bar_style='info', layout=Layout(width='20p…"
      ]
     },
     "metadata": {},
     "output_type": "display_data"
    },
    {
     "name": "stdout",
     "output_type": "stream",
     "text": [
      "\n",
      "Epoch: [8/10], Loss: 0.1062\n"
     ]
    },
    {
     "data": {
      "application/vnd.jupyter.widget-view+json": {
       "model_id": "20aa6739dbc0448dbb732e48f30adc38",
       "version_major": 2,
       "version_minor": 0
      },
      "text/plain": [
       "HBox(children=(HTML(value='epoch [9/10]'), FloatProgress(value=1.0, bar_style='info', layout=Layout(width='20p…"
      ]
     },
     "metadata": {},
     "output_type": "display_data"
    },
    {
     "name": "stdout",
     "output_type": "stream",
     "text": [
      "\n",
      "Epoch: [9/10], Loss: 0.1060\n"
     ]
    },
    {
     "data": {
      "application/vnd.jupyter.widget-view+json": {
       "model_id": "129c7c0361d44254ae3c0eea3607c8e8",
       "version_major": 2,
       "version_minor": 0
      },
      "text/plain": [
       "HBox(children=(HTML(value='epoch [10/10]'), FloatProgress(value=1.0, bar_style='info', layout=Layout(width='20…"
      ]
     },
     "metadata": {},
     "output_type": "display_data"
    },
    {
     "name": "stdout",
     "output_type": "stream",
     "text": [
      "\n",
      "Epoch: [10/10], Loss: 0.1057\n"
     ]
    }
   ],
   "source": [
    "model = utils.train_logreg_model(X, y, lambda_l1=0.001, lambda_l2=0.001)"
   ]
  },
  {
   "cell_type": "markdown",
   "metadata": {},
   "source": [
    "# Evaluate Model"
   ]
  },
  {
   "cell_type": "code",
   "execution_count": 7,
   "metadata": {},
   "outputs": [
    {
     "data": {
      "application/vnd.jupyter.widget-view+json": {
       "model_id": "4b7c0ddcda9d4941ba26c941dc6689cf",
       "version_major": 2,
       "version_minor": 0
      },
      "text/plain": [
       "HBox(children=(HTML(value='Evaluating'), FloatProgress(value=1.0, bar_style='info', layout=Layout(width='20px'…"
      ]
     },
     "metadata": {},
     "output_type": "display_data"
    },
    {
     "name": "stdout",
     "output_type": "stream",
     "text": [
      "\n",
      "Score (accuracy) of the model: 0.76\n"
     ]
    },
    {
     "data": {
      "text/plain": [
       "{'__OVERALL__': 0.7567856740623944,\n",
       " 'ADV+CASE': 0.0,\n",
       " 'ADJ+PRON': 0.0,\n",
       " 'DET+NOUN+NSUFF/DET+NUM+NSUFF': 1.0,\n",
       " 'CONJ+NUM+NSUFF': 0.2,\n",
       " 'NOUN+NSUFF/ADJ+NSUFF': 0.7857142857142857,\n",
       " 'V+PRON': 0.7394957983193278,\n",
       " 'CONJ+V+PRON': 0.7909090909090909,\n",
       " 'PREP+PART+PRON': 0.0,\n",
       " 'NOUN+NSUFF': 0.440337909186906,\n",
       " 'NUM+CASE': 0.0,\n",
       " 'CONJ+PREP+NOUN+NSUFF+PRON': 0.0,\n",
       " 'CONJ+FUT_PART': 0.0,\n",
       " 'DET+NOUN+NSUFF+NSUFF': 0.0,\n",
       " 'PART/NOUN': 0.5263157894736842,\n",
       " 'PUNC': 0.9206161137440758,\n",
       " 'CONJ+NUM+NSUFF+NSUFF': 0.0,\n",
       " 'NUM': 0.8908045977011494,\n",
       " 'PREP+NOUN+NSUFF+NSUFF': 0.0,\n",
       " 'DET+NOUN': 0.659214501510574,\n",
       " 'CONJ+PART+PRON': 0.3,\n",
       " 'CONJ+PREP+DET+NOUN': 0.0,\n",
       " 'CONJ+PREP+DET+NOUN+NSUFF': 0.0,\n",
       " 'FOREIGN': 0.06666666666666667,\n",
       " 'PREP+DET+NOUN': 0.6730769230769231,\n",
       " 'PREP+DET+ADJ+NSUFF': 0.0,\n",
       " 'CONJ+PRON': 0.5571428571428572,\n",
       " 'CONJ+ADV+CASE': 0.0,\n",
       " 'CONJ+PREP+NOUN+NSUFF': 0.0,\n",
       " 'PART/PREP+PART': 0.8,\n",
       " 'DET+ADJ/DET+NUM': 0.0,\n",
       " 'CONJ+ADV': 0.0,\n",
       " 'CONJ+PREP': 0.4318181818181818,\n",
       " 'DET+NOUN/DET+ADJ': 0.0,\n",
       " 'PREP+DET+NOUN+NSUFF+NSUFF': 0.0,\n",
       " 'CONJ+V': 0.75,\n",
       " 'CONJ+ADJ+PRON': 0.0,\n",
       " 'CONJ+DET+ADJ': 0.0625,\n",
       " 'PREP+V+PRON': 0.0,\n",
       " 'DET+ADJ+NSUFF': 0.846830985915493,\n",
       " 'PREP+V': 0.4782608695652174,\n",
       " 'DET': 0.25,\n",
       " 'PREP': 0.9471698113207547,\n",
       " 'CONJ+PREP+PRON': 0.0,\n",
       " 'DET+NUM': 0.0,\n",
       " 'PART+PRON': 0.0,\n",
       " 'DET+ADJ+NSUFF/DET+NUM+NSUFF': 0.0,\n",
       " 'CONJ+PREP+NOUN': 0.0,\n",
       " 'DET+ADJ+NSUFF+NSUFF': 0.0,\n",
       " 'PART/NOUN+PART': 0.3333333333333333,\n",
       " 'NOUN': 0.9426829268292682,\n",
       " 'CONJ+DET+NOUN+NSUFF': 0.5753424657534246,\n",
       " 'CONJ+NOUN+PRON': 0.029411764705882353,\n",
       " 'CONJ+PART/CONJ+PREP+PART': 1.0,\n",
       " 'CONJ+NUM': 0.0,\n",
       " 'ADJ+NSUFF': 0.8339100346020761,\n",
       " 'CONJ+ADJ': 0.07142857142857142,\n",
       " 'V+PRON+PRON': 0.041666666666666664,\n",
       " 'NOUN+PRON': 0.4899598393574297,\n",
       " 'DET+ADJ/DET+NOUN': 0.0,\n",
       " 'CONJ+PART': 0.30526315789473685,\n",
       " 'CONJ+DET+ADJ+NSUFF': 0.13043478260869565,\n",
       " 'PREP+DET+NOUN+NSUFF': 0.10606060606060606,\n",
       " 'NUM+NSUFF': 0.2558139534883721,\n",
       " 'NOUN+NSUFF+PRON': 0.17647058823529413,\n",
       " 'ADJ/NUM': 0.0,\n",
       " 'PREP+PRON': 0.8471337579617835,\n",
       " 'PART+PART/PART': 0.0,\n",
       " 'CONJ+NOUN': 0.4269005847953216,\n",
       " 'PART': 0.8822695035460993,\n",
       " 'CONJ+NOUN+NSUFF': 0.06818181818181818,\n",
       " 'NOUN+NSUFF+NSUFF': 0.0,\n",
       " 'CONJ+FUT_PART+V+PRON': 0.0,\n",
       " 'PREP+PART': 0.07894736842105263,\n",
       " 'DET+ADJ': 0.867330016583748,\n",
       " 'CONJ+ADJ+CASE': 0.0,\n",
       " 'PREP+NUM': 0.3333333333333333,\n",
       " 'NOUN+CASE': 0.3128491620111732,\n",
       " 'CONJ+DET+NUM+NSUFF': 0.0,\n",
       " 'PREP+DET': 0.0,\n",
       " 'DET+NOUN+NSUFF': 0.8442521631644005,\n",
       " 'FUT_PART': 0.0,\n",
       " 'CONJ+DET+NOUN': 0.34545454545454546,\n",
       " 'CONJ+FUT_PART+V': 0.0,\n",
       " 'CONJ': 0.4358974358974359,\n",
       " 'PREP+PART/CONJ': 1.0,\n",
       " 'PREP+NOUN+PRON': 0.0,\n",
       " 'CONJ+ADJ/CONJ+NOUN': 0.0,\n",
       " 'ADJ': 0.8337950138504155,\n",
       " 'PREP+NUM+NSUFF': 0.0,\n",
       " 'ADV': 0.0,\n",
       " 'ADJ+NSUFF+NSUFF': 0.0,\n",
       " 'PREP+DET+ADJ': 0.25,\n",
       " 'CONJ+ADJ+NSUFF': 0.5,\n",
       " 'PREP+NOUN': 0.4740061162079511,\n",
       " 'PREP+NOUN+NSUFF': 0.8628571428571429,\n",
       " 'PREP+ADJ': 0.0,\n",
       " 'DET+NUM+NSUFF': 0.0,\n",
       " 'V': 0.7354910714285714,\n",
       " 'ADJ+CASE': 0.788135593220339,\n",
       " 'FUT_PART+V': 0.07894736842105263,\n",
       " 'PREP+NOUN+NSUFF+PRON': 0.0,\n",
       " 'PREP+ADJ+NSUFF': 0.0,\n",
       " 'CONJ+NOUN+NSUFF+PRON': 0.0,\n",
       " 'CONJ+NOUN+CASE': 0.0,\n",
       " 'CONJ+CONJ': 0.0,\n",
       " 'PRON': 0.5031847133757962,\n",
       " 'FUT_PART+V+PRON': 0.0,\n",
       " 'PREP+ADJ+PRON': 0.0,\n",
       " 'ABBREV': 0.23529411764705882,\n",
       " 'ADJ+NSUFF/NOUN+NSUFF': 0.0}"
      ]
     },
     "execution_count": 7,
     "metadata": {},
     "output_type": "execute_result"
    }
   ],
   "source": [
    "utils.evaluate_model(model, X, y, idx_to_class=idx2label)"
   ]
  },
  {
   "cell_type": "markdown",
   "metadata": {},
   "source": [
    "# Layerwise probing"
   ]
  },
  {
   "cell_type": "code",
   "execution_count": null,
   "metadata": {},
   "outputs": [],
   "source": [
    "layer_1_X = utils.filter_activations_keep_neurons(np.arange(768, 768*2), X)"
   ]
  },
  {
   "cell_type": "code",
   "execution_count": null,
   "metadata": {},
   "outputs": [],
   "source": [
    "layer_1_X.shape"
   ]
  },
  {
   "cell_type": "code",
   "execution_count": null,
   "metadata": {},
   "outputs": [],
   "source": [
    "model_layer_1 = utils.train_logreg_model(layer_1_X, y, lambda_l1=0.001, lambda_l2=0.001)"
   ]
  },
  {
   "cell_type": "code",
   "execution_count": null,
   "metadata": {},
   "outputs": [],
   "source": [
    "utils.evaluate_model(model_layer_1, layer_1_X, y, idx_to_class=idx2label)"
   ]
  },
  {
   "cell_type": "markdown",
   "metadata": {},
   "source": [
    "# Get Neuron Ranking"
   ]
  },
  {
   "cell_type": "code",
   "execution_count": 8,
   "metadata": {},
   "outputs": [
    {
     "data": {
      "application/vnd.jupyter.widget-view+json": {
       "model_id": "bb54b23d1eba4506b12a3979b44d0824",
       "version_major": 2,
       "version_minor": 0
      },
      "text/plain": [
       "HBox(children=(HTML(value=''), FloatProgress(value=0.0, max=101.0), HTML(value='')))"
      ]
     },
     "metadata": {},
     "output_type": "display_data"
    },
    {
     "name": "stdout",
     "output_type": "stream",
     "text": [
      "\n"
     ]
    }
   ],
   "source": [
    "ordering, cutoffs = utils.get_neuron_ordering(model, label2idx)"
   ]
  },
  {
   "cell_type": "code",
   "execution_count": 9,
   "metadata": {},
   "outputs": [
    {
     "data": {
      "text/plain": [
       "[76, 815, 1758, 2723, 3612, 4472, 5251, 5957, 6580, 7185]"
      ]
     },
     "execution_count": 9,
     "metadata": {},
     "output_type": "execute_result"
    }
   ],
   "source": [
    "cutoffs[:10]"
   ]
  },
  {
   "cell_type": "code",
   "execution_count": 10,
   "metadata": {},
   "outputs": [
    {
     "data": {
      "text/plain": [
       "9984"
      ]
     },
     "execution_count": 10,
     "metadata": {},
     "output_type": "execute_result"
    }
   ],
   "source": [
    "len(ordering)"
   ]
  },
  {
   "cell_type": "code",
   "execution_count": null,
   "metadata": {},
   "outputs": [],
   "source": [
    "plot_neurons_per_layer(ordering[:cutoffs[5]],title='Labels per layer in QARiB POS')"
   ]
  },
  {
   "cell_type": "code",
   "execution_count": null,
   "metadata": {},
   "outputs": [],
   "source": [
    "plot_neurons_per_layer(ordering[:cutoffs[5]],title='Labels per layer in araBERT POS')"
   ]
  },
  {
   "cell_type": "code",
   "execution_count": 11,
   "metadata": {},
   "outputs": [
    {
     "data": {
      "image/png": "[encoded data removed]",
      "text/plain": [
       "<Figure size 432x288 with 1 Axes>"
      ]
     },
     "metadata": {
      "needs_background": "light"
     },
     "output_type": "display_data"
    }
   ],
   "source": [
    "plot_neurons_per_layer(ordering[:cutoffs[5]],title='Labels per layer in ArabicBERT POS')"
   ]
  },
  {
   "cell_type": "code",
   "execution_count": null,
   "metadata": {},
   "outputs": [],
   "source": [
    "plot_neurons_per_layer(ordering[:cutoffs[5]],title='Labels per layer in mBERT POS')"
   ]
  },
  {
   "cell_type": "markdown",
   "metadata": {},
   "source": [
    "# Train on top N neurons"
   ]
  },
  {
   "cell_type": "code",
   "execution_count": null,
   "metadata": {},
   "outputs": [],
   "source": [
    "X_selected = utils.filter_activations_keep_neurons(ordering[:1000], X)"
   ]
  },
  {
   "cell_type": "code",
   "execution_count": null,
   "metadata": {},
   "outputs": [],
   "source": [
    "X_selected.shape"
   ]
  },
  {
   "cell_type": "code",
   "execution_count": null,
   "metadata": {},
   "outputs": [],
   "source": [
    "model_selected = utils.train_logreg_model(X_selected, y, lambda_l1=0.001, lambda_l2=0.001)"
   ]
  },
  {
   "cell_type": "code",
   "execution_count": null,
   "metadata": {},
   "outputs": [],
   "source": [
    "utils.evaluate_model(model_selected, X_selected, y, idx_to_class=idx2label)"
   ]
  },
  {
   "cell_type": "markdown",
   "metadata": {},
   "source": [
    "# Further analysis"
   ]
  },
  {
   "cell_type": "code",
   "execution_count": 12,
   "metadata": {},
   "outputs": [],
   "source": [
    "top_neurons = utils.get_top_neurons(model, 0.01, label2idx)"
   ]
  },
  {
   "cell_type": "code",
   "execution_count": 13,
   "metadata": {},
   "outputs": [
    {
     "data": {
      "text/plain": [
       "(array([6146, 6147, 2053, 6150,    9, 2057,   11, 2058,   10, 4110, 8206,\n",
       "        2065, 6167,   24, 2078, 2080, 4131, 2083,   37,   40, 8233, 2102,\n",
       "        6201, 4157, 2112, 6208,   65, 2119, 6217, 6218, 6222, 4174, 8273,\n",
       "        6230,   93,   98, 6242, 8292, 2151, 8298, 2154, 6252, 2155,  106,\n",
       "        4207,  112, 6257, 4210,  118, 8311, 6266, 2170, 2176, 6272,  131,\n",
       "        8328,  138, 8332, 6285, 6295, 6296, 8353, 2209, 8356, 6311, 6313,\n",
       "        2218, 2221, 4270, 8366, 6320, 6141, 6327, 4280,  186, 8381,  191,\n",
       "        2241,  195, 8388, 2244,  197, 8391, 6344, 4303,  208, 2259, 4309,\n",
       "        8406, 2262, 6358,  219, 8413, 6366, 2273, 8420, 4324,  233, 2282,\n",
       "        4332,  238, 4339,  244, 8439,  250, 8443,  251, 2300, 6400, 6414,\n",
       "        2319, 8464, 4370, 8466, 6419, 6424, 6428, 2333,  286,  289, 8482,\n",
       "         290, 8486, 4391, 2344, 8489, 4396, 2349, 2351, 8497, 6450, 2354,\n",
       "         310, 6458,  317, 2366, 6462, 4423, 8520, 2377, 6471, 8519, 2380,\n",
       "        6479,  336, 4432, 8531, 8533, 4437,  343, 2397, 8546,  355, 4453,\n",
       "        6501, 8553, 6511, 6524,  384,  387,  389, 6535, 8585, 6540, 2450,\n",
       "        8594, 2452,  406, 4504, 8605, 2464, 4516, 8616, 8617,  432,  433,\n",
       "        4530, 6578, 8628,  440,  441, 4536, 2488, 8638,  447, 4544, 2498,\n",
       "        4547, 4548, 2508, 6607, 6608, 8656, 4562, 6610, 6612, 8661, 4568,\n",
       "        4573,  478, 8676, 2536,  491, 2539, 4587, 2543, 8687, 4595, 8692,\n",
       "        4597, 8701, 6653, 4613, 4614, 6667, 8716, 8717, 2575, 6677, 8729,\n",
       "        2586, 6683, 4635, 4638, 2596, 6695, 4649, 6697, 8747,  556, 8749,\n",
       "        2605, 8751, 8752, 8755, 2612, 8766, 8768,  578, 8770, 4677, 4683,\n",
       "         590, 2640, 2643, 8789,  599,  603, 8796, 4701, 8798, 8803, 6756,\n",
       "        8815, 6768, 2673, 2671, 6771,  639, 4742, 6792, 4747, 6796, 8856,\n",
       "        2713, 6808, 6810, 8863, 8866, 6820, 2726, 8876, 2733, 2734,  687,\n",
       "        2737, 8883, 6836, 6835, 2742, 2744,  696, 2746, 6842,  699, 4797,\n",
       "        2748, 2758, 4806, 8905, 8907, 8914, 2778, 4827, 6877,  734, 8925,\n",
       "         737, 8930, 2787, 6887,  744,  746, 8939, 6896,  760, 8953, 6909,\n",
       "         769, 2826,  780, 8974, 6930, 2837, 8981,  791, 4892, 2845, 8992,\n",
       "        4897,  807, 2856, 4905, 9001, 6956, 6959, 6962, 4914,  838, 2887,\n",
       "         839, 9033, 9034, 4942, 6992, 4945, 9050, 2908, 4958, 4965,  870,\n",
       "        2919, 9066, 2927, 4975,  880, 9074, 9079, 7034, 9086, 4993, 7041,\n",
       "        2947,  903, 9100, 9101, 5007, 2961, 5011, 7063, 5016,  923,  924,\n",
       "        5021, 7071,  928,  930, 7075, 9124,  934, 5034, 7083, 7084,  941,\n",
       "        9134, 9133, 7088, 2996, 5048, 7098,  957, 9149,  963, 9161, 5067,\n",
       "        7117,  973, 5071, 3025,  977, 7123, 3027,  979, 5082, 3035, 3036,\n",
       "        9181, 7134, 3037,  992, 9183, 9187,  998, 7144, 1001, 9192, 9197,\n",
       "        5102, 3056, 9201, 7156, 3067, 3068, 9212, 7166, 9215, 5121, 5122,\n",
       "        7178, 7180, 3087, 5138, 7187, 9240, 7196, 7201, 9251, 7211, 5164,\n",
       "        1069, 3118, 1074, 7219, 9268, 7218, 7225, 5179, 1084, 7229, 3134,\n",
       "        7230, 1088, 5192, 7240, 7243, 7246, 1104, 5200, 9310, 5219, 7275,\n",
       "        7276, 5228, 9324, 3183, 5227, 9325, 7283, 1141, 7287, 9339, 1148,\n",
       "        7294, 9350, 7303, 3206, 3211, 5260, 7308, 5271, 5272, 5276, 5278,\n",
       "        5281, 1185, 9379, 9386, 1201, 5301, 9398, 9399, 9400, 7352, 1208,\n",
       "        5307, 9405, 7360, 1218, 5316, 7369, 1228, 7372, 7376, 9425, 3281,\n",
       "        7378, 9428, 9429, 3286, 9424, 7385, 5339, 5341, 5347, 1252, 7399,\n",
       "        3305, 7401, 3310, 5359, 3311, 1267, 9462, 7415, 5368, 9464, 5372,\n",
       "        7421, 3325, 3330, 5381, 1290, 9484, 7438, 7442, 9490, 9492, 9493,\n",
       "        1300, 3353, 1307, 1309, 7454, 7456, 5414, 7465, 5418, 9515, 7468,\n",
       "        3373, 9518, 5429, 5432, 1342, 9534, 9536, 1351, 5451, 1355, 9548,\n",
       "        1358, 3408, 7506, 3412, 7509, 7511, 1368, 1371, 9565, 5469, 5471,\n",
       "        1378, 3431, 5480, 1387, 7532, 3439, 9585, 1394, 7539, 1404, 5500,\n",
       "        7555, 5508, 7559, 7560, 9607, 3467, 7564, 5516, 1422, 7568, 1428,\n",
       "        9621, 9622, 5527, 1432, 9628, 7588, 7589, 1447, 1450, 1452, 1453,\n",
       "        9648, 1461, 1463, 3512, 9656, 5561, 9661, 3518, 3524, 1481, 5579,\n",
       "        1484, 9677, 7636, 7645, 5598, 1505, 7651, 3556, 9700, 9702, 7658,\n",
       "        9707, 5612, 1516, 3566, 3571, 1527, 1528, 7672, 1532, 1539, 7686,\n",
       "        1551, 1553, 5650, 7698, 5653, 5660, 3613, 7715, 9767, 1576, 1575,\n",
       "        5674, 9769, 3628, 5682, 1586, 7733, 1589, 1594, 5698, 9794, 7750,\n",
       "        5707, 9808, 3664, 7760, 9815, 5720, 7772, 5726, 9834, 5742, 1647,\n",
       "        5743, 5746, 5747, 9847, 3707, 5759, 3712, 7808, 1666, 1668, 5767,\n",
       "        5768, 1671, 5771, 9868, 1677, 5772, 5782, 1688, 3743, 1696, 1702,\n",
       "        7848, 7849, 1709, 7856, 3762, 3767, 5819, 3772, 3777, 1730, 1731,\n",
       "        5829, 3784, 7881, 7882, 5835, 7884, 9933, 1742, 5839, 7890, 3798,\n",
       "        9944, 9949, 7902, 3805, 3809, 5858, 9955, 3810, 7912, 3818, 7914,\n",
       "        3825, 5877, 7927, 9975, 1786, 3842, 5896, 7945, 7948, 3855, 1809,\n",
       "        5906, 7955, 7957, 3863, 7962, 3870, 7971, 1831, 1834, 1837, 7982,\n",
       "        5941, 5947, 1852, 7998, 5950, 8002, 3907, 3911, 3914, 8011, 8014,\n",
       "        8015, 1872, 8021, 3930, 1887, 8032, 1889, 5983, 5987, 1897, 3946,\n",
       "        1900, 3949, 8045, 8046, 6000, 1903, 1910, 8055, 6008, 8058, 1914,\n",
       "        8062, 8063, 1923, 1924, 1926, 1928, 6024, 3976, 1929, 6028, 8076,\n",
       "        1934, 6035, 1939, 1944, 6040, 8092, 6044, 1954, 6052, 1960, 6061,\n",
       "        6064, 4017, 6065, 8115, 4023, 8120, 4025, 1976, 6075, 6073, 6084,\n",
       "        4038, 6093, 8143, 8146, 8147, 6109, 4062, 2032, 2033, 2035, 4089,\n",
       "        8189]),\n",
       " {'ADV+CASE': array([807]),\n",
       "  'ADJ+PRON': array([9181]),\n",
       "  'DET+NOUN+NSUFF/DET+NUM+NSUFF': array([7376, 8876, 6608, 7456, 7882, 7225, 7075, 7276, 8701, 6930, 8055,\n",
       "         9101, 7178, 8953, 7287, 5987, 7385, 8406, 9398]),\n",
       "  'CONJ+NUM+NSUFF': array([4573,  737, 6218, 7511, 3613, 6535, 8311, 2908, 9079, 7415, 2845,\n",
       "         9847, 6222, 6771,  734, 7539, 6959, 7303, 6217, 6296, 3914, 5767,\n",
       "         6000, 6768,  744]),\n",
       "  'NOUN+NSUFF/ADJ+NSUFF': array([6075, 1307, 1351,   98, 2119, 5307, 1481, 6887, 2887, 3556,   37,\n",
       "         8930, 5071, 1141, 1394, 1553, 9700, 3907,  310]),\n",
       "  'V+PRON': array([7651, 1228, 6344]),\n",
       "  'CONJ+V+PRON': array([6266, 5742]),\n",
       "  'PREP+PART+PRON': array([9181, 8413]),\n",
       "  'NOUN+NSUFF': array([9677,  387, 1088, 4683, 1688, 7123]),\n",
       "  'NUM+CASE': array([5021, 2746, 7229, 9565,  491, 3777, 2961, 4309, 1453, 5480, 8092,\n",
       "         5122, 9834, 1960, 2919, 1647, 2947, 2726, 3183]),\n",
       "  'CONJ+PREP+NOUN+NSUFF+PRON': array([9181,  930, 3330, 7927, 9815, 3431, 8292,  355, 9585, 4614, 4339,\n",
       "         2713]),\n",
       "  'CONJ+FUT_PART': array([5674, 2539,   93,    9, 1923, 8638, 7509, 6061, 2450,   11, 1539,\n",
       "         3286, 3911, 8992, 5471, 4023, 7211, 3946, 6093]),\n",
       "  'DET+NOUN+NSUFF+NSUFF': array([9181, 8413]),\n",
       "  'PART/NOUN': array([2241, 7564, 9181, 9100, 9868, 8332, 6028, 6796, 1924, 5598, 5260,\n",
       "         5720,  924]),\n",
       "  'PUNC': array([2737, 2733]),\n",
       "  'CONJ+NUM+NSUFF+NSUFF': array([5278, 9405, 6313, 5451, 4568, 1928, 2377, 3467, 3305, 5660, 8628,\n",
       "         8866, 3863, 6035, 8533, 9628, 1461, 1447, 8353, 7884, 9493, 1355]),\n",
       "  'NUM': array([2057, 1342, 8298, 9066]),\n",
       "  'PREP+NOUN+NSUFF+NSUFF': array([9181]),\n",
       "  'DET+NOUN': array([ 992, 3930, 6052, 2397,   40, 4270]),\n",
       "  'CONJ+PART+PRON': array([7088, 7856, 8798, 6320, 7369, 4210, 9197, 8905, 7568, 1709, 7098,\n",
       "         5768, 7083, 9661, 5082,  941]),\n",
       "  'CONJ+PREP+DET+NOUN': array([2333, 4423, 4025, 4649, 7658, 2673, 5121, 6962, 1926, 9240, 1074,\n",
       "          746, 1910, 2575, 2452, 2262, 3818, 8002, 4391, 1900, 5048, 3353]),\n",
       "  'CONJ+PREP+DET+NOUN+NSUFF': array([9181]),\n",
       "  'FOREIGN': array([2575]),\n",
       "  'PREP+DET+NOUN': array([1944, 2053, 6458]),\n",
       "  'PREP+DET+ADJ+NSUFF': array([7071, 4038, 2536, 4597, 6842, 5016, 4157, 6836, 5759, 5179,  934,\n",
       "         2508, 2351, 7084, 1428, 5228, 8531, 5829, 4797, 9086, 3772, 6479,\n",
       "         5947]),\n",
       "  'CONJ+PRON': array([ 186, 2058]),\n",
       "  'CONJ+ADV+CASE': array([8015, 5368, 2787, 4595, 8366, 6064, 2032,  389, 1668, 5720, 9933,\n",
       "         9518, 6612, 2112, 2349, 4110, 6683,  780, 8692, 6147]),\n",
       "  'CONJ+PREP+NOUN+NSUFF': array([8856, 8907, 8752, 8464, 9074, 4562]),\n",
       "  'PART/PREP+PART': array([9181, 8413, 9400, 8021, 3512, 7352, 9251, 8803, 8749, 8120, 8617,\n",
       "         7849, 4280, 8789, 4892, 7283, 9656, 8420, 9425, 9379, 6358, 6201,\n",
       "         2744, 8751, 8883, 7589, 3566, 7166, 9808, 5281, 7715, 1677]),\n",
       "  'DET+ADJ/DET+NUM': array([7957, 9428,  441, 1218, 8815, 2033, 3087, 3949, 4131, 1378, 4453,\n",
       "         3664, 9268, 2170,  923, 8717, 5381, 3571, 2543, 7034,  603]),\n",
       "  'CONJ+ADV': array([3842, 5941, 5469, 4332, 2758, 5819, 2209, 5007, 3743, 4089, 9622,\n",
       "         3518, 3798, 7454, 3281,  578, 5192, 1834, 5102,  118, 9621, 9033]),\n",
       "  'CONJ+PREP': array([286]),\n",
       "  'DET+NOUN/DET+ADJ': array([9949, 8413, 7645]),\n",
       "  'PREP+DET+NOUN+NSUFF+NSUFF': array([9181, 7948, 8716, 6540, 8076, 7180, 7308, 5772]),\n",
       "  'CONJ+V': array([4945, 2032, 6311]),\n",
       "  'CONJ+ADJ+PRON': array([6877, 7645]),\n",
       "  'CONJ+DET+ADJ': array([9181,  233, 6428, 1001, 2102,  957, 7196, 5612, 2176, 1371,  791]),\n",
       "  'PREP+V+PRON': array([9181]),\n",
       "  'DET+ADJ+NSUFF': array([7276, 2154, 6252, 4742]),\n",
       "  'PREP+V': array([1887, 4573, 9066, 7645, 5341, 6109, 8298, 2826, 3134, 7733, 2366,\n",
       "         1576, 2344, 5429]),\n",
       "  'DET': array([9339, 8366, 5682, 1742, 5432, 5276, 6450, 4914, 8482, 9955, 9134,\n",
       "         9187, 5906, 6044, 9215, 7750, 9492, 4370, 5138, 3211, 4747]),\n",
       "  'PREP': array([3025,  219,  317]),\n",
       "  'CONJ+PREP+PRON': array([1730,  760, 8189, 9648, 7421, 2498, 6667, 6653,  838, 8585]),\n",
       "  'DET+NUM': array([6792, 8328, 7560, 7134, 6024, 7902, 3976, 9324, 7982, 7360, 7376]),\n",
       "  'PART+PRON': array([941]),\n",
       "  'DET+ADJ+NSUFF/DET+NUM+NSUFF': array([9181, 9350, 6400, 2078,  406, 7372, 7636, 5707]),\n",
       "  'CONJ+PREP+NOUN': array([7442, 8747, 9515, 6414]),\n",
       "  'DET+ADJ+NSUFF+NSUFF': array([9181, 8413, 7144, 6109, 7912, 9949, 6695]),\n",
       "  'PART/NOUN+PART': array([9181, 8766, 7230, 1505, 6462, 9534, 2273, 8661, 7998, 9429, 1201,\n",
       "         7962, 7219, 8206, 8755, 7438, 7240, 3206, 7559, 3524, 9975, 8439,\n",
       "         8974,  433, 3809, 6327, 7303, 9607]),\n",
       "  'NOUN': array([6150, 1528, 1702, 4905, 6208, 2612, 7589]),\n",
       "  'CONJ+DET+NOUN+NSUFF': array([7275, 6366, 3412]),\n",
       "  'CONJ+NOUN+PRON': array([3805, 3037,  807, 9399]),\n",
       "  'CONJ+PART/CONJ+PREP+PART': array([6295, 6909, 8356, 1976, 6820, 1208, 7588, 4547, 3512, 8388, 8939,\n",
       "         5272,  440, 2744, 7401, 6141, 6808, 6756, 5048, 4965, 4504, 6040,\n",
       "         9034, 6992, 9124, 1527, 5527, 9707, 7760, 7063, 9944, 9161]),\n",
       "  'CONJ+NUM': array([9181, 8413, 2259, 4437, 9767, 9949, 1594, 4516, 5698, 8594, 2380,\n",
       "         1900, 8063, 6677]),\n",
       "  'ADJ+NSUFF': array([1358, 6272, 5227]),\n",
       "  'CONJ+ADJ': array([5746, 8032, 1872,  336, 1104, 6896, 5726, 6462, 1897, 4958, 1929,\n",
       "         2221, 4210, 2640, 3408]),\n",
       "  'V+PRON+PRON': array([ 807, 1575, 7156, 2354, 1586, 8058, 2218]),\n",
       "  'NOUN+PRON': array([ 590, 1889, 4536]),\n",
       "  'DET+ADJ/DET+NOUN': array([9181]),\n",
       "  'CONJ+PART': array([696, 599]),\n",
       "  'CONJ+DET+ADJ+NSUFF': array([6084, 4548, 5316, 9192, 6230, 4993, 4942, 9133, 9702, 4174, 8925]),\n",
       "  'PREP+DET+NOUN+NSUFF': array([2065, 4303, 2209]),\n",
       "  'NUM+NSUFF': array([  10, 7243, 8011]),\n",
       "  'NOUN+NSUFF+PRON': array([6501, 5858]),\n",
       "  'ADJ/NUM': array([5650,  447, 1484, 2596, 4635, 9794, 5200, 5508, 9325, 2244,  478,\n",
       "         3810, 1934, 5771, 5347,  839, 4017]),\n",
       "  'PREP+PRON': array([3027, 4701]),\n",
       "  'PART+PART/PART': array([9181, 1831, 8520]),\n",
       "  'CONJ+NOUN': array([7468, 6008, 3712]),\n",
       "  'PART': array([ 289, 7117, 2927]),\n",
       "  'CONJ+NOUN+NSUFF': array([8381, 9149, 7881]),\n",
       "  'NOUN+NSUFF+NSUFF': array([9181]),\n",
       "  'CONJ+FUT_PART+V+PRON': array([4573, 3037, 5341, 3805, 6109, 9240, 5339, 7555,  699, 2586]),\n",
       "  'PREP+PART': array([ 590, 2643,  870]),\n",
       "  'DET+ADJ': array([7672, 5983, 4806, 8486]),\n",
       "  'CONJ+ADJ+CASE': array([5782, 2742,   65, 7808,  238, 1290, 5896, 8796, 7890, 1516, 2996,\n",
       "         1809,  191, 1300,  131, 8115, 3310, 3784,  250]),\n",
       "  'PREP+NUM': array([9181, 8413, 6610, 7378, 8914, 8146, 5561, 8406,  928, 1696, 9183]),\n",
       "  'NOUN+CASE': array([6146, 7201]),\n",
       "  'CONJ+DET+NUM+NSUFF': array([807]),\n",
       "  'PREP+DET': array([9181]),\n",
       "  'DET+NOUN+NSUFF': array([5653,  556,  208, 1852, 1939]),\n",
       "  'FUT_PART': array([8413]),\n",
       "  'CONJ+DET+NOUN': array([3762, 4530, 8045]),\n",
       "  'CONJ+FUT_PART+V': array([9949, 9181, 8413, 7645, 1069,  769, 8002,  244, 1837, 7914, 7772,\n",
       "         2605, 9484, 1450, 1422, 8466, 1084, 8992, 1463, 2155,  973, 9424,\n",
       "         3767, 9386, 7532, 1387,  250, 8656, 7698, 3373, 9490, 8770]),\n",
       "  'CONJ': array([106, 639]),\n",
       "  'PREP+PART/CONJ': array([ 590, 1954]),\n",
       "  'PREP+NOUN+PRON': array([9181]),\n",
       "  'CONJ+ADJ/CONJ+NOUN': array([9181, 8676, 8147, 2151, 5011, 8391, 8489, 2488]),\n",
       "  'ADJ': array([6073, 6242, 8046, 1432]),\n",
       "  'PREP+NUM+NSUFF': array([9181, 6578,  687, 1914, 1404, 8443,  197, 2837, 2083, 3743, 3067,\n",
       "         3825, 3798,  343, 4587, 9050, 1666]),\n",
       "  'ADV': array([ 384,  737, 8863, 1505, 6835, 8546, 8605]),\n",
       "  'ADJ+NSUFF+NSUFF': array([8413, 9181, 7645]),\n",
       "  'PREP+DET+ADJ': array([8233, 6511, 4207, 3439, 2671, 9001, 5682, 5743, 6697, 8014, 4638,\n",
       "         8062, 6524, 5418, 7218, 1903, 7465, 6450, 3628, 5164, 2080, 4396,\n",
       "         4975, 7246, 6065, 1452,  432,  138, 3036, 9769,  979, 7294, 2734,\n",
       "         5219, 3870, 3325, 6810, 3035]),\n",
       "  'CONJ+ADJ+NSUFF': array([9181, 8413, 1148, 5835, 9536,  112, 6471, 1731, 5067,  963, 8768,\n",
       "          880, 5950, 4324, 3556]),\n",
       "  'PREP+NOUN': array([ 251, 1589, 4613, 4827]),\n",
       "  'PREP+NOUN+NSUFF': array([6607, 3118, 5839]),\n",
       "  'PREP+ADJ': array([1671,  903]),\n",
       "  'DET+NUM+NSUFF': array([9181]),\n",
       "  'V': array([7506, 5500, 6257, 7945]),\n",
       "  'ADJ+CASE': array([2035, 4897]),\n",
       "  'FUT_PART+V': array([7848, 8616]),\n",
       "  'PREP+NOUN+NSUFF+PRON': array([9181]),\n",
       "  'PREP+ADJ+NSUFF': array([9181, 6419, 8413]),\n",
       "  'CONJ+NOUN+NSUFF+PRON': array([8981]),\n",
       "  'CONJ+NOUN+CASE': array([8143, 7955, 7187, 6109]),\n",
       "  'CONJ+CONJ': array([8497, 6956, 9310,   24, 3056, 6167, 6313, 5271, 9464, 1368, 3707,\n",
       "         6424, 4432, 5359, 9201, 9124, 2748, 8273, 6285, 1185, 1267, 7971]),\n",
       "  'PRON': array([977]),\n",
       "  'FUT_PART+V+PRON': array([9181]),\n",
       "  'PREP+ADJ+PRON': array([ 195, 4677, 5414, 9548, 1252, 9462, 2282, 4062, 7041, 8729, 3025,\n",
       "         5516, 5034, 6610, 8687, 2464, 4544, 2856, 7399]),\n",
       "  'ABBREV': array([2300, 2319, 1532, 3855, 1786, 3068, 9212, 5301, 1309, 1551, 5372,\n",
       "         8553, 5877, 2640, 8519, 5579,  998]),\n",
       "  'ADJ+NSUFF/NOUN+NSUFF': array([9181, 8413, 7686, 3311,  290, 5747, 2778])})"
      ]
     },
     "execution_count": 13,
     "metadata": {},
     "output_type": "execute_result"
    }
   ],
   "source": [
    "top_neurons"
   ]
  },
  {
   "cell_type": "code",
   "execution_count": 14,
   "metadata": {},
   "outputs": [
    {
     "data": {
      "text/plain": [
       "dict_keys(['ADV+CASE', 'ADJ+PRON', 'DET+NOUN+NSUFF/DET+NUM+NSUFF', 'CONJ+NUM+NSUFF', 'NOUN+NSUFF/ADJ+NSUFF', 'V+PRON', 'CONJ+V+PRON', 'PREP+PART+PRON', 'NOUN+NSUFF', 'NUM+CASE', 'CONJ+PREP+NOUN+NSUFF+PRON', 'CONJ+FUT_PART', 'DET+NOUN+NSUFF+NSUFF', 'PART/NOUN', 'PUNC', 'CONJ+NUM+NSUFF+NSUFF', 'NUM', 'PREP+NOUN+NSUFF+NSUFF', 'DET+NOUN', 'CONJ+PART+PRON', 'CONJ+PREP+DET+NOUN', 'CONJ+PREP+DET+NOUN+NSUFF', 'FOREIGN', 'PREP+DET+NOUN', 'PREP+DET+ADJ+NSUFF', 'CONJ+PRON', 'CONJ+ADV+CASE', 'CONJ+PREP+NOUN+NSUFF', 'PART/PREP+PART', 'DET+ADJ/DET+NUM', 'CONJ+ADV', 'CONJ+PREP', 'DET+NOUN/DET+ADJ', 'PREP+DET+NOUN+NSUFF+NSUFF', 'CONJ+V', 'CONJ+ADJ+PRON', 'CONJ+DET+ADJ', 'PREP+V+PRON', 'DET+ADJ+NSUFF', 'PREP+V', 'DET', 'PREP', 'CONJ+PREP+PRON', 'DET+NUM', 'PART+PRON', 'DET+ADJ+NSUFF/DET+NUM+NSUFF', 'CONJ+PREP+NOUN', 'DET+ADJ+NSUFF+NSUFF', 'PART/NOUN+PART', 'NOUN', 'CONJ+DET+NOUN+NSUFF', 'CONJ+NOUN+PRON', 'CONJ+PART/CONJ+PREP+PART', 'CONJ+NUM', 'ADJ+NSUFF', 'CONJ+ADJ', 'V+PRON+PRON', 'NOUN+PRON', 'DET+ADJ/DET+NOUN', 'CONJ+PART', 'CONJ+DET+ADJ+NSUFF', 'PREP+DET+NOUN+NSUFF', 'NUM+NSUFF', 'NOUN+NSUFF+PRON', 'ADJ/NUM', 'PREP+PRON', 'PART+PART/PART', 'CONJ+NOUN', 'PART', 'CONJ+NOUN+NSUFF', 'NOUN+NSUFF+NSUFF', 'CONJ+FUT_PART+V+PRON', 'PREP+PART', 'DET+ADJ', 'CONJ+ADJ+CASE', 'PREP+NUM', 'NOUN+CASE', 'CONJ+DET+NUM+NSUFF', 'PREP+DET', 'DET+NOUN+NSUFF', 'FUT_PART', 'CONJ+DET+NOUN', 'CONJ+FUT_PART+V', 'CONJ', 'PREP+PART/CONJ', 'PREP+NOUN+PRON', 'CONJ+ADJ/CONJ+NOUN', 'ADJ', 'PREP+NUM+NSUFF', 'ADV', 'ADJ+NSUFF+NSUFF', 'PREP+DET+ADJ', 'CONJ+ADJ+NSUFF', 'PREP+NOUN', 'PREP+NOUN+NSUFF', 'PREP+ADJ', 'DET+NUM+NSUFF', 'V', 'ADJ+CASE', 'FUT_PART+V', 'PREP+NOUN+NSUFF+PRON', 'PREP+ADJ+NSUFF', 'CONJ+NOUN+NSUFF+PRON', 'CONJ+NOUN+CASE', 'CONJ+CONJ', 'PRON', 'FUT_PART+V+PRON', 'PREP+ADJ+PRON', 'ABBREV', 'ADJ+NSUFF/NOUN+NSUFF'])"
      ]
     },
     "execution_count": 14,
     "metadata": {},
     "output_type": "execute_result"
    }
   ],
   "source": [
    "top_neurons[1].keys()"
   ]
  },
  {
   "cell_type": "code",
   "execution_count": 16,
   "metadata": {},
   "outputs": [
    {
     "data": {
      "image/png": "[encoded data removed]",
      "text/plain": [
       "<Figure size 432x288 with 1 Axes>"
      ]
     },
     "metadata": {
      "needs_background": "light"
     },
     "output_type": "display_data"
    },
    {
     "data": {
      "image/png": "[encoded data removed]",
      "text/plain": [
       "<Figure size 432x288 with 1 Axes>"
      ]
     },
     "metadata": {
      "needs_background": "light"
     },
     "output_type": "display_data"
    },
    {
     "data": {
      "image/png": "[encoded data removed]",
      "text/plain": [
       "<Figure size 432x288 with 1 Axes>"
      ]
     },
     "metadata": {
      "needs_background": "light"
     },
     "output_type": "display_data"
    },
    {
     "data": {
      "image/png": "[encoded data removed]",
      "text/plain": [
       "<Figure size 432x288 with 1 Axes>"
      ]
     },
     "metadata": {
      "needs_background": "light"
     },
     "output_type": "display_data"
    },
    {
     "data": {
      "image/png": "[encoded data removed]",
      "text/plain": [
       "<Figure size 432x288 with 1 Axes>"
      ]
     },
     "metadata": {
      "needs_background": "light"
     },
     "output_type": "display_data"
    },
    {
     "data": {
      "image/png": "[encoded data removed]",
      "text/plain": [
       "<Figure size 432x288 with 1 Axes>"
      ]
     },
     "metadata": {
      "needs_background": "light"
     },
     "output_type": "display_data"
    },
    {
     "data": {
      "image/png": "[encoded data removed]",
      "text/plain": [
       "<Figure size 432x288 with 1 Axes>"
      ]
     },
     "metadata": {
      "needs_background": "light"
     },
     "output_type": "display_data"
    },
    {
     "data": {
      "image/png": "[encoded data removed]",
      "text/plain": [
       "<Figure size 432x288 with 1 Axes>"
      ]
     },
     "metadata": {
      "needs_background": "light"
     },
     "output_type": "display_data"
    },
    {
     "data": {
      "image/png": "[encoded data removed]",
      "text/plain": [
       "<Figure size 432x288 with 1 Axes>"
      ]
     },
     "metadata": {
      "needs_background": "light"
     },
     "output_type": "display_data"
    }
   ],
   "source": [
    "for tag in {'NOUN', 'V', 'PART', 'PREP', 'ADJ', 'PREP+DET+NOUN', 'V+PRON', 'DET+ADJ+NSUFF' , 'PART+PRON' }:\n",
    "    plot_neurons_per_layer(top_neurons[1][tag],title='Labels per layer in mBERT '+tag)"
   ]
  },
  {
   "cell_type": "code",
   "execution_count": null,
   "metadata": {},
   "outputs": [],
   "source": [
    "plot_neurons_per_layer(top_neurons[1]['DET+NOUN'],title='Labels per layer in QARiB DET+NOUN')"
   ]
  },
  {
   "cell_type": "code",
   "execution_count": null,
   "metadata": {},
   "outputs": [],
   "source": [
    "X_zeroed = utils.zero_out_activations_keep_neurons(ordering[:10], X)\n",
    "utils.evaluate_model(model, X_zeroed, y, idx_to_class=idx2label)"
   ]
  },
  {
   "cell_type": "code",
   "execution_count": null,
   "metadata": {},
   "outputs": [],
   "source": [
    "activations"
   ]
  },
  {
   "cell_type": "code",
   "execution_count": null,
   "metadata": {},
   "outputs": [],
   "source": [
    "import aux_classifier.visualization as visualization\n",
    "visualization.visualize_activations(\"في إجراءات استثنائية بسبب وباء كورونا .\", activations[0][:, ordering[0]])"
   ]
  },
  {
   "cell_type": "code",
   "execution_count": null,
   "metadata": {},
   "outputs": [],
   "source": [
    "import svgwrite\n",
    "FONT_SIZE = 20\n",
    "MARGIN = 10\n",
    "CHAR_LIMIT = 61\n",
    "def break_lines(text, limit=50):\n",
    "    lines = []\n",
    "    curr_line = \"\"\n",
    "    for token in text.split(' '):\n",
    "        if len(curr_line) + 1 + len(token) < limit:\n",
    "            curr_line += token + \" \"\n",
    "        else:\n",
    "            lines.append(curr_line[:-1])\n",
    "            curr_line = token + \" \"\n",
    "    lines.append(curr_line[:-1])\n",
    "    return lines\n",
    "\n",
    "def get_rect_style(color, opacity):\n",
    "    return \"\"\"opacity:%0.5f;\n",
    "            fill:%s;\n",
    "            fill-opacity:1;\n",
    "            stroke:none;\n",
    "            stroke-width:0.26499999;\n",
    "            stroke-linecap:round;\n",
    "            stroke-linejoin:miter;\n",
    "            stroke-miterlimit:4;\n",
    "            stroke-dasharray:none;\n",
    "            stroke-dashoffset:0;\n",
    "            stroke-opacity:1\"\"\" % (opacity, color)\n",
    "\n",
    "def get_text_style(font_size):\n",
    "    return \"\"\"font-style:normal;\n",
    "            font-variant:normal;\n",
    "            font-weight:normal;\n",
    "            font-stretch:normal;\n",
    "            font-size:%0.2fpx;\n",
    "            line-height:125%%;\n",
    "            font-family:monospace;\n",
    "            -inkscape-font-specification:'Arial Unicode MS, Normal';\n",
    "            font-variant-ligatures:none;\n",
    "            font-variant-caps:normal;\n",
    "            font-variant-numeric:normal;\n",
    "            text-align:start;\n",
    "            writing-mode:lr-tb;\n",
    "            text-anchor:start;\n",
    "            stroke-width:0.26458332px\"\"\" % (font_size)\n"
   ]
  },
  {
   "cell_type": "code",
   "execution_count": null,
   "metadata": {},
   "outputs": [],
   "source": [
    "text = 'في إجراءات استثنائية بسبب وباء كورونا .'\n",
    "lines = break_lines(text, limit=CHAR_LIMIT)\n",
    "char_width = FONT_SIZE*0.59\n",
    "char_height = FONT_SIZE*1.25"
   ]
  },
  {
   "cell_type": "code",
   "execution_count": null,
   "metadata": {},
   "outputs": [],
   "source": [
    "lines"
   ]
  },
  {
   "cell_type": "code",
   "execution_count": null,
   "metadata": {},
   "outputs": [],
   "source": [
    "image_height = len(lines) * char_height * 1.2\n",
    "image_width = CHAR_LIMIT * char_width\n",
    "\n",
    "dwg = svgwrite.Drawing(\"tmp.svg\", size=(image_width, image_height),\n",
    "                    profile='full')\n",
    "dwg.viewbox(0, 0, image_width, image_height)\n"
   ]
  },
  {
   "cell_type": "code",
   "execution_count": null,
   "metadata": {},
   "outputs": [],
   "source": [
    "darken=2\n",
    "colors=[\"#d35f5f\", \"#00aad4\"]\n",
    "scores = activations[0][:, ordering[0]]\n",
    "offset = 0"
   ]
  },
  {
   "cell_type": "code",
   "execution_count": null,
   "metadata": {},
   "outputs": [],
   "source": [
    "group = dwg.g()\n",
    "for _ in range(darken):\n",
    "    word_idx = 0\n",
    "    for line_idx, line in enumerate(lines):\n",
    "        char_idx = 0\n",
    "        max_score = max(scores)\n",
    "        min_score = abs(min(scores))\n",
    "        limit = max(max_score, min_score)\n",
    "        for word in line.split(' '):\n",
    "            print('W:',word)\n",
    "            score = scores[word_idx]\n",
    "            if score > 0:\n",
    "                color = colors[1]\n",
    "                opacity = score/limit\n",
    "            else:\n",
    "                color = colors[0]\n",
    "                opacity = abs(score)/limit\n",
    "\n",
    "            for _ in word:\n",
    "                rect_insert = (0 + char_idx * char_width, offset + 7 + line_idx * char_height)\n",
    "                rect_size = (\"%.2fpx\"%(char_width), \"%0.2fpx\"%(char_height))\n",
    "                group.add(\n",
    "                    dwg.rect(insert=rect_insert,\n",
    "                            size=rect_size,\n",
    "                            style=get_rect_style(color, opacity)\n",
    "                            )\n",
    "                )\n",
    "                char_idx += 1\n",
    "\n",
    "            final_rect_insert = (0 + char_idx * char_width, offset + 7 + line_idx * char_height)\n",
    "            final_rect_size = (\"%.2fpx\"%(char_width), \"%0.2fpx\"%(char_height))\n",
    "            group.add(\n",
    "                dwg.rect(insert=final_rect_insert,\n",
    "                        size=final_rect_size,\n",
    "                        style=get_rect_style(color, opacity)\n",
    "                        )\n",
    "            )\n",
    "\n",
    "            char_idx += 1\n",
    "            word_idx += 1\n",
    "\n",
    "    for line_idx, line in enumerate(lines):\n",
    "        text_insert = (0, offset + FONT_SIZE*1.25*(line_idx+1))\n",
    "        print(text_insert,text)\n",
    "        text = dwg.text(text,\n",
    "                        insert=text_insert,\n",
    "                        fill='black',\n",
    "                        style=get_text_style(FONT_SIZE))\n",
    "        group.add(text)\n",
    "offset += FONT_SIZE*1.25*len(lines) + MARGIN\n",
    "\n",
    "dwg.add(group)"
   ]
  },
  {
   "cell_type": "code",
   "execution_count": null,
   "metadata": {},
   "outputs": [],
   "source": [
    "dwg"
   ]
  },
  {
   "cell_type": "code",
   "execution_count": null,
   "metadata": {},
   "outputs": [],
   "source": []
  }
 ],
 "metadata": {
  "kernelspec": {
   "display_name": "Python [conda env:neurox-aux_classifier] *",
   "language": "python",
   "name": "conda-env-neurox-aux_classifier-py"
  },
  "language_info": {
   "codemirror_mode": {
    "name": "ipython",
    "version": 3
   },
   "file_extension": ".py",
   "mimetype": "text/x-python",
   "name": "python",
   "nbconvert_exporter": "python",
   "pygments_lexer": "ipython3",
   "version": "3.7.9"
  }
 },
 "nbformat": 4,
 "nbformat_minor": 4
}
